{
  "cells": [
    {
      "cell_type": "code",
      "execution_count": null,
      "metadata": {
        "id": "Tm2X6X8tH7Wp"
      },
      "outputs": [],
      "source": [
        "import numpy as np\n",
        "import pandas as pd\n",
        "import matplotlib.pyplot as plt\n",
        "import missingno as msno\n",
        "from pandas.plotting import scatter_matrix\n",
        "import matplotlib.pyplot as plt\n",
        "import seaborn as sns"
      ]
    },
    {
      "cell_type": "code",
      "execution_count": null,
      "metadata": {
        "colab": {
          "base_uri": "https://localhost:8080/",
          "height": 206
        },
        "id": "CUymf3z_IR9m",
        "outputId": "fe5026c3-183f-4bed-e4bd-8898e78078b9"
      },
      "outputs": [
        {
          "output_type": "execute_result",
          "data": {
            "text/plain": [
              "   Pregnancies  Glucose  BloodPressure  SkinThickness  Insulin   BMI  \\\n",
              "0            6      148             72             35        0  33.6   \n",
              "1            1       85             66             29        0  26.6   \n",
              "2            8      183             64              0        0  23.3   \n",
              "3            1       89             66             23       94  28.1   \n",
              "4            0      137             40             35      168  43.1   \n",
              "\n",
              "   DiabetesPedigreeFunction  Age  Outcome  \n",
              "0                     0.627   50        1  \n",
              "1                     0.351   31        0  \n",
              "2                     0.672   32        1  \n",
              "3                     0.167   21        0  \n",
              "4                     2.288   33        1  "
            ],
            "text/html": [
              "\n",
              "  <div id=\"df-767f354a-a1b9-40e4-bb07-581708537d88\">\n",
              "    <div class=\"colab-df-container\">\n",
              "      <div>\n",
              "<style scoped>\n",
              "    .dataframe tbody tr th:only-of-type {\n",
              "        vertical-align: middle;\n",
              "    }\n",
              "\n",
              "    .dataframe tbody tr th {\n",
              "        vertical-align: top;\n",
              "    }\n",
              "\n",
              "    .dataframe thead th {\n",
              "        text-align: right;\n",
              "    }\n",
              "</style>\n",
              "<table border=\"1\" class=\"dataframe\">\n",
              "  <thead>\n",
              "    <tr style=\"text-align: right;\">\n",
              "      <th></th>\n",
              "      <th>Pregnancies</th>\n",
              "      <th>Glucose</th>\n",
              "      <th>BloodPressure</th>\n",
              "      <th>SkinThickness</th>\n",
              "      <th>Insulin</th>\n",
              "      <th>BMI</th>\n",
              "      <th>DiabetesPedigreeFunction</th>\n",
              "      <th>Age</th>\n",
              "      <th>Outcome</th>\n",
              "    </tr>\n",
              "  </thead>\n",
              "  <tbody>\n",
              "    <tr>\n",
              "      <th>0</th>\n",
              "      <td>6</td>\n",
              "      <td>148</td>\n",
              "      <td>72</td>\n",
              "      <td>35</td>\n",
              "      <td>0</td>\n",
              "      <td>33.6</td>\n",
              "      <td>0.627</td>\n",
              "      <td>50</td>\n",
              "      <td>1</td>\n",
              "    </tr>\n",
              "    <tr>\n",
              "      <th>1</th>\n",
              "      <td>1</td>\n",
              "      <td>85</td>\n",
              "      <td>66</td>\n",
              "      <td>29</td>\n",
              "      <td>0</td>\n",
              "      <td>26.6</td>\n",
              "      <td>0.351</td>\n",
              "      <td>31</td>\n",
              "      <td>0</td>\n",
              "    </tr>\n",
              "    <tr>\n",
              "      <th>2</th>\n",
              "      <td>8</td>\n",
              "      <td>183</td>\n",
              "      <td>64</td>\n",
              "      <td>0</td>\n",
              "      <td>0</td>\n",
              "      <td>23.3</td>\n",
              "      <td>0.672</td>\n",
              "      <td>32</td>\n",
              "      <td>1</td>\n",
              "    </tr>\n",
              "    <tr>\n",
              "      <th>3</th>\n",
              "      <td>1</td>\n",
              "      <td>89</td>\n",
              "      <td>66</td>\n",
              "      <td>23</td>\n",
              "      <td>94</td>\n",
              "      <td>28.1</td>\n",
              "      <td>0.167</td>\n",
              "      <td>21</td>\n",
              "      <td>0</td>\n",
              "    </tr>\n",
              "    <tr>\n",
              "      <th>4</th>\n",
              "      <td>0</td>\n",
              "      <td>137</td>\n",
              "      <td>40</td>\n",
              "      <td>35</td>\n",
              "      <td>168</td>\n",
              "      <td>43.1</td>\n",
              "      <td>2.288</td>\n",
              "      <td>33</td>\n",
              "      <td>1</td>\n",
              "    </tr>\n",
              "  </tbody>\n",
              "</table>\n",
              "</div>\n",
              "      <button class=\"colab-df-convert\" onclick=\"convertToInteractive('df-767f354a-a1b9-40e4-bb07-581708537d88')\"\n",
              "              title=\"Convert this dataframe to an interactive table.\"\n",
              "              style=\"display:none;\">\n",
              "        \n",
              "  <svg xmlns=\"http://www.w3.org/2000/svg\" height=\"24px\"viewBox=\"0 0 24 24\"\n",
              "       width=\"24px\">\n",
              "    <path d=\"M0 0h24v24H0V0z\" fill=\"none\"/>\n",
              "    <path d=\"M18.56 5.44l.94 2.06.94-2.06 2.06-.94-2.06-.94-.94-2.06-.94 2.06-2.06.94zm-11 1L8.5 8.5l.94-2.06 2.06-.94-2.06-.94L8.5 2.5l-.94 2.06-2.06.94zm10 10l.94 2.06.94-2.06 2.06-.94-2.06-.94-.94-2.06-.94 2.06-2.06.94z\"/><path d=\"M17.41 7.96l-1.37-1.37c-.4-.4-.92-.59-1.43-.59-.52 0-1.04.2-1.43.59L10.3 9.45l-7.72 7.72c-.78.78-.78 2.05 0 2.83L4 21.41c.39.39.9.59 1.41.59.51 0 1.02-.2 1.41-.59l7.78-7.78 2.81-2.81c.8-.78.8-2.07 0-2.86zM5.41 20L4 18.59l7.72-7.72 1.47 1.35L5.41 20z\"/>\n",
              "  </svg>\n",
              "      </button>\n",
              "      \n",
              "  <style>\n",
              "    .colab-df-container {\n",
              "      display:flex;\n",
              "      flex-wrap:wrap;\n",
              "      gap: 12px;\n",
              "    }\n",
              "\n",
              "    .colab-df-convert {\n",
              "      background-color: #E8F0FE;\n",
              "      border: none;\n",
              "      border-radius: 50%;\n",
              "      cursor: pointer;\n",
              "      display: none;\n",
              "      fill: #1967D2;\n",
              "      height: 32px;\n",
              "      padding: 0 0 0 0;\n",
              "      width: 32px;\n",
              "    }\n",
              "\n",
              "    .colab-df-convert:hover {\n",
              "      background-color: #E2EBFA;\n",
              "      box-shadow: 0px 1px 2px rgba(60, 64, 67, 0.3), 0px 1px 3px 1px rgba(60, 64, 67, 0.15);\n",
              "      fill: #174EA6;\n",
              "    }\n",
              "\n",
              "    [theme=dark] .colab-df-convert {\n",
              "      background-color: #3B4455;\n",
              "      fill: #D2E3FC;\n",
              "    }\n",
              "\n",
              "    [theme=dark] .colab-df-convert:hover {\n",
              "      background-color: #434B5C;\n",
              "      box-shadow: 0px 1px 3px 1px rgba(0, 0, 0, 0.15);\n",
              "      filter: drop-shadow(0px 1px 2px rgba(0, 0, 0, 0.3));\n",
              "      fill: #FFFFFF;\n",
              "    }\n",
              "  </style>\n",
              "\n",
              "      <script>\n",
              "        const buttonEl =\n",
              "          document.querySelector('#df-767f354a-a1b9-40e4-bb07-581708537d88 button.colab-df-convert');\n",
              "        buttonEl.style.display =\n",
              "          google.colab.kernel.accessAllowed ? 'block' : 'none';\n",
              "\n",
              "        async function convertToInteractive(key) {\n",
              "          const element = document.querySelector('#df-767f354a-a1b9-40e4-bb07-581708537d88');\n",
              "          const dataTable =\n",
              "            await google.colab.kernel.invokeFunction('convertToInteractive',\n",
              "                                                     [key], {});\n",
              "          if (!dataTable) return;\n",
              "\n",
              "          const docLinkHtml = 'Like what you see? Visit the ' +\n",
              "            '<a target=\"_blank\" href=https://colab.research.google.com/notebooks/data_table.ipynb>data table notebook</a>'\n",
              "            + ' to learn more about interactive tables.';\n",
              "          element.innerHTML = '';\n",
              "          dataTable['output_type'] = 'display_data';\n",
              "          await google.colab.output.renderOutput(dataTable, element);\n",
              "          const docLink = document.createElement('div');\n",
              "          docLink.innerHTML = docLinkHtml;\n",
              "          element.appendChild(docLink);\n",
              "        }\n",
              "      </script>\n",
              "    </div>\n",
              "  </div>\n",
              "  "
            ]
          },
          "metadata": {},
          "execution_count": 178
        }
      ],
      "source": [
        "df = pd.read_csv('sample_data/diabetes.csv')\n",
        "df.head()"
      ]
    },
    {
      "cell_type": "code",
      "execution_count": null,
      "metadata": {
        "colab": {
          "base_uri": "https://localhost:8080/"
        },
        "id": "RhatnW3oItTL",
        "outputId": "3a7d064b-e125-4b16-b5a7-3878fab60b41"
      },
      "outputs": [
        {
          "output_type": "stream",
          "name": "stdout",
          "text": [
            "<class 'pandas.core.frame.DataFrame'>\n",
            "RangeIndex: 768 entries, 0 to 767\n",
            "Data columns (total 9 columns):\n",
            " #   Column                    Non-Null Count  Dtype  \n",
            "---  ------                    --------------  -----  \n",
            " 0   Pregnancies               768 non-null    int64  \n",
            " 1   Glucose                   768 non-null    int64  \n",
            " 2   BloodPressure             768 non-null    int64  \n",
            " 3   SkinThickness             768 non-null    int64  \n",
            " 4   Insulin                   768 non-null    int64  \n",
            " 5   BMI                       768 non-null    float64\n",
            " 6   DiabetesPedigreeFunction  768 non-null    float64\n",
            " 7   Age                       768 non-null    int64  \n",
            " 8   Outcome                   768 non-null    int64  \n",
            "dtypes: float64(2), int64(7)\n",
            "memory usage: 54.1 KB\n"
          ]
        }
      ],
      "source": [
        "df.info()"
      ]
    },
    {
      "cell_type": "code",
      "execution_count": null,
      "metadata": {
        "colab": {
          "base_uri": "https://localhost:8080/"
        },
        "id": "w4sM7qzFIdyU",
        "outputId": "4bb467fd-163a-4a0c-f6f0-88f9d3693b60"
      },
      "outputs": [
        {
          "output_type": "execute_result",
          "data": {
            "text/plain": [
              "Index(['Pregnancies', 'Glucose', 'BloodPressure', 'SkinThickness', 'Insulin',\n",
              "       'BMI', 'DiabetesPedigreeFunction', 'Age', 'Outcome'],\n",
              "      dtype='object')"
            ]
          },
          "metadata": {},
          "execution_count": 180
        }
      ],
      "source": [
        "df.columns"
      ]
    },
    {
      "cell_type": "code",
      "execution_count": null,
      "metadata": {
        "colab": {
          "base_uri": "https://localhost:8080/",
          "height": 300
        },
        "id": "X6kw11-8I15d",
        "outputId": "74f03afb-0801-4df6-fdf9-983df1443605"
      },
      "outputs": [
        {
          "output_type": "execute_result",
          "data": {
            "text/plain": [
              "       Pregnancies     Glucose  BloodPressure  SkinThickness     Insulin  \\\n",
              "count   768.000000  768.000000     768.000000     768.000000  768.000000   \n",
              "mean      3.845052  120.894531      69.105469      20.536458   79.799479   \n",
              "std       3.369578   31.972618      19.355807      15.952218  115.244002   \n",
              "min       0.000000    0.000000       0.000000       0.000000    0.000000   \n",
              "25%       1.000000   99.000000      62.000000       0.000000    0.000000   \n",
              "50%       3.000000  117.000000      72.000000      23.000000   30.500000   \n",
              "75%       6.000000  140.250000      80.000000      32.000000  127.250000   \n",
              "max      17.000000  199.000000     122.000000      99.000000  846.000000   \n",
              "\n",
              "              BMI  DiabetesPedigreeFunction         Age     Outcome  \n",
              "count  768.000000                768.000000  768.000000  768.000000  \n",
              "mean    31.992578                  0.471876   33.240885    0.348958  \n",
              "std      7.884160                  0.331329   11.760232    0.476951  \n",
              "min      0.000000                  0.078000   21.000000    0.000000  \n",
              "25%     27.300000                  0.243750   24.000000    0.000000  \n",
              "50%     32.000000                  0.372500   29.000000    0.000000  \n",
              "75%     36.600000                  0.626250   41.000000    1.000000  \n",
              "max     67.100000                  2.420000   81.000000    1.000000  "
            ],
            "text/html": [
              "\n",
              "  <div id=\"df-fe4cb521-1af7-4cce-9047-766bce645872\">\n",
              "    <div class=\"colab-df-container\">\n",
              "      <div>\n",
              "<style scoped>\n",
              "    .dataframe tbody tr th:only-of-type {\n",
              "        vertical-align: middle;\n",
              "    }\n",
              "\n",
              "    .dataframe tbody tr th {\n",
              "        vertical-align: top;\n",
              "    }\n",
              "\n",
              "    .dataframe thead th {\n",
              "        text-align: right;\n",
              "    }\n",
              "</style>\n",
              "<table border=\"1\" class=\"dataframe\">\n",
              "  <thead>\n",
              "    <tr style=\"text-align: right;\">\n",
              "      <th></th>\n",
              "      <th>Pregnancies</th>\n",
              "      <th>Glucose</th>\n",
              "      <th>BloodPressure</th>\n",
              "      <th>SkinThickness</th>\n",
              "      <th>Insulin</th>\n",
              "      <th>BMI</th>\n",
              "      <th>DiabetesPedigreeFunction</th>\n",
              "      <th>Age</th>\n",
              "      <th>Outcome</th>\n",
              "    </tr>\n",
              "  </thead>\n",
              "  <tbody>\n",
              "    <tr>\n",
              "      <th>count</th>\n",
              "      <td>768.000000</td>\n",
              "      <td>768.000000</td>\n",
              "      <td>768.000000</td>\n",
              "      <td>768.000000</td>\n",
              "      <td>768.000000</td>\n",
              "      <td>768.000000</td>\n",
              "      <td>768.000000</td>\n",
              "      <td>768.000000</td>\n",
              "      <td>768.000000</td>\n",
              "    </tr>\n",
              "    <tr>\n",
              "      <th>mean</th>\n",
              "      <td>3.845052</td>\n",
              "      <td>120.894531</td>\n",
              "      <td>69.105469</td>\n",
              "      <td>20.536458</td>\n",
              "      <td>79.799479</td>\n",
              "      <td>31.992578</td>\n",
              "      <td>0.471876</td>\n",
              "      <td>33.240885</td>\n",
              "      <td>0.348958</td>\n",
              "    </tr>\n",
              "    <tr>\n",
              "      <th>std</th>\n",
              "      <td>3.369578</td>\n",
              "      <td>31.972618</td>\n",
              "      <td>19.355807</td>\n",
              "      <td>15.952218</td>\n",
              "      <td>115.244002</td>\n",
              "      <td>7.884160</td>\n",
              "      <td>0.331329</td>\n",
              "      <td>11.760232</td>\n",
              "      <td>0.476951</td>\n",
              "    </tr>\n",
              "    <tr>\n",
              "      <th>min</th>\n",
              "      <td>0.000000</td>\n",
              "      <td>0.000000</td>\n",
              "      <td>0.000000</td>\n",
              "      <td>0.000000</td>\n",
              "      <td>0.000000</td>\n",
              "      <td>0.000000</td>\n",
              "      <td>0.078000</td>\n",
              "      <td>21.000000</td>\n",
              "      <td>0.000000</td>\n",
              "    </tr>\n",
              "    <tr>\n",
              "      <th>25%</th>\n",
              "      <td>1.000000</td>\n",
              "      <td>99.000000</td>\n",
              "      <td>62.000000</td>\n",
              "      <td>0.000000</td>\n",
              "      <td>0.000000</td>\n",
              "      <td>27.300000</td>\n",
              "      <td>0.243750</td>\n",
              "      <td>24.000000</td>\n",
              "      <td>0.000000</td>\n",
              "    </tr>\n",
              "    <tr>\n",
              "      <th>50%</th>\n",
              "      <td>3.000000</td>\n",
              "      <td>117.000000</td>\n",
              "      <td>72.000000</td>\n",
              "      <td>23.000000</td>\n",
              "      <td>30.500000</td>\n",
              "      <td>32.000000</td>\n",
              "      <td>0.372500</td>\n",
              "      <td>29.000000</td>\n",
              "      <td>0.000000</td>\n",
              "    </tr>\n",
              "    <tr>\n",
              "      <th>75%</th>\n",
              "      <td>6.000000</td>\n",
              "      <td>140.250000</td>\n",
              "      <td>80.000000</td>\n",
              "      <td>32.000000</td>\n",
              "      <td>127.250000</td>\n",
              "      <td>36.600000</td>\n",
              "      <td>0.626250</td>\n",
              "      <td>41.000000</td>\n",
              "      <td>1.000000</td>\n",
              "    </tr>\n",
              "    <tr>\n",
              "      <th>max</th>\n",
              "      <td>17.000000</td>\n",
              "      <td>199.000000</td>\n",
              "      <td>122.000000</td>\n",
              "      <td>99.000000</td>\n",
              "      <td>846.000000</td>\n",
              "      <td>67.100000</td>\n",
              "      <td>2.420000</td>\n",
              "      <td>81.000000</td>\n",
              "      <td>1.000000</td>\n",
              "    </tr>\n",
              "  </tbody>\n",
              "</table>\n",
              "</div>\n",
              "      <button class=\"colab-df-convert\" onclick=\"convertToInteractive('df-fe4cb521-1af7-4cce-9047-766bce645872')\"\n",
              "              title=\"Convert this dataframe to an interactive table.\"\n",
              "              style=\"display:none;\">\n",
              "        \n",
              "  <svg xmlns=\"http://www.w3.org/2000/svg\" height=\"24px\"viewBox=\"0 0 24 24\"\n",
              "       width=\"24px\">\n",
              "    <path d=\"M0 0h24v24H0V0z\" fill=\"none\"/>\n",
              "    <path d=\"M18.56 5.44l.94 2.06.94-2.06 2.06-.94-2.06-.94-.94-2.06-.94 2.06-2.06.94zm-11 1L8.5 8.5l.94-2.06 2.06-.94-2.06-.94L8.5 2.5l-.94 2.06-2.06.94zm10 10l.94 2.06.94-2.06 2.06-.94-2.06-.94-.94-2.06-.94 2.06-2.06.94z\"/><path d=\"M17.41 7.96l-1.37-1.37c-.4-.4-.92-.59-1.43-.59-.52 0-1.04.2-1.43.59L10.3 9.45l-7.72 7.72c-.78.78-.78 2.05 0 2.83L4 21.41c.39.39.9.59 1.41.59.51 0 1.02-.2 1.41-.59l7.78-7.78 2.81-2.81c.8-.78.8-2.07 0-2.86zM5.41 20L4 18.59l7.72-7.72 1.47 1.35L5.41 20z\"/>\n",
              "  </svg>\n",
              "      </button>\n",
              "      \n",
              "  <style>\n",
              "    .colab-df-container {\n",
              "      display:flex;\n",
              "      flex-wrap:wrap;\n",
              "      gap: 12px;\n",
              "    }\n",
              "\n",
              "    .colab-df-convert {\n",
              "      background-color: #E8F0FE;\n",
              "      border: none;\n",
              "      border-radius: 50%;\n",
              "      cursor: pointer;\n",
              "      display: none;\n",
              "      fill: #1967D2;\n",
              "      height: 32px;\n",
              "      padding: 0 0 0 0;\n",
              "      width: 32px;\n",
              "    }\n",
              "\n",
              "    .colab-df-convert:hover {\n",
              "      background-color: #E2EBFA;\n",
              "      box-shadow: 0px 1px 2px rgba(60, 64, 67, 0.3), 0px 1px 3px 1px rgba(60, 64, 67, 0.15);\n",
              "      fill: #174EA6;\n",
              "    }\n",
              "\n",
              "    [theme=dark] .colab-df-convert {\n",
              "      background-color: #3B4455;\n",
              "      fill: #D2E3FC;\n",
              "    }\n",
              "\n",
              "    [theme=dark] .colab-df-convert:hover {\n",
              "      background-color: #434B5C;\n",
              "      box-shadow: 0px 1px 3px 1px rgba(0, 0, 0, 0.15);\n",
              "      filter: drop-shadow(0px 1px 2px rgba(0, 0, 0, 0.3));\n",
              "      fill: #FFFFFF;\n",
              "    }\n",
              "  </style>\n",
              "\n",
              "      <script>\n",
              "        const buttonEl =\n",
              "          document.querySelector('#df-fe4cb521-1af7-4cce-9047-766bce645872 button.colab-df-convert');\n",
              "        buttonEl.style.display =\n",
              "          google.colab.kernel.accessAllowed ? 'block' : 'none';\n",
              "\n",
              "        async function convertToInteractive(key) {\n",
              "          const element = document.querySelector('#df-fe4cb521-1af7-4cce-9047-766bce645872');\n",
              "          const dataTable =\n",
              "            await google.colab.kernel.invokeFunction('convertToInteractive',\n",
              "                                                     [key], {});\n",
              "          if (!dataTable) return;\n",
              "\n",
              "          const docLinkHtml = 'Like what you see? Visit the ' +\n",
              "            '<a target=\"_blank\" href=https://colab.research.google.com/notebooks/data_table.ipynb>data table notebook</a>'\n",
              "            + ' to learn more about interactive tables.';\n",
              "          element.innerHTML = '';\n",
              "          dataTable['output_type'] = 'display_data';\n",
              "          await google.colab.output.renderOutput(dataTable, element);\n",
              "          const docLink = document.createElement('div');\n",
              "          docLink.innerHTML = docLinkHtml;\n",
              "          element.appendChild(docLink);\n",
              "        }\n",
              "      </script>\n",
              "    </div>\n",
              "  </div>\n",
              "  "
            ]
          },
          "metadata": {},
          "execution_count": 181
        }
      ],
      "source": [
        "df.describe()"
      ]
    },
    {
      "cell_type": "code",
      "execution_count": null,
      "metadata": {
        "colab": {
          "base_uri": "https://localhost:8080/",
          "height": 332
        },
        "id": "-7qfmDGIJAkL",
        "outputId": "b71d20be-b9a1-4113-c076-85369283b35b"
      },
      "outputs": [
        {
          "output_type": "execute_result",
          "data": {
            "text/plain": [
              "                          count        mean         std     min       25%  \\\n",
              "Pregnancies               768.0    3.845052    3.369578   0.000   1.00000   \n",
              "Glucose                   768.0  120.894531   31.972618   0.000  99.00000   \n",
              "BloodPressure             768.0   69.105469   19.355807   0.000  62.00000   \n",
              "SkinThickness             768.0   20.536458   15.952218   0.000   0.00000   \n",
              "Insulin                   768.0   79.799479  115.244002   0.000   0.00000   \n",
              "BMI                       768.0   31.992578    7.884160   0.000  27.30000   \n",
              "DiabetesPedigreeFunction  768.0    0.471876    0.331329   0.078   0.24375   \n",
              "Age                       768.0   33.240885   11.760232  21.000  24.00000   \n",
              "Outcome                   768.0    0.348958    0.476951   0.000   0.00000   \n",
              "\n",
              "                               50%        75%     max  \n",
              "Pregnancies                 3.0000    6.00000   17.00  \n",
              "Glucose                   117.0000  140.25000  199.00  \n",
              "BloodPressure              72.0000   80.00000  122.00  \n",
              "SkinThickness              23.0000   32.00000   99.00  \n",
              "Insulin                    30.5000  127.25000  846.00  \n",
              "BMI                        32.0000   36.60000   67.10  \n",
              "DiabetesPedigreeFunction    0.3725    0.62625    2.42  \n",
              "Age                        29.0000   41.00000   81.00  \n",
              "Outcome                     0.0000    1.00000    1.00  "
            ],
            "text/html": [
              "\n",
              "  <div id=\"df-04ab4b5a-3954-4950-9721-db1a6e60ea73\">\n",
              "    <div class=\"colab-df-container\">\n",
              "      <div>\n",
              "<style scoped>\n",
              "    .dataframe tbody tr th:only-of-type {\n",
              "        vertical-align: middle;\n",
              "    }\n",
              "\n",
              "    .dataframe tbody tr th {\n",
              "        vertical-align: top;\n",
              "    }\n",
              "\n",
              "    .dataframe thead th {\n",
              "        text-align: right;\n",
              "    }\n",
              "</style>\n",
              "<table border=\"1\" class=\"dataframe\">\n",
              "  <thead>\n",
              "    <tr style=\"text-align: right;\">\n",
              "      <th></th>\n",
              "      <th>count</th>\n",
              "      <th>mean</th>\n",
              "      <th>std</th>\n",
              "      <th>min</th>\n",
              "      <th>25%</th>\n",
              "      <th>50%</th>\n",
              "      <th>75%</th>\n",
              "      <th>max</th>\n",
              "    </tr>\n",
              "  </thead>\n",
              "  <tbody>\n",
              "    <tr>\n",
              "      <th>Pregnancies</th>\n",
              "      <td>768.0</td>\n",
              "      <td>3.845052</td>\n",
              "      <td>3.369578</td>\n",
              "      <td>0.000</td>\n",
              "      <td>1.00000</td>\n",
              "      <td>3.0000</td>\n",
              "      <td>6.00000</td>\n",
              "      <td>17.00</td>\n",
              "    </tr>\n",
              "    <tr>\n",
              "      <th>Glucose</th>\n",
              "      <td>768.0</td>\n",
              "      <td>120.894531</td>\n",
              "      <td>31.972618</td>\n",
              "      <td>0.000</td>\n",
              "      <td>99.00000</td>\n",
              "      <td>117.0000</td>\n",
              "      <td>140.25000</td>\n",
              "      <td>199.00</td>\n",
              "    </tr>\n",
              "    <tr>\n",
              "      <th>BloodPressure</th>\n",
              "      <td>768.0</td>\n",
              "      <td>69.105469</td>\n",
              "      <td>19.355807</td>\n",
              "      <td>0.000</td>\n",
              "      <td>62.00000</td>\n",
              "      <td>72.0000</td>\n",
              "      <td>80.00000</td>\n",
              "      <td>122.00</td>\n",
              "    </tr>\n",
              "    <tr>\n",
              "      <th>SkinThickness</th>\n",
              "      <td>768.0</td>\n",
              "      <td>20.536458</td>\n",
              "      <td>15.952218</td>\n",
              "      <td>0.000</td>\n",
              "      <td>0.00000</td>\n",
              "      <td>23.0000</td>\n",
              "      <td>32.00000</td>\n",
              "      <td>99.00</td>\n",
              "    </tr>\n",
              "    <tr>\n",
              "      <th>Insulin</th>\n",
              "      <td>768.0</td>\n",
              "      <td>79.799479</td>\n",
              "      <td>115.244002</td>\n",
              "      <td>0.000</td>\n",
              "      <td>0.00000</td>\n",
              "      <td>30.5000</td>\n",
              "      <td>127.25000</td>\n",
              "      <td>846.00</td>\n",
              "    </tr>\n",
              "    <tr>\n",
              "      <th>BMI</th>\n",
              "      <td>768.0</td>\n",
              "      <td>31.992578</td>\n",
              "      <td>7.884160</td>\n",
              "      <td>0.000</td>\n",
              "      <td>27.30000</td>\n",
              "      <td>32.0000</td>\n",
              "      <td>36.60000</td>\n",
              "      <td>67.10</td>\n",
              "    </tr>\n",
              "    <tr>\n",
              "      <th>DiabetesPedigreeFunction</th>\n",
              "      <td>768.0</td>\n",
              "      <td>0.471876</td>\n",
              "      <td>0.331329</td>\n",
              "      <td>0.078</td>\n",
              "      <td>0.24375</td>\n",
              "      <td>0.3725</td>\n",
              "      <td>0.62625</td>\n",
              "      <td>2.42</td>\n",
              "    </tr>\n",
              "    <tr>\n",
              "      <th>Age</th>\n",
              "      <td>768.0</td>\n",
              "      <td>33.240885</td>\n",
              "      <td>11.760232</td>\n",
              "      <td>21.000</td>\n",
              "      <td>24.00000</td>\n",
              "      <td>29.0000</td>\n",
              "      <td>41.00000</td>\n",
              "      <td>81.00</td>\n",
              "    </tr>\n",
              "    <tr>\n",
              "      <th>Outcome</th>\n",
              "      <td>768.0</td>\n",
              "      <td>0.348958</td>\n",
              "      <td>0.476951</td>\n",
              "      <td>0.000</td>\n",
              "      <td>0.00000</td>\n",
              "      <td>0.0000</td>\n",
              "      <td>1.00000</td>\n",
              "      <td>1.00</td>\n",
              "    </tr>\n",
              "  </tbody>\n",
              "</table>\n",
              "</div>\n",
              "      <button class=\"colab-df-convert\" onclick=\"convertToInteractive('df-04ab4b5a-3954-4950-9721-db1a6e60ea73')\"\n",
              "              title=\"Convert this dataframe to an interactive table.\"\n",
              "              style=\"display:none;\">\n",
              "        \n",
              "  <svg xmlns=\"http://www.w3.org/2000/svg\" height=\"24px\"viewBox=\"0 0 24 24\"\n",
              "       width=\"24px\">\n",
              "    <path d=\"M0 0h24v24H0V0z\" fill=\"none\"/>\n",
              "    <path d=\"M18.56 5.44l.94 2.06.94-2.06 2.06-.94-2.06-.94-.94-2.06-.94 2.06-2.06.94zm-11 1L8.5 8.5l.94-2.06 2.06-.94-2.06-.94L8.5 2.5l-.94 2.06-2.06.94zm10 10l.94 2.06.94-2.06 2.06-.94-2.06-.94-.94-2.06-.94 2.06-2.06.94z\"/><path d=\"M17.41 7.96l-1.37-1.37c-.4-.4-.92-.59-1.43-.59-.52 0-1.04.2-1.43.59L10.3 9.45l-7.72 7.72c-.78.78-.78 2.05 0 2.83L4 21.41c.39.39.9.59 1.41.59.51 0 1.02-.2 1.41-.59l7.78-7.78 2.81-2.81c.8-.78.8-2.07 0-2.86zM5.41 20L4 18.59l7.72-7.72 1.47 1.35L5.41 20z\"/>\n",
              "  </svg>\n",
              "      </button>\n",
              "      \n",
              "  <style>\n",
              "    .colab-df-container {\n",
              "      display:flex;\n",
              "      flex-wrap:wrap;\n",
              "      gap: 12px;\n",
              "    }\n",
              "\n",
              "    .colab-df-convert {\n",
              "      background-color: #E8F0FE;\n",
              "      border: none;\n",
              "      border-radius: 50%;\n",
              "      cursor: pointer;\n",
              "      display: none;\n",
              "      fill: #1967D2;\n",
              "      height: 32px;\n",
              "      padding: 0 0 0 0;\n",
              "      width: 32px;\n",
              "    }\n",
              "\n",
              "    .colab-df-convert:hover {\n",
              "      background-color: #E2EBFA;\n",
              "      box-shadow: 0px 1px 2px rgba(60, 64, 67, 0.3), 0px 1px 3px 1px rgba(60, 64, 67, 0.15);\n",
              "      fill: #174EA6;\n",
              "    }\n",
              "\n",
              "    [theme=dark] .colab-df-convert {\n",
              "      background-color: #3B4455;\n",
              "      fill: #D2E3FC;\n",
              "    }\n",
              "\n",
              "    [theme=dark] .colab-df-convert:hover {\n",
              "      background-color: #434B5C;\n",
              "      box-shadow: 0px 1px 3px 1px rgba(0, 0, 0, 0.15);\n",
              "      filter: drop-shadow(0px 1px 2px rgba(0, 0, 0, 0.3));\n",
              "      fill: #FFFFFF;\n",
              "    }\n",
              "  </style>\n",
              "\n",
              "      <script>\n",
              "        const buttonEl =\n",
              "          document.querySelector('#df-04ab4b5a-3954-4950-9721-db1a6e60ea73 button.colab-df-convert');\n",
              "        buttonEl.style.display =\n",
              "          google.colab.kernel.accessAllowed ? 'block' : 'none';\n",
              "\n",
              "        async function convertToInteractive(key) {\n",
              "          const element = document.querySelector('#df-04ab4b5a-3954-4950-9721-db1a6e60ea73');\n",
              "          const dataTable =\n",
              "            await google.colab.kernel.invokeFunction('convertToInteractive',\n",
              "                                                     [key], {});\n",
              "          if (!dataTable) return;\n",
              "\n",
              "          const docLinkHtml = 'Like what you see? Visit the ' +\n",
              "            '<a target=\"_blank\" href=https://colab.research.google.com/notebooks/data_table.ipynb>data table notebook</a>'\n",
              "            + ' to learn more about interactive tables.';\n",
              "          element.innerHTML = '';\n",
              "          dataTable['output_type'] = 'display_data';\n",
              "          await google.colab.output.renderOutput(dataTable, element);\n",
              "          const docLink = document.createElement('div');\n",
              "          docLink.innerHTML = docLinkHtml;\n",
              "          element.appendChild(docLink);\n",
              "        }\n",
              "      </script>\n",
              "    </div>\n",
              "  </div>\n",
              "  "
            ]
          },
          "metadata": {},
          "execution_count": 182
        }
      ],
      "source": [
        "# You can take transpose of the above table\n",
        "df.describe().T"
      ]
    },
    {
      "cell_type": "code",
      "execution_count": null,
      "metadata": {
        "colab": {
          "base_uri": "https://localhost:8080/",
          "height": 363
        },
        "id": "ZSZUDCXYJL29",
        "outputId": "4fd2caf7-1367-40b4-c144-4cdc60afe49f"
      },
      "outputs": [
        {
          "output_type": "execute_result",
          "data": {
            "text/plain": [
              "   Pregnancies  Glucose  BloodPressure  SkinThickness  Insulin    BMI  \\\n",
              "0        False    False          False          False    False  False   \n",
              "1        False    False          False          False    False  False   \n",
              "2        False    False          False          False    False  False   \n",
              "3        False    False          False          False    False  False   \n",
              "4        False    False          False          False    False  False   \n",
              "5        False    False          False          False    False  False   \n",
              "6        False    False          False          False    False  False   \n",
              "7        False    False          False          False    False  False   \n",
              "8        False    False          False          False    False  False   \n",
              "9        False    False          False          False    False  False   \n",
              "\n",
              "   DiabetesPedigreeFunction    Age  Outcome  \n",
              "0                     False  False    False  \n",
              "1                     False  False    False  \n",
              "2                     False  False    False  \n",
              "3                     False  False    False  \n",
              "4                     False  False    False  \n",
              "5                     False  False    False  \n",
              "6                     False  False    False  \n",
              "7                     False  False    False  \n",
              "8                     False  False    False  \n",
              "9                     False  False    False  "
            ],
            "text/html": [
              "\n",
              "  <div id=\"df-fb2c3c32-adf3-4aaf-a2fb-3781cbd1d744\">\n",
              "    <div class=\"colab-df-container\">\n",
              "      <div>\n",
              "<style scoped>\n",
              "    .dataframe tbody tr th:only-of-type {\n",
              "        vertical-align: middle;\n",
              "    }\n",
              "\n",
              "    .dataframe tbody tr th {\n",
              "        vertical-align: top;\n",
              "    }\n",
              "\n",
              "    .dataframe thead th {\n",
              "        text-align: right;\n",
              "    }\n",
              "</style>\n",
              "<table border=\"1\" class=\"dataframe\">\n",
              "  <thead>\n",
              "    <tr style=\"text-align: right;\">\n",
              "      <th></th>\n",
              "      <th>Pregnancies</th>\n",
              "      <th>Glucose</th>\n",
              "      <th>BloodPressure</th>\n",
              "      <th>SkinThickness</th>\n",
              "      <th>Insulin</th>\n",
              "      <th>BMI</th>\n",
              "      <th>DiabetesPedigreeFunction</th>\n",
              "      <th>Age</th>\n",
              "      <th>Outcome</th>\n",
              "    </tr>\n",
              "  </thead>\n",
              "  <tbody>\n",
              "    <tr>\n",
              "      <th>0</th>\n",
              "      <td>False</td>\n",
              "      <td>False</td>\n",
              "      <td>False</td>\n",
              "      <td>False</td>\n",
              "      <td>False</td>\n",
              "      <td>False</td>\n",
              "      <td>False</td>\n",
              "      <td>False</td>\n",
              "      <td>False</td>\n",
              "    </tr>\n",
              "    <tr>\n",
              "      <th>1</th>\n",
              "      <td>False</td>\n",
              "      <td>False</td>\n",
              "      <td>False</td>\n",
              "      <td>False</td>\n",
              "      <td>False</td>\n",
              "      <td>False</td>\n",
              "      <td>False</td>\n",
              "      <td>False</td>\n",
              "      <td>False</td>\n",
              "    </tr>\n",
              "    <tr>\n",
              "      <th>2</th>\n",
              "      <td>False</td>\n",
              "      <td>False</td>\n",
              "      <td>False</td>\n",
              "      <td>False</td>\n",
              "      <td>False</td>\n",
              "      <td>False</td>\n",
              "      <td>False</td>\n",
              "      <td>False</td>\n",
              "      <td>False</td>\n",
              "    </tr>\n",
              "    <tr>\n",
              "      <th>3</th>\n",
              "      <td>False</td>\n",
              "      <td>False</td>\n",
              "      <td>False</td>\n",
              "      <td>False</td>\n",
              "      <td>False</td>\n",
              "      <td>False</td>\n",
              "      <td>False</td>\n",
              "      <td>False</td>\n",
              "      <td>False</td>\n",
              "    </tr>\n",
              "    <tr>\n",
              "      <th>4</th>\n",
              "      <td>False</td>\n",
              "      <td>False</td>\n",
              "      <td>False</td>\n",
              "      <td>False</td>\n",
              "      <td>False</td>\n",
              "      <td>False</td>\n",
              "      <td>False</td>\n",
              "      <td>False</td>\n",
              "      <td>False</td>\n",
              "    </tr>\n",
              "    <tr>\n",
              "      <th>5</th>\n",
              "      <td>False</td>\n",
              "      <td>False</td>\n",
              "      <td>False</td>\n",
              "      <td>False</td>\n",
              "      <td>False</td>\n",
              "      <td>False</td>\n",
              "      <td>False</td>\n",
              "      <td>False</td>\n",
              "      <td>False</td>\n",
              "    </tr>\n",
              "    <tr>\n",
              "      <th>6</th>\n",
              "      <td>False</td>\n",
              "      <td>False</td>\n",
              "      <td>False</td>\n",
              "      <td>False</td>\n",
              "      <td>False</td>\n",
              "      <td>False</td>\n",
              "      <td>False</td>\n",
              "      <td>False</td>\n",
              "      <td>False</td>\n",
              "    </tr>\n",
              "    <tr>\n",
              "      <th>7</th>\n",
              "      <td>False</td>\n",
              "      <td>False</td>\n",
              "      <td>False</td>\n",
              "      <td>False</td>\n",
              "      <td>False</td>\n",
              "      <td>False</td>\n",
              "      <td>False</td>\n",
              "      <td>False</td>\n",
              "      <td>False</td>\n",
              "    </tr>\n",
              "    <tr>\n",
              "      <th>8</th>\n",
              "      <td>False</td>\n",
              "      <td>False</td>\n",
              "      <td>False</td>\n",
              "      <td>False</td>\n",
              "      <td>False</td>\n",
              "      <td>False</td>\n",
              "      <td>False</td>\n",
              "      <td>False</td>\n",
              "      <td>False</td>\n",
              "    </tr>\n",
              "    <tr>\n",
              "      <th>9</th>\n",
              "      <td>False</td>\n",
              "      <td>False</td>\n",
              "      <td>False</td>\n",
              "      <td>False</td>\n",
              "      <td>False</td>\n",
              "      <td>False</td>\n",
              "      <td>False</td>\n",
              "      <td>False</td>\n",
              "      <td>False</td>\n",
              "    </tr>\n",
              "  </tbody>\n",
              "</table>\n",
              "</div>\n",
              "      <button class=\"colab-df-convert\" onclick=\"convertToInteractive('df-fb2c3c32-adf3-4aaf-a2fb-3781cbd1d744')\"\n",
              "              title=\"Convert this dataframe to an interactive table.\"\n",
              "              style=\"display:none;\">\n",
              "        \n",
              "  <svg xmlns=\"http://www.w3.org/2000/svg\" height=\"24px\"viewBox=\"0 0 24 24\"\n",
              "       width=\"24px\">\n",
              "    <path d=\"M0 0h24v24H0V0z\" fill=\"none\"/>\n",
              "    <path d=\"M18.56 5.44l.94 2.06.94-2.06 2.06-.94-2.06-.94-.94-2.06-.94 2.06-2.06.94zm-11 1L8.5 8.5l.94-2.06 2.06-.94-2.06-.94L8.5 2.5l-.94 2.06-2.06.94zm10 10l.94 2.06.94-2.06 2.06-.94-2.06-.94-.94-2.06-.94 2.06-2.06.94z\"/><path d=\"M17.41 7.96l-1.37-1.37c-.4-.4-.92-.59-1.43-.59-.52 0-1.04.2-1.43.59L10.3 9.45l-7.72 7.72c-.78.78-.78 2.05 0 2.83L4 21.41c.39.39.9.59 1.41.59.51 0 1.02-.2 1.41-.59l7.78-7.78 2.81-2.81c.8-.78.8-2.07 0-2.86zM5.41 20L4 18.59l7.72-7.72 1.47 1.35L5.41 20z\"/>\n",
              "  </svg>\n",
              "      </button>\n",
              "      \n",
              "  <style>\n",
              "    .colab-df-container {\n",
              "      display:flex;\n",
              "      flex-wrap:wrap;\n",
              "      gap: 12px;\n",
              "    }\n",
              "\n",
              "    .colab-df-convert {\n",
              "      background-color: #E8F0FE;\n",
              "      border: none;\n",
              "      border-radius: 50%;\n",
              "      cursor: pointer;\n",
              "      display: none;\n",
              "      fill: #1967D2;\n",
              "      height: 32px;\n",
              "      padding: 0 0 0 0;\n",
              "      width: 32px;\n",
              "    }\n",
              "\n",
              "    .colab-df-convert:hover {\n",
              "      background-color: #E2EBFA;\n",
              "      box-shadow: 0px 1px 2px rgba(60, 64, 67, 0.3), 0px 1px 3px 1px rgba(60, 64, 67, 0.15);\n",
              "      fill: #174EA6;\n",
              "    }\n",
              "\n",
              "    [theme=dark] .colab-df-convert {\n",
              "      background-color: #3B4455;\n",
              "      fill: #D2E3FC;\n",
              "    }\n",
              "\n",
              "    [theme=dark] .colab-df-convert:hover {\n",
              "      background-color: #434B5C;\n",
              "      box-shadow: 0px 1px 3px 1px rgba(0, 0, 0, 0.15);\n",
              "      filter: drop-shadow(0px 1px 2px rgba(0, 0, 0, 0.3));\n",
              "      fill: #FFFFFF;\n",
              "    }\n",
              "  </style>\n",
              "\n",
              "      <script>\n",
              "        const buttonEl =\n",
              "          document.querySelector('#df-fb2c3c32-adf3-4aaf-a2fb-3781cbd1d744 button.colab-df-convert');\n",
              "        buttonEl.style.display =\n",
              "          google.colab.kernel.accessAllowed ? 'block' : 'none';\n",
              "\n",
              "        async function convertToInteractive(key) {\n",
              "          const element = document.querySelector('#df-fb2c3c32-adf3-4aaf-a2fb-3781cbd1d744');\n",
              "          const dataTable =\n",
              "            await google.colab.kernel.invokeFunction('convertToInteractive',\n",
              "                                                     [key], {});\n",
              "          if (!dataTable) return;\n",
              "\n",
              "          const docLinkHtml = 'Like what you see? Visit the ' +\n",
              "            '<a target=\"_blank\" href=https://colab.research.google.com/notebooks/data_table.ipynb>data table notebook</a>'\n",
              "            + ' to learn more about interactive tables.';\n",
              "          element.innerHTML = '';\n",
              "          dataTable['output_type'] = 'display_data';\n",
              "          await google.colab.output.renderOutput(dataTable, element);\n",
              "          const docLink = document.createElement('div');\n",
              "          docLink.innerHTML = docLinkHtml;\n",
              "          element.appendChild(docLink);\n",
              "        }\n",
              "      </script>\n",
              "    </div>\n",
              "  </div>\n",
              "  "
            ]
          },
          "metadata": {},
          "execution_count": 183
        }
      ],
      "source": [
        "df.isnull().head(10)"
      ]
    },
    {
      "cell_type": "code",
      "execution_count": null,
      "metadata": {
        "colab": {
          "base_uri": "https://localhost:8080/"
        },
        "id": "GL6zQeDOJXah",
        "outputId": "9053c795-ab7f-4878-8f3d-4271381a562b"
      },
      "outputs": [
        {
          "output_type": "execute_result",
          "data": {
            "text/plain": [
              "Pregnancies                 0\n",
              "Glucose                     0\n",
              "BloodPressure               0\n",
              "SkinThickness               0\n",
              "Insulin                     0\n",
              "BMI                         0\n",
              "DiabetesPedigreeFunction    0\n",
              "Age                         0\n",
              "Outcome                     0\n",
              "dtype: int64"
            ]
          },
          "metadata": {},
          "execution_count": 184
        }
      ],
      "source": [
        "df.isnull().sum()"
      ]
    },
    {
      "cell_type": "code",
      "execution_count": null,
      "metadata": {
        "colab": {
          "base_uri": "https://localhost:8080/"
        },
        "id": "3W-CY9QBJi1l",
        "outputId": "4bf9068d-fe67-4333-e632-45329f0e0a1f"
      },
      "outputs": [
        {
          "output_type": "stream",
          "name": "stdout",
          "text": [
            "Pregnancies                   0\n",
            "Glucose                       5\n",
            "BloodPressure                35\n",
            "SkinThickness               227\n",
            "Insulin                     374\n",
            "BMI                          11\n",
            "DiabetesPedigreeFunction      0\n",
            "Age                           0\n",
            "Outcome                       0\n",
            "dtype: int64\n"
          ]
        }
      ],
      "source": [
        "df_copy = df.copy(deep = True)\n",
        "df_copy[['Glucose','BloodPressure','SkinThickness','Insulin','BMI']] = df_copy[['Glucose','BloodPressure','SkinThickness','Insulin','BMI']].replace(0,np.NaN)\n",
        "\n",
        "print(df_copy.isnull().sum())"
      ]
    },
    {
      "cell_type": "code",
      "execution_count": null,
      "metadata": {
        "colab": {
          "base_uri": "https://localhost:8080/",
          "height": 607
        },
        "id": "FeY5hv8QaMgM",
        "outputId": "e3b03845-5a9a-444e-fd3f-6d4cf2506f07"
      },
      "outputs": [
        {
          "output_type": "display_data",
          "data": {
            "text/plain": [
              "<Figure size 720x720 with 9 Axes>"
            ],
            "image/png": "[encoded data removed]"
          },
          "metadata": {
            "needs_background": "light"
          }
        }
      ],
      "source": [
        "p = df.hist(figsize = (10,10))"
      ]
    },
    {
      "cell_type": "code",
      "execution_count": null,
      "metadata": {
        "id": "aJb3sm5caRWd"
      },
      "outputs": [],
      "source": [
        "# We can now fill the null values with the mean\n",
        "df_copy['Glucose'].fillna(df_copy['Glucose'].mean(), inplace = True)\n",
        "df_copy['BloodPressure'].fillna(df_copy['BloodPressure'].mean(), inplace = True)\n",
        "df_copy['SkinThickness'].fillna(df_copy['SkinThickness'].mean(), inplace = True)\n",
        "df_copy['Insulin'].fillna(df_copy['Insulin'].mean(), inplace = True)\n",
        "df_copy['BMI'].fillna(df_copy['BMI'].mean(), inplace = True)\n",
        "\n",
        "\n",
        "# Doubt here, can't it be filled with median?\n",
        "# Does it make a huge difference?"
      ]
    },
    {
      "cell_type": "code",
      "execution_count": null,
      "metadata": {
        "colab": {
          "base_uri": "https://localhost:8080/",
          "height": 607
        },
        "id": "AWGrAs55bEzq",
        "outputId": "6971f1fa-ed91-4f1f-b078-bff1d9dbdca0"
      },
      "outputs": [
        {
          "output_type": "display_data",
          "data": {
            "text/plain": [
              "<Figure size 720x720 with 9 Axes>"
            ],
            "image/png": "[encoded data removed]"
          },
          "metadata": {
            "needs_background": "light"
          }
        }
      ],
      "source": [
        "p = df_copy.hist(figsize = (10,10))"
      ]
    },
    {
      "cell_type": "code",
      "execution_count": null,
      "metadata": {
        "colab": {
          "base_uri": "https://localhost:8080/",
          "height": 591
        },
        "id": "DkC42Eg0bJQi",
        "outputId": "60cffcac-063f-4971-91d7-0807f4c3b19c"
      },
      "outputs": [
        {
          "output_type": "display_data",
          "data": {
            "text/plain": [
              "<Figure size 1800x720 with 3 Axes>"
            ],
            "image/png": "[encoded data removed]"
          },
          "metadata": {
            "needs_background": "light"
          }
        }
      ],
      "source": [
        "# Null count analysis\n",
        "p = msno.bar(df)"
      ]
    },
    {
      "cell_type": "code",
      "execution_count": null,
      "metadata": {
        "colab": {
          "base_uri": "https://localhost:8080/",
          "height": 314
        },
        "id": "ImzWLaGMcNuO",
        "outputId": "540d223a-6ec9-4e05-b912-3e2b4e86d417"
      },
      "outputs": [
        {
          "output_type": "stream",
          "name": "stdout",
          "text": [
            "0    500\n",
            "1    268\n",
            "Name: Outcome, dtype: int64\n"
          ]
        },
        {
          "output_type": "display_data",
          "data": {
            "text/plain": [
              "<Figure size 432x288 with 1 Axes>"
            ],
            "image/png": "[encoded data removed]"
          },
          "metadata": {
            "needs_background": "light"
          }
        }
      ],
      "source": [
        "color_wheel = {1: \"#0392cf\", 2: \"#7bc043\"}\n",
        "colors = df[\"Outcome\"].map(lambda x: color_wheel.get(x + 1))\n",
        "print(df.Outcome.value_counts())\n",
        "p=df.Outcome.value_counts().plot(kind=\"bar\")"
      ]
    },
    {
      "cell_type": "code",
      "execution_count": null,
      "metadata": {
        "id": "tAqLMY7ecbVI",
        "colab": {
          "base_uri": "https://localhost:8080/"
        },
        "outputId": "13852653-deef-4b19-a05f-22046953f52e"
      },
      "outputs": [
        {
          "output_type": "stream",
          "name": "stdout",
          "text": [
            "Counter({0: 500, 1: 474})\n"
          ]
        }
      ],
      "source": [
        "#  our dataset is completely imbalanced. In fact the number of patients who are diabetic is half of the patients who are non-diabetic.\n",
        "from imblearn.over_sampling import SMOTE, ADASYN\n",
        "from collections import Counter\n",
        "\n",
        "labels_original = df['Outcome']\n",
        "bank_data = df.drop(['Outcome'],axis = 1)\n",
        "oversample = ADASYN()\n",
        "X_smote, y_smote = oversample.fit_resample(bank_data, labels_original)\n",
        "counter = Counter(y_smote)\n",
        "print(counter)"
      ]
    },
    {
      "cell_type": "code",
      "source": [
        "X_t_sm,X_test_sm,y_t_sm,y_test_sm = train_test_split(X_smote,y_smote,\n",
        "                                               test_size = 0.1,\n",
        "                                               stratify = y_smote,\n",
        "                                               shuffle = True)\n"
      ],
      "metadata": {
        "id": "4UoGOnS9M8tt"
      },
      "execution_count": null,
      "outputs": []
    },
    {
      "cell_type": "code",
      "execution_count": null,
      "metadata": {
        "colab": {
          "base_uri": "https://localhost:8080/",
          "height": 351
        },
        "id": "UcYKjnM7cpEa",
        "outputId": "8eec54e2-633b-425d-9f50-5b573f85bff3"
      },
      "outputs": [
        {
          "output_type": "stream",
          "name": "stderr",
          "text": [
            "/usr/local/lib/python3.7/dist-packages/seaborn/distributions.py:2619: FutureWarning: `distplot` is a deprecated function and will be removed in a future version. Please adapt your code to use either `displot` (a figure-level function with similar flexibility) or `histplot` (an axes-level function for histograms).\n",
            "  warnings.warn(msg, FutureWarning)\n"
          ]
        },
        {
          "output_type": "execute_result",
          "data": {
            "text/plain": [
              "<matplotlib.axes._subplots.AxesSubplot at 0x7f1fb24b8510>"
            ]
          },
          "metadata": {},
          "execution_count": 193
        },
        {
          "output_type": "display_data",
          "data": {
            "text/plain": [
              "<Figure size 432x288 with 1 Axes>"
            ],
            "image/png": "[encoded data removed]"
          },
          "metadata": {
            "needs_background": "light"
          }
        }
      ],
      "source": [
        "sns.distplot(df['Insulin'])    \n",
        "# For univariate distribution of a column"
      ]
    },
    {
      "cell_type": "code",
      "execution_count": null,
      "metadata": {
        "colab": {
          "base_uri": "https://localhost:8080/",
          "height": 282
        },
        "id": "NX7Lpkpycpev",
        "outputId": "17d74ee6-3523-4b7e-def1-967f2fc1e280"
      },
      "outputs": [
        {
          "output_type": "execute_result",
          "data": {
            "text/plain": [
              "<matplotlib.axes._subplots.AxesSubplot at 0x7f1fb2247410>"
            ]
          },
          "metadata": {},
          "execution_count": 194
        },
        {
          "output_type": "display_data",
          "data": {
            "text/plain": [
              "<Figure size 432x288 with 1 Axes>"
            ],
            "image/png": "[encoded data removed]"
          },
          "metadata": {
            "needs_background": "light"
          }
        }
      ],
      "source": [
        "# box plot for column insulin to check for outliers and noise\n",
        "df['Insulin'].plot.box()"
      ]
    },
    {
      "cell_type": "code",
      "execution_count": null,
      "metadata": {
        "colab": {
          "base_uri": "https://localhost:8080/",
          "height": 390
        },
        "id": "96cnkM9tQh8E",
        "outputId": "d4ba9520-4ac1-4cc0-ee48-f29517ab71af"
      },
      "outputs": [
        {
          "output_type": "display_data",
          "data": {
            "text/plain": [
              "<Figure size 432x288 with 2 Axes>"
            ],
            "image/png": "[encoded data removed]"
          },
          "metadata": {
            "needs_background": "light"
          }
        }
      ],
      "source": [
        "p = sns.heatmap(df.corr())\n",
        "# Now we can change the color of the heatmap\n"
      ]
    },
    {
      "cell_type": "code",
      "execution_count": null,
      "metadata": {
        "colab": {
          "base_uri": "https://localhost:8080/",
          "height": 390
        },
        "id": "DafcPslRQzmn",
        "outputId": "50a05a23-29aa-4b34-a3b5-dfe2c2d08041"
      },
      "outputs": [
        {
          "output_type": "display_data",
          "data": {
            "text/plain": [
              "<Figure size 432x288 with 2 Axes>"
            ],
            "image/png": "[encoded data removed]"
          },
          "metadata": {
            "needs_background": "light"
          }
        }
      ],
      "source": [
        "p = sns.heatmap(df.corr(), annot=True,cmap ='RdYlGn')\n",
        "# annote is to show values on the cell and cmap is the color of the map (red, yellow, green)"
      ]
    },
    {
      "cell_type": "code",
      "execution_count": null,
      "metadata": {
        "id": "Q1RGvnXqQ_yU"
      },
      "outputs": [],
      "source": [
        "from sklearn.preprocessing import StandardScaler\n",
        "from sklearn import metrics"
      ]
    },
    {
      "cell_type": "code",
      "execution_count": null,
      "metadata": {
        "id": "nXA4uA3mx3S1"
      },
      "outputs": [],
      "source": []
    },
    {
      "cell_type": "code",
      "execution_count": null,
      "metadata": {
        "id": "KRrNZTmJ7WNK"
      },
      "outputs": [],
      "source": [
        "scaler = StandardScaler()\n",
        "X = X_smote.drop(['BloodPressure', 'SkinThickness'], axis=1)\n",
        "y = y_smote"
      ]
    },
    {
      "cell_type": "code",
      "execution_count": null,
      "metadata": {
        "id": "y16fKM2q9BAj"
      },
      "outputs": [],
      "source": [
        "X = scaler.fit_transform(X)"
      ]
    },
    {
      "cell_type": "code",
      "execution_count": null,
      "metadata": {
        "colab": {
          "base_uri": "https://localhost:8080/"
        },
        "id": "Mf5bcs-w9NhF",
        "outputId": "5ddc01a0-fc46-46d1-bc23-7a71285b4d43"
      },
      "outputs": [
        {
          "output_type": "stream",
          "name": "stdout",
          "text": [
            "[[ 0.62884856  0.83655731 -0.69673656  0.14034375  0.44318596  1.44702098]\n",
            " [-0.8962971  -1.20086399 -0.69673656 -0.78404344 -0.41354058 -0.23230739]\n",
            " [ 1.23890682  1.96845803 -0.69673656 -1.21982597  0.58286963 -0.14392169]\n",
            " ...\n",
            " [ 0.93387769  0.351457    0.33206544 -0.16338197  0.20909621  0.56316394]\n",
            " [ 0.62884856  2.03313807 -0.69673656  0.62404482 -0.57422481  1.8889495 ]\n",
            " [-1.20132623  0.02805679 -0.69673656  0.4863666  -0.69858848  1.53540669]]\n"
          ]
        }
      ],
      "source": [
        "print(X)"
      ]
    },
    {
      "cell_type": "code",
      "execution_count": null,
      "metadata": {
        "id": "1wmuiA-c9gST"
      },
      "outputs": [],
      "source": [
        "from sklearn.model_selection import train_test_split, GridSearchCV\n",
        "X_train, X_test, y_train, y_test = train_test_split(X, y, test_size=0.25, random_state=1)"
      ]
    },
    {
      "cell_type": "code",
      "execution_count": null,
      "metadata": {
        "id": "MW1SNK7JrhG5"
      },
      "outputs": [],
      "source": [
        "from sklearn.metrics import confusion_matrix, ConfusionMatrixDisplay,f1_score, precision_score, recall_score,classification_report, accuracy_score"
      ]
    },
    {
      "cell_type": "code",
      "execution_count": null,
      "metadata": {
        "id": "v6jfAsMDxqar"
      },
      "outputs": [],
      "source": [
        "class ConfMatrix:\n",
        "  def __init__(self, y_test, y_preds):\n",
        "    self.y_test = y_test\n",
        "    self.y_preds = y_preds\n",
        "    self.conf_mx = confusion_matrix(y_test,y_preds)\n",
        "  def plot_matrix(self):\n",
        "    heat_cm = pd.DataFrame(self.conf_mx, columns=np.unique(self.y_test), index = np.unique(self.y_test))\n",
        "    heat_cm.index.name = 'Actual'\n",
        "    heat_cm.columns.name = 'Predicted'\n",
        "\n",
        "    sns.heatmap(heat_cm, cmap=\"Blues\", annot=True, annot_kws={\"size\": 12},fmt='g')# font size\n",
        "    plt.show()"
      ]
    },
    {
      "cell_type": "markdown",
      "metadata": {
        "id": "EWNTcpJovUeV"
      },
      "source": [
        "# 1. Naive Bayes"
      ]
    },
    {
      "cell_type": "code",
      "execution_count": null,
      "metadata": {
        "id": "7NpSZvCSYvmg"
      },
      "outputs": [],
      "source": [
        "from sklearn.naive_bayes import GaussianNB\n",
        "gnb = GaussianNB()\n",
        "gnb.fit(X_train, y_train)\n",
        "  \n",
        "# making predictions on the testing set\n",
        "y_preds = gnb.predict(X_test)"
      ]
    },
    {
      "cell_type": "code",
      "execution_count": null,
      "metadata": {
        "colab": {
          "base_uri": "https://localhost:8080/"
        },
        "id": "N72UgXX0Y5Qg",
        "outputId": "c7694d5f-e5c0-47bd-c9f4-be506c8e80cf"
      },
      "outputs": [
        {
          "output_type": "stream",
          "name": "stdout",
          "text": [
            "Gaussian Naive Bayes model accuracy(in %): 67.62295081967213\n",
            "              precision    recall  f1-score   support\n",
            "\n",
            "           0       0.70      0.72      0.71       134\n",
            "           1       0.65      0.62      0.63       110\n",
            "\n",
            "    accuracy                           0.68       244\n",
            "   macro avg       0.67      0.67      0.67       244\n",
            "weighted avg       0.68      0.68      0.68       244\n",
            "\n"
          ]
        }
      ],
      "source": [
        "print(\"Gaussian Naive Bayes model accuracy(in %):\", accuracy_score(y_test, y_preds)*100)\n",
        "print(classification_report(y_test, y_preds))"
      ]
    },
    {
      "cell_type": "code",
      "execution_count": null,
      "metadata": {
        "colab": {
          "base_uri": "https://localhost:8080/",
          "height": 279
        },
        "id": "pZ4Xtgggo8hK",
        "outputId": "159dd9d4-58d6-40a9-dffa-9eaafa7cb8a8"
      },
      "outputs": [
        {
          "output_type": "display_data",
          "data": {
            "text/plain": [
              "<Figure size 432x288 with 2 Axes>"
            ],
            "image/png": "[encoded data removed]"
          },
          "metadata": {
            "needs_background": "light"
          }
        }
      ],
      "source": [
        "gnb_cm = ConfMatrix(y_test, y_preds)\n",
        "gnb_cm.plot_matrix()"
      ]
    },
    {
      "cell_type": "code",
      "execution_count": null,
      "metadata": {
        "colab": {
          "base_uri": "https://localhost:8080/"
        },
        "id": "FnX-qRtdhODG",
        "outputId": "9f47a3a6-6c6d-4f7f-d648-d65030263553"
      },
      "outputs": [
        {
          "output_type": "execute_result",
          "data": {
            "text/plain": [
              "array([1, 1, 1, 0, 1, 0, 1, 1, 0, 1, 1, 0, 0, 0, 0, 1, 0, 0, 0, 1, 1, 0,\n",
              "       1, 0, 1, 0, 1, 0, 0, 0, 0, 0, 1, 0, 0, 0, 1, 0, 1, 1, 0, 1, 1, 0,\n",
              "       1, 0, 1, 0, 0, 0, 0, 1, 0, 1, 0, 0, 0, 1, 1, 1, 0, 1, 1, 0, 0, 1,\n",
              "       0, 0, 1, 1, 0, 1, 1, 0, 0, 0, 1, 1, 1, 0, 0, 0, 1, 1, 0, 0, 1, 1,\n",
              "       1, 0, 1, 0, 0, 0, 0, 1, 0, 0, 1, 1, 0, 0, 1, 0, 1, 1, 1, 0, 1, 1,\n",
              "       0, 0, 0, 0, 0, 0, 1, 0, 1, 1, 0, 1, 0, 0, 0, 1, 1, 1, 1, 0, 0, 0,\n",
              "       1, 0, 0, 0, 0, 1, 0, 1, 1, 1, 1, 0, 0, 1, 1, 0, 0, 1, 0, 0, 0, 1,\n",
              "       1, 1, 0, 0, 1, 0, 1, 1, 0, 0, 0, 0, 0, 1, 0, 0, 1, 1, 0, 1, 1, 1,\n",
              "       0, 0, 1, 0, 0, 1, 0, 0, 0, 0, 0, 0, 1, 0, 0, 0, 0, 0, 0, 0, 1, 1,\n",
              "       0, 1, 0, 0, 1, 1, 0, 0, 0, 0, 1, 1, 1, 0, 1, 1, 0, 0, 0, 1, 1, 0,\n",
              "       0, 0, 0, 0, 0, 1, 0, 0, 1, 1, 1, 1, 0, 0, 0, 1, 0, 0, 0, 1, 0, 0,\n",
              "       1, 1])"
            ]
          },
          "metadata": {},
          "execution_count": 207
        }
      ],
      "source": [
        "y_preds"
      ]
    },
    {
      "cell_type": "markdown",
      "metadata": {
        "id": "BIkOpiGSbg-N"
      },
      "source": [
        "Gaussian Naive Bayes model accuracy(in %): 76.5625"
      ]
    },
    {
      "cell_type": "markdown",
      "metadata": {
        "id": "QLMt13hBvdHl"
      },
      "source": [
        "# 2. Decision Tree"
      ]
    },
    {
      "cell_type": "code",
      "execution_count": null,
      "metadata": {
        "id": "y4FtOgVDY6mG"
      },
      "outputs": [],
      "source": [
        "from sklearn.tree import DecisionTreeClassifier\n",
        "clf = DecisionTreeClassifier(random_state=0)"
      ]
    },
    {
      "cell_type": "code",
      "execution_count": null,
      "metadata": {
        "id": "Covs9OamZNZ1"
      },
      "outputs": [],
      "source": [
        "clf.fit(X_train, y_train)\n",
        "  \n",
        "# making predictions on the testing set\n",
        "y_preds = clf.predict(X_test)"
      ]
    },
    {
      "cell_type": "code",
      "execution_count": null,
      "metadata": {
        "colab": {
          "base_uri": "https://localhost:8080/"
        },
        "id": "o7pZy-yfZfHS",
        "outputId": "bad6914a-b1f5-4367-fc85-f133bdda37db"
      },
      "outputs": [
        {
          "output_type": "stream",
          "name": "stdout",
          "text": [
            "Decision Tree model accuracy(in %): 70.49180327868852\n",
            "              precision    recall  f1-score   support\n",
            "\n",
            "           0       0.76      0.67      0.71       134\n",
            "           1       0.65      0.75      0.69       110\n",
            "\n",
            "    accuracy                           0.70       244\n",
            "   macro avg       0.71      0.71      0.70       244\n",
            "weighted avg       0.71      0.70      0.71       244\n",
            "\n"
          ]
        }
      ],
      "source": [
        "print(\"Decision Tree model accuracy(in %):\", accuracy_score(y_test, y_preds)*100)\n",
        "print(classification_report(y_test, y_preds))"
      ]
    },
    {
      "cell_type": "code",
      "execution_count": null,
      "metadata": {
        "colab": {
          "base_uri": "https://localhost:8080/",
          "height": 283
        },
        "id": "By0duQrDpj3E",
        "outputId": "be39c048-2347-4bf7-8bab-c50d67460382"
      },
      "outputs": [
        {
          "output_type": "display_data",
          "data": {
            "text/plain": [
              "<Figure size 432x288 with 2 Axes>"
            ],
            "image/png": "[encoded data removed]"
          },
          "metadata": {
            "needs_background": "light"
          }
        }
      ],
      "source": [
        "dt_cm = ConfMatrix(y_test, y_preds)\n",
        "dt_cm.plot_matrix()"
      ]
    },
    {
      "cell_type": "code",
      "execution_count": null,
      "metadata": {
        "colab": {
          "base_uri": "https://localhost:8080/"
        },
        "id": "Y0XkGZ1-hJub",
        "outputId": "83656c8f-4a53-4992-87d9-3a48f4877f59"
      },
      "outputs": [
        {
          "output_type": "stream",
          "name": "stdout",
          "text": [
            "[1 0 0 1 0 0 1 1 1 1 1 0 0 1 1 1 1 0 0 1 1 0 0 0 1 0 1 0 1 0 1 1 1 0 1 1 1\n",
            " 0 1 1 0 1 1 0 0 1 1 0 1 0 0 1 0 1 1 0 0 1 1 0 1 1 0 1 0 1 0 0 1 1 0 1 1 0\n",
            " 1 0 0 0 1 1 0 1 0 0 0 1 1 0 1 0 1 1 0 0 1 1 0 0 1 1 0 0 1 1 0 0 1 0 1 1 1\n",
            " 0 0 0 1 1 1 1 0 1 0 1 0 0 0 0 1 0 0 0 1 0 1 0 0 1 0 1 0 0 1 1 1 0 1 1 1 0\n",
            " 1 1 0 0 1 1 1 1 0 1 0 1 1 0 0 0 0 0 1 0 1 1 0 1 0 1 1 1 0 0 0 0 1 0 1 0 0\n",
            " 0 0 0 1 1 0 0 1 0 1 0 1 0 0 0 0 0 1 1 0 0 0 0 1 1 1 0 1 0 1 1 0 0 1 1 1 1\n",
            " 0 0 1 1 1 0 1 0 0 0 0 1 1 1 1 0 1 1 0 1 1 1]\n"
          ]
        }
      ],
      "source": [
        "print(y_preds)"
      ]
    },
    {
      "cell_type": "markdown",
      "metadata": {
        "id": "vLJmR3oAvjEm"
      },
      "source": [
        "# 3. Random Forest"
      ]
    },
    {
      "cell_type": "code",
      "execution_count": null,
      "metadata": {
        "id": "B9L9r0XpZkX2"
      },
      "outputs": [],
      "source": [
        "from sklearn.ensemble import RandomForestClassifier\n",
        "rf = RandomForestClassifier(max_depth=16, random_state=0)"
      ]
    },
    {
      "cell_type": "code",
      "execution_count": null,
      "metadata": {
        "colab": {
          "base_uri": "https://localhost:8080/"
        },
        "id": "Aqt4fq67aZFs",
        "outputId": "604114ef-9043-4ceb-e8ad-4a92aa481f7c"
      },
      "outputs": [
        {
          "output_type": "stream",
          "name": "stdout",
          "text": [
            "Random Forest model accuracy(in %): 77.04918032786885\n",
            "              precision    recall  f1-score   support\n",
            "\n",
            "           0       0.86      0.69      0.77       134\n",
            "           1       0.70      0.86      0.77       110\n",
            "\n",
            "    accuracy                           0.77       244\n",
            "   macro avg       0.78      0.78      0.77       244\n",
            "weighted avg       0.79      0.77      0.77       244\n",
            "\n"
          ]
        }
      ],
      "source": [
        "rf.fit(X_train, y_train)\n",
        "  \n",
        "# making predictions on the testing set\n",
        "y_preds = rf.predict(X_test)\n",
        "\n",
        "print(\"Random Forest model accuracy(in %):\", accuracy_score(y_test, y_preds)*100)\n",
        "print(classification_report(y_test, y_preds))"
      ]
    },
    {
      "cell_type": "code",
      "execution_count": null,
      "metadata": {
        "colab": {
          "base_uri": "https://localhost:8080/",
          "height": 279
        },
        "id": "WoqNCt8ApmWu",
        "outputId": "e02c4cec-ab56-4f4f-fab0-525ae51c7687"
      },
      "outputs": [
        {
          "output_type": "display_data",
          "data": {
            "text/plain": [
              "<Figure size 432x288 with 2 Axes>"
            ],
            "image/png": "[encoded data removed]"
          },
          "metadata": {
            "needs_background": "light"
          }
        }
      ],
      "source": [
        "rf_cm = ConfMatrix(y_test, y_preds)\n",
        "rf_cm.plot_matrix()"
      ]
    },
    {
      "cell_type": "code",
      "execution_count": null,
      "metadata": {
        "colab": {
          "base_uri": "https://localhost:8080/"
        },
        "id": "kHKfQfbFg86t",
        "outputId": "f0b4fd98-60be-4116-837f-d83649ff05a2"
      },
      "outputs": [
        {
          "output_type": "stream",
          "name": "stdout",
          "text": [
            "[1 1 1 1 1 0 1 1 1 1 1 0 0 0 0 1 1 0 0 1 1 0 0 0 1 1 1 0 0 0 1 0 1 0 1 1 1\n",
            " 0 1 1 0 0 1 0 1 1 1 1 1 0 1 1 0 0 1 0 0 1 1 0 1 1 0 1 0 1 0 0 1 1 0 1 1 0\n",
            " 1 0 0 0 1 0 0 1 0 0 0 0 0 1 1 0 1 1 0 0 0 1 0 0 1 1 0 0 1 1 0 0 1 0 1 0 1\n",
            " 0 0 0 1 1 1 1 1 1 0 1 1 0 0 1 1 1 0 0 1 0 1 0 0 1 1 1 0 1 1 1 1 0 1 1 1 1\n",
            " 1 1 0 0 1 1 1 1 0 0 0 1 0 1 0 0 0 0 0 1 0 1 1 1 1 1 1 1 0 0 1 0 0 1 1 0 1\n",
            " 0 0 0 1 1 0 0 1 0 0 0 1 0 1 1 0 0 1 1 0 1 0 1 1 1 1 0 1 1 1 1 1 0 1 1 0 0\n",
            " 0 0 1 1 0 0 1 0 1 1 0 1 1 1 1 0 1 1 1 0 1 1]\n"
          ]
        }
      ],
      "source": [
        "print(y_preds)"
      ]
    },
    {
      "cell_type": "markdown",
      "metadata": {
        "id": "o8RSPNBUvnIh"
      },
      "source": [
        "# 4. SVM"
      ]
    },
    {
      "cell_type": "code",
      "execution_count": null,
      "metadata": {
        "id": "Sfv-G8q2agZe"
      },
      "outputs": [],
      "source": [
        "from sklearn import svm\n",
        "svm = svm.SVC()"
      ]
    },
    {
      "cell_type": "code",
      "execution_count": null,
      "metadata": {
        "colab": {
          "base_uri": "https://localhost:8080/"
        },
        "id": "BNjFLZFRa2HX",
        "outputId": "8b296318-2033-4373-d7d7-8cbd6f5219f7"
      },
      "outputs": [
        {
          "output_type": "stream",
          "name": "stdout",
          "text": [
            "SVM accuracy(in %): 77.04918032786885\n",
            "              precision    recall  f1-score   support\n",
            "\n",
            "           0       0.85      0.71      0.77       134\n",
            "           1       0.70      0.85      0.77       110\n",
            "\n",
            "    accuracy                           0.77       244\n",
            "   macro avg       0.78      0.78      0.77       244\n",
            "weighted avg       0.78      0.77      0.77       244\n",
            "\n"
          ]
        }
      ],
      "source": [
        "svm.fit(X_train, y_train)\n",
        "  \n",
        "# making predictions on the testing set\n",
        "y_preds = svm.predict(X_test)\n",
        "print(\"SVM accuracy(in %):\", accuracy_score(y_test, y_preds)*100)\n",
        "print(classification_report(y_test, y_preds))"
      ]
    },
    {
      "cell_type": "code",
      "execution_count": null,
      "metadata": {
        "colab": {
          "base_uri": "https://localhost:8080/",
          "height": 279
        },
        "id": "OxQRyPYbpokm",
        "outputId": "2aa5430e-e733-4b4a-8a93-0ce03d7811a3"
      },
      "outputs": [
        {
          "output_type": "display_data",
          "data": {
            "text/plain": [
              "<Figure size 432x288 with 2 Axes>"
            ],
            "image/png": "[encoded data removed]"
          },
          "metadata": {
            "needs_background": "light"
          }
        }
      ],
      "source": [
        "svm_cm = ConfMatrix(y_test, y_preds)\n",
        "svm_cm.plot_matrix()"
      ]
    },
    {
      "cell_type": "markdown",
      "metadata": {
        "id": "cr7MaAcRvrvn"
      },
      "source": [
        "# 5. Catboost Classifier"
      ]
    },
    {
      "cell_type": "code",
      "execution_count": null,
      "metadata": {
        "colab": {
          "base_uri": "https://localhost:8080/"
        },
        "id": "uOJa2_QjnMQ0",
        "outputId": "e26de3ee-3c27-4cf2-fa42-1e898668f9ee"
      },
      "outputs": [
        {
          "output_type": "stream",
          "name": "stdout",
          "text": [
            "Looking in indexes: https://pypi.org/simple, https://us-python.pkg.dev/colab-wheels/public/simple/\n",
            "Requirement already satisfied: catboost in /usr/local/lib/python3.7/dist-packages (1.1)\n",
            "Requirement already satisfied: numpy>=1.16.0 in /usr/local/lib/python3.7/dist-packages (from catboost) (1.21.6)\n",
            "Requirement already satisfied: scipy in /usr/local/lib/python3.7/dist-packages (from catboost) (1.7.3)\n",
            "Requirement already satisfied: matplotlib in /usr/local/lib/python3.7/dist-packages (from catboost) (3.2.2)\n",
            "Requirement already satisfied: pandas>=0.24.0 in /usr/local/lib/python3.7/dist-packages (from catboost) (1.3.5)\n",
            "Requirement already satisfied: graphviz in /usr/local/lib/python3.7/dist-packages (from catboost) (0.10.1)\n",
            "Requirement already satisfied: six in /usr/local/lib/python3.7/dist-packages (from catboost) (1.15.0)\n",
            "Requirement already satisfied: plotly in /usr/local/lib/python3.7/dist-packages (from catboost) (5.5.0)\n",
            "Requirement already satisfied: pytz>=2017.3 in /usr/local/lib/python3.7/dist-packages (from pandas>=0.24.0->catboost) (2022.5)\n",
            "Requirement already satisfied: python-dateutil>=2.7.3 in /usr/local/lib/python3.7/dist-packages (from pandas>=0.24.0->catboost) (2.8.2)\n",
            "Requirement already satisfied: cycler>=0.10 in /usr/local/lib/python3.7/dist-packages (from matplotlib->catboost) (0.11.0)\n",
            "Requirement already satisfied: pyparsing!=2.0.4,!=2.1.2,!=2.1.6,>=2.0.1 in /usr/local/lib/python3.7/dist-packages (from matplotlib->catboost) (3.0.9)\n",
            "Requirement already satisfied: kiwisolver>=1.0.1 in /usr/local/lib/python3.7/dist-packages (from matplotlib->catboost) (1.4.4)\n",
            "Requirement already satisfied: typing-extensions in /usr/local/lib/python3.7/dist-packages (from kiwisolver>=1.0.1->matplotlib->catboost) (4.1.1)\n",
            "Requirement already satisfied: tenacity>=6.2.0 in /usr/local/lib/python3.7/dist-packages (from plotly->catboost) (8.1.0)\n"
          ]
        }
      ],
      "source": [
        "!pip install catboost"
      ]
    },
    {
      "cell_type": "code",
      "execution_count": null,
      "metadata": {
        "colab": {
          "base_uri": "https://localhost:8080/"
        },
        "id": "oKrZltF6bA3E",
        "outputId": "df2759b3-3ca5-4232-8dc8-dfa9db392a21"
      },
      "outputs": [
        {
          "output_type": "stream",
          "name": "stderr",
          "text": [
            "You should provide test set for use best model. use_best_model parameter has been switched to false value.\n"
          ]
        },
        {
          "output_type": "stream",
          "name": "stdout",
          "text": [
            "catboost classifier accuracy(in %): 78.68852459016394\n",
            "              precision    recall  f1-score   support\n",
            "\n",
            "           0       0.87      0.72      0.79       134\n",
            "           1       0.72      0.86      0.79       110\n",
            "\n",
            "    accuracy                           0.79       244\n",
            "   macro avg       0.79      0.79      0.79       244\n",
            "weighted avg       0.80      0.79      0.79       244\n",
            "\n"
          ]
        }
      ],
      "source": [
        "from catboost import CatBoostClassifier\n",
        "\n",
        "cat = CatBoostClassifier(loss_function = 'Logloss',\n",
        "                        eval_metric = 'BalancedAccuracy',\n",
        "                        verbose = 200,\n",
        "                        random_seed = 20)\n",
        "\n",
        "cat_mod = cat.fit(X_train,y_train,\n",
        "                   use_best_model=True,\n",
        "                   verbose = 0,\n",
        "                    plot=False)\n",
        "                  \n",
        "cat_y_preds = cat_mod.predict(X_test)\n",
        "\n",
        "print(\"catboost classifier accuracy(in %):\", accuracy_score(y_test, cat_y_preds)*100)\n",
        "print(classification_report(y_test, cat_y_preds))\n"
      ]
    },
    {
      "cell_type": "code",
      "execution_count": null,
      "metadata": {
        "colab": {
          "base_uri": "https://localhost:8080/",
          "height": 279
        },
        "id": "Ua2TbyXBprS-",
        "outputId": "e5116ddd-ee34-4a80-f40e-ae09c83df00e"
      },
      "outputs": [
        {
          "output_type": "display_data",
          "data": {
            "text/plain": [
              "<Figure size 432x288 with 2 Axes>"
            ],
            "image/png": "[encoded data removed]"
          },
          "metadata": {
            "needs_background": "light"
          }
        }
      ],
      "source": [
        "cat_cm = ConfMatrix(y_test, cat_y_preds)\n",
        "cat_cm.plot_matrix()"
      ]
    },
    {
      "cell_type": "markdown",
      "metadata": {
        "id": "vwcJpllnvwu_"
      },
      "source": [
        "# 6. XGBoost Classifier"
      ]
    },
    {
      "cell_type": "code",
      "execution_count": null,
      "metadata": {
        "colab": {
          "base_uri": "https://localhost:8080/"
        },
        "id": "LSwDzD1An4o5",
        "outputId": "075a43c5-bb09-4f66-97e8-59db9414ed22"
      },
      "outputs": [
        {
          "output_type": "stream",
          "name": "stdout",
          "text": [
            "Looking in indexes: https://pypi.org/simple, https://us-python.pkg.dev/colab-wheels/public/simple/\n",
            "Requirement already satisfied: xgboost in /usr/local/lib/python3.7/dist-packages (0.90)\n",
            "Requirement already satisfied: scipy in /usr/local/lib/python3.7/dist-packages (from xgboost) (1.7.3)\n",
            "Requirement already satisfied: numpy in /usr/local/lib/python3.7/dist-packages (from xgboost) (1.21.6)\n"
          ]
        }
      ],
      "source": [
        "!pip install xgboost"
      ]
    },
    {
      "cell_type": "code",
      "execution_count": null,
      "metadata": {
        "id": "HThrYcHcn6A5"
      },
      "outputs": [],
      "source": [
        "import xgboost as xgb"
      ]
    },
    {
      "cell_type": "code",
      "execution_count": null,
      "metadata": {
        "colab": {
          "base_uri": "https://localhost:8080/"
        },
        "id": "OgZABGnPoFgT",
        "outputId": "60882fa4-69d9-46d2-d9b0-f0e0af81c8c7"
      },
      "outputs": [
        {
          "output_type": "stream",
          "name": "stdout",
          "text": [
            "XGB classifier accuracy(in %): 76.63934426229508\n",
            "              precision    recall  f1-score   support\n",
            "\n",
            "           0       0.84      0.71      0.77       134\n",
            "           1       0.70      0.84      0.76       110\n",
            "\n",
            "    accuracy                           0.77       244\n",
            "   macro avg       0.77      0.77      0.77       244\n",
            "weighted avg       0.78      0.77      0.77       244\n",
            "\n"
          ]
        }
      ],
      "source": [
        "xgb_cl = xgb.XGBClassifier()\n",
        "\n",
        "# Fit\n",
        "xgb_cl.fit(X_train, y_train)\n",
        "\n",
        "# Predict\n",
        "y_preds = xgb_cl.predict(X_test)\n",
        "\n",
        "print(\"XGB classifier accuracy(in %):\", accuracy_score(y_test, y_preds)*100)\n",
        "print(classification_report(y_test, y_preds))"
      ]
    },
    {
      "cell_type": "code",
      "execution_count": null,
      "metadata": {
        "colab": {
          "base_uri": "https://localhost:8080/",
          "height": 279
        },
        "id": "qn3E3EOgp132",
        "outputId": "7f07af8e-9c19-4a1a-b998-83060201aee6"
      },
      "outputs": [
        {
          "output_type": "display_data",
          "data": {
            "text/plain": [
              "<Figure size 432x288 with 2 Axes>"
            ],
            "image/png": "[encoded data removed]"
          },
          "metadata": {
            "needs_background": "light"
          }
        }
      ],
      "source": [
        "xgb_cm = ConfMatrix(y_test, y_preds)\n",
        "xgb_cm.plot_matrix()"
      ]
    },
    {
      "cell_type": "markdown",
      "metadata": {
        "id": "yl6sI_DCv09X"
      },
      "source": [
        "# 7. KNN"
      ]
    },
    {
      "cell_type": "code",
      "execution_count": null,
      "metadata": {
        "id": "J-sOYOAFoPrd"
      },
      "outputs": [],
      "source": [
        "from sklearn.neighbors import KNeighborsClassifier\n",
        "neigh = KNeighborsClassifier(n_neighbors=10)"
      ]
    },
    {
      "cell_type": "code",
      "execution_count": null,
      "metadata": {
        "colab": {
          "base_uri": "https://localhost:8080/"
        },
        "id": "r3LZiNx6splt",
        "outputId": "848b6733-71ea-4654-f0c5-8477bf1d8181"
      },
      "outputs": [
        {
          "output_type": "stream",
          "name": "stdout",
          "text": [
            "KNN accuracy(in %): 78.27868852459017\n",
            "              precision    recall  f1-score   support\n",
            "\n",
            "           0       0.83      0.76      0.79       134\n",
            "           1       0.74      0.81      0.77       110\n",
            "\n",
            "    accuracy                           0.78       244\n",
            "   macro avg       0.78      0.79      0.78       244\n",
            "weighted avg       0.79      0.78      0.78       244\n",
            "\n"
          ]
        }
      ],
      "source": [
        "neigh.fit(X_train, y_train)\n",
        "knn_y_preds = neigh.predict(X_test)\n",
        "\n",
        "print(\"KNN accuracy(in %):\", accuracy_score(y_test, knn_y_preds)*100)\n",
        "print(classification_report(y_test, knn_y_preds))"
      ]
    },
    {
      "cell_type": "code",
      "execution_count": null,
      "metadata": {
        "colab": {
          "base_uri": "https://localhost:8080/",
          "height": 279
        },
        "id": "d-Iz41bXtW18",
        "outputId": "55ddd3ae-4951-4e8d-9a18-ee250cefc8d8"
      },
      "outputs": [
        {
          "output_type": "display_data",
          "data": {
            "text/plain": [
              "<Figure size 432x288 with 2 Axes>"
            ],
            "image/png": "[encoded data removed]"
          },
          "metadata": {
            "needs_background": "light"
          }
        }
      ],
      "source": [
        "knn_cm = ConfMatrix(y_test, knn_y_preds)\n",
        "knn_cm.plot_matrix()"
      ]
    },
    {
      "cell_type": "markdown",
      "metadata": {
        "id": "nGa-hj8yv3VL"
      },
      "source": [
        "# 8. Logistic Regression"
      ]
    },
    {
      "cell_type": "code",
      "execution_count": null,
      "metadata": {
        "id": "k_nXTRXhtXOt"
      },
      "outputs": [],
      "source": [
        "from sklearn.linear_model import LogisticRegression"
      ]
    },
    {
      "cell_type": "code",
      "execution_count": null,
      "metadata": {
        "colab": {
          "base_uri": "https://localhost:8080/"
        },
        "id": "V2cfX7nxtz8D",
        "outputId": "6a3c0dda-f4f9-4206-e923-099fe05c5de7"
      },
      "outputs": [
        {
          "output_type": "stream",
          "name": "stdout",
          "text": [
            "Logistic Regression accuracy(in %): 71.31147540983606\n",
            "              precision    recall  f1-score   support\n",
            "\n",
            "           0       0.76      0.69      0.73       134\n",
            "           1       0.66      0.74      0.70       110\n",
            "\n",
            "    accuracy                           0.71       244\n",
            "   macro avg       0.71      0.72      0.71       244\n",
            "weighted avg       0.72      0.71      0.71       244\n",
            "\n"
          ]
        }
      ],
      "source": [
        "lr = LogisticRegression()\n",
        "lr.fit(X_train, y_train)\n",
        "\n",
        "y_preds = lr.predict(X_test)\n",
        "\n",
        "print(\"Logistic Regression accuracy(in %):\", accuracy_score(y_test, y_preds)*100)\n",
        "print(classification_report(y_test, y_preds))"
      ]
    },
    {
      "cell_type": "code",
      "execution_count": null,
      "metadata": {
        "colab": {
          "base_uri": "https://localhost:8080/",
          "height": 279
        },
        "id": "QWIVgtoMuQB4",
        "outputId": "170f5ea4-306b-4852-e53e-c4959cad9baa"
      },
      "outputs": [
        {
          "output_type": "display_data",
          "data": {
            "text/plain": [
              "<Figure size 432x288 with 2 Axes>"
            ],
            "image/png": "[encoded data removed]"
          },
          "metadata": {
            "needs_background": "light"
          }
        }
      ],
      "source": [
        "lr_cm = ConfMatrix(y_test, y_preds)\n",
        "lr_cm.plot_matrix()"
      ]
    },
    {
      "cell_type": "markdown",
      "metadata": {
        "id": "aJ1e651d0gOu"
      },
      "source": [
        "# KNN + Catboost"
      ]
    },
    {
      "cell_type": "code",
      "execution_count": null,
      "metadata": {
        "colab": {
          "base_uri": "https://localhost:8080/"
        },
        "id": "j-JLQ1jfvHNK",
        "outputId": "39dc59dc-8d8d-4d4b-9b4b-1fecbdd88fb4"
      },
      "outputs": [
        {
          "output_type": "stream",
          "name": "stdout",
          "text": [
            "Accuracy(in %): 80.73770491803278\n",
            "              precision    recall  f1-score   support\n",
            "\n",
            "           0       0.82      0.83      0.83       134\n",
            "           1       0.79      0.78      0.79       110\n",
            "\n",
            "    accuracy                           0.81       244\n",
            "   macro avg       0.81      0.81      0.81       244\n",
            "weighted avg       0.81      0.81      0.81       244\n",
            "\n"
          ]
        }
      ],
      "source": [
        "final_preds = np.logical_and(knn_y_preds, cat_y_preds)\n",
        "# print(final_preds)\n",
        "print(\"Accuracy(in %):\", accuracy_score(y_test, final_preds)*100)\n",
        "print(classification_report(y_test, final_preds))"
      ]
    },
    {
      "cell_type": "markdown",
      "metadata": {
        "id": "0seauu9cQf5I"
      },
      "source": [
        "# Hyperparameter optimisation"
      ]
    },
    {
      "cell_type": "code",
      "execution_count": null,
      "metadata": {
        "id": "neYJjeKvwLpw"
      },
      "outputs": [],
      "source": [
        "def print_result(y_true, y_predict,model, arr):\n",
        "    accuracy = metrics.accuracy_score(y_test, y_predict)\n",
        "    # print(\"Accuracy: %.3f\" % accuracy)\n",
        "\n",
        "    precision = metrics.precision_score(y_test, y_predict)\n",
        "    # print(\"Precision: %.3f\" % precision)\n",
        "\n",
        "    recall = metrics.recall_score(y_test, y_predict)\n",
        "    # print(\"Recall: %.3f\" % recall)\n",
        "\n",
        "    f1 = metrics.f1_score(y_test, y_predict)\n",
        "    # print(\"F1 Score: %.3f\" % f1)\n",
        "    arr[model] = {'accuracy': accuracy*100, 'precision': precision, 'recall': recall, 'f1_score': f1}\n",
        "    return arr\n",
        "    # return arr.append({model:{'accuracy': accuracy, 'precision': precision, 'recall': recall, 'f1_score': f1}})"
      ]
    },
    {
      "cell_type": "code",
      "execution_count": null,
      "metadata": {
        "id": "QgyxUqz1xhhB"
      },
      "outputs": [],
      "source": [
        "scores = {}"
      ]
    },
    {
      "cell_type": "markdown",
      "metadata": {
        "id": "YUEt-lKZeIOp"
      },
      "source": [
        "#1. KNN\n"
      ]
    },
    {
      "cell_type": "code",
      "execution_count": null,
      "metadata": {
        "id": "1Ebedu-2mls3"
      },
      "outputs": [],
      "source": [
        "from sklearn.model_selection import RepeatedStratifiedKFold\n",
        "\n",
        "cv_method = RepeatedStratifiedKFold(n_splits=5, \n",
        "                                    n_repeats=3, \n",
        "                                    random_state=42)"
      ]
    },
    {
      "cell_type": "code",
      "execution_count": null,
      "metadata": {
        "id": "lBOpQWGuQpIM"
      },
      "outputs": [],
      "source": [
        "from sklearn.neighbors import KNeighborsClassifier\n",
        "knn = KNeighborsClassifier(n_neighbors=10)"
      ]
    },
    {
      "cell_type": "code",
      "execution_count": null,
      "metadata": {
        "colab": {
          "base_uri": "https://localhost:8080/"
        },
        "id": "RBDHVzONUHI1",
        "outputId": "0572ac62-1085-4636-a064-6141267feafc"
      },
      "outputs": [
        {
          "output_type": "stream",
          "name": "stdout",
          "text": [
            "KNN accuracy(in %): 78.27868852459017\n",
            "              precision    recall  f1-score   support\n",
            "\n",
            "           0       0.83      0.76      0.79       134\n",
            "           1       0.74      0.81      0.77       110\n",
            "\n",
            "    accuracy                           0.78       244\n",
            "   macro avg       0.78      0.79      0.78       244\n",
            "weighted avg       0.79      0.78      0.78       244\n",
            "\n"
          ]
        }
      ],
      "source": [
        "knn.fit(X_train, y_train)\n",
        "knn_y_preds = neigh.predict(X_test)\n",
        "\n",
        "print(\"KNN accuracy(in %):\", accuracy_score(y_test, knn_y_preds)*100)\n",
        "print(classification_report(y_test, knn_y_preds))"
      ]
    },
    {
      "cell_type": "code",
      "execution_count": null,
      "metadata": {
        "id": "rczX_VM6eHDD"
      },
      "outputs": [],
      "source": [
        "estimator_KNN = KNeighborsClassifier()\n",
        "parameters_KNN = {\n",
        "    'n_neighbors': (5, 10),\n",
        "    'leaf_size': (10,20,30,40,50),\n",
        "    'p': (1,2),\n",
        "    'weights': ('uniform', 'distance'),\n",
        "    'metric': ('minkowski', 'chebyshev'),\n",
        "}               \n",
        "# with GridSearch\n",
        "grid_search_KNN = GridSearchCV(\n",
        "    estimator=estimator_KNN,\n",
        "    param_grid=parameters_KNN,\n",
        "    scoring = 'accuracy',\n",
        "    # n_jobs = -1,\n",
        "    cv = cv_method\n",
        ")"
      ]
    },
    {
      "cell_type": "code",
      "execution_count": null,
      "metadata": {
        "colab": {
          "base_uri": "https://localhost:8080/"
        },
        "id": "avUmzcyaiELT",
        "outputId": "d08b7928-f2a5-40e1-e2e0-9d8933685b16"
      },
      "outputs": [
        {
          "output_type": "stream",
          "name": "stdout",
          "text": [
            "{'leaf_size': 10, 'metric': 'minkowski', 'n_neighbors': 10, 'p': 1, 'weights': 'distance'}\n",
            "Best Score - KNN: 0.7698630136986303\n"
          ]
        }
      ],
      "source": [
        "KNN_1=grid_search_KNN.fit(X_train, y_train)\n",
        "y_pred_KNN1 =KNN_1.predict(X_test)\n",
        "\n",
        "#Parameter setting that gave the best results on the hold out data.\n",
        "print(grid_search_KNN.best_params_ ) \n",
        "#Mean cross-validated score of the best_estimator\n",
        "print('Best Score - KNN:', grid_search_KNN.best_score_ )"
      ]
    },
    {
      "cell_type": "code",
      "execution_count": null,
      "metadata": {
        "colab": {
          "base_uri": "https://localhost:8080/"
        },
        "id": "zM9BUvBLbv8d",
        "outputId": "1924bf75-7127-46f3-832e-72f74e929e84"
      },
      "outputs": [
        {
          "output_type": "execute_result",
          "data": {
            "text/plain": [
              "{'knn': {'accuracy': 78.27868852459017,\n",
              "  'precision': 0.7355371900826446,\n",
              "  'recall': 0.8090909090909091,\n",
              "  'f1_score': 0.7705627705627704}}"
            ]
          },
          "metadata": {},
          "execution_count": 241
        }
      ],
      "source": [
        "best_knn = KNeighborsClassifier(leaf_size=10, metric='minkowski', n_neighbors=10, p=2, weights='uniform')\n",
        "best_knn.fit(X_train, y_train)\n",
        "knn_y_preds = best_knn.predict(X_test)\n",
        "\n",
        "# print(\"KNN accuracy(in %):\", accuracy_score(y_test, knn_y_preds)*100)\n",
        "# print(classification_report(y_test, knn_y_preds))\n",
        "print_result(y_test, knn_y_preds,'knn', scores)"
      ]
    },
    {
      "cell_type": "markdown",
      "metadata": {
        "id": "sJtnVBfmoAlP"
      },
      "source": [
        "#2. Naive Bayes\n"
      ]
    },
    {
      "cell_type": "code",
      "execution_count": null,
      "metadata": {
        "colab": {
          "base_uri": "https://localhost:8080/"
        },
        "id": "k3dv38NrjOVX",
        "outputId": "a1796b63-5623-44dd-ae28-8a15b1b6f391"
      },
      "outputs": [
        {
          "output_type": "execute_result",
          "data": {
            "text/plain": [
              "array([1.e+00, 1.e-01, 1.e-02, 1.e-03, 1.e-04, 1.e-05, 1.e-06, 1.e-07,\n",
              "       1.e-08, 1.e-09])"
            ]
          },
          "metadata": {},
          "execution_count": 242
        }
      ],
      "source": [
        "model = GaussianNB()\n",
        "np.logspace(0,-9, num=10)"
      ]
    },
    {
      "cell_type": "code",
      "execution_count": null,
      "metadata": {
        "colab": {
          "base_uri": "https://localhost:8080/"
        },
        "id": "9NtHtNaSmntR",
        "outputId": "fb1602db-5b79-42b2-8a65-089d0f7fd49b"
      },
      "outputs": [
        {
          "output_type": "stream",
          "name": "stdout",
          "text": [
            "Fitting 15 folds for each of 100 candidates, totalling 1500 fits\n"
          ]
        }
      ],
      "source": [
        "from sklearn.preprocessing import PowerTransformer\n",
        "params_NB = {'var_smoothing': np.logspace(0,-9, num=100)}\n",
        "\n",
        "best_nb = GridSearchCV(estimator=model, \n",
        "                     param_grid=params_NB, \n",
        "                     cv=cv_method,\n",
        "                     verbose=1, \n",
        "                     scoring='accuracy')\n",
        "\n",
        "Data_transformed = PowerTransformer().fit_transform(X_test)\n",
        "\n",
        "best_nb.fit(Data_transformed, y_test);"
      ]
    },
    {
      "cell_type": "code",
      "execution_count": null,
      "metadata": {
        "colab": {
          "base_uri": "https://localhost:8080/"
        },
        "id": "q-vEFdljmpi-",
        "outputId": "902eaec9-2462-42ac-bb6a-e39df297e5d6"
      },
      "outputs": [
        {
          "output_type": "execute_result",
          "data": {
            "text/plain": [
              "{'var_smoothing': 0.1}"
            ]
          },
          "metadata": {},
          "execution_count": 244
        }
      ],
      "source": [
        "best_nb.best_params_"
      ]
    },
    {
      "cell_type": "code",
      "execution_count": null,
      "metadata": {
        "colab": {
          "base_uri": "https://localhost:8080/"
        },
        "id": "ipukMT_3n2JX",
        "outputId": "9f39c967-a46a-43a3-e65d-1589f9b96d88"
      },
      "outputs": [
        {
          "output_type": "execute_result",
          "data": {
            "text/plain": [
              "{'knn': {'accuracy': 78.27868852459017,\n",
              "  'precision': 0.7355371900826446,\n",
              "  'recall': 0.8090909090909091,\n",
              "  'f1_score': 0.7705627705627704},\n",
              " 'Naive Bayes': {'accuracy': 70.49180327868852,\n",
              "  'precision': 0.6727272727272727,\n",
              "  'recall': 0.6727272727272727,\n",
              "  'f1_score': 0.6727272727272727}}"
            ]
          },
          "metadata": {},
          "execution_count": 245
        }
      ],
      "source": [
        "# predict the target on the test dataset\n",
        "nb_y_predict= best_nb.predict(Data_transformed)\n",
        "\n",
        "print_result(y_test, nb_y_predict, 'Naive Bayes', scores)"
      ]
    },
    {
      "cell_type": "markdown",
      "metadata": {
        "id": "UpcQRONjvTYC"
      },
      "source": [
        "# 3. Logistic Regression"
      ]
    },
    {
      "cell_type": "code",
      "execution_count": null,
      "metadata": {
        "id": "CjF9TpnUrWZO"
      },
      "outputs": [],
      "source": [
        "from sklearn.model_selection import GridSearchCV\n",
        "\n",
        "model = LogisticRegression()\n",
        "parameters = {\n",
        "            'penalty': ['l2'], \n",
        "             'C': [0.001,0.011,0.1,1,10,100,1000],\n",
        "            #  'max_iter' : [10,25]\n",
        "              } \n",
        "\n",
        "best_lr = GridSearchCV(model, parameters,cv=cv_method,)"
      ]
    },
    {
      "cell_type": "code",
      "execution_count": null,
      "metadata": {
        "id": "V0XwKhzwvXDN"
      },
      "outputs": [],
      "source": []
    },
    {
      "cell_type": "code",
      "execution_count": null,
      "metadata": {
        "colab": {
          "base_uri": "https://localhost:8080/"
        },
        "id": "lAvhytynvZB-",
        "outputId": "0e8ef858-a87e-43e0-9068-4b7f5a980e91"
      },
      "outputs": [
        {
          "output_type": "execute_result",
          "data": {
            "text/plain": [
              "{'knn': {'accuracy': 78.27868852459017,\n",
              "  'precision': 0.7355371900826446,\n",
              "  'recall': 0.8090909090909091,\n",
              "  'f1_score': 0.7705627705627704},\n",
              " 'Naive Bayes': {'accuracy': 70.49180327868852,\n",
              "  'precision': 0.6727272727272727,\n",
              "  'recall': 0.6727272727272727,\n",
              "  'f1_score': 0.6727272727272727},\n",
              " 'Logistic Regression': {'accuracy': 68.44262295081968,\n",
              "  'precision': 0.6434782608695652,\n",
              "  'recall': 0.6727272727272727,\n",
              "  'f1_score': 0.6577777777777778}}"
            ]
          },
          "metadata": {},
          "execution_count": 247
        }
      ],
      "source": [
        "best_lr.fit(X_train, y_train)\n",
        "lr_y_predict = best_lr.predict(X_test)\n",
        "\n",
        "print_result(y_test, lr_y_predict, 'Logistic Regression', scores)"
      ]
    },
    {
      "cell_type": "markdown",
      "metadata": {
        "id": "AQ7KSFok044J"
      },
      "source": [
        "# 4. XGB Classifier"
      ]
    },
    {
      "cell_type": "code",
      "execution_count": null,
      "metadata": {
        "colab": {
          "base_uri": "https://localhost:8080/"
        },
        "id": "lo2t_Ojty14O",
        "outputId": "f7115167-dc89-4bb3-b3e1-e6edfdbd4aa4"
      },
      "outputs": [
        {
          "output_type": "execute_result",
          "data": {
            "text/plain": [
              "{'knn': {'accuracy': 78.27868852459017,\n",
              "  'precision': 0.7355371900826446,\n",
              "  'recall': 0.8090909090909091,\n",
              "  'f1_score': 0.7705627705627704},\n",
              " 'Naive Bayes': {'accuracy': 70.49180327868852,\n",
              "  'precision': 0.6727272727272727,\n",
              "  'recall': 0.6727272727272727,\n",
              "  'f1_score': 0.6727272727272727},\n",
              " 'Logistic Regression': {'accuracy': 68.44262295081968,\n",
              "  'precision': 0.6434782608695652,\n",
              "  'recall': 0.6727272727272727,\n",
              "  'f1_score': 0.6577777777777778},\n",
              " 'XGB': {'accuracy': 77.04918032786885,\n",
              "  'precision': 0.7109375,\n",
              "  'recall': 0.8272727272727273,\n",
              "  'f1_score': 0.7647058823529412}}"
            ]
          },
          "metadata": {},
          "execution_count": 248
        }
      ],
      "source": [
        "xgb_cl = xgb.XGBClassifier()\n",
        "parameters = {\n",
        "            'eta':[0.1,0.3],\n",
        "            'max_depth': [2,4,6],\n",
        "            'min_child_weight': [0,1],\n",
        "            'max_leaves':[0,1]\n",
        "              } \n",
        "\n",
        "best_model = GridSearchCV(xgb_cl, parameters, cv=cv_method)\n",
        "\n",
        "best_xgb = best_model.fit(X_train, y_train)\n",
        "xgb_y_predict = best_xgb.predict(X_test)\n",
        "\n",
        "print_result(y_test, xgb_y_predict, 'XGB', scores)"
      ]
    },
    {
      "cell_type": "code",
      "execution_count": null,
      "metadata": {
        "colab": {
          "base_uri": "https://localhost:8080/"
        },
        "id": "iD7dAo0OnVNN",
        "outputId": "aae0f40d-4c38-4724-f0a8-3415538904b5"
      },
      "outputs": [
        {
          "output_type": "execute_result",
          "data": {
            "text/plain": [
              "{'C': 0.001, 'penalty': 'l2'}"
            ]
          },
          "metadata": {},
          "execution_count": 249
        }
      ],
      "source": [
        "best_lr.best_params_"
      ]
    },
    {
      "cell_type": "markdown",
      "metadata": {
        "id": "DEKF8nxSUt5O"
      },
      "source": [
        "\n",
        "#5. Decision tree\n",
        "\n",
        "\n"
      ]
    },
    {
      "cell_type": "code",
      "execution_count": null,
      "metadata": {
        "colab": {
          "base_uri": "https://localhost:8080/"
        },
        "id": "xqEH1CyXV7t9",
        "outputId": "0aae8587-23c4-459e-954a-21a3621a044f"
      },
      "outputs": [
        {
          "output_type": "stream",
          "name": "stdout",
          "text": [
            "{'criterion': 'entropy', 'max_depth': 4, 'min_samples_leaf': 4, 'min_samples_split': 0.1, 'splitter': 'random'}\n"
          ]
        },
        {
          "output_type": "execute_result",
          "data": {
            "text/plain": [
              "{'knn': {'accuracy': 78.27868852459017,\n",
              "  'precision': 0.7355371900826446,\n",
              "  'recall': 0.8090909090909091,\n",
              "  'f1_score': 0.7705627705627704},\n",
              " 'Naive Bayes': {'accuracy': 70.49180327868852,\n",
              "  'precision': 0.6727272727272727,\n",
              "  'recall': 0.6727272727272727,\n",
              "  'f1_score': 0.6727272727272727},\n",
              " 'Logistic Regression': {'accuracy': 68.44262295081968,\n",
              "  'precision': 0.6434782608695652,\n",
              "  'recall': 0.6727272727272727,\n",
              "  'f1_score': 0.6577777777777778},\n",
              " 'XGB': {'accuracy': 77.04918032786885,\n",
              "  'precision': 0.7109375,\n",
              "  'recall': 0.8272727272727273,\n",
              "  'f1_score': 0.7647058823529412},\n",
              " 'Decision Tree': {'accuracy': 65.57377049180327,\n",
              "  'precision': 0.6181818181818182,\n",
              "  'recall': 0.6181818181818182,\n",
              "  'f1_score': 0.6181818181818182}}"
            ]
          },
          "metadata": {},
          "execution_count": 250
        }
      ],
      "source": [
        "from sklearn.tree import DecisionTreeClassifier\n",
        "\n",
        "dt_clf = DecisionTreeClassifier()\n",
        "\n",
        "parameters = {\n",
        "    'criterion': ['gini', 'entropy'],\n",
        "    'splitter': ['best','random'],\n",
        "    'max_depth': [2, 4],\n",
        "    'min_samples_split': [0.1,0.3,0.5,0.9],\n",
        "    'min_samples_leaf': [1,2,4]\n",
        "}\n",
        "\n",
        "best_model = GridSearchCV(dt_clf, parameters, cv=cv_method)\n",
        "\n",
        "best_dt = best_model.fit(X_train, y_train)\n",
        "dt_y_predict = best_dt.predict(X_test)\n",
        "print(best_dt.best_params_)\n",
        "print_result(y_test, dt_y_predict, 'Decision Tree', scores)"
      ]
    },
    {
      "cell_type": "markdown",
      "metadata": {
        "id": "203pARPUWn1W"
      },
      "source": [
        "#6. Random forest"
      ]
    },
    {
      "cell_type": "code",
      "execution_count": null,
      "metadata": {
        "colab": {
          "base_uri": "https://localhost:8080/"
        },
        "id": "T09-oLX1V9ES",
        "outputId": "7c9c0717-7939-475e-a978-e737251168e9"
      },
      "outputs": [
        {
          "output_type": "stream",
          "name": "stdout",
          "text": [
            "[[95 39]\n",
            " [19 91]]\n",
            "0.7622950819672131\n",
            "              precision    recall  f1-score   support\n",
            "\n",
            "           0       0.83      0.71      0.77       134\n",
            "           1       0.70      0.83      0.76       110\n",
            "\n",
            "    accuracy                           0.76       244\n",
            "   macro avg       0.77      0.77      0.76       244\n",
            "weighted avg       0.77      0.76      0.76       244\n",
            "\n"
          ]
        }
      ],
      "source": [
        "from sklearn.ensemble import RandomForestClassifier\n",
        "rf_clf=RandomForestClassifier(n_estimators=10).fit(X_train,y_train)\n",
        "y_pred=rf_clf.predict(X_test)\n",
        "model=RandomForestClassifier(n_estimators=100,criterion='gini',\n",
        "                             max_features='sqrt',min_samples_leaf=5,random_state=0).fit(X_train,y_train)\n",
        "predictions=model.predict(X_test)\n",
        "print(confusion_matrix(y_test,predictions))\n",
        "print(metrics.accuracy_score(y_test,predictions))\n",
        "print(classification_report(y_test,predictions))"
      ]
    },
    {
      "cell_type": "code",
      "execution_count": null,
      "metadata": {
        "colab": {
          "base_uri": "https://localhost:8080/"
        },
        "id": "Z8qlSh7pWx6v",
        "outputId": "0f3e3309-2403-41a5-f459-6891dca5074e"
      },
      "outputs": [
        {
          "output_type": "stream",
          "name": "stdout",
          "text": [
            "{'n_estimators': [100, 200, 300, 400, 500, 600, 700, 800, 900, 1000, 1100, 1200], 'max_features': ['auto', 'sqrt', 'log2'], 'max_depth': [450, 456, 463, 470, 477, 483, 490, 497, 504, 511], 'min_samples_split': [2, 5, 10, 14], 'min_samples_leaf': [1, 2, 4, 6, 8], 'criterion': ['entropy', 'gini']}\n"
          ]
        }
      ],
      "source": [
        "#Randomized search cv\n",
        "from sklearn.model_selection import RandomizedSearchCV\n",
        "# Number of trees in random forest\n",
        "n_estimators = [int(x) for x in np.linspace(start = 100, stop = 1200, num = 12)]\n",
        "# Number of features to consider at every split\n",
        "max_features = ['auto', 'sqrt','log2']\n",
        "# Maximum number of levels in tree\n",
        "max_depth = [int(x) for x in np.linspace(450, 511,10)]\n",
        "# Minimum number of samples required to split a node\n",
        "min_samples_split = [2, 5, 10,14]\n",
        "# Minimum number of samples required at each leaf node\n",
        "min_samples_leaf = [1, 2, 4,6,8]\n",
        "# Create the random grid\n",
        "random_grid = {'n_estimators': n_estimators,\n",
        "               'max_features': max_features,\n",
        "               'max_depth': max_depth,\n",
        "               'min_samples_split': min_samples_split,\n",
        "               'min_samples_leaf': min_samples_leaf,\n",
        "              'criterion':['entropy','gini']}\n",
        "print(random_grid)"
      ]
    },
    {
      "cell_type": "code",
      "execution_count": null,
      "metadata": {
        "colab": {
          "base_uri": "https://localhost:8080/"
        },
        "id": "0IbqYoXcXoOp",
        "outputId": "8212564e-9703-4361-e678-731d589df49c"
      },
      "outputs": [
        {
          "output_type": "stream",
          "name": "stdout",
          "text": [
            "Fitting 5 folds for each of 20 candidates, totalling 100 fits\n"
          ]
        },
        {
          "output_type": "execute_result",
          "data": {
            "text/plain": [
              "RandomizedSearchCV(cv=5, estimator=RandomForestClassifier(), n_iter=20,\n",
              "                   n_jobs=-1,\n",
              "                   param_distributions={'criterion': ['entropy', 'gini'],\n",
              "                                        'max_depth': [450, 456, 463, 470, 477,\n",
              "                                                      483, 490, 497, 504, 511],\n",
              "                                        'max_features': ['auto', 'sqrt',\n",
              "                                                         'log2'],\n",
              "                                        'min_samples_leaf': [1, 2, 4, 6, 8],\n",
              "                                        'min_samples_split': [2, 5, 10, 14],\n",
              "                                        'n_estimators': [100, 200, 300, 400,\n",
              "                                                         500, 600, 700, 800,\n",
              "                                                         900, 1000, 1100,\n",
              "                                                         1200]},\n",
              "                   random_state=100, verbose=2)"
            ]
          },
          "metadata": {},
          "execution_count": 253
        }
      ],
      "source": [
        "rf=RandomForestClassifier()\n",
        "best_rf = RandomizedSearchCV(estimator=rf,param_distributions=random_grid,n_iter=20, cv=5,verbose=2,\n",
        "                               random_state=100,n_jobs=-1)\n",
        "### fit the randomized model\n",
        "best_rf.fit(X_train,y_train)"
      ]
    },
    {
      "cell_type": "code",
      "execution_count": null,
      "metadata": {
        "colab": {
          "base_uri": "https://localhost:8080/"
        },
        "id": "pDlF_JbFXyDX",
        "outputId": "b37c5dd8-95d5-497f-a2f9-5420fb369e03"
      },
      "outputs": [
        {
          "output_type": "execute_result",
          "data": {
            "text/plain": [
              "{'n_estimators': 300,\n",
              " 'min_samples_split': 2,\n",
              " 'min_samples_leaf': 1,\n",
              " 'max_features': 'auto',\n",
              " 'max_depth': 477,\n",
              " 'criterion': 'gini'}"
            ]
          },
          "metadata": {},
          "execution_count": 254
        }
      ],
      "source": [
        "best_rf.best_params_"
      ]
    },
    {
      "cell_type": "code",
      "execution_count": null,
      "metadata": {
        "colab": {
          "base_uri": "https://localhost:8080/"
        },
        "id": "9APsdpcTX26y",
        "outputId": "a20882c8-fffd-4d71-eaa8-109d80867bfa"
      },
      "outputs": [
        {
          "output_type": "execute_result",
          "data": {
            "text/plain": [
              "{'knn': {'accuracy': 78.27868852459017,\n",
              "  'precision': 0.7355371900826446,\n",
              "  'recall': 0.8090909090909091,\n",
              "  'f1_score': 0.7705627705627704},\n",
              " 'Naive Bayes': {'accuracy': 70.49180327868852,\n",
              "  'precision': 0.6727272727272727,\n",
              "  'recall': 0.6727272727272727,\n",
              "  'f1_score': 0.6727272727272727},\n",
              " 'Logistic Regression': {'accuracy': 68.44262295081968,\n",
              "  'precision': 0.6434782608695652,\n",
              "  'recall': 0.6727272727272727,\n",
              "  'f1_score': 0.6577777777777778},\n",
              " 'XGB': {'accuracy': 77.04918032786885,\n",
              "  'precision': 0.7109375,\n",
              "  'recall': 0.8272727272727273,\n",
              "  'f1_score': 0.7647058823529412},\n",
              " 'Decision Tree': {'accuracy': 65.57377049180327,\n",
              "  'precision': 0.6181818181818182,\n",
              "  'recall': 0.6181818181818182,\n",
              "  'f1_score': 0.6181818181818182},\n",
              " 'Random_Forest': {'accuracy': 78.68852459016394,\n",
              "  'precision': 0.7164179104477612,\n",
              "  'recall': 0.8727272727272727,\n",
              "  'f1_score': 0.7868852459016392}}"
            ]
          },
          "metadata": {},
          "execution_count": 255
        }
      ],
      "source": [
        "rf_y_pred=best_rf.predict(X_test)\n",
        "\n",
        "print_result(y_test,rf_y_pred,'Random_Forest', scores)"
      ]
    },
    {
      "cell_type": "markdown",
      "metadata": {
        "id": "rA62DqH-fhd8"
      },
      "source": [
        "#7. SVM"
      ]
    },
    {
      "cell_type": "code",
      "execution_count": null,
      "metadata": {
        "id": "OhI5zNtDfkal"
      },
      "outputs": [],
      "source": [
        "from sklearn.svm import SVC\n",
        "model_params = {\n",
        "        'C':[1,10,20,50],\n",
        "        'kernel':['linear', 'rbf']\n",
        "        }"
      ]
    },
    {
      "cell_type": "code",
      "execution_count": null,
      "metadata": {
        "colab": {
          "base_uri": "https://localhost:8080/"
        },
        "id": "GIjAI4NCqRz-",
        "outputId": "1f04cdb3-5840-4499-e0ab-422345af5d1f"
      },
      "outputs": [
        {
          "output_type": "execute_result",
          "data": {
            "text/plain": [
              "{'knn': {'accuracy': 78.27868852459017,\n",
              "  'precision': 0.7355371900826446,\n",
              "  'recall': 0.8090909090909091,\n",
              "  'f1_score': 0.7705627705627704},\n",
              " 'Naive Bayes': {'accuracy': 70.49180327868852,\n",
              "  'precision': 0.6727272727272727,\n",
              "  'recall': 0.6727272727272727,\n",
              "  'f1_score': 0.6727272727272727},\n",
              " 'Logistic Regression': {'accuracy': 68.44262295081968,\n",
              "  'precision': 0.6434782608695652,\n",
              "  'recall': 0.6727272727272727,\n",
              "  'f1_score': 0.6577777777777778},\n",
              " 'XGB': {'accuracy': 77.04918032786885,\n",
              "  'precision': 0.7109375,\n",
              "  'recall': 0.8272727272727273,\n",
              "  'f1_score': 0.7647058823529412},\n",
              " 'Decision Tree': {'accuracy': 65.57377049180327,\n",
              "  'precision': 0.6181818181818182,\n",
              "  'recall': 0.6181818181818182,\n",
              "  'f1_score': 0.6181818181818182},\n",
              " 'Random_Forest': {'accuracy': 78.68852459016394,\n",
              "  'precision': 0.7164179104477612,\n",
              "  'recall': 0.8727272727272727,\n",
              "  'f1_score': 0.7868852459016392},\n",
              " 'SVM': {'accuracy': 77.04918032786885,\n",
              "  'precision': 0.7045454545454546,\n",
              "  'recall': 0.8454545454545455,\n",
              "  'f1_score': 0.768595041322314}}"
            ]
          },
          "metadata": {},
          "execution_count": 257
        }
      ],
      "source": [
        "svm = SVC()\n",
        "best_model = GridSearchCV(svm, model_params,cv=cv_method)\n",
        "\n",
        "best_svm = best_model.fit(X_train, y_train)\n",
        "svm_y_predict = best_svm.predict(X_test)\n",
        "\n",
        "print_result(y_test, svm_y_predict, 'SVM', scores)"
      ]
    },
    {
      "cell_type": "markdown",
      "metadata": {
        "id": "ncAhdmGdgkyi"
      },
      "source": [
        "#8. Catboost"
      ]
    },
    {
      "cell_type": "code",
      "execution_count": null,
      "metadata": {
        "colab": {
          "base_uri": "https://localhost:8080/"
        },
        "id": "zu_VnUXyf2-B",
        "outputId": "ac10f579-57a9-48f8-fd7d-24dfa0a6cf40"
      },
      "outputs": [
        {
          "output_type": "stream",
          "name": "stderr",
          "text": [
            "You should provide test set for use best model. use_best_model parameter has been switched to false value.\n"
          ]
        },
        {
          "output_type": "execute_result",
          "data": {
            "text/plain": [
              "{'knn': {'accuracy': 78.27868852459017,\n",
              "  'precision': 0.7355371900826446,\n",
              "  'recall': 0.8090909090909091,\n",
              "  'f1_score': 0.7705627705627704},\n",
              " 'Naive Bayes': {'accuracy': 70.49180327868852,\n",
              "  'precision': 0.6727272727272727,\n",
              "  'recall': 0.6727272727272727,\n",
              "  'f1_score': 0.6727272727272727},\n",
              " 'Logistic Regression': {'accuracy': 68.44262295081968,\n",
              "  'precision': 0.6434782608695652,\n",
              "  'recall': 0.6727272727272727,\n",
              "  'f1_score': 0.6577777777777778},\n",
              " 'XGB': {'accuracy': 77.04918032786885,\n",
              "  'precision': 0.7109375,\n",
              "  'recall': 0.8272727272727273,\n",
              "  'f1_score': 0.7647058823529412},\n",
              " 'Decision Tree': {'accuracy': 65.57377049180327,\n",
              "  'precision': 0.6181818181818182,\n",
              "  'recall': 0.6181818181818182,\n",
              "  'f1_score': 0.6181818181818182},\n",
              " 'Random_Forest': {'accuracy': 78.68852459016394,\n",
              "  'precision': 0.7164179104477612,\n",
              "  'recall': 0.8727272727272727,\n",
              "  'f1_score': 0.7868852459016392},\n",
              " 'SVM': {'accuracy': 77.04918032786885,\n",
              "  'precision': 0.7045454545454546,\n",
              "  'recall': 0.8454545454545455,\n",
              "  'f1_score': 0.768595041322314},\n",
              " 'Catboost': {'accuracy': 77.04918032786885,\n",
              "  'precision': 0.7014925373134329,\n",
              "  'recall': 0.8545454545454545,\n",
              "  'f1_score': 0.7704918032786885}}"
            ]
          },
          "metadata": {},
          "execution_count": 258
        }
      ],
      "source": [
        "cat = CatBoostClassifier()\n",
        "\n",
        "cat_mod = cat.fit(X_train,y_train,\n",
        "                   use_best_model=True,\n",
        "                   verbose = 0,\n",
        "                    plot=False)\n",
        "                  \n",
        "cat_y_preds = cat_mod.predict(X_test)\n",
        "\n",
        "print_result(y_test, cat_y_preds, 'Catboost', scores)"
      ]
    },
    {
      "cell_type": "code",
      "execution_count": null,
      "metadata": {
        "colab": {
          "base_uri": "https://localhost:8080/",
          "height": 175
        },
        "id": "u3lNLILGUEy9",
        "outputId": "facb0edf-9f43-4caf-c85f-86189cf9fa2e"
      },
      "outputs": [
        {
          "output_type": "execute_result",
          "data": {
            "text/plain": [
              "            Catboost  Decision Tree  Logistic Regression  Naive Bayes  \\\n",
              "accuracy   77.049180      65.573770            68.442623    70.491803   \n",
              "precision   0.701493       0.618182             0.643478     0.672727   \n",
              "recall      0.854545       0.618182             0.672727     0.672727   \n",
              "f1_score    0.770492       0.618182             0.657778     0.672727   \n",
              "\n",
              "           Random_Forest        SVM        XGB        knn  \n",
              "accuracy       78.688525  77.049180  77.049180  78.278689  \n",
              "precision       0.716418   0.704545   0.710938   0.735537  \n",
              "recall          0.872727   0.845455   0.827273   0.809091  \n",
              "f1_score        0.786885   0.768595   0.764706   0.770563  "
            ],
            "text/html": [
              "\n",
              "  <div id=\"df-23fd7210-2526-4d3c-ba44-7cc5d30958ad\">\n",
              "    <div class=\"colab-df-container\">\n",
              "      <div>\n",
              "<style scoped>\n",
              "    .dataframe tbody tr th:only-of-type {\n",
              "        vertical-align: middle;\n",
              "    }\n",
              "\n",
              "    .dataframe tbody tr th {\n",
              "        vertical-align: top;\n",
              "    }\n",
              "\n",
              "    .dataframe thead th {\n",
              "        text-align: right;\n",
              "    }\n",
              "</style>\n",
              "<table border=\"1\" class=\"dataframe\">\n",
              "  <thead>\n",
              "    <tr style=\"text-align: right;\">\n",
              "      <th></th>\n",
              "      <th>Catboost</th>\n",
              "      <th>Decision Tree</th>\n",
              "      <th>Logistic Regression</th>\n",
              "      <th>Naive Bayes</th>\n",
              "      <th>Random_Forest</th>\n",
              "      <th>SVM</th>\n",
              "      <th>XGB</th>\n",
              "      <th>knn</th>\n",
              "    </tr>\n",
              "  </thead>\n",
              "  <tbody>\n",
              "    <tr>\n",
              "      <th>accuracy</th>\n",
              "      <td>77.049180</td>\n",
              "      <td>65.573770</td>\n",
              "      <td>68.442623</td>\n",
              "      <td>70.491803</td>\n",
              "      <td>78.688525</td>\n",
              "      <td>77.049180</td>\n",
              "      <td>77.049180</td>\n",
              "      <td>78.278689</td>\n",
              "    </tr>\n",
              "    <tr>\n",
              "      <th>precision</th>\n",
              "      <td>0.701493</td>\n",
              "      <td>0.618182</td>\n",
              "      <td>0.643478</td>\n",
              "      <td>0.672727</td>\n",
              "      <td>0.716418</td>\n",
              "      <td>0.704545</td>\n",
              "      <td>0.710938</td>\n",
              "      <td>0.735537</td>\n",
              "    </tr>\n",
              "    <tr>\n",
              "      <th>recall</th>\n",
              "      <td>0.854545</td>\n",
              "      <td>0.618182</td>\n",
              "      <td>0.672727</td>\n",
              "      <td>0.672727</td>\n",
              "      <td>0.872727</td>\n",
              "      <td>0.845455</td>\n",
              "      <td>0.827273</td>\n",
              "      <td>0.809091</td>\n",
              "    </tr>\n",
              "    <tr>\n",
              "      <th>f1_score</th>\n",
              "      <td>0.770492</td>\n",
              "      <td>0.618182</td>\n",
              "      <td>0.657778</td>\n",
              "      <td>0.672727</td>\n",
              "      <td>0.786885</td>\n",
              "      <td>0.768595</td>\n",
              "      <td>0.764706</td>\n",
              "      <td>0.770563</td>\n",
              "    </tr>\n",
              "  </tbody>\n",
              "</table>\n",
              "</div>\n",
              "      <button class=\"colab-df-convert\" onclick=\"convertToInteractive('df-23fd7210-2526-4d3c-ba44-7cc5d30958ad')\"\n",
              "              title=\"Convert this dataframe to an interactive table.\"\n",
              "              style=\"display:none;\">\n",
              "        \n",
              "  <svg xmlns=\"http://www.w3.org/2000/svg\" height=\"24px\"viewBox=\"0 0 24 24\"\n",
              "       width=\"24px\">\n",
              "    <path d=\"M0 0h24v24H0V0z\" fill=\"none\"/>\n",
              "    <path d=\"M18.56 5.44l.94 2.06.94-2.06 2.06-.94-2.06-.94-.94-2.06-.94 2.06-2.06.94zm-11 1L8.5 8.5l.94-2.06 2.06-.94-2.06-.94L8.5 2.5l-.94 2.06-2.06.94zm10 10l.94 2.06.94-2.06 2.06-.94-2.06-.94-.94-2.06-.94 2.06-2.06.94z\"/><path d=\"M17.41 7.96l-1.37-1.37c-.4-.4-.92-.59-1.43-.59-.52 0-1.04.2-1.43.59L10.3 9.45l-7.72 7.72c-.78.78-.78 2.05 0 2.83L4 21.41c.39.39.9.59 1.41.59.51 0 1.02-.2 1.41-.59l7.78-7.78 2.81-2.81c.8-.78.8-2.07 0-2.86zM5.41 20L4 18.59l7.72-7.72 1.47 1.35L5.41 20z\"/>\n",
              "  </svg>\n",
              "      </button>\n",
              "      \n",
              "  <style>\n",
              "    .colab-df-container {\n",
              "      display:flex;\n",
              "      flex-wrap:wrap;\n",
              "      gap: 12px;\n",
              "    }\n",
              "\n",
              "    .colab-df-convert {\n",
              "      background-color: #E8F0FE;\n",
              "      border: none;\n",
              "      border-radius: 50%;\n",
              "      cursor: pointer;\n",
              "      display: none;\n",
              "      fill: #1967D2;\n",
              "      height: 32px;\n",
              "      padding: 0 0 0 0;\n",
              "      width: 32px;\n",
              "    }\n",
              "\n",
              "    .colab-df-convert:hover {\n",
              "      background-color: #E2EBFA;\n",
              "      box-shadow: 0px 1px 2px rgba(60, 64, 67, 0.3), 0px 1px 3px 1px rgba(60, 64, 67, 0.15);\n",
              "      fill: #174EA6;\n",
              "    }\n",
              "\n",
              "    [theme=dark] .colab-df-convert {\n",
              "      background-color: #3B4455;\n",
              "      fill: #D2E3FC;\n",
              "    }\n",
              "\n",
              "    [theme=dark] .colab-df-convert:hover {\n",
              "      background-color: #434B5C;\n",
              "      box-shadow: 0px 1px 3px 1px rgba(0, 0, 0, 0.15);\n",
              "      filter: drop-shadow(0px 1px 2px rgba(0, 0, 0, 0.3));\n",
              "      fill: #FFFFFF;\n",
              "    }\n",
              "  </style>\n",
              "\n",
              "      <script>\n",
              "        const buttonEl =\n",
              "          document.querySelector('#df-23fd7210-2526-4d3c-ba44-7cc5d30958ad button.colab-df-convert');\n",
              "        buttonEl.style.display =\n",
              "          google.colab.kernel.accessAllowed ? 'block' : 'none';\n",
              "\n",
              "        async function convertToInteractive(key) {\n",
              "          const element = document.querySelector('#df-23fd7210-2526-4d3c-ba44-7cc5d30958ad');\n",
              "          const dataTable =\n",
              "            await google.colab.kernel.invokeFunction('convertToInteractive',\n",
              "                                                     [key], {});\n",
              "          if (!dataTable) return;\n",
              "\n",
              "          const docLinkHtml = 'Like what you see? Visit the ' +\n",
              "            '<a target=\"_blank\" href=https://colab.research.google.com/notebooks/data_table.ipynb>data table notebook</a>'\n",
              "            + ' to learn more about interactive tables.';\n",
              "          element.innerHTML = '';\n",
              "          dataTable['output_type'] = 'display_data';\n",
              "          await google.colab.output.renderOutput(dataTable, element);\n",
              "          const docLink = document.createElement('div');\n",
              "          docLink.innerHTML = docLinkHtml;\n",
              "          element.appendChild(docLink);\n",
              "        }\n",
              "      </script>\n",
              "    </div>\n",
              "  </div>\n",
              "  "
            ]
          },
          "metadata": {},
          "execution_count": 259
        }
      ],
      "source": [
        "df = pd.DataFrame.from_records(scores)\n",
        "df"
      ]
    },
    {
      "cell_type": "code",
      "execution_count": null,
      "metadata": {
        "colab": {
          "base_uri": "https://localhost:8080/"
        },
        "id": "3CUR6b1Hg5zM",
        "outputId": "50cc9163-59fe-4aec-b4b3-594af464c067"
      },
      "outputs": [
        {
          "output_type": "stream",
          "name": "stdout",
          "text": [
            "Fitting 15 folds for each of 100 candidates, totalling 1500 fits\n",
            "Fitting 5 folds for each of 20 candidates, totalling 100 fits\n"
          ]
        },
        {
          "output_type": "execute_result",
          "data": {
            "text/plain": [
              "0.7827868852459017"
            ]
          },
          "metadata": {},
          "execution_count": 260
        }
      ],
      "source": [
        "from sklearn.ensemble import VotingClassifier\n",
        "\n",
        "vc = VotingClassifier(estimators=[('knn', best_knn), ('NB', best_nb), ('RF', best_rf)], voting='hard')\n",
        "vc.fit(X_train,y_train)\n",
        "vc.score(X_test,y_test)"
      ]
    },
    {
      "cell_type": "code",
      "execution_count": null,
      "metadata": {
        "id": "J9mrmw0j3c-P"
      },
      "outputs": [],
      "source": [
        "df.to_excel('output.xlsx')"
      ]
    },
    {
      "cell_type": "code",
      "source": [
        "df"
      ],
      "metadata": {
        "colab": {
          "base_uri": "https://localhost:8080/",
          "height": 175
        },
        "id": "GLl5f44pO_vs",
        "outputId": "5a67231d-f24d-424e-d7da-674cfd3da2e3"
      },
      "execution_count": null,
      "outputs": [
        {
          "output_type": "execute_result",
          "data": {
            "text/plain": [
              "            Catboost  Decision Tree  Logistic Regression  Naive Bayes  \\\n",
              "accuracy   77.049180      65.573770            68.442623    70.491803   \n",
              "precision   0.701493       0.618182             0.643478     0.672727   \n",
              "recall      0.854545       0.618182             0.672727     0.672727   \n",
              "f1_score    0.770492       0.618182             0.657778     0.672727   \n",
              "\n",
              "           Random_Forest        SVM        XGB        knn  \n",
              "accuracy       78.688525  77.049180  77.049180  78.278689  \n",
              "precision       0.716418   0.704545   0.710938   0.735537  \n",
              "recall          0.872727   0.845455   0.827273   0.809091  \n",
              "f1_score        0.786885   0.768595   0.764706   0.770563  "
            ],
            "text/html": [
              "\n",
              "  <div id=\"df-68cab696-b109-4691-b9ae-b2dd3de981f5\">\n",
              "    <div class=\"colab-df-container\">\n",
              "      <div>\n",
              "<style scoped>\n",
              "    .dataframe tbody tr th:only-of-type {\n",
              "        vertical-align: middle;\n",
              "    }\n",
              "\n",
              "    .dataframe tbody tr th {\n",
              "        vertical-align: top;\n",
              "    }\n",
              "\n",
              "    .dataframe thead th {\n",
              "        text-align: right;\n",
              "    }\n",
              "</style>\n",
              "<table border=\"1\" class=\"dataframe\">\n",
              "  <thead>\n",
              "    <tr style=\"text-align: right;\">\n",
              "      <th></th>\n",
              "      <th>Catboost</th>\n",
              "      <th>Decision Tree</th>\n",
              "      <th>Logistic Regression</th>\n",
              "      <th>Naive Bayes</th>\n",
              "      <th>Random_Forest</th>\n",
              "      <th>SVM</th>\n",
              "      <th>XGB</th>\n",
              "      <th>knn</th>\n",
              "    </tr>\n",
              "  </thead>\n",
              "  <tbody>\n",
              "    <tr>\n",
              "      <th>accuracy</th>\n",
              "      <td>77.049180</td>\n",
              "      <td>65.573770</td>\n",
              "      <td>68.442623</td>\n",
              "      <td>70.491803</td>\n",
              "      <td>78.688525</td>\n",
              "      <td>77.049180</td>\n",
              "      <td>77.049180</td>\n",
              "      <td>78.278689</td>\n",
              "    </tr>\n",
              "    <tr>\n",
              "      <th>precision</th>\n",
              "      <td>0.701493</td>\n",
              "      <td>0.618182</td>\n",
              "      <td>0.643478</td>\n",
              "      <td>0.672727</td>\n",
              "      <td>0.716418</td>\n",
              "      <td>0.704545</td>\n",
              "      <td>0.710938</td>\n",
              "      <td>0.735537</td>\n",
              "    </tr>\n",
              "    <tr>\n",
              "      <th>recall</th>\n",
              "      <td>0.854545</td>\n",
              "      <td>0.618182</td>\n",
              "      <td>0.672727</td>\n",
              "      <td>0.672727</td>\n",
              "      <td>0.872727</td>\n",
              "      <td>0.845455</td>\n",
              "      <td>0.827273</td>\n",
              "      <td>0.809091</td>\n",
              "    </tr>\n",
              "    <tr>\n",
              "      <th>f1_score</th>\n",
              "      <td>0.770492</td>\n",
              "      <td>0.618182</td>\n",
              "      <td>0.657778</td>\n",
              "      <td>0.672727</td>\n",
              "      <td>0.786885</td>\n",
              "      <td>0.768595</td>\n",
              "      <td>0.764706</td>\n",
              "      <td>0.770563</td>\n",
              "    </tr>\n",
              "  </tbody>\n",
              "</table>\n",
              "</div>\n",
              "      <button class=\"colab-df-convert\" onclick=\"convertToInteractive('df-68cab696-b109-4691-b9ae-b2dd3de981f5')\"\n",
              "              title=\"Convert this dataframe to an interactive table.\"\n",
              "              style=\"display:none;\">\n",
              "        \n",
              "  <svg xmlns=\"http://www.w3.org/2000/svg\" height=\"24px\"viewBox=\"0 0 24 24\"\n",
              "       width=\"24px\">\n",
              "    <path d=\"M0 0h24v24H0V0z\" fill=\"none\"/>\n",
              "    <path d=\"M18.56 5.44l.94 2.06.94-2.06 2.06-.94-2.06-.94-.94-2.06-.94 2.06-2.06.94zm-11 1L8.5 8.5l.94-2.06 2.06-.94-2.06-.94L8.5 2.5l-.94 2.06-2.06.94zm10 10l.94 2.06.94-2.06 2.06-.94-2.06-.94-.94-2.06-.94 2.06-2.06.94z\"/><path d=\"M17.41 7.96l-1.37-1.37c-.4-.4-.92-.59-1.43-.59-.52 0-1.04.2-1.43.59L10.3 9.45l-7.72 7.72c-.78.78-.78 2.05 0 2.83L4 21.41c.39.39.9.59 1.41.59.51 0 1.02-.2 1.41-.59l7.78-7.78 2.81-2.81c.8-.78.8-2.07 0-2.86zM5.41 20L4 18.59l7.72-7.72 1.47 1.35L5.41 20z\"/>\n",
              "  </svg>\n",
              "      </button>\n",
              "      \n",
              "  <style>\n",
              "    .colab-df-container {\n",
              "      display:flex;\n",
              "      flex-wrap:wrap;\n",
              "      gap: 12px;\n",
              "    }\n",
              "\n",
              "    .colab-df-convert {\n",
              "      background-color: #E8F0FE;\n",
              "      border: none;\n",
              "      border-radius: 50%;\n",
              "      cursor: pointer;\n",
              "      display: none;\n",
              "      fill: #1967D2;\n",
              "      height: 32px;\n",
              "      padding: 0 0 0 0;\n",
              "      width: 32px;\n",
              "    }\n",
              "\n",
              "    .colab-df-convert:hover {\n",
              "      background-color: #E2EBFA;\n",
              "      box-shadow: 0px 1px 2px rgba(60, 64, 67, 0.3), 0px 1px 3px 1px rgba(60, 64, 67, 0.15);\n",
              "      fill: #174EA6;\n",
              "    }\n",
              "\n",
              "    [theme=dark] .colab-df-convert {\n",
              "      background-color: #3B4455;\n",
              "      fill: #D2E3FC;\n",
              "    }\n",
              "\n",
              "    [theme=dark] .colab-df-convert:hover {\n",
              "      background-color: #434B5C;\n",
              "      box-shadow: 0px 1px 3px 1px rgba(0, 0, 0, 0.15);\n",
              "      filter: drop-shadow(0px 1px 2px rgba(0, 0, 0, 0.3));\n",
              "      fill: #FFFFFF;\n",
              "    }\n",
              "  </style>\n",
              "\n",
              "      <script>\n",
              "        const buttonEl =\n",
              "          document.querySelector('#df-68cab696-b109-4691-b9ae-b2dd3de981f5 button.colab-df-convert');\n",
              "        buttonEl.style.display =\n",
              "          google.colab.kernel.accessAllowed ? 'block' : 'none';\n",
              "\n",
              "        async function convertToInteractive(key) {\n",
              "          const element = document.querySelector('#df-68cab696-b109-4691-b9ae-b2dd3de981f5');\n",
              "          const dataTable =\n",
              "            await google.colab.kernel.invokeFunction('convertToInteractive',\n",
              "                                                     [key], {});\n",
              "          if (!dataTable) return;\n",
              "\n",
              "          const docLinkHtml = 'Like what you see? Visit the ' +\n",
              "            '<a target=\"_blank\" href=https://colab.research.google.com/notebooks/data_table.ipynb>data table notebook</a>'\n",
              "            + ' to learn more about interactive tables.';\n",
              "          element.innerHTML = '';\n",
              "          dataTable['output_type'] = 'display_data';\n",
              "          await google.colab.output.renderOutput(dataTable, element);\n",
              "          const docLink = document.createElement('div');\n",
              "          docLink.innerHTML = docLinkHtml;\n",
              "          element.appendChild(docLink);\n",
              "        }\n",
              "      </script>\n",
              "    </div>\n",
              "  </div>\n",
              "  "
            ]
          },
          "metadata": {},
          "execution_count": 262
        }
      ]
    },
    {
      "cell_type": "code",
      "execution_count": null,
      "metadata": {
        "colab": {
          "base_uri": "https://localhost:8080/"
        },
        "id": "XjYe87pE5KWp",
        "outputId": "a7321b92-3d36-4368-f074-cad771bad585"
      },
      "outputs": [
        {
          "output_type": "execute_result",
          "data": {
            "text/plain": [
              "(730, 6)"
            ]
          },
          "metadata": {},
          "execution_count": 263
        }
      ],
      "source": [
        "X_train.shape"
      ]
    },
    {
      "cell_type": "code",
      "execution_count": null,
      "metadata": {
        "id": "b03dfM9x5C7c"
      },
      "outputs": [],
      "source": [
        "import torch\n",
        "import torch.nn as nn\n",
        "from tqdm import tqdm"
      ]
    },
    {
      "cell_type": "code",
      "execution_count": null,
      "metadata": {
        "id": "pZW6rUgg5BBl"
      },
      "outputs": [],
      "source": [
        "class LogisticRegression(torch.nn.Module):\n",
        "    def __init__(self, input_dim, output_dim):\n",
        "        super(LogisticRegression, self).__init__()\n",
        "        self.linear_1 = torch.nn.Linear(input_dim, 1024)\n",
        "        self.dropout_1 = torch.nn.Dropout()\n",
        "        self.linear_2 = torch.nn.Linear(1024, 512)\n",
        "        self.dropout_2 = torch.nn.Dropout()\n",
        "        self.linear_3 = torch.nn.Linear(512, 128)\n",
        "        self.linear_4 = torch.nn.Linear(128, output_dim)\n",
        "        \n",
        "    def forward(self, x):\n",
        "        x = self.linear_1(x)\n",
        "        x = self.dropout_1(x)\n",
        "        x = self.linear_2(x)\n",
        "        x = self.dropout_2(x)\n",
        "        x = self.linear_3(x)\n",
        "        outputs = torch.sigmoid(self.linear_4(x))\n",
        "        return outputs"
      ]
    },
    {
      "cell_type": "code",
      "execution_count": null,
      "metadata": {
        "id": "R1sADN435D3h"
      },
      "outputs": [],
      "source": [
        "epochs = 200_000\n",
        "input_dim = 6 # Two inputs x1 and x2 \n",
        "output_dim = 1 # Two possible outputs\n",
        "learning_rate = 0.001\n",
        "\n",
        "model = LogisticRegression(input_dim,output_dim)"
      ]
    },
    {
      "cell_type": "code",
      "execution_count": null,
      "metadata": {
        "id": "vSPJlTWS5WUh"
      },
      "outputs": [],
      "source": [
        "criterion = torch.nn.BCELoss()\n",
        "\n",
        "optimizer = torch.optim.Adam(model.parameters(), lr=learning_rate)\n",
        "\n",
        "X_train, X_test = torch.Tensor(X_train),torch.Tensor(X_test)\n",
        "y_train, y_test = torch.Tensor(np.array(y_train)),torch.Tensor(np.array(y_test))"
      ]
    },
    {
      "cell_type": "code",
      "execution_count": null,
      "metadata": {
        "colab": {
          "base_uri": "https://localhost:8080/"
        },
        "id": "DPzMtzJd5WvH",
        "outputId": "0e191ba2-6145-481a-821a-9bc0841f92c7"
      },
      "outputs": [
        {
          "output_type": "stream",
          "name": "stderr",
          "text": [
            "Training Epochs:   1%|          | 1003/200000 [01:00<3:28:45, 15.89it/s]"
          ]
        },
        {
          "output_type": "stream",
          "name": "stdout",
          "text": [
            "Iteration: 1000. \n",
            "Test - Loss: 0.5556681752204895. Accuracy: 72.54098360655738\n",
            "Train -  Loss: 0.5430312752723694. Accuracy: 70.68493150684931\n",
            "\n"
          ]
        },
        {
          "output_type": "stream",
          "name": "stderr",
          "text": [
            "Training Epochs:   1%|          | 2003/200000 [02:00<3:20:22, 16.47it/s]"
          ]
        },
        {
          "output_type": "stream",
          "name": "stdout",
          "text": [
            "Iteration: 2000. \n",
            "Test - Loss: 0.5519342422485352. Accuracy: 71.72131147540983\n",
            "Train -  Loss: 0.5475438833236694. Accuracy: 70.54794520547945\n",
            "\n"
          ]
        },
        {
          "output_type": "stream",
          "name": "stderr",
          "text": [
            "Training Epochs:   2%|▏         | 3003/200000 [03:01<3:16:12, 16.73it/s]"
          ]
        },
        {
          "output_type": "stream",
          "name": "stdout",
          "text": [
            "Iteration: 3000. \n",
            "Test - Loss: 0.5546623468399048. Accuracy: 69.26229508196721\n",
            "Train -  Loss: 0.5436171293258667. Accuracy: 70.95890410958904\n",
            "\n"
          ]
        },
        {
          "output_type": "stream",
          "name": "stderr",
          "text": [
            "Training Epochs:   2%|▏         | 4003/200000 [04:03<3:18:35, 16.45it/s]"
          ]
        },
        {
          "output_type": "stream",
          "name": "stdout",
          "text": [
            "Iteration: 4000. \n",
            "Test - Loss: 0.5544583797454834. Accuracy: 70.08196721311475\n",
            "Train -  Loss: 0.5428423285484314. Accuracy: 70.82191780821918\n",
            "\n"
          ]
        },
        {
          "output_type": "stream",
          "name": "stderr",
          "text": [
            "Training Epochs:   3%|▎         | 5003/200000 [05:03<3:22:45, 16.03it/s]"
          ]
        },
        {
          "output_type": "stream",
          "name": "stdout",
          "text": [
            "Iteration: 5000. \n",
            "Test - Loss: 0.559809684753418. Accuracy: 71.31147540983606\n",
            "Train -  Loss: 0.5399229526519775. Accuracy: 70.95890410958904\n",
            "\n"
          ]
        },
        {
          "output_type": "stream",
          "name": "stderr",
          "text": [
            "Training Epochs:   3%|▎         | 6003/200000 [06:04<3:21:34, 16.04it/s]"
          ]
        },
        {
          "output_type": "stream",
          "name": "stdout",
          "text": [
            "Iteration: 6000. \n",
            "Test - Loss: 0.5648998618125916. Accuracy: 69.67213114754098\n",
            "Train -  Loss: 0.549424409866333. Accuracy: 70.54794520547945\n",
            "\n"
          ]
        },
        {
          "output_type": "stream",
          "name": "stderr",
          "text": [
            "Training Epochs:   4%|▎         | 7003/200000 [07:04<3:10:55, 16.85it/s]"
          ]
        },
        {
          "output_type": "stream",
          "name": "stdout",
          "text": [
            "Iteration: 7000. \n",
            "Test - Loss: 0.554309070110321. Accuracy: 70.08196721311475\n",
            "Train -  Loss: 0.5484065413475037. Accuracy: 70.95890410958904\n",
            "\n"
          ]
        },
        {
          "output_type": "stream",
          "name": "stderr",
          "text": [
            "Training Epochs:   4%|▍         | 8003/200000 [08:06<3:29:33, 15.27it/s]"
          ]
        },
        {
          "output_type": "stream",
          "name": "stdout",
          "text": [
            "Iteration: 8000. \n",
            "Test - Loss: 0.5600532293319702. Accuracy: 70.08196721311475\n",
            "Train -  Loss: 0.5404618978500366. Accuracy: 71.0958904109589\n",
            "\n"
          ]
        },
        {
          "output_type": "stream",
          "name": "stderr",
          "text": [
            "Training Epochs:   5%|▍         | 9003/200000 [09:06<3:16:48, 16.17it/s]"
          ]
        },
        {
          "output_type": "stream",
          "name": "stdout",
          "text": [
            "Iteration: 9000. \n",
            "Test - Loss: 0.5593845248222351. Accuracy: 70.49180327868852\n",
            "Train -  Loss: 0.5417978167533875. Accuracy: 70.68493150684931\n",
            "\n"
          ]
        },
        {
          "output_type": "stream",
          "name": "stderr",
          "text": [
            "Training Epochs:   5%|▌         | 10003/200000 [10:06<3:21:12, 15.74it/s]"
          ]
        },
        {
          "output_type": "stream",
          "name": "stdout",
          "text": [
            "Iteration: 10000. \n",
            "Test - Loss: 0.5610198974609375. Accuracy: 70.08196721311475\n",
            "Train -  Loss: 0.5451032519340515. Accuracy: 70.54794520547945\n",
            "\n"
          ]
        },
        {
          "output_type": "stream",
          "name": "stderr",
          "text": [
            "Training Epochs:   6%|▌         | 11003/200000 [11:07<3:18:04, 15.90it/s]"
          ]
        },
        {
          "output_type": "stream",
          "name": "stdout",
          "text": [
            "Iteration: 11000. \n",
            "Test - Loss: 0.5568410158157349. Accuracy: 70.49180327868852\n",
            "Train -  Loss: 0.5420814156532288. Accuracy: 70.13698630136986\n",
            "\n"
          ]
        },
        {
          "output_type": "stream",
          "name": "stderr",
          "text": [
            "Training Epochs:   6%|▌         | 12003/200000 [12:07<3:22:59, 15.44it/s]"
          ]
        },
        {
          "output_type": "stream",
          "name": "stdout",
          "text": [
            "Iteration: 12000. \n",
            "Test - Loss: 0.5590640306472778. Accuracy: 70.49180327868852\n",
            "Train -  Loss: 0.5469179153442383. Accuracy: 69.86301369863014\n",
            "\n"
          ]
        },
        {
          "output_type": "stream",
          "name": "stderr",
          "text": [
            "Training Epochs:   7%|▋         | 13003/200000 [13:11<3:10:47, 16.34it/s]"
          ]
        },
        {
          "output_type": "stream",
          "name": "stdout",
          "text": [
            "Iteration: 13000. \n",
            "Test - Loss: 0.5591588616371155. Accuracy: 70.90163934426229\n",
            "Train -  Loss: 0.544370710849762. Accuracy: 71.0958904109589\n",
            "\n"
          ]
        },
        {
          "output_type": "stream",
          "name": "stderr",
          "text": [
            "Training Epochs:   7%|▋         | 14003/200000 [14:12<3:08:05, 16.48it/s]"
          ]
        },
        {
          "output_type": "stream",
          "name": "stdout",
          "text": [
            "Iteration: 14000. \n",
            "Test - Loss: 0.5608667135238647. Accuracy: 70.49180327868852\n",
            "Train -  Loss: 0.5440962314605713. Accuracy: 70.68493150684931\n",
            "\n"
          ]
        },
        {
          "output_type": "stream",
          "name": "stderr",
          "text": [
            "Training Epochs:   8%|▊         | 15003/200000 [15:13<3:22:09, 15.25it/s]"
          ]
        },
        {
          "output_type": "stream",
          "name": "stdout",
          "text": [
            "Iteration: 15000. \n",
            "Test - Loss: 0.5517747402191162. Accuracy: 70.90163934426229\n",
            "Train -  Loss: 0.5428816080093384. Accuracy: 70.54794520547945\n",
            "\n"
          ]
        },
        {
          "output_type": "stream",
          "name": "stderr",
          "text": [
            "Training Epochs:   8%|▊         | 16003/200000 [16:14<3:01:35, 16.89it/s]"
          ]
        },
        {
          "output_type": "stream",
          "name": "stdout",
          "text": [
            "Iteration: 16000. \n",
            "Test - Loss: 0.5617896914482117. Accuracy: 70.90163934426229\n",
            "Train -  Loss: 0.5433368682861328. Accuracy: 70.95890410958904\n",
            "\n"
          ]
        },
        {
          "output_type": "stream",
          "name": "stderr",
          "text": [
            "Training Epochs:   9%|▊         | 17003/200000 [17:14<2:58:36, 17.08it/s]"
          ]
        },
        {
          "output_type": "stream",
          "name": "stdout",
          "text": [
            "Iteration: 17000. \n",
            "Test - Loss: 0.555509626865387. Accuracy: 71.31147540983606\n",
            "Train -  Loss: 0.5408661365509033. Accuracy: 70.54794520547945\n",
            "\n"
          ]
        },
        {
          "output_type": "stream",
          "name": "stderr",
          "text": [
            "Training Epochs:   9%|▉         | 18003/200000 [18:13<3:02:09, 16.65it/s]"
          ]
        },
        {
          "output_type": "stream",
          "name": "stdout",
          "text": [
            "Iteration: 18000. \n",
            "Test - Loss: 0.5633054375648499. Accuracy: 71.72131147540983\n",
            "Train -  Loss: 0.5414760708808899. Accuracy: 70.0\n",
            "\n"
          ]
        },
        {
          "output_type": "stream",
          "name": "stderr",
          "text": [
            "Training Epochs:  10%|▉         | 19003/200000 [19:12<2:59:56, 16.76it/s]"
          ]
        },
        {
          "output_type": "stream",
          "name": "stdout",
          "text": [
            "Iteration: 19000. \n",
            "Test - Loss: 0.5590527057647705. Accuracy: 70.49180327868852\n",
            "Train -  Loss: 0.5402026772499084. Accuracy: 70.54794520547945\n",
            "\n"
          ]
        },
        {
          "output_type": "stream",
          "name": "stderr",
          "text": [
            "Training Epochs:  10%|█         | 20003/200000 [20:10<2:58:43, 16.79it/s]"
          ]
        },
        {
          "output_type": "stream",
          "name": "stdout",
          "text": [
            "Iteration: 20000. \n",
            "Test - Loss: 0.5596094727516174. Accuracy: 71.72131147540983\n",
            "Train -  Loss: 0.5456255674362183. Accuracy: 70.82191780821918\n",
            "\n"
          ]
        },
        {
          "output_type": "stream",
          "name": "stderr",
          "text": [
            "Training Epochs:  11%|█         | 21003/200000 [21:11<2:56:55, 16.86it/s]"
          ]
        },
        {
          "output_type": "stream",
          "name": "stdout",
          "text": [
            "Iteration: 21000. \n",
            "Test - Loss: 0.5643317699432373. Accuracy: 70.08196721311475\n",
            "Train -  Loss: 0.5420182943344116. Accuracy: 70.41095890410959\n",
            "\n"
          ]
        },
        {
          "output_type": "stream",
          "name": "stderr",
          "text": [
            "Training Epochs:  11%|█         | 22003/200000 [22:10<2:58:40, 16.60it/s]"
          ]
        },
        {
          "output_type": "stream",
          "name": "stdout",
          "text": [
            "Iteration: 22000. \n",
            "Test - Loss: 0.5575498938560486. Accuracy: 71.31147540983606\n",
            "Train -  Loss: 0.5435935258865356. Accuracy: 70.41095890410959\n",
            "\n"
          ]
        },
        {
          "output_type": "stream",
          "name": "stderr",
          "text": [
            "Training Epochs:  12%|█▏        | 23003/200000 [23:08<2:57:49, 16.59it/s]"
          ]
        },
        {
          "output_type": "stream",
          "name": "stdout",
          "text": [
            "Iteration: 23000. \n",
            "Test - Loss: 0.565962016582489. Accuracy: 70.08196721311475\n",
            "Train -  Loss: 0.5365144610404968. Accuracy: 70.13698630136986\n",
            "\n"
          ]
        },
        {
          "output_type": "stream",
          "name": "stderr",
          "text": [
            "Training Epochs:  12%|█▏        | 24003/200000 [24:07<2:59:49, 16.31it/s]"
          ]
        },
        {
          "output_type": "stream",
          "name": "stdout",
          "text": [
            "Iteration: 24000. \n",
            "Test - Loss: 0.5619943141937256. Accuracy: 68.44262295081967\n",
            "Train -  Loss: 0.5430026054382324. Accuracy: 70.54794520547945\n",
            "\n"
          ]
        },
        {
          "output_type": "stream",
          "name": "stderr",
          "text": [
            "Training Epochs:  13%|█▎        | 25003/200000 [25:07<2:56:56, 16.48it/s]"
          ]
        },
        {
          "output_type": "stream",
          "name": "stdout",
          "text": [
            "Iteration: 25000. \n",
            "Test - Loss: 0.5605536699295044. Accuracy: 70.90163934426229\n",
            "Train -  Loss: 0.543967068195343. Accuracy: 70.41095890410959\n",
            "\n"
          ]
        },
        {
          "output_type": "stream",
          "name": "stderr",
          "text": [
            "Training Epochs:  13%|█▎        | 26003/200000 [26:06<2:56:50, 16.40it/s]"
          ]
        },
        {
          "output_type": "stream",
          "name": "stdout",
          "text": [
            "Iteration: 26000. \n",
            "Test - Loss: 0.5627872347831726. Accuracy: 71.31147540983606\n",
            "Train -  Loss: 0.5411005616188049. Accuracy: 71.0958904109589\n",
            "\n"
          ]
        },
        {
          "output_type": "stream",
          "name": "stderr",
          "text": [
            "Training Epochs:  14%|█▎        | 27003/200000 [27:06<2:52:58, 16.67it/s]"
          ]
        },
        {
          "output_type": "stream",
          "name": "stdout",
          "text": [
            "Iteration: 27000. \n",
            "Test - Loss: 0.5580663084983826. Accuracy: 69.26229508196721\n",
            "Train -  Loss: 0.5414788126945496. Accuracy: 71.23287671232876\n",
            "\n"
          ]
        },
        {
          "output_type": "stream",
          "name": "stderr",
          "text": [
            "Training Epochs:  14%|█▍        | 28003/200000 [28:05<2:51:51, 16.68it/s]"
          ]
        },
        {
          "output_type": "stream",
          "name": "stdout",
          "text": [
            "Iteration: 28000. \n",
            "Test - Loss: 0.555404543876648. Accuracy: 72.54098360655738\n",
            "Train -  Loss: 0.5448417663574219. Accuracy: 70.95890410958904\n",
            "\n"
          ]
        },
        {
          "output_type": "stream",
          "name": "stderr",
          "text": [
            "Training Epochs:  15%|█▍        | 29003/200000 [29:06<2:49:49, 16.78it/s]"
          ]
        },
        {
          "output_type": "stream",
          "name": "stdout",
          "text": [
            "Iteration: 29000. \n",
            "Test - Loss: 0.5539155006408691. Accuracy: 70.49180327868852\n",
            "Train -  Loss: 0.5424119830131531. Accuracy: 69.86301369863014\n",
            "\n"
          ]
        },
        {
          "output_type": "stream",
          "name": "stderr",
          "text": [
            "Training Epochs:  15%|█▌        | 30003/200000 [30:06<2:50:06, 16.66it/s]"
          ]
        },
        {
          "output_type": "stream",
          "name": "stdout",
          "text": [
            "Iteration: 30000. \n",
            "Test - Loss: 0.5615509152412415. Accuracy: 70.90163934426229\n",
            "Train -  Loss: 0.5435001850128174. Accuracy: 71.5068493150685\n",
            "\n"
          ]
        },
        {
          "output_type": "stream",
          "name": "stderr",
          "text": [
            "Training Epochs:  16%|█▌        | 31003/200000 [31:06<2:46:14, 16.94it/s]"
          ]
        },
        {
          "output_type": "stream",
          "name": "stdout",
          "text": [
            "Iteration: 31000. \n",
            "Test - Loss: 0.5685575604438782. Accuracy: 70.08196721311475\n",
            "Train -  Loss: 0.5428516864776611. Accuracy: 71.23287671232876\n",
            "\n"
          ]
        },
        {
          "output_type": "stream",
          "name": "stderr",
          "text": [
            "Training Epochs:  16%|█▌        | 32003/200000 [32:05<2:47:12, 16.74it/s]"
          ]
        },
        {
          "output_type": "stream",
          "name": "stdout",
          "text": [
            "Iteration: 32000. \n",
            "Test - Loss: 0.5546691417694092. Accuracy: 70.90163934426229\n",
            "Train -  Loss: 0.5393734574317932. Accuracy: 69.86301369863014\n",
            "\n"
          ]
        },
        {
          "output_type": "stream",
          "name": "stderr",
          "text": [
            "Training Epochs:  17%|█▋        | 33003/200000 [33:04<2:44:49, 16.89it/s]"
          ]
        },
        {
          "output_type": "stream",
          "name": "stdout",
          "text": [
            "Iteration: 33000. \n",
            "Test - Loss: 0.5552595853805542. Accuracy: 70.90163934426229\n",
            "Train -  Loss: 0.5444947481155396. Accuracy: 70.0\n",
            "\n"
          ]
        },
        {
          "output_type": "stream",
          "name": "stderr",
          "text": [
            "Training Epochs:  17%|█▋        | 34003/200000 [34:05<2:46:05, 16.66it/s]"
          ]
        },
        {
          "output_type": "stream",
          "name": "stdout",
          "text": [
            "Iteration: 34000. \n",
            "Test - Loss: 0.5579695701599121. Accuracy: 69.67213114754098\n",
            "Train -  Loss: 0.5425015687942505. Accuracy: 70.13698630136986\n",
            "\n"
          ]
        },
        {
          "output_type": "stream",
          "name": "stderr",
          "text": [
            "Training Epochs:  18%|█▊        | 35003/200000 [35:04<2:43:34, 16.81it/s]"
          ]
        },
        {
          "output_type": "stream",
          "name": "stdout",
          "text": [
            "Iteration: 35000. \n",
            "Test - Loss: 0.5671499371528625. Accuracy: 69.67213114754098\n",
            "Train -  Loss: 0.5442682504653931. Accuracy: 70.41095890410959\n",
            "\n"
          ]
        },
        {
          "output_type": "stream",
          "name": "stderr",
          "text": [
            "Training Epochs:  18%|█▊        | 36003/200000 [36:02<2:41:59, 16.87it/s]"
          ]
        },
        {
          "output_type": "stream",
          "name": "stdout",
          "text": [
            "Iteration: 36000. \n",
            "Test - Loss: 0.5568550825119019. Accuracy: 71.72131147540983\n",
            "Train -  Loss: 0.5471176505088806. Accuracy: 70.0\n",
            "\n"
          ]
        },
        {
          "output_type": "stream",
          "name": "stderr",
          "text": [
            "Training Epochs:  19%|█▊        | 37003/200000 [37:01<2:41:04, 16.87it/s]"
          ]
        },
        {
          "output_type": "stream",
          "name": "stdout",
          "text": [
            "Iteration: 37000. \n",
            "Test - Loss: 0.5605366230010986. Accuracy: 69.26229508196721\n",
            "Train -  Loss: 0.5418673753738403. Accuracy: 70.95890410958904\n",
            "\n"
          ]
        },
        {
          "output_type": "stream",
          "name": "stderr",
          "text": [
            "Training Epochs:  19%|█▉        | 38003/200000 [38:03<2:44:51, 16.38it/s]"
          ]
        },
        {
          "output_type": "stream",
          "name": "stdout",
          "text": [
            "Iteration: 38000. \n",
            "Test - Loss: 0.5649511814117432. Accuracy: 71.31147540983606\n",
            "Train -  Loss: 0.5425198078155518. Accuracy: 71.23287671232876\n",
            "\n"
          ]
        },
        {
          "output_type": "stream",
          "name": "stderr",
          "text": [
            "Training Epochs:  20%|█▉        | 39003/200000 [39:03<2:41:54, 16.57it/s]"
          ]
        },
        {
          "output_type": "stream",
          "name": "stdout",
          "text": [
            "Iteration: 39000. \n",
            "Test - Loss: 0.568970263004303. Accuracy: 70.08196721311475\n",
            "Train -  Loss: 0.5380236506462097. Accuracy: 70.95890410958904\n",
            "\n"
          ]
        },
        {
          "output_type": "stream",
          "name": "stderr",
          "text": [
            "Training Epochs:  20%|██        | 40003/200000 [40:02<2:40:21, 16.63it/s]"
          ]
        },
        {
          "output_type": "stream",
          "name": "stdout",
          "text": [
            "Iteration: 40000. \n",
            "Test - Loss: 0.5640141367912292. Accuracy: 72.1311475409836\n",
            "Train -  Loss: 0.5425410270690918. Accuracy: 71.5068493150685\n",
            "\n"
          ]
        },
        {
          "output_type": "stream",
          "name": "stderr",
          "text": [
            "Training Epochs:  21%|██        | 41003/200000 [41:01<2:38:24, 16.73it/s]"
          ]
        },
        {
          "output_type": "stream",
          "name": "stdout",
          "text": [
            "Iteration: 41000. \n",
            "Test - Loss: 0.5557035803794861. Accuracy: 69.67213114754098\n",
            "Train -  Loss: 0.5412107706069946. Accuracy: 70.95890410958904\n",
            "\n"
          ]
        },
        {
          "output_type": "stream",
          "name": "stderr",
          "text": [
            "Training Epochs:  21%|██        | 42003/200000 [42:03<2:57:21, 14.85it/s]"
          ]
        },
        {
          "output_type": "stream",
          "name": "stdout",
          "text": [
            "Iteration: 42000. \n",
            "Test - Loss: 0.5529246926307678. Accuracy: 71.31147540983606\n",
            "Train -  Loss: 0.5419154763221741. Accuracy: 71.23287671232876\n",
            "\n"
          ]
        },
        {
          "output_type": "stream",
          "name": "stderr",
          "text": [
            "Training Epochs:  22%|██▏       | 43003/200000 [43:02<2:34:52, 16.90it/s]"
          ]
        },
        {
          "output_type": "stream",
          "name": "stdout",
          "text": [
            "Iteration: 43000. \n",
            "Test - Loss: 0.5563285946846008. Accuracy: 69.67213114754098\n",
            "Train -  Loss: 0.5450567603111267. Accuracy: 70.95890410958904\n",
            "\n"
          ]
        },
        {
          "output_type": "stream",
          "name": "stderr",
          "text": [
            "Training Epochs:  22%|██▏       | 44003/200000 [44:01<2:34:02, 16.88it/s]"
          ]
        },
        {
          "output_type": "stream",
          "name": "stdout",
          "text": [
            "Iteration: 44000. \n",
            "Test - Loss: 0.5559638142585754. Accuracy: 72.54098360655738\n",
            "Train -  Loss: 0.5462315678596497. Accuracy: 70.41095890410959\n",
            "\n"
          ]
        },
        {
          "output_type": "stream",
          "name": "stderr",
          "text": [
            "Training Epochs:  23%|██▎       | 45003/200000 [45:00<2:34:47, 16.69it/s]"
          ]
        },
        {
          "output_type": "stream",
          "name": "stdout",
          "text": [
            "Iteration: 45000. \n",
            "Test - Loss: 0.5523703098297119. Accuracy: 70.90163934426229\n",
            "Train -  Loss: 0.5436801314353943. Accuracy: 71.23287671232876\n",
            "\n"
          ]
        },
        {
          "output_type": "stream",
          "name": "stderr",
          "text": [
            "Training Epochs:  23%|██▎       | 46003/200000 [45:59<2:37:35, 16.29it/s]"
          ]
        },
        {
          "output_type": "stream",
          "name": "stdout",
          "text": [
            "Iteration: 46000. \n",
            "Test - Loss: 0.5557665228843689. Accuracy: 71.31147540983606\n",
            "Train -  Loss: 0.5415050983428955. Accuracy: 70.82191780821918\n",
            "\n"
          ]
        },
        {
          "output_type": "stream",
          "name": "stderr",
          "text": [
            "Training Epochs:  24%|██▎       | 47003/200000 [47:01<2:33:25, 16.62it/s]"
          ]
        },
        {
          "output_type": "stream",
          "name": "stdout",
          "text": [
            "Iteration: 47000. \n",
            "Test - Loss: 0.5611022710800171. Accuracy: 70.49180327868852\n",
            "Train -  Loss: 0.5438166260719299. Accuracy: 70.95890410958904\n",
            "\n"
          ]
        },
        {
          "output_type": "stream",
          "name": "stderr",
          "text": [
            "Training Epochs:  24%|██▍       | 48003/200000 [48:00<2:32:29, 16.61it/s]"
          ]
        },
        {
          "output_type": "stream",
          "name": "stdout",
          "text": [
            "Iteration: 48000. \n",
            "Test - Loss: 0.5680569410324097. Accuracy: 69.26229508196721\n",
            "Train -  Loss: 0.5519099235534668. Accuracy: 70.68493150684931\n",
            "\n"
          ]
        },
        {
          "output_type": "stream",
          "name": "stderr",
          "text": [
            "Training Epochs:  25%|██▍       | 49003/200000 [49:00<2:29:17, 16.86it/s]"
          ]
        },
        {
          "output_type": "stream",
          "name": "stdout",
          "text": [
            "Iteration: 49000. \n",
            "Test - Loss: 0.5650885105133057. Accuracy: 70.90163934426229\n",
            "Train -  Loss: 0.5396415591239929. Accuracy: 70.82191780821918\n",
            "\n"
          ]
        },
        {
          "output_type": "stream",
          "name": "stderr",
          "text": [
            "Training Epochs:  25%|██▌       | 50003/200000 [49:59<2:30:02, 16.66it/s]"
          ]
        },
        {
          "output_type": "stream",
          "name": "stdout",
          "text": [
            "Iteration: 50000. \n",
            "Test - Loss: 0.5632535815238953. Accuracy: 69.26229508196721\n",
            "Train -  Loss: 0.5449962615966797. Accuracy: 70.68493150684931\n",
            "\n"
          ]
        },
        {
          "output_type": "stream",
          "name": "stderr",
          "text": [
            "Training Epochs:  26%|██▌       | 51003/200000 [51:00<2:26:18, 16.97it/s]"
          ]
        },
        {
          "output_type": "stream",
          "name": "stdout",
          "text": [
            "Iteration: 51000. \n",
            "Test - Loss: 0.557287871837616. Accuracy: 70.90163934426229\n",
            "Train -  Loss: 0.5439252257347107. Accuracy: 70.82191780821918\n",
            "\n"
          ]
        },
        {
          "output_type": "stream",
          "name": "stderr",
          "text": [
            "Training Epochs:  26%|██▌       | 52003/200000 [51:59<2:26:35, 16.83it/s]"
          ]
        },
        {
          "output_type": "stream",
          "name": "stdout",
          "text": [
            "Iteration: 52000. \n",
            "Test - Loss: 0.5552079081535339. Accuracy: 71.72131147540983\n",
            "Train -  Loss: 0.541994035243988. Accuracy: 70.68493150684931\n",
            "\n"
          ]
        },
        {
          "output_type": "stream",
          "name": "stderr",
          "text": [
            "Training Epochs:  27%|██▋       | 53003/200000 [52:58<2:25:21, 16.86it/s]"
          ]
        },
        {
          "output_type": "stream",
          "name": "stdout",
          "text": [
            "Iteration: 53000. \n",
            "Test - Loss: 0.5587051510810852. Accuracy: 69.67213114754098\n",
            "Train -  Loss: 0.5389115214347839. Accuracy: 70.68493150684931\n",
            "\n"
          ]
        },
        {
          "output_type": "stream",
          "name": "stderr",
          "text": [
            "Training Epochs:  27%|██▋       | 54003/200000 [53:58<2:27:53, 16.45it/s]"
          ]
        },
        {
          "output_type": "stream",
          "name": "stdout",
          "text": [
            "Iteration: 54000. \n",
            "Test - Loss: 0.5534317493438721. Accuracy: 70.90163934426229\n",
            "Train -  Loss: 0.539239227771759. Accuracy: 71.5068493150685\n",
            "\n"
          ]
        },
        {
          "output_type": "stream",
          "name": "stderr",
          "text": [
            "Training Epochs:  28%|██▊       | 55003/200000 [54:59<2:27:30, 16.38it/s]"
          ]
        },
        {
          "output_type": "stream",
          "name": "stdout",
          "text": [
            "Iteration: 55000. \n",
            "Test - Loss: 0.5661460161209106. Accuracy: 71.31147540983606\n",
            "Train -  Loss: 0.5435011386871338. Accuracy: 69.86301369863014\n",
            "\n"
          ]
        },
        {
          "output_type": "stream",
          "name": "stderr",
          "text": [
            "Training Epochs:  28%|██▊       | 56003/200000 [55:58<2:22:55, 16.79it/s]"
          ]
        },
        {
          "output_type": "stream",
          "name": "stdout",
          "text": [
            "Iteration: 56000. \n",
            "Test - Loss: 0.5598992705345154. Accuracy: 69.67213114754098\n",
            "Train -  Loss: 0.5441973805427551. Accuracy: 70.82191780821918\n",
            "\n"
          ]
        },
        {
          "output_type": "stream",
          "name": "stderr",
          "text": [
            "Training Epochs:  29%|██▊       | 57003/200000 [56:57<2:23:44, 16.58it/s]"
          ]
        },
        {
          "output_type": "stream",
          "name": "stdout",
          "text": [
            "Iteration: 57000. \n",
            "Test - Loss: 0.5562878847122192. Accuracy: 70.08196721311475\n",
            "Train -  Loss: 0.5474697351455688. Accuracy: 71.0958904109589\n",
            "\n"
          ]
        },
        {
          "output_type": "stream",
          "name": "stderr",
          "text": [
            "Training Epochs:  29%|██▉       | 58003/200000 [57:57<2:24:09, 16.42it/s]"
          ]
        },
        {
          "output_type": "stream",
          "name": "stdout",
          "text": [
            "Iteration: 58000. \n",
            "Test - Loss: 0.556269645690918. Accuracy: 70.08196721311475\n",
            "Train -  Loss: 0.5459270477294922. Accuracy: 70.68493150684931\n",
            "\n"
          ]
        },
        {
          "output_type": "stream",
          "name": "stderr",
          "text": [
            "Training Epochs:  30%|██▉       | 59003/200000 [58:57<2:20:34, 16.72it/s]"
          ]
        },
        {
          "output_type": "stream",
          "name": "stdout",
          "text": [
            "Iteration: 59000. \n",
            "Test - Loss: 0.5572113394737244. Accuracy: 72.54098360655738\n",
            "Train -  Loss: 0.5430049300193787. Accuracy: 70.27397260273973\n",
            "\n"
          ]
        },
        {
          "output_type": "stream",
          "name": "stderr",
          "text": [
            "Training Epochs:  30%|███       | 60003/200000 [59:57<2:19:27, 16.73it/s]"
          ]
        },
        {
          "output_type": "stream",
          "name": "stdout",
          "text": [
            "Iteration: 60000. \n",
            "Test - Loss: 0.5556812882423401. Accuracy: 71.31147540983606\n",
            "Train -  Loss: 0.5420246124267578. Accuracy: 70.95890410958904\n",
            "\n"
          ]
        },
        {
          "output_type": "stream",
          "name": "stderr",
          "text": [
            "Training Epochs:  31%|███       | 61003/200000 [1:00:56<2:19:35, 16.60it/s]"
          ]
        },
        {
          "output_type": "stream",
          "name": "stdout",
          "text": [
            "Iteration: 61000. \n",
            "Test - Loss: 0.5631615519523621. Accuracy: 69.67213114754098\n",
            "Train -  Loss: 0.5445349216461182. Accuracy: 71.0958904109589\n",
            "\n"
          ]
        },
        {
          "output_type": "stream",
          "name": "stderr",
          "text": [
            "Training Epochs:  31%|███       | 62003/200000 [1:01:55<2:19:10, 16.53it/s]"
          ]
        },
        {
          "output_type": "stream",
          "name": "stdout",
          "text": [
            "Iteration: 62000. \n",
            "Test - Loss: 0.5505159497261047. Accuracy: 71.72131147540983\n",
            "Train -  Loss: 0.5423445701599121. Accuracy: 70.41095890410959\n",
            "\n"
          ]
        },
        {
          "output_type": "stream",
          "name": "stderr",
          "text": [
            "Training Epochs:  32%|███▏      | 63003/200000 [1:02:54<2:16:40, 16.71it/s]"
          ]
        },
        {
          "output_type": "stream",
          "name": "stdout",
          "text": [
            "Iteration: 63000. \n",
            "Test - Loss: 0.5648698806762695. Accuracy: 69.26229508196721\n",
            "Train -  Loss: 0.54289710521698. Accuracy: 70.95890410958904\n",
            "\n"
          ]
        },
        {
          "output_type": "stream",
          "name": "stderr",
          "text": [
            "Training Epochs:  32%|███▏      | 64003/200000 [1:03:55<2:14:43, 16.82it/s]"
          ]
        },
        {
          "output_type": "stream",
          "name": "stdout",
          "text": [
            "Iteration: 64000. \n",
            "Test - Loss: 0.555734395980835. Accuracy: 71.72131147540983\n",
            "Train -  Loss: 0.5427768230438232. Accuracy: 70.95890410958904\n",
            "\n"
          ]
        },
        {
          "output_type": "stream",
          "name": "stderr",
          "text": [
            "Training Epochs:  33%|███▎      | 65003/200000 [1:04:54<2:16:34, 16.47it/s]"
          ]
        },
        {
          "output_type": "stream",
          "name": "stdout",
          "text": [
            "Iteration: 65000. \n",
            "Test - Loss: 0.5560396909713745. Accuracy: 71.72131147540983\n",
            "Train -  Loss: 0.5396425724029541. Accuracy: 70.13698630136986\n",
            "\n"
          ]
        },
        {
          "output_type": "stream",
          "name": "stderr",
          "text": [
            "Training Epochs:  33%|███▎      | 66003/200000 [1:05:53<2:13:14, 16.76it/s]"
          ]
        },
        {
          "output_type": "stream",
          "name": "stdout",
          "text": [
            "Iteration: 66000. \n",
            "Test - Loss: 0.558601975440979. Accuracy: 71.31147540983606\n",
            "Train -  Loss: 0.5442206263542175. Accuracy: 70.54794520547945\n",
            "\n"
          ]
        },
        {
          "output_type": "stream",
          "name": "stderr",
          "text": [
            "Training Epochs:  34%|███▎      | 67003/200000 [1:06:53<2:12:26, 16.74it/s]"
          ]
        },
        {
          "output_type": "stream",
          "name": "stdout",
          "text": [
            "Iteration: 67000. \n",
            "Test - Loss: 0.5527531504631042. Accuracy: 71.72131147540983\n",
            "Train -  Loss: 0.5418574810028076. Accuracy: 69.86301369863014\n",
            "\n"
          ]
        },
        {
          "output_type": "stream",
          "name": "stderr",
          "text": [
            "Training Epochs:  34%|███▍      | 68003/200000 [1:07:54<2:15:35, 16.23it/s]"
          ]
        },
        {
          "output_type": "stream",
          "name": "stdout",
          "text": [
            "Iteration: 68000. \n",
            "Test - Loss: 0.5478144884109497. Accuracy: 70.08196721311475\n",
            "Train -  Loss: 0.543113112449646. Accuracy: 70.68493150684931\n",
            "\n"
          ]
        },
        {
          "output_type": "stream",
          "name": "stderr",
          "text": [
            "Training Epochs:  35%|███▍      | 69003/200000 [1:08:53<2:14:20, 16.25it/s]"
          ]
        },
        {
          "output_type": "stream",
          "name": "stdout",
          "text": [
            "Iteration: 69000. \n",
            "Test - Loss: 0.5605006217956543. Accuracy: 70.49180327868852\n",
            "Train -  Loss: 0.5362645387649536. Accuracy: 70.41095890410959\n",
            "\n"
          ]
        },
        {
          "output_type": "stream",
          "name": "stderr",
          "text": [
            "Training Epochs:  35%|███▌      | 70003/200000 [1:09:53<2:09:52, 16.68it/s]"
          ]
        },
        {
          "output_type": "stream",
          "name": "stdout",
          "text": [
            "Iteration: 70000. \n",
            "Test - Loss: 0.5629257559776306. Accuracy: 69.67213114754098\n",
            "Train -  Loss: 0.5407963395118713. Accuracy: 70.95890410958904\n",
            "\n"
          ]
        },
        {
          "output_type": "stream",
          "name": "stderr",
          "text": [
            "Training Epochs:  36%|███▌      | 71003/200000 [1:10:53<2:10:14, 16.51it/s]"
          ]
        },
        {
          "output_type": "stream",
          "name": "stdout",
          "text": [
            "Iteration: 71000. \n",
            "Test - Loss: 0.5575605630874634. Accuracy: 72.1311475409836\n",
            "Train -  Loss: 0.5472256541252136. Accuracy: 71.23287671232876\n",
            "\n"
          ]
        },
        {
          "output_type": "stream",
          "name": "stderr",
          "text": [
            "Training Epochs:  36%|███▌      | 72003/200000 [1:11:53<2:10:36, 16.33it/s]"
          ]
        },
        {
          "output_type": "stream",
          "name": "stdout",
          "text": [
            "Iteration: 72000. \n",
            "Test - Loss: 0.5649054050445557. Accuracy: 71.31147540983606\n",
            "Train -  Loss: 0.5400657653808594. Accuracy: 70.95890410958904\n",
            "\n"
          ]
        },
        {
          "output_type": "stream",
          "name": "stderr",
          "text": [
            "Training Epochs:  37%|███▋      | 73003/200000 [1:12:54<2:09:48, 16.31it/s]"
          ]
        },
        {
          "output_type": "stream",
          "name": "stdout",
          "text": [
            "Iteration: 73000. \n",
            "Test - Loss: 0.553970456123352. Accuracy: 70.90163934426229\n",
            "Train -  Loss: 0.5419908761978149. Accuracy: 71.0958904109589\n",
            "\n"
          ]
        },
        {
          "output_type": "stream",
          "name": "stderr",
          "text": [
            "Training Epochs:  37%|███▋      | 74003/200000 [1:13:53<2:06:41, 16.58it/s]"
          ]
        },
        {
          "output_type": "stream",
          "name": "stdout",
          "text": [
            "Iteration: 74000. \n",
            "Test - Loss: 0.5545458793640137. Accuracy: 70.90163934426229\n",
            "Train -  Loss: 0.5399803519248962. Accuracy: 70.95890410958904\n",
            "\n"
          ]
        },
        {
          "output_type": "stream",
          "name": "stderr",
          "text": [
            "Training Epochs:  38%|███▊      | 75003/200000 [1:14:53<2:04:19, 16.76it/s]"
          ]
        },
        {
          "output_type": "stream",
          "name": "stdout",
          "text": [
            "Iteration: 75000. \n",
            "Test - Loss: 0.553276777267456. Accuracy: 71.31147540983606\n",
            "Train -  Loss: 0.5413805246353149. Accuracy: 70.95890410958904\n",
            "\n"
          ]
        },
        {
          "output_type": "stream",
          "name": "stderr",
          "text": [
            "Training Epochs:  38%|███▊      | 76003/200000 [1:15:52<2:05:14, 16.50it/s]"
          ]
        },
        {
          "output_type": "stream",
          "name": "stdout",
          "text": [
            "Iteration: 76000. \n",
            "Test - Loss: 0.5641503930091858. Accuracy: 69.67213114754098\n",
            "Train -  Loss: 0.5410191416740417. Accuracy: 70.82191780821918\n",
            "\n"
          ]
        },
        {
          "output_type": "stream",
          "name": "stderr",
          "text": [
            "Training Epochs:  39%|███▊      | 77003/200000 [1:16:53<2:03:54, 16.54it/s]"
          ]
        },
        {
          "output_type": "stream",
          "name": "stdout",
          "text": [
            "Iteration: 77000. \n",
            "Test - Loss: 0.5576732158660889. Accuracy: 71.31147540983606\n",
            "Train -  Loss: 0.5455157160758972. Accuracy: 71.36986301369863\n",
            "\n"
          ]
        },
        {
          "output_type": "stream",
          "name": "stderr",
          "text": [
            "Training Epochs:  39%|███▉      | 78003/200000 [1:17:53<2:01:48, 16.69it/s]"
          ]
        },
        {
          "output_type": "stream",
          "name": "stdout",
          "text": [
            "Iteration: 78000. \n",
            "Test - Loss: 0.5509814620018005. Accuracy: 70.49180327868852\n",
            "Train -  Loss: 0.5457566976547241. Accuracy: 70.27397260273973\n",
            "\n"
          ]
        },
        {
          "output_type": "stream",
          "name": "stderr",
          "text": [
            "Training Epochs:  40%|███▉      | 79003/200000 [1:18:52<1:59:43, 16.84it/s]"
          ]
        },
        {
          "output_type": "stream",
          "name": "stdout",
          "text": [
            "Iteration: 79000. \n",
            "Test - Loss: 0.5577536225318909. Accuracy: 71.72131147540983\n",
            "Train -  Loss: 0.5495674014091492. Accuracy: 70.54794520547945\n",
            "\n"
          ]
        },
        {
          "output_type": "stream",
          "name": "stderr",
          "text": [
            "Training Epochs:  40%|████      | 80003/200000 [1:19:51<1:58:45, 16.84it/s]"
          ]
        },
        {
          "output_type": "stream",
          "name": "stdout",
          "text": [
            "Iteration: 80000. \n",
            "Test - Loss: 0.5630026459693909. Accuracy: 70.90163934426229\n",
            "Train -  Loss: 0.5406433343887329. Accuracy: 71.0958904109589\n",
            "\n"
          ]
        },
        {
          "output_type": "stream",
          "name": "stderr",
          "text": [
            "Training Epochs:  41%|████      | 81001/200000 [1:20:52<3:04:38, 10.74it/s]"
          ]
        },
        {
          "output_type": "stream",
          "name": "stdout",
          "text": [
            "Iteration: 81000. \n",
            "Test - Loss: 0.5609427094459534. Accuracy: 69.67213114754098\n",
            "Train -  Loss: 0.5398144721984863. Accuracy: 70.0\n",
            "\n"
          ]
        },
        {
          "output_type": "stream",
          "name": "stderr",
          "text": [
            "Training Epochs:  41%|████      | 82003/200000 [1:21:53<2:01:45, 16.15it/s]"
          ]
        },
        {
          "output_type": "stream",
          "name": "stdout",
          "text": [
            "Iteration: 82000. \n",
            "Test - Loss: 0.5612388849258423. Accuracy: 70.08196721311475\n",
            "Train -  Loss: 0.5457443594932556. Accuracy: 70.82191780821918\n",
            "\n"
          ]
        },
        {
          "output_type": "stream",
          "name": "stderr",
          "text": [
            "Training Epochs:  42%|████▏     | 83003/200000 [1:22:52<1:59:24, 16.33it/s]"
          ]
        },
        {
          "output_type": "stream",
          "name": "stdout",
          "text": [
            "Iteration: 83000. \n",
            "Test - Loss: 0.5620923042297363. Accuracy: 70.49180327868852\n",
            "Train -  Loss: 0.5427718758583069. Accuracy: 70.95890410958904\n",
            "\n"
          ]
        },
        {
          "output_type": "stream",
          "name": "stderr",
          "text": [
            "Training Epochs:  42%|████▏     | 84003/200000 [1:23:52<1:55:37, 16.72it/s]"
          ]
        },
        {
          "output_type": "stream",
          "name": "stdout",
          "text": [
            "Iteration: 84000. \n",
            "Test - Loss: 0.5564302206039429. Accuracy: 72.54098360655738\n",
            "Train -  Loss: 0.5424907803535461. Accuracy: 70.54794520547945\n",
            "\n"
          ]
        },
        {
          "output_type": "stream",
          "name": "stderr",
          "text": [
            "Training Epochs:  43%|████▎     | 85003/200000 [1:24:53<1:52:58, 16.97it/s]"
          ]
        },
        {
          "output_type": "stream",
          "name": "stdout",
          "text": [
            "Iteration: 85000. \n",
            "Test - Loss: 0.5667877793312073. Accuracy: 70.49180327868852\n",
            "Train -  Loss: 0.5433123111724854. Accuracy: 71.5068493150685\n",
            "\n"
          ]
        },
        {
          "output_type": "stream",
          "name": "stderr",
          "text": [
            "Training Epochs:  43%|████▎     | 86003/200000 [1:25:53<1:54:33, 16.59it/s]"
          ]
        },
        {
          "output_type": "stream",
          "name": "stdout",
          "text": [
            "Iteration: 86000. \n",
            "Test - Loss: 0.5642368793487549. Accuracy: 70.49180327868852\n",
            "Train -  Loss: 0.5417627692222595. Accuracy: 70.95890410958904\n",
            "\n"
          ]
        },
        {
          "output_type": "stream",
          "name": "stderr",
          "text": [
            "Training Epochs:  44%|████▎     | 87003/200000 [1:26:52<1:54:53, 16.39it/s]"
          ]
        },
        {
          "output_type": "stream",
          "name": "stdout",
          "text": [
            "Iteration: 87000. \n",
            "Test - Loss: 0.564561665058136. Accuracy: 71.72131147540983\n",
            "Train -  Loss: 0.5436062812805176. Accuracy: 70.41095890410959\n",
            "\n"
          ]
        },
        {
          "output_type": "stream",
          "name": "stderr",
          "text": [
            "Training Epochs:  44%|████▍     | 88003/200000 [1:27:51<1:51:58, 16.67it/s]"
          ]
        },
        {
          "output_type": "stream",
          "name": "stdout",
          "text": [
            "Iteration: 88000. \n",
            "Test - Loss: 0.5547086596488953. Accuracy: 70.90163934426229\n",
            "Train -  Loss: 0.5445918440818787. Accuracy: 70.82191780821918\n",
            "\n"
          ]
        },
        {
          "output_type": "stream",
          "name": "stderr",
          "text": [
            "Training Epochs:  45%|████▍     | 89003/200000 [1:28:50<1:54:02, 16.22it/s]"
          ]
        },
        {
          "output_type": "stream",
          "name": "stdout",
          "text": [
            "Iteration: 89000. \n",
            "Test - Loss: 0.5579132437705994. Accuracy: 69.67213114754098\n",
            "Train -  Loss: 0.5421085953712463. Accuracy: 70.0\n",
            "\n"
          ]
        },
        {
          "output_type": "stream",
          "name": "stderr",
          "text": [
            "Training Epochs:  45%|████▌     | 90003/200000 [1:29:52<1:49:37, 16.72it/s]"
          ]
        },
        {
          "output_type": "stream",
          "name": "stdout",
          "text": [
            "Iteration: 90000. \n",
            "Test - Loss: 0.5543894171714783. Accuracy: 70.90163934426229\n",
            "Train -  Loss: 0.540022075176239. Accuracy: 71.64383561643835\n",
            "\n"
          ]
        },
        {
          "output_type": "stream",
          "name": "stderr",
          "text": [
            "Training Epochs:  46%|████▌     | 91003/200000 [1:30:52<1:53:53, 15.95it/s]"
          ]
        },
        {
          "output_type": "stream",
          "name": "stdout",
          "text": [
            "Iteration: 91000. \n",
            "Test - Loss: 0.5578058362007141. Accuracy: 71.31147540983606\n",
            "Train -  Loss: 0.5468778610229492. Accuracy: 70.95890410958904\n",
            "\n"
          ]
        },
        {
          "output_type": "stream",
          "name": "stderr",
          "text": [
            "Training Epochs:  46%|████▌     | 92003/200000 [1:31:52<1:50:28, 16.29it/s]"
          ]
        },
        {
          "output_type": "stream",
          "name": "stdout",
          "text": [
            "Iteration: 92000. \n",
            "Test - Loss: 0.5539074540138245. Accuracy: 69.67213114754098\n",
            "Train -  Loss: 0.5449440479278564. Accuracy: 70.41095890410959\n",
            "\n"
          ]
        },
        {
          "output_type": "stream",
          "name": "stderr",
          "text": [
            "Training Epochs:  47%|████▋     | 93003/200000 [1:32:51<1:47:58, 16.52it/s]"
          ]
        },
        {
          "output_type": "stream",
          "name": "stdout",
          "text": [
            "Iteration: 93000. \n",
            "Test - Loss: 0.5678829550743103. Accuracy: 70.49180327868852\n",
            "Train -  Loss: 0.545051097869873. Accuracy: 71.23287671232876\n",
            "\n"
          ]
        },
        {
          "output_type": "stream",
          "name": "stderr",
          "text": [
            "Training Epochs:  47%|████▋     | 94003/200000 [1:33:52<1:48:40, 16.26it/s]"
          ]
        },
        {
          "output_type": "stream",
          "name": "stdout",
          "text": [
            "Iteration: 94000. \n",
            "Test - Loss: 0.5635597109794617. Accuracy: 71.31147540983606\n",
            "Train -  Loss: 0.5401877760887146. Accuracy: 71.0958904109589\n",
            "\n"
          ]
        },
        {
          "output_type": "stream",
          "name": "stderr",
          "text": [
            "Training Epochs:  48%|████▊     | 95003/200000 [1:34:53<1:47:54, 16.22it/s]"
          ]
        },
        {
          "output_type": "stream",
          "name": "stdout",
          "text": [
            "Iteration: 95000. \n",
            "Test - Loss: 0.5586420297622681. Accuracy: 69.26229508196721\n",
            "Train -  Loss: 0.548114001750946. Accuracy: 71.64383561643835\n",
            "\n"
          ]
        },
        {
          "output_type": "stream",
          "name": "stderr",
          "text": [
            "Training Epochs:  48%|████▊     | 96003/200000 [1:35:53<1:45:11, 16.48it/s]"
          ]
        },
        {
          "output_type": "stream",
          "name": "stdout",
          "text": [
            "Iteration: 96000. \n",
            "Test - Loss: 0.5556516647338867. Accuracy: 70.08196721311475\n",
            "Train -  Loss: 0.5438329577445984. Accuracy: 70.54794520547945\n",
            "\n"
          ]
        },
        {
          "output_type": "stream",
          "name": "stderr",
          "text": [
            "Training Epochs:  49%|████▊     | 97003/200000 [1:36:53<1:43:20, 16.61it/s]"
          ]
        },
        {
          "output_type": "stream",
          "name": "stdout",
          "text": [
            "Iteration: 97000. \n",
            "Test - Loss: 0.555496335029602. Accuracy: 68.44262295081967\n",
            "Train -  Loss: 0.5439215898513794. Accuracy: 71.0958904109589\n",
            "\n"
          ]
        },
        {
          "output_type": "stream",
          "name": "stderr",
          "text": [
            "Training Epochs:  49%|████▉     | 98003/200000 [1:37:54<1:44:08, 16.32it/s]"
          ]
        },
        {
          "output_type": "stream",
          "name": "stdout",
          "text": [
            "Iteration: 98000. \n",
            "Test - Loss: 0.5623735189437866. Accuracy: 70.90163934426229\n",
            "Train -  Loss: 0.5473174452781677. Accuracy: 70.27397260273973\n",
            "\n"
          ]
        },
        {
          "output_type": "stream",
          "name": "stderr",
          "text": [
            "Training Epochs:  50%|████▉     | 99003/200000 [1:38:55<1:40:29, 16.75it/s]"
          ]
        },
        {
          "output_type": "stream",
          "name": "stdout",
          "text": [
            "Iteration: 99000. \n",
            "Test - Loss: 0.5648000240325928. Accuracy: 69.26229508196721\n",
            "Train -  Loss: 0.5412573218345642. Accuracy: 70.68493150684931\n",
            "\n"
          ]
        },
        {
          "output_type": "stream",
          "name": "stderr",
          "text": [
            "Training Epochs:  50%|█████     | 100003/200000 [1:39:54<1:39:17, 16.79it/s]"
          ]
        },
        {
          "output_type": "stream",
          "name": "stdout",
          "text": [
            "Iteration: 100000. \n",
            "Test - Loss: 0.5584967136383057. Accuracy: 70.90163934426229\n",
            "Train -  Loss: 0.5439295172691345. Accuracy: 70.82191780821918\n",
            "\n"
          ]
        },
        {
          "output_type": "stream",
          "name": "stderr",
          "text": [
            "Training Epochs:  51%|█████     | 101003/200000 [1:40:54<1:41:00, 16.33it/s]"
          ]
        },
        {
          "output_type": "stream",
          "name": "stdout",
          "text": [
            "Iteration: 101000. \n",
            "Test - Loss: 0.5605366230010986. Accuracy: 70.49180327868852\n",
            "Train -  Loss: 0.5440130233764648. Accuracy: 70.82191780821918\n",
            "\n"
          ]
        },
        {
          "output_type": "stream",
          "name": "stderr",
          "text": [
            "Training Epochs:  51%|█████     | 102003/200000 [1:41:53<1:39:07, 16.48it/s]"
          ]
        },
        {
          "output_type": "stream",
          "name": "stdout",
          "text": [
            "Iteration: 102000. \n",
            "Test - Loss: 0.5572506189346313. Accuracy: 72.54098360655738\n",
            "Train -  Loss: 0.5438001751899719. Accuracy: 70.82191780821918\n",
            "\n"
          ]
        },
        {
          "output_type": "stream",
          "name": "stderr",
          "text": [
            "Training Epochs:  52%|█████▏    | 103003/200000 [1:42:54<1:38:14, 16.46it/s]"
          ]
        },
        {
          "output_type": "stream",
          "name": "stdout",
          "text": [
            "Iteration: 103000. \n",
            "Test - Loss: 0.5607349872589111. Accuracy: 70.08196721311475\n",
            "Train -  Loss: 0.5417713522911072. Accuracy: 70.41095890410959\n",
            "\n"
          ]
        },
        {
          "output_type": "stream",
          "name": "stderr",
          "text": [
            "Training Epochs:  52%|█████▏    | 104003/200000 [1:43:54<1:38:06, 16.31it/s]"
          ]
        },
        {
          "output_type": "stream",
          "name": "stdout",
          "text": [
            "Iteration: 104000. \n",
            "Test - Loss: 0.5628389716148376. Accuracy: 70.08196721311475\n",
            "Train -  Loss: 0.5450657606124878. Accuracy: 70.41095890410959\n",
            "\n"
          ]
        },
        {
          "output_type": "stream",
          "name": "stderr",
          "text": [
            "Training Epochs:  53%|█████▎    | 105003/200000 [1:44:53<1:34:03, 16.83it/s]"
          ]
        },
        {
          "output_type": "stream",
          "name": "stdout",
          "text": [
            "Iteration: 105000. \n",
            "Test - Loss: 0.5615810751914978. Accuracy: 70.08196721311475\n",
            "Train -  Loss: 0.5439018607139587. Accuracy: 70.41095890410959\n",
            "\n"
          ]
        },
        {
          "output_type": "stream",
          "name": "stderr",
          "text": [
            "Training Epochs:  53%|█████▎    | 106003/200000 [1:45:52<1:34:29, 16.58it/s]"
          ]
        },
        {
          "output_type": "stream",
          "name": "stdout",
          "text": [
            "Iteration: 106000. \n",
            "Test - Loss: 0.5625314116477966. Accuracy: 70.90163934426229\n",
            "Train -  Loss: 0.5435963273048401. Accuracy: 70.68493150684931\n",
            "\n"
          ]
        },
        {
          "output_type": "stream",
          "name": "stderr",
          "text": [
            "Training Epochs:  54%|█████▎    | 107003/200000 [1:46:52<1:33:10, 16.64it/s]"
          ]
        },
        {
          "output_type": "stream",
          "name": "stdout",
          "text": [
            "Iteration: 107000. \n",
            "Test - Loss: 0.5577974319458008. Accuracy: 70.49180327868852\n",
            "Train -  Loss: 0.54337477684021. Accuracy: 69.72602739726027\n",
            "\n"
          ]
        },
        {
          "output_type": "stream",
          "name": "stderr",
          "text": [
            "Training Epochs:  54%|█████▍    | 108003/200000 [1:47:52<1:34:17, 16.26it/s]"
          ]
        },
        {
          "output_type": "stream",
          "name": "stdout",
          "text": [
            "Iteration: 108000. \n",
            "Test - Loss: 0.564899206161499. Accuracy: 69.26229508196721\n",
            "Train -  Loss: 0.5425413846969604. Accuracy: 70.68493150684931\n",
            "\n"
          ]
        },
        {
          "output_type": "stream",
          "name": "stderr",
          "text": [
            "Training Epochs:  55%|█████▍    | 109003/200000 [1:48:52<1:31:43, 16.53it/s]"
          ]
        },
        {
          "output_type": "stream",
          "name": "stdout",
          "text": [
            "Iteration: 109000. \n",
            "Test - Loss: 0.5523148775100708. Accuracy: 72.1311475409836\n",
            "Train -  Loss: 0.5450069904327393. Accuracy: 69.58904109589041\n",
            "\n"
          ]
        },
        {
          "output_type": "stream",
          "name": "stderr",
          "text": [
            "Training Epochs:  55%|█████▌    | 110003/200000 [1:49:51<1:32:30, 16.21it/s]"
          ]
        },
        {
          "output_type": "stream",
          "name": "stdout",
          "text": [
            "Iteration: 110000. \n",
            "Test - Loss: 0.5604089498519897. Accuracy: 71.72131147540983\n",
            "Train -  Loss: 0.5454463362693787. Accuracy: 70.68493150684931\n",
            "\n"
          ]
        },
        {
          "output_type": "stream",
          "name": "stderr",
          "text": [
            "Training Epochs:  56%|█████▌    | 111003/200000 [1:50:52<1:28:33, 16.75it/s]"
          ]
        },
        {
          "output_type": "stream",
          "name": "stdout",
          "text": [
            "Iteration: 111000. \n",
            "Test - Loss: 0.5663198232650757. Accuracy: 71.31147540983606\n",
            "Train -  Loss: 0.5462216734886169. Accuracy: 70.41095890410959\n",
            "\n"
          ]
        },
        {
          "output_type": "stream",
          "name": "stderr",
          "text": [
            "Training Epochs:  56%|█████▌    | 112003/200000 [1:51:52<1:27:31, 16.76it/s]"
          ]
        },
        {
          "output_type": "stream",
          "name": "stdout",
          "text": [
            "Iteration: 112000. \n",
            "Test - Loss: 0.5588873028755188. Accuracy: 70.49180327868852\n",
            "Train -  Loss: 0.5416378378868103. Accuracy: 70.13698630136986\n",
            "\n"
          ]
        },
        {
          "output_type": "stream",
          "name": "stderr",
          "text": [
            "Training Epochs:  57%|█████▋    | 113003/200000 [1:52:51<1:26:32, 16.75it/s]"
          ]
        },
        {
          "output_type": "stream",
          "name": "stdout",
          "text": [
            "Iteration: 113000. \n",
            "Test - Loss: 0.5545673966407776. Accuracy: 70.08196721311475\n",
            "Train -  Loss: 0.5387868881225586. Accuracy: 70.68493150684931\n",
            "\n"
          ]
        },
        {
          "output_type": "stream",
          "name": "stderr",
          "text": [
            "Training Epochs:  57%|█████▋    | 114003/200000 [1:53:50<1:27:13, 16.43it/s]"
          ]
        },
        {
          "output_type": "stream",
          "name": "stdout",
          "text": [
            "Iteration: 114000. \n",
            "Test - Loss: 0.5502779483795166. Accuracy: 70.49180327868852\n",
            "Train -  Loss: 0.5436199903488159. Accuracy: 71.23287671232876\n",
            "\n"
          ]
        },
        {
          "output_type": "stream",
          "name": "stderr",
          "text": [
            "Training Epochs:  58%|█████▊    | 115003/200000 [1:54:50<1:26:49, 16.32it/s]"
          ]
        },
        {
          "output_type": "stream",
          "name": "stdout",
          "text": [
            "Iteration: 115000. \n",
            "Test - Loss: 0.5582473874092102. Accuracy: 71.72131147540983\n",
            "Train -  Loss: 0.5424497127532959. Accuracy: 71.0958904109589\n",
            "\n"
          ]
        },
        {
          "output_type": "stream",
          "name": "stderr",
          "text": [
            "Training Epochs:  58%|█████▊    | 116003/200000 [1:55:50<1:24:13, 16.62it/s]"
          ]
        },
        {
          "output_type": "stream",
          "name": "stdout",
          "text": [
            "Iteration: 116000. \n",
            "Test - Loss: 0.5617404580116272. Accuracy: 70.90163934426229\n",
            "Train -  Loss: 0.5404644012451172. Accuracy: 70.82191780821918\n",
            "\n"
          ]
        },
        {
          "output_type": "stream",
          "name": "stderr",
          "text": [
            "Training Epochs:  59%|█████▊    | 117003/200000 [1:56:50<1:22:55, 16.68it/s]"
          ]
        },
        {
          "output_type": "stream",
          "name": "stdout",
          "text": [
            "Iteration: 117000. \n",
            "Test - Loss: 0.5650452375411987. Accuracy: 70.90163934426229\n",
            "Train -  Loss: 0.5451858639717102. Accuracy: 70.68493150684931\n",
            "\n"
          ]
        },
        {
          "output_type": "stream",
          "name": "stderr",
          "text": [
            "Training Epochs:  59%|█████▉    | 118003/200000 [1:57:50<1:21:14, 16.82it/s]"
          ]
        },
        {
          "output_type": "stream",
          "name": "stdout",
          "text": [
            "Iteration: 118000. \n",
            "Test - Loss: 0.5636960864067078. Accuracy: 70.49180327868852\n",
            "Train -  Loss: 0.5448319911956787. Accuracy: 70.68493150684931\n",
            "\n"
          ]
        },
        {
          "output_type": "stream",
          "name": "stderr",
          "text": [
            "Training Epochs:  60%|█████▉    | 119003/200000 [1:58:49<1:21:56, 16.48it/s]"
          ]
        },
        {
          "output_type": "stream",
          "name": "stdout",
          "text": [
            "Iteration: 119000. \n",
            "Test - Loss: 0.5483172535896301. Accuracy: 70.49180327868852\n",
            "Train -  Loss: 0.5444707870483398. Accuracy: 71.0958904109589\n",
            "\n"
          ]
        },
        {
          "output_type": "stream",
          "name": "stderr",
          "text": [
            "Training Epochs:  60%|██████    | 120003/200000 [1:59:50<1:21:19, 16.39it/s]"
          ]
        },
        {
          "output_type": "stream",
          "name": "stdout",
          "text": [
            "Iteration: 120000. \n",
            "Test - Loss: 0.5624852180480957. Accuracy: 70.08196721311475\n",
            "Train -  Loss: 0.5458558201789856. Accuracy: 70.82191780821918\n",
            "\n"
          ]
        },
        {
          "output_type": "stream",
          "name": "stderr",
          "text": [
            "Training Epochs:  61%|██████    | 121003/200000 [2:00:50<1:20:10, 16.42it/s]"
          ]
        },
        {
          "output_type": "stream",
          "name": "stdout",
          "text": [
            "Iteration: 121000. \n",
            "Test - Loss: 0.5629217028617859. Accuracy: 69.67213114754098\n",
            "Train -  Loss: 0.5472657680511475. Accuracy: 70.82191780821918\n",
            "\n"
          ]
        },
        {
          "output_type": "stream",
          "name": "stderr",
          "text": [
            "Training Epochs:  61%|██████    | 122003/200000 [2:01:50<1:18:32, 16.55it/s]"
          ]
        },
        {
          "output_type": "stream",
          "name": "stdout",
          "text": [
            "Iteration: 122000. \n",
            "Test - Loss: 0.555019199848175. Accuracy: 70.08196721311475\n",
            "Train -  Loss: 0.5431305170059204. Accuracy: 70.82191780821918\n",
            "\n"
          ]
        },
        {
          "output_type": "stream",
          "name": "stderr",
          "text": [
            "Training Epochs:  62%|██████▏   | 123003/200000 [2:02:49<1:17:16, 16.61it/s]"
          ]
        },
        {
          "output_type": "stream",
          "name": "stdout",
          "text": [
            "Iteration: 123000. \n",
            "Test - Loss: 0.5602434277534485. Accuracy: 70.49180327868852\n",
            "Train -  Loss: 0.5463665723800659. Accuracy: 69.86301369863014\n",
            "\n"
          ]
        },
        {
          "output_type": "stream",
          "name": "stderr",
          "text": [
            "Training Epochs:  62%|██████▏   | 124003/200000 [2:03:49<1:17:26, 16.36it/s]"
          ]
        },
        {
          "output_type": "stream",
          "name": "stdout",
          "text": [
            "Iteration: 124000. \n",
            "Test - Loss: 0.5561127662658691. Accuracy: 70.08196721311475\n",
            "Train -  Loss: 0.546734094619751. Accuracy: 71.23287671232876\n",
            "\n"
          ]
        },
        {
          "output_type": "stream",
          "name": "stderr",
          "text": [
            "Training Epochs:  63%|██████▎   | 125003/200000 [2:04:49<1:16:03, 16.43it/s]"
          ]
        },
        {
          "output_type": "stream",
          "name": "stdout",
          "text": [
            "Iteration: 125000. \n",
            "Test - Loss: 0.5657310485839844. Accuracy: 69.67213114754098\n",
            "Train -  Loss: 0.5399230718612671. Accuracy: 70.68493150684931\n",
            "\n"
          ]
        },
        {
          "output_type": "stream",
          "name": "stderr",
          "text": [
            "Training Epochs:  63%|██████▎   | 126003/200000 [2:05:50<1:13:59, 16.67it/s]"
          ]
        },
        {
          "output_type": "stream",
          "name": "stdout",
          "text": [
            "Iteration: 126000. \n",
            "Test - Loss: 0.5563148856163025. Accuracy: 71.72131147540983\n",
            "Train -  Loss: 0.5434595942497253. Accuracy: 70.0\n",
            "\n"
          ]
        },
        {
          "output_type": "stream",
          "name": "stderr",
          "text": [
            "Training Epochs:  64%|██████▎   | 127003/200000 [2:06:49<1:16:34, 15.89it/s]"
          ]
        },
        {
          "output_type": "stream",
          "name": "stdout",
          "text": [
            "Iteration: 127000. \n",
            "Test - Loss: 0.5556517243385315. Accuracy: 70.08196721311475\n",
            "Train -  Loss: 0.5412711501121521. Accuracy: 70.68493150684931\n",
            "\n"
          ]
        },
        {
          "output_type": "stream",
          "name": "stderr",
          "text": [
            "Training Epochs:  64%|██████▍   | 128003/200000 [2:07:49<1:12:29, 16.55it/s]"
          ]
        },
        {
          "output_type": "stream",
          "name": "stdout",
          "text": [
            "Iteration: 128000. \n",
            "Test - Loss: 0.5514342784881592. Accuracy: 70.08196721311475\n",
            "Train -  Loss: 0.5421697497367859. Accuracy: 71.23287671232876\n",
            "\n"
          ]
        },
        {
          "output_type": "stream",
          "name": "stderr",
          "text": [
            "Training Epochs:  65%|██████▍   | 129003/200000 [2:08:50<1:12:47, 16.26it/s]"
          ]
        },
        {
          "output_type": "stream",
          "name": "stdout",
          "text": [
            "Iteration: 129000. \n",
            "Test - Loss: 0.5560962557792664. Accuracy: 70.08196721311475\n",
            "Train -  Loss: 0.5444630980491638. Accuracy: 70.41095890410959\n",
            "\n"
          ]
        },
        {
          "output_type": "stream",
          "name": "stderr",
          "text": [
            "Training Epochs:  65%|██████▌   | 130003/200000 [2:09:50<1:09:23, 16.81it/s]"
          ]
        },
        {
          "output_type": "stream",
          "name": "stdout",
          "text": [
            "Iteration: 130000. \n",
            "Test - Loss: 0.5632098317146301. Accuracy: 70.90163934426229\n",
            "Train -  Loss: 0.5456274747848511. Accuracy: 71.36986301369863\n",
            "\n"
          ]
        },
        {
          "output_type": "stream",
          "name": "stderr",
          "text": [
            "Training Epochs:  66%|██████▌   | 131003/200000 [2:10:49<1:09:23, 16.57it/s]"
          ]
        },
        {
          "output_type": "stream",
          "name": "stdout",
          "text": [
            "Iteration: 131000. \n",
            "Test - Loss: 0.5557649731636047. Accuracy: 70.90163934426229\n",
            "Train -  Loss: 0.5427722930908203. Accuracy: 70.54794520547945\n",
            "\n"
          ]
        },
        {
          "output_type": "stream",
          "name": "stderr",
          "text": [
            "Training Epochs:  66%|██████▌   | 132003/200000 [2:11:49<1:09:15, 16.36it/s]"
          ]
        },
        {
          "output_type": "stream",
          "name": "stdout",
          "text": [
            "Iteration: 132000. \n",
            "Test - Loss: 0.5561484098434448. Accuracy: 70.49180327868852\n",
            "Train -  Loss: 0.5410653352737427. Accuracy: 70.13698630136986\n",
            "\n"
          ]
        },
        {
          "output_type": "stream",
          "name": "stderr",
          "text": [
            "Training Epochs:  67%|██████▋   | 133003/200000 [2:12:49<1:08:21, 16.33it/s]"
          ]
        },
        {
          "output_type": "stream",
          "name": "stdout",
          "text": [
            "Iteration: 133000. \n",
            "Test - Loss: 0.5558512210845947. Accuracy: 70.08196721311475\n",
            "Train -  Loss: 0.5427132844924927. Accuracy: 71.64383561643835\n",
            "\n"
          ]
        },
        {
          "output_type": "stream",
          "name": "stderr",
          "text": [
            "Training Epochs:  67%|██████▋   | 134003/200000 [2:13:49<1:06:57, 16.43it/s]"
          ]
        },
        {
          "output_type": "stream",
          "name": "stdout",
          "text": [
            "Iteration: 134000. \n",
            "Test - Loss: 0.5530925989151001. Accuracy: 70.08196721311475\n",
            "Train -  Loss: 0.5431355237960815. Accuracy: 70.54794520547945\n",
            "\n"
          ]
        },
        {
          "output_type": "stream",
          "name": "stderr",
          "text": [
            "Training Epochs:  68%|██████▊   | 135003/200000 [2:14:49<1:05:47, 16.46it/s]"
          ]
        },
        {
          "output_type": "stream",
          "name": "stdout",
          "text": [
            "Iteration: 135000. \n",
            "Test - Loss: 0.5566772222518921. Accuracy: 70.08196721311475\n",
            "Train -  Loss: 0.5410798192024231. Accuracy: 70.27397260273973\n",
            "\n"
          ]
        },
        {
          "output_type": "stream",
          "name": "stderr",
          "text": [
            "Training Epochs:  68%|██████▊   | 136003/200000 [2:15:49<1:05:12, 16.36it/s]"
          ]
        },
        {
          "output_type": "stream",
          "name": "stdout",
          "text": [
            "Iteration: 136000. \n",
            "Test - Loss: 0.5581527352333069. Accuracy: 70.49180327868852\n",
            "Train -  Loss: 0.5405620336532593. Accuracy: 70.54794520547945\n",
            "\n"
          ]
        },
        {
          "output_type": "stream",
          "name": "stderr",
          "text": [
            "Training Epochs:  69%|██████▊   | 137003/200000 [2:16:49<1:03:45, 16.47it/s]"
          ]
        },
        {
          "output_type": "stream",
          "name": "stdout",
          "text": [
            "Iteration: 137000. \n",
            "Test - Loss: 0.5582026243209839. Accuracy: 72.1311475409836\n",
            "Train -  Loss: 0.5414925217628479. Accuracy: 71.0958904109589\n",
            "\n"
          ]
        },
        {
          "output_type": "stream",
          "name": "stderr",
          "text": [
            "Training Epochs:  69%|██████▉   | 138003/200000 [2:17:50<1:02:45, 16.47it/s]"
          ]
        },
        {
          "output_type": "stream",
          "name": "stdout",
          "text": [
            "Iteration: 138000. \n",
            "Test - Loss: 0.5632995963096619. Accuracy: 71.31147540983606\n",
            "Train -  Loss: 0.5425506830215454. Accuracy: 70.82191780821918\n",
            "\n"
          ]
        },
        {
          "output_type": "stream",
          "name": "stderr",
          "text": [
            "Training Epochs:  70%|██████▉   | 139003/200000 [2:18:50<1:01:29, 16.53it/s]"
          ]
        },
        {
          "output_type": "stream",
          "name": "stdout",
          "text": [
            "Iteration: 139000. \n",
            "Test - Loss: 0.5618594884872437. Accuracy: 71.31147540983606\n",
            "Train -  Loss: 0.5462297201156616. Accuracy: 70.82191780821918\n",
            "\n"
          ]
        },
        {
          "output_type": "stream",
          "name": "stderr",
          "text": [
            "Training Epochs:  70%|███████   | 140003/200000 [2:19:50<1:01:02, 16.38it/s]"
          ]
        },
        {
          "output_type": "stream",
          "name": "stdout",
          "text": [
            "Iteration: 140000. \n",
            "Test - Loss: 0.5566393136978149. Accuracy: 69.67213114754098\n",
            "Train -  Loss: 0.5436471700668335. Accuracy: 71.23287671232876\n",
            "\n"
          ]
        },
        {
          "output_type": "stream",
          "name": "stderr",
          "text": [
            "Training Epochs:  71%|███████   | 141003/200000 [2:20:50<1:00:52, 16.15it/s]"
          ]
        },
        {
          "output_type": "stream",
          "name": "stdout",
          "text": [
            "Iteration: 141000. \n",
            "Test - Loss: 0.5594366788864136. Accuracy: 71.72131147540983\n",
            "Train -  Loss: 0.5457530617713928. Accuracy: 70.54794520547945\n",
            "\n"
          ]
        },
        {
          "output_type": "stream",
          "name": "stderr",
          "text": [
            "Training Epochs:  71%|███████   | 142003/200000 [2:21:51<58:43, 16.46it/s]"
          ]
        },
        {
          "output_type": "stream",
          "name": "stdout",
          "text": [
            "Iteration: 142000. \n",
            "Test - Loss: 0.5672826766967773. Accuracy: 70.49180327868852\n",
            "Train -  Loss: 0.5412535667419434. Accuracy: 70.95890410958904\n",
            "\n"
          ]
        },
        {
          "output_type": "stream",
          "name": "stderr",
          "text": [
            "Training Epochs:  72%|███████▏  | 143003/200000 [2:22:51<56:25, 16.84it/s]"
          ]
        },
        {
          "output_type": "stream",
          "name": "stdout",
          "text": [
            "Iteration: 143000. \n",
            "Test - Loss: 0.5481046438217163. Accuracy: 71.72131147540983\n",
            "Train -  Loss: 0.5392338633537292. Accuracy: 71.0958904109589\n",
            "\n"
          ]
        },
        {
          "output_type": "stream",
          "name": "stderr",
          "text": [
            "Training Epochs:  72%|███████▏  | 144003/200000 [2:23:51<56:36, 16.48it/s]"
          ]
        },
        {
          "output_type": "stream",
          "name": "stdout",
          "text": [
            "Iteration: 144000. \n",
            "Test - Loss: 0.5675777792930603. Accuracy: 72.1311475409836\n",
            "Train -  Loss: 0.542248010635376. Accuracy: 71.36986301369863\n",
            "\n"
          ]
        },
        {
          "output_type": "stream",
          "name": "stderr",
          "text": [
            "Training Epochs:  73%|███████▎  | 145003/200000 [2:24:50<55:26, 16.54it/s]"
          ]
        },
        {
          "output_type": "stream",
          "name": "stdout",
          "text": [
            "Iteration: 145000. \n",
            "Test - Loss: 0.5590333938598633. Accuracy: 72.1311475409836\n",
            "Train -  Loss: 0.545905351638794. Accuracy: 70.68493150684931\n",
            "\n"
          ]
        },
        {
          "output_type": "stream",
          "name": "stderr",
          "text": [
            "Training Epochs:  73%|███████▎  | 146003/200000 [2:25:51<54:28, 16.52it/s]"
          ]
        },
        {
          "output_type": "stream",
          "name": "stdout",
          "text": [
            "Iteration: 146000. \n",
            "Test - Loss: 0.5542618632316589. Accuracy: 70.90163934426229\n",
            "Train -  Loss: 0.5415990948677063. Accuracy: 70.95890410958904\n",
            "\n"
          ]
        },
        {
          "output_type": "stream",
          "name": "stderr",
          "text": [
            "Training Epochs:  74%|███████▎  | 147003/200000 [2:26:50<53:10, 16.61it/s]"
          ]
        },
        {
          "output_type": "stream",
          "name": "stdout",
          "text": [
            "Iteration: 147000. \n",
            "Test - Loss: 0.5584657788276672. Accuracy: 70.08196721311475\n",
            "Train -  Loss: 0.5461665987968445. Accuracy: 70.27397260273973\n",
            "\n"
          ]
        },
        {
          "output_type": "stream",
          "name": "stderr",
          "text": [
            "Training Epochs:  74%|███████▍  | 148003/200000 [2:27:50<52:04, 16.64it/s]"
          ]
        },
        {
          "output_type": "stream",
          "name": "stdout",
          "text": [
            "Iteration: 148000. \n",
            "Test - Loss: 0.5629851818084717. Accuracy: 69.67213114754098\n",
            "Train -  Loss: 0.5441159605979919. Accuracy: 70.95890410958904\n",
            "\n"
          ]
        },
        {
          "output_type": "stream",
          "name": "stderr",
          "text": [
            "Training Epochs:  75%|███████▍  | 149003/200000 [2:28:49<50:56, 16.69it/s]"
          ]
        },
        {
          "output_type": "stream",
          "name": "stdout",
          "text": [
            "Iteration: 149000. \n",
            "Test - Loss: 0.562633752822876. Accuracy: 69.67213114754098\n",
            "Train -  Loss: 0.5416051745414734. Accuracy: 70.82191780821918\n",
            "\n"
          ]
        },
        {
          "output_type": "stream",
          "name": "stderr",
          "text": [
            "Training Epochs:  75%|███████▌  | 150003/200000 [2:29:50<49:53, 16.70it/s]"
          ]
        },
        {
          "output_type": "stream",
          "name": "stdout",
          "text": [
            "Iteration: 150000. \n",
            "Test - Loss: 0.5605722665786743. Accuracy: 69.67213114754098\n",
            "Train -  Loss: 0.5435794591903687. Accuracy: 70.95890410958904\n",
            "\n"
          ]
        },
        {
          "output_type": "stream",
          "name": "stderr",
          "text": [
            "Training Epochs:  76%|███████▌  | 151003/200000 [2:30:50<50:30, 16.17it/s]"
          ]
        },
        {
          "output_type": "stream",
          "name": "stdout",
          "text": [
            "Iteration: 151000. \n",
            "Test - Loss: 0.5564953088760376. Accuracy: 71.72131147540983\n",
            "Train -  Loss: 0.5438335537910461. Accuracy: 70.95890410958904\n",
            "\n"
          ]
        },
        {
          "output_type": "stream",
          "name": "stderr",
          "text": [
            "Training Epochs:  76%|███████▌  | 152003/200000 [2:31:50<48:26, 16.52it/s]"
          ]
        },
        {
          "output_type": "stream",
          "name": "stdout",
          "text": [
            "Iteration: 152000. \n",
            "Test - Loss: 0.5721670389175415. Accuracy: 70.90163934426229\n",
            "Train -  Loss: 0.5409550666809082. Accuracy: 71.36986301369863\n",
            "\n"
          ]
        },
        {
          "output_type": "stream",
          "name": "stderr",
          "text": [
            "Training Epochs:  77%|███████▋  | 153003/200000 [2:32:50<47:59, 16.32it/s]"
          ]
        },
        {
          "output_type": "stream",
          "name": "stdout",
          "text": [
            "Iteration: 153000. \n",
            "Test - Loss: 0.5614188313484192. Accuracy: 70.49180327868852\n",
            "Train -  Loss: 0.5437775254249573. Accuracy: 71.0958904109589\n",
            "\n"
          ]
        },
        {
          "output_type": "stream",
          "name": "stderr",
          "text": [
            "Training Epochs:  77%|███████▋  | 154003/200000 [2:33:50<46:00, 16.66it/s]"
          ]
        },
        {
          "output_type": "stream",
          "name": "stdout",
          "text": [
            "Iteration: 154000. \n",
            "Test - Loss: 0.5641960501670837. Accuracy: 69.67213114754098\n",
            "Train -  Loss: 0.5415707230567932. Accuracy: 71.0958904109589\n",
            "\n"
          ]
        },
        {
          "output_type": "stream",
          "name": "stderr",
          "text": [
            "Training Epochs:  78%|███████▊  | 155003/200000 [2:34:51<45:19, 16.55it/s]"
          ]
        },
        {
          "output_type": "stream",
          "name": "stdout",
          "text": [
            "Iteration: 155000. \n",
            "Test - Loss: 0.5669726133346558. Accuracy: 68.44262295081967\n",
            "Train -  Loss: 0.5458596348762512. Accuracy: 69.17808219178082\n",
            "\n"
          ]
        },
        {
          "output_type": "stream",
          "name": "stderr",
          "text": [
            "Training Epochs:  78%|███████▊  | 156003/200000 [2:35:51<45:10, 16.23it/s]"
          ]
        },
        {
          "output_type": "stream",
          "name": "stdout",
          "text": [
            "Iteration: 156000. \n",
            "Test - Loss: 0.5612434148788452. Accuracy: 70.90163934426229\n",
            "Train -  Loss: 0.5433765649795532. Accuracy: 70.41095890410959\n",
            "\n"
          ]
        },
        {
          "output_type": "stream",
          "name": "stderr",
          "text": [
            "Training Epochs:  79%|███████▊  | 157003/200000 [2:36:52<43:52, 16.33it/s]"
          ]
        },
        {
          "output_type": "stream",
          "name": "stdout",
          "text": [
            "Iteration: 157000. \n",
            "Test - Loss: 0.5657492280006409. Accuracy: 70.49180327868852\n",
            "Train -  Loss: 0.5382323861122131. Accuracy: 70.82191780821918\n",
            "\n"
          ]
        },
        {
          "output_type": "stream",
          "name": "stderr",
          "text": [
            "Training Epochs:  79%|███████▉  | 158003/200000 [2:37:52<42:59, 16.28it/s]"
          ]
        },
        {
          "output_type": "stream",
          "name": "stdout",
          "text": [
            "Iteration: 158000. \n",
            "Test - Loss: 0.5549895763397217. Accuracy: 70.49180327868852\n",
            "Train -  Loss: 0.5401421189308167. Accuracy: 71.36986301369863\n",
            "\n"
          ]
        },
        {
          "output_type": "stream",
          "name": "stderr",
          "text": [
            "Training Epochs:  80%|███████▉  | 159003/200000 [2:38:53<42:08, 16.21it/s]"
          ]
        },
        {
          "output_type": "stream",
          "name": "stdout",
          "text": [
            "Iteration: 159000. \n",
            "Test - Loss: 0.5656331777572632. Accuracy: 70.90163934426229\n",
            "Train -  Loss: 0.5404710173606873. Accuracy: 70.82191780821918\n",
            "\n"
          ]
        },
        {
          "output_type": "stream",
          "name": "stderr",
          "text": [
            "Training Epochs:  80%|████████  | 160003/200000 [2:39:53<40:13, 16.57it/s]"
          ]
        },
        {
          "output_type": "stream",
          "name": "stdout",
          "text": [
            "Iteration: 160000. \n",
            "Test - Loss: 0.5574061274528503. Accuracy: 70.08196721311475\n",
            "Train -  Loss: 0.5390914082527161. Accuracy: 70.95890410958904\n",
            "\n"
          ]
        },
        {
          "output_type": "stream",
          "name": "stderr",
          "text": [
            "Training Epochs:  81%|████████  | 161003/200000 [2:40:52<39:26, 16.48it/s]"
          ]
        },
        {
          "output_type": "stream",
          "name": "stdout",
          "text": [
            "Iteration: 161000. \n",
            "Test - Loss: 0.561517059803009. Accuracy: 70.49180327868852\n",
            "Train -  Loss: 0.5396053791046143. Accuracy: 70.27397260273973\n",
            "\n"
          ]
        },
        {
          "output_type": "stream",
          "name": "stderr",
          "text": [
            "Training Epochs:  81%|████████  | 162003/200000 [2:41:52<39:41, 15.95it/s]"
          ]
        },
        {
          "output_type": "stream",
          "name": "stdout",
          "text": [
            "Iteration: 162000. \n",
            "Test - Loss: 0.5480857491493225. Accuracy: 72.54098360655738\n",
            "Train -  Loss: 0.5425006747245789. Accuracy: 70.27397260273973\n",
            "\n"
          ]
        },
        {
          "output_type": "stream",
          "name": "stderr",
          "text": [
            "Training Epochs:  82%|████████▏ | 163003/200000 [2:42:53<37:17, 16.54it/s]"
          ]
        },
        {
          "output_type": "stream",
          "name": "stdout",
          "text": [
            "Iteration: 163000. \n",
            "Test - Loss: 0.549153745174408. Accuracy: 70.49180327868852\n",
            "Train -  Loss: 0.5428358912467957. Accuracy: 70.68493150684931\n",
            "\n"
          ]
        },
        {
          "output_type": "stream",
          "name": "stderr",
          "text": [
            "Training Epochs:  82%|████████▏ | 164003/200000 [2:43:52<37:11, 16.13it/s]"
          ]
        },
        {
          "output_type": "stream",
          "name": "stdout",
          "text": [
            "Iteration: 164000. \n",
            "Test - Loss: 0.559795081615448. Accuracy: 70.49180327868852\n",
            "Train -  Loss: 0.5444847941398621. Accuracy: 70.13698630136986\n",
            "\n"
          ]
        },
        {
          "output_type": "stream",
          "name": "stderr",
          "text": [
            "Training Epochs:  83%|████████▎ | 165003/200000 [2:44:51<35:31, 16.42it/s]"
          ]
        },
        {
          "output_type": "stream",
          "name": "stdout",
          "text": [
            "Iteration: 165000. \n",
            "Test - Loss: 0.5615400075912476. Accuracy: 72.1311475409836\n",
            "Train -  Loss: 0.5401658415794373. Accuracy: 70.82191780821918\n",
            "\n"
          ]
        },
        {
          "output_type": "stream",
          "name": "stderr",
          "text": [
            "Training Epochs:  83%|████████▎ | 166003/200000 [2:45:51<34:06, 16.61it/s]"
          ]
        },
        {
          "output_type": "stream",
          "name": "stdout",
          "text": [
            "Iteration: 166000. \n",
            "Test - Loss: 0.5571419596672058. Accuracy: 72.1311475409836\n",
            "Train -  Loss: 0.543013334274292. Accuracy: 70.68493150684931\n",
            "\n"
          ]
        },
        {
          "output_type": "stream",
          "name": "stderr",
          "text": [
            "Training Epochs:  84%|████████▎ | 167003/200000 [2:46:52<33:33, 16.39it/s]"
          ]
        },
        {
          "output_type": "stream",
          "name": "stdout",
          "text": [
            "Iteration: 167000. \n",
            "Test - Loss: 0.5542654991149902. Accuracy: 71.72131147540983\n",
            "Train -  Loss: 0.5446065068244934. Accuracy: 70.68493150684931\n",
            "\n"
          ]
        },
        {
          "output_type": "stream",
          "name": "stderr",
          "text": [
            "Training Epochs:  84%|████████▍ | 168003/200000 [2:47:52<32:34, 16.37it/s]"
          ]
        },
        {
          "output_type": "stream",
          "name": "stdout",
          "text": [
            "Iteration: 168000. \n",
            "Test - Loss: 0.5550583600997925. Accuracy: 71.31147540983606\n",
            "Train -  Loss: 0.5387340188026428. Accuracy: 71.36986301369863\n",
            "\n"
          ]
        },
        {
          "output_type": "stream",
          "name": "stderr",
          "text": [
            "Training Epochs:  85%|████████▍ | 169003/200000 [2:48:53<31:44, 16.28it/s]"
          ]
        },
        {
          "output_type": "stream",
          "name": "stdout",
          "text": [
            "Iteration: 169000. \n",
            "Test - Loss: 0.5511364340782166. Accuracy: 70.49180327868852\n",
            "Train -  Loss: 0.5489403009414673. Accuracy: 70.54794520547945\n",
            "\n"
          ]
        },
        {
          "output_type": "stream",
          "name": "stderr",
          "text": [
            "Training Epochs:  85%|████████▌ | 170003/200000 [2:49:52<30:19, 16.48it/s]"
          ]
        },
        {
          "output_type": "stream",
          "name": "stdout",
          "text": [
            "Iteration: 170000. \n",
            "Test - Loss: 0.5517590045928955. Accuracy: 69.26229508196721\n",
            "Train -  Loss: 0.5434862375259399. Accuracy: 70.54794520547945\n",
            "\n"
          ]
        },
        {
          "output_type": "stream",
          "name": "stderr",
          "text": [
            "Training Epochs:  86%|████████▌ | 171003/200000 [2:50:52<29:42, 16.26it/s]"
          ]
        },
        {
          "output_type": "stream",
          "name": "stdout",
          "text": [
            "Iteration: 171000. \n",
            "Test - Loss: 0.5686848163604736. Accuracy: 70.49180327868852\n",
            "Train -  Loss: 0.5371573567390442. Accuracy: 71.23287671232876\n",
            "\n"
          ]
        },
        {
          "output_type": "stream",
          "name": "stderr",
          "text": [
            "Training Epochs:  86%|████████▌ | 172003/200000 [2:51:53<28:32, 16.35it/s]"
          ]
        },
        {
          "output_type": "stream",
          "name": "stdout",
          "text": [
            "Iteration: 172000. \n",
            "Test - Loss: 0.557542622089386. Accuracy: 72.54098360655738\n",
            "Train -  Loss: 0.5453317165374756. Accuracy: 71.23287671232876\n",
            "\n"
          ]
        },
        {
          "output_type": "stream",
          "name": "stderr",
          "text": [
            "Training Epochs:  87%|████████▋ | 173003/200000 [2:52:53<27:15, 16.50it/s]"
          ]
        },
        {
          "output_type": "stream",
          "name": "stdout",
          "text": [
            "Iteration: 173000. \n",
            "Test - Loss: 0.5697599053382874. Accuracy: 70.08196721311475\n",
            "Train -  Loss: 0.5444575548171997. Accuracy: 70.54794520547945\n",
            "\n"
          ]
        },
        {
          "output_type": "stream",
          "name": "stderr",
          "text": [
            "Training Epochs:  87%|████████▋ | 174003/200000 [2:53:54<30:16, 14.31it/s]"
          ]
        },
        {
          "output_type": "stream",
          "name": "stdout",
          "text": [
            "Iteration: 174000. \n",
            "Test - Loss: 0.5576195120811462. Accuracy: 69.67213114754098\n",
            "Train -  Loss: 0.5421171188354492. Accuracy: 71.0958904109589\n",
            "\n"
          ]
        },
        {
          "output_type": "stream",
          "name": "stderr",
          "text": [
            "Training Epochs:  88%|████████▊ | 175003/200000 [2:54:54<25:13, 16.52it/s]"
          ]
        },
        {
          "output_type": "stream",
          "name": "stdout",
          "text": [
            "Iteration: 175000. \n",
            "Test - Loss: 0.5659615993499756. Accuracy: 69.67213114754098\n",
            "Train -  Loss: 0.5428959727287292. Accuracy: 70.27397260273973\n",
            "\n"
          ]
        },
        {
          "output_type": "stream",
          "name": "stderr",
          "text": [
            "Training Epochs:  88%|████████▊ | 176003/200000 [2:55:55<24:10, 16.54it/s]"
          ]
        },
        {
          "output_type": "stream",
          "name": "stdout",
          "text": [
            "Iteration: 176000. \n",
            "Test - Loss: 0.5568295121192932. Accuracy: 72.54098360655738\n",
            "Train -  Loss: 0.5431898832321167. Accuracy: 70.68493150684931\n",
            "\n"
          ]
        },
        {
          "output_type": "stream",
          "name": "stderr",
          "text": [
            "Training Epochs:  89%|████████▊ | 177003/200000 [2:56:56<23:34, 16.26it/s]"
          ]
        },
        {
          "output_type": "stream",
          "name": "stdout",
          "text": [
            "Iteration: 177000. \n",
            "Test - Loss: 0.5601746439933777. Accuracy: 69.67213114754098\n",
            "Train -  Loss: 0.543319582939148. Accuracy: 70.68493150684931\n",
            "\n"
          ]
        },
        {
          "output_type": "stream",
          "name": "stderr",
          "text": [
            "Training Epochs:  89%|████████▉ | 178003/200000 [2:57:56<22:26, 16.34it/s]"
          ]
        },
        {
          "output_type": "stream",
          "name": "stdout",
          "text": [
            "Iteration: 178000. \n",
            "Test - Loss: 0.5552983283996582. Accuracy: 71.31147540983606\n",
            "Train -  Loss: 0.5404645204544067. Accuracy: 70.13698630136986\n",
            "\n"
          ]
        },
        {
          "output_type": "stream",
          "name": "stderr",
          "text": [
            "Training Epochs:  90%|████████▉ | 179003/200000 [2:58:56<20:53, 16.75it/s]"
          ]
        },
        {
          "output_type": "stream",
          "name": "stdout",
          "text": [
            "Iteration: 179000. \n",
            "Test - Loss: 0.5622732043266296. Accuracy: 70.90163934426229\n",
            "Train -  Loss: 0.5483413338661194. Accuracy: 70.0\n",
            "\n"
          ]
        },
        {
          "output_type": "stream",
          "name": "stderr",
          "text": [
            "Training Epochs:  90%|█████████ | 180003/200000 [2:59:57<20:24, 16.33it/s]"
          ]
        },
        {
          "output_type": "stream",
          "name": "stdout",
          "text": [
            "Iteration: 180000. \n",
            "Test - Loss: 0.5635533332824707. Accuracy: 70.90163934426229\n",
            "Train -  Loss: 0.5412497520446777. Accuracy: 70.95890410958904\n",
            "\n"
          ]
        },
        {
          "output_type": "stream",
          "name": "stderr",
          "text": [
            "Training Epochs:  91%|█████████ | 181003/200000 [3:00:57<19:18, 16.40it/s]"
          ]
        },
        {
          "output_type": "stream",
          "name": "stdout",
          "text": [
            "Iteration: 181000. \n",
            "Test - Loss: 0.5588465929031372. Accuracy: 68.85245901639344\n",
            "Train -  Loss: 0.541899561882019. Accuracy: 71.5068493150685\n",
            "\n"
          ]
        },
        {
          "output_type": "stream",
          "name": "stderr",
          "text": [
            "Training Epochs:  91%|█████████ | 182003/200000 [3:01:57<18:20, 16.36it/s]"
          ]
        },
        {
          "output_type": "stream",
          "name": "stdout",
          "text": [
            "Iteration: 182000. \n",
            "Test - Loss: 0.5544754862785339. Accuracy: 71.31147540983606\n",
            "Train -  Loss: 0.5393036007881165. Accuracy: 71.36986301369863\n",
            "\n"
          ]
        },
        {
          "output_type": "stream",
          "name": "stderr",
          "text": [
            "Training Epochs:  92%|█████████▏| 183003/200000 [3:02:57<17:19, 16.35it/s]"
          ]
        },
        {
          "output_type": "stream",
          "name": "stdout",
          "text": [
            "Iteration: 183000. \n",
            "Test - Loss: 0.5521515011787415. Accuracy: 71.31147540983606\n",
            "Train -  Loss: 0.544951319694519. Accuracy: 70.0\n",
            "\n"
          ]
        },
        {
          "output_type": "stream",
          "name": "stderr",
          "text": [
            "Training Epochs:  92%|█████████▏| 184003/200000 [3:03:58<16:15, 16.40it/s]"
          ]
        },
        {
          "output_type": "stream",
          "name": "stdout",
          "text": [
            "Iteration: 184000. \n",
            "Test - Loss: 0.561079740524292. Accuracy: 71.72131147540983\n",
            "Train -  Loss: 0.5399887561798096. Accuracy: 70.41095890410959\n",
            "\n"
          ]
        },
        {
          "output_type": "stream",
          "name": "stderr",
          "text": [
            "Training Epochs:  93%|█████████▎| 185003/200000 [3:04:58<15:16, 16.37it/s]"
          ]
        },
        {
          "output_type": "stream",
          "name": "stdout",
          "text": [
            "Iteration: 185000. \n",
            "Test - Loss: 0.5566127300262451. Accuracy: 70.90163934426229\n",
            "Train -  Loss: 0.5448452234268188. Accuracy: 71.0958904109589\n",
            "\n"
          ]
        },
        {
          "output_type": "stream",
          "name": "stderr",
          "text": [
            "Training Epochs:  93%|█████████▎| 186003/200000 [3:05:59<14:20, 16.27it/s]"
          ]
        },
        {
          "output_type": "stream",
          "name": "stdout",
          "text": [
            "Iteration: 186000. \n",
            "Test - Loss: 0.5585258603096008. Accuracy: 70.08196721311475\n",
            "Train -  Loss: 0.5411271452903748. Accuracy: 70.68493150684931\n",
            "\n"
          ]
        },
        {
          "output_type": "stream",
          "name": "stderr",
          "text": [
            "Training Epochs:  94%|█████████▎| 187003/200000 [3:06:59<13:17, 16.29it/s]"
          ]
        },
        {
          "output_type": "stream",
          "name": "stdout",
          "text": [
            "Iteration: 187000. \n",
            "Test - Loss: 0.5663060545921326. Accuracy: 70.49180327868852\n",
            "Train -  Loss: 0.5503960847854614. Accuracy: 70.95890410958904\n",
            "\n"
          ]
        },
        {
          "output_type": "stream",
          "name": "stderr",
          "text": [
            "Training Epochs:  94%|█████████▍| 188003/200000 [3:08:00<12:06, 16.50it/s]"
          ]
        },
        {
          "output_type": "stream",
          "name": "stdout",
          "text": [
            "Iteration: 188000. \n",
            "Test - Loss: 0.5590099692344666. Accuracy: 72.1311475409836\n",
            "Train -  Loss: 0.5397483706474304. Accuracy: 70.95890410958904\n",
            "\n"
          ]
        },
        {
          "output_type": "stream",
          "name": "stderr",
          "text": [
            "Training Epochs:  95%|█████████▍| 189003/200000 [3:09:01<11:20, 16.15it/s]"
          ]
        },
        {
          "output_type": "stream",
          "name": "stdout",
          "text": [
            "Iteration: 189000. \n",
            "Test - Loss: 0.5601068735122681. Accuracy: 71.31147540983606\n",
            "Train -  Loss: 0.5436244010925293. Accuracy: 71.23287671232876\n",
            "\n"
          ]
        },
        {
          "output_type": "stream",
          "name": "stderr",
          "text": [
            "Training Epochs:  95%|█████████▌| 190003/200000 [3:10:01<10:09, 16.40it/s]"
          ]
        },
        {
          "output_type": "stream",
          "name": "stdout",
          "text": [
            "Iteration: 190000. \n",
            "Test - Loss: 0.564897358417511. Accuracy: 70.08196721311475\n",
            "Train -  Loss: 0.5442264676094055. Accuracy: 70.54794520547945\n",
            "\n"
          ]
        },
        {
          "output_type": "stream",
          "name": "stderr",
          "text": [
            "Training Epochs:  96%|█████████▌| 191003/200000 [3:11:02<09:17, 16.13it/s]"
          ]
        },
        {
          "output_type": "stream",
          "name": "stdout",
          "text": [
            "Iteration: 191000. \n",
            "Test - Loss: 0.5657666921615601. Accuracy: 69.67213114754098\n",
            "Train -  Loss: 0.545376181602478. Accuracy: 70.82191780821918\n",
            "\n"
          ]
        },
        {
          "output_type": "stream",
          "name": "stderr",
          "text": [
            "Training Epochs:  96%|█████████▌| 192003/200000 [3:12:03<08:09, 16.34it/s]"
          ]
        },
        {
          "output_type": "stream",
          "name": "stdout",
          "text": [
            "Iteration: 192000. \n",
            "Test - Loss: 0.5617637038230896. Accuracy: 70.90163934426229\n",
            "Train -  Loss: 0.54167640209198. Accuracy: 71.0958904109589\n",
            "\n"
          ]
        },
        {
          "output_type": "stream",
          "name": "stderr",
          "text": [
            "Training Epochs:  97%|█████████▋| 193003/200000 [3:13:04<07:07, 16.37it/s]"
          ]
        },
        {
          "output_type": "stream",
          "name": "stdout",
          "text": [
            "Iteration: 193000. \n",
            "Test - Loss: 0.5602455735206604. Accuracy: 70.90163934426229\n",
            "Train -  Loss: 0.5447867512702942. Accuracy: 70.82191780821918\n",
            "\n"
          ]
        },
        {
          "output_type": "stream",
          "name": "stderr",
          "text": [
            "Training Epochs:  97%|█████████▋| 194003/200000 [3:14:04<06:04, 16.43it/s]"
          ]
        },
        {
          "output_type": "stream",
          "name": "stdout",
          "text": [
            "Iteration: 194000. \n",
            "Test - Loss: 0.5571321845054626. Accuracy: 72.1311475409836\n",
            "Train -  Loss: 0.5466429591178894. Accuracy: 69.86301369863014\n",
            "\n"
          ]
        },
        {
          "output_type": "stream",
          "name": "stderr",
          "text": [
            "Training Epochs:  98%|█████████▊| 195003/200000 [3:15:04<05:06, 16.28it/s]"
          ]
        },
        {
          "output_type": "stream",
          "name": "stdout",
          "text": [
            "Iteration: 195000. \n",
            "Test - Loss: 0.5586516857147217. Accuracy: 70.49180327868852\n",
            "Train -  Loss: 0.5446239709854126. Accuracy: 70.68493150684931\n",
            "\n"
          ]
        },
        {
          "output_type": "stream",
          "name": "stderr",
          "text": [
            "Training Epochs:  98%|█████████▊| 196003/200000 [3:16:05<04:00, 16.60it/s]"
          ]
        },
        {
          "output_type": "stream",
          "name": "stdout",
          "text": [
            "Iteration: 196000. \n",
            "Test - Loss: 0.5590453743934631. Accuracy: 70.49180327868852\n",
            "Train -  Loss: 0.5452015995979309. Accuracy: 71.36986301369863\n",
            "\n"
          ]
        },
        {
          "output_type": "stream",
          "name": "stderr",
          "text": [
            "Training Epochs:  99%|█████████▊| 197003/200000 [3:17:06<03:05, 16.20it/s]"
          ]
        },
        {
          "output_type": "stream",
          "name": "stdout",
          "text": [
            "Iteration: 197000. \n",
            "Test - Loss: 0.5626968741416931. Accuracy: 69.67213114754098\n",
            "Train -  Loss: 0.5443769693374634. Accuracy: 71.36986301369863\n",
            "\n"
          ]
        },
        {
          "output_type": "stream",
          "name": "stderr",
          "text": [
            "Training Epochs:  99%|█████████▉| 198003/200000 [3:18:06<02:00, 16.56it/s]"
          ]
        },
        {
          "output_type": "stream",
          "name": "stdout",
          "text": [
            "Iteration: 198000. \n",
            "Test - Loss: 0.5626891255378723. Accuracy: 72.1311475409836\n",
            "Train -  Loss: 0.5427650809288025. Accuracy: 70.68493150684931\n",
            "\n"
          ]
        },
        {
          "output_type": "stream",
          "name": "stderr",
          "text": [
            "Training Epochs: 100%|█████████▉| 199003/200000 [3:19:07<01:00, 16.53it/s]"
          ]
        },
        {
          "output_type": "stream",
          "name": "stdout",
          "text": [
            "Iteration: 199000. \n",
            "Test - Loss: 0.5652236342430115. Accuracy: 70.49180327868852\n",
            "Train -  Loss: 0.5423424243927002. Accuracy: 71.23287671232876\n",
            "\n"
          ]
        },
        {
          "output_type": "stream",
          "name": "stderr",
          "text": [
            "Training Epochs: 100%|██████████| 200000/200000 [3:20:08<00:00, 16.66it/s]\n"
          ]
        },
        {
          "output_type": "stream",
          "name": "stdout",
          "text": [
            "Iteration: 200000. \n",
            "Test - Loss: 0.561362624168396. Accuracy: 69.67213114754098\n",
            "Train -  Loss: 0.5422694683074951. Accuracy: 70.95890410958904\n",
            "\n"
          ]
        }
      ],
      "source": [
        "losses = []\n",
        "losses_test = []\n",
        "Iterations = []\n",
        "iter = 0\n",
        "for epoch in tqdm(range(int(epochs)),desc='Training Epochs'):\n",
        "    x = X_train\n",
        "    labels = y_train\n",
        "    optimizer.zero_grad() # Setting our stored gradients equal to zero\n",
        "    outputs = model(X_train)\n",
        "    loss = criterion(torch.squeeze(outputs), labels) # [200,1] -squeeze-> [200]\n",
        "    \n",
        "    loss.backward() # Computes the gradient of the given tensor w.r.t. graph leaves \n",
        "    \n",
        "    optimizer.step() # Updates weights and biases with the optimizer (SGD)\n",
        "    iter+=1\n",
        "    if iter%1000==0:\n",
        "        # calculate Accuracy\n",
        "        with torch.no_grad():\n",
        "            # Calculating the loss and accuracy for the test dataset\n",
        "            correct_test = 0\n",
        "            total_test = 0\n",
        "            outputs_test = torch.squeeze(model(X_test))\n",
        "            loss_test = criterion(outputs_test, y_test)\n",
        "            \n",
        "            predicted_test = outputs_test.round().detach().numpy()\n",
        "            total_test += y_test.size(0)\n",
        "            correct_test += np.sum(predicted_test == y_test.detach().numpy())\n",
        "            accuracy_test = 100 * correct_test/total_test\n",
        "            losses_test.append(loss_test.item())\n",
        "            \n",
        "            # Calculating the loss and accuracy for the train dataset\n",
        "            total = 0\n",
        "            correct = 0\n",
        "            total += y_train.size(0)\n",
        "            correct += np.sum(torch.squeeze(outputs).round().detach().numpy() == y_train.detach().numpy())\n",
        "            accuracy = 100 * correct/total\n",
        "            losses.append(loss.item())\n",
        "            Iterations.append(iter)\n",
        "            \n",
        "            print(f\"Iteration: {iter}. \\nTest - Loss: {loss_test.item()}. Accuracy: {accuracy_test}\")\n",
        "            print(f\"Train -  Loss: {loss.item()}. Accuracy: {accuracy}\\n\")"
      ]
    },
    {
      "cell_type": "code",
      "execution_count": null,
      "metadata": {
        "id": "NuUtDc1J5sws"
      },
      "outputs": [],
      "source": []
    }
  ],
  "metadata": {
    "colab": {
      "collapsed_sections": [],
      "provenance": []
    },
    "kernelspec": {
      "display_name": "Python 3",
      "name": "python3"
    },
    "language_info": {
      "name": "python"
    }
  },
  "nbformat": 4,
  "nbformat_minor": 0
}