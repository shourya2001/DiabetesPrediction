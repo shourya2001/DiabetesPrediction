{
  "cells": [
    {
      "cell_type": "code",
      "execution_count": null,
      "metadata": {
        "id": "Tm2X6X8tH7Wp"
      },
      "outputs": [],
      "source": [
        "import numpy as np\n",
        "import pandas as pd\n",
        "import matplotlib.pyplot as plt\n",
        "import missingno as msno\n",
        "from pandas.plotting import scatter_matrix\n",
        "import matplotlib.pyplot as plt\n",
        "import seaborn as sns"
      ]
    },
    {
      "cell_type": "code",
      "execution_count": null,
      "metadata": {
        "colab": {
          "base_uri": "https://localhost:8080/",
          "height": 206
        },
        "id": "CUymf3z_IR9m",
        "outputId": "5d5fdc5d-cca8-4292-8742-c6688152b126"
      },
      "outputs": [
        {
          "data": {
            "text/html": [
              "\n",
              "  <div id=\"df-4be693da-ae85-41eb-8cab-c91d5a41baae\">\n",
              "    <div class=\"colab-df-container\">\n",
              "      <div>\n",
              "<style scoped>\n",
              "    .dataframe tbody tr th:only-of-type {\n",
              "        vertical-align: middle;\n",
              "    }\n",
              "\n",
              "    .dataframe tbody tr th {\n",
              "        vertical-align: top;\n",
              "    }\n",
              "\n",
              "    .dataframe thead th {\n",
              "        text-align: right;\n",
              "    }\n",
              "</style>\n",
              "<table border=\"1\" class=\"dataframe\">\n",
              "  <thead>\n",
              "    <tr style=\"text-align: right;\">\n",
              "      <th></th>\n",
              "      <th>Pregnancies</th>\n",
              "      <th>Glucose</th>\n",
              "      <th>BloodPressure</th>\n",
              "      <th>SkinThickness</th>\n",
              "      <th>Insulin</th>\n",
              "      <th>BMI</th>\n",
              "      <th>DiabetesPedigreeFunction</th>\n",
              "      <th>Age</th>\n",
              "      <th>Outcome</th>\n",
              "    </tr>\n",
              "  </thead>\n",
              "  <tbody>\n",
              "    <tr>\n",
              "      <th>0</th>\n",
              "      <td>6</td>\n",
              "      <td>148</td>\n",
              "      <td>72</td>\n",
              "      <td>35</td>\n",
              "      <td>0</td>\n",
              "      <td>33.6</td>\n",
              "      <td>0.627</td>\n",
              "      <td>50</td>\n",
              "      <td>1</td>\n",
              "    </tr>\n",
              "    <tr>\n",
              "      <th>1</th>\n",
              "      <td>1</td>\n",
              "      <td>85</td>\n",
              "      <td>66</td>\n",
              "      <td>29</td>\n",
              "      <td>0</td>\n",
              "      <td>26.6</td>\n",
              "      <td>0.351</td>\n",
              "      <td>31</td>\n",
              "      <td>0</td>\n",
              "    </tr>\n",
              "    <tr>\n",
              "      <th>2</th>\n",
              "      <td>8</td>\n",
              "      <td>183</td>\n",
              "      <td>64</td>\n",
              "      <td>0</td>\n",
              "      <td>0</td>\n",
              "      <td>23.3</td>\n",
              "      <td>0.672</td>\n",
              "      <td>32</td>\n",
              "      <td>1</td>\n",
              "    </tr>\n",
              "    <tr>\n",
              "      <th>3</th>\n",
              "      <td>1</td>\n",
              "      <td>89</td>\n",
              "      <td>66</td>\n",
              "      <td>23</td>\n",
              "      <td>94</td>\n",
              "      <td>28.1</td>\n",
              "      <td>0.167</td>\n",
              "      <td>21</td>\n",
              "      <td>0</td>\n",
              "    </tr>\n",
              "    <tr>\n",
              "      <th>4</th>\n",
              "      <td>0</td>\n",
              "      <td>137</td>\n",
              "      <td>40</td>\n",
              "      <td>35</td>\n",
              "      <td>168</td>\n",
              "      <td>43.1</td>\n",
              "      <td>2.288</td>\n",
              "      <td>33</td>\n",
              "      <td>1</td>\n",
              "    </tr>\n",
              "  </tbody>\n",
              "</table>\n",
              "</div>\n",
              "      <button class=\"colab-df-convert\" onclick=\"convertToInteractive('df-4be693da-ae85-41eb-8cab-c91d5a41baae')\"\n",
              "              title=\"Convert this dataframe to an interactive table.\"\n",
              "              style=\"display:none;\">\n",
              "        \n",
              "  <svg xmlns=\"http://www.w3.org/2000/svg\" height=\"24px\"viewBox=\"0 0 24 24\"\n",
              "       width=\"24px\">\n",
              "    <path d=\"M0 0h24v24H0V0z\" fill=\"none\"/>\n",
              "    <path d=\"M18.56 5.44l.94 2.06.94-2.06 2.06-.94-2.06-.94-.94-2.06-.94 2.06-2.06.94zm-11 1L8.5 8.5l.94-2.06 2.06-.94-2.06-.94L8.5 2.5l-.94 2.06-2.06.94zm10 10l.94 2.06.94-2.06 2.06-.94-2.06-.94-.94-2.06-.94 2.06-2.06.94z\"/><path d=\"M17.41 7.96l-1.37-1.37c-.4-.4-.92-.59-1.43-.59-.52 0-1.04.2-1.43.59L10.3 9.45l-7.72 7.72c-.78.78-.78 2.05 0 2.83L4 21.41c.39.39.9.59 1.41.59.51 0 1.02-.2 1.41-.59l7.78-7.78 2.81-2.81c.8-.78.8-2.07 0-2.86zM5.41 20L4 18.59l7.72-7.72 1.47 1.35L5.41 20z\"/>\n",
              "  </svg>\n",
              "      </button>\n",
              "      \n",
              "  <style>\n",
              "    .colab-df-container {\n",
              "      display:flex;\n",
              "      flex-wrap:wrap;\n",
              "      gap: 12px;\n",
              "    }\n",
              "\n",
              "    .colab-df-convert {\n",
              "      background-color: #E8F0FE;\n",
              "      border: none;\n",
              "      border-radius: 50%;\n",
              "      cursor: pointer;\n",
              "      display: none;\n",
              "      fill: #1967D2;\n",
              "      height: 32px;\n",
              "      padding: 0 0 0 0;\n",
              "      width: 32px;\n",
              "    }\n",
              "\n",
              "    .colab-df-convert:hover {\n",
              "      background-color: #E2EBFA;\n",
              "      box-shadow: 0px 1px 2px rgba(60, 64, 67, 0.3), 0px 1px 3px 1px rgba(60, 64, 67, 0.15);\n",
              "      fill: #174EA6;\n",
              "    }\n",
              "\n",
              "    [theme=dark] .colab-df-convert {\n",
              "      background-color: #3B4455;\n",
              "      fill: #D2E3FC;\n",
              "    }\n",
              "\n",
              "    [theme=dark] .colab-df-convert:hover {\n",
              "      background-color: #434B5C;\n",
              "      box-shadow: 0px 1px 3px 1px rgba(0, 0, 0, 0.15);\n",
              "      filter: drop-shadow(0px 1px 2px rgba(0, 0, 0, 0.3));\n",
              "      fill: #FFFFFF;\n",
              "    }\n",
              "  </style>\n",
              "\n",
              "      <script>\n",
              "        const buttonEl =\n",
              "          document.querySelector('#df-4be693da-ae85-41eb-8cab-c91d5a41baae button.colab-df-convert');\n",
              "        buttonEl.style.display =\n",
              "          google.colab.kernel.accessAllowed ? 'block' : 'none';\n",
              "\n",
              "        async function convertToInteractive(key) {\n",
              "          const element = document.querySelector('#df-4be693da-ae85-41eb-8cab-c91d5a41baae');\n",
              "          const dataTable =\n",
              "            await google.colab.kernel.invokeFunction('convertToInteractive',\n",
              "                                                     [key], {});\n",
              "          if (!dataTable) return;\n",
              "\n",
              "          const docLinkHtml = 'Like what you see? Visit the ' +\n",
              "            '<a target=\"_blank\" href=https://colab.research.google.com/notebooks/data_table.ipynb>data table notebook</a>'\n",
              "            + ' to learn more about interactive tables.';\n",
              "          element.innerHTML = '';\n",
              "          dataTable['output_type'] = 'display_data';\n",
              "          await google.colab.output.renderOutput(dataTable, element);\n",
              "          const docLink = document.createElement('div');\n",
              "          docLink.innerHTML = docLinkHtml;\n",
              "          element.appendChild(docLink);\n",
              "        }\n",
              "      </script>\n",
              "    </div>\n",
              "  </div>\n",
              "  "
            ],
            "text/plain": [
              "   Pregnancies  Glucose  BloodPressure  SkinThickness  Insulin   BMI  \\\n",
              "0            6      148             72             35        0  33.6   \n",
              "1            1       85             66             29        0  26.6   \n",
              "2            8      183             64              0        0  23.3   \n",
              "3            1       89             66             23       94  28.1   \n",
              "4            0      137             40             35      168  43.1   \n",
              "\n",
              "   DiabetesPedigreeFunction  Age  Outcome  \n",
              "0                     0.627   50        1  \n",
              "1                     0.351   31        0  \n",
              "2                     0.672   32        1  \n",
              "3                     0.167   21        0  \n",
              "4                     2.288   33        1  "
            ]
          },
          "execution_count": 2,
          "metadata": {},
          "output_type": "execute_result"
        }
      ],
      "source": [
        "df = pd.read_csv('sample_data/diabetes.csv')\n",
        "df.head()"
      ]
    },
    {
      "cell_type": "code",
      "execution_count": null,
      "metadata": {
        "colab": {
          "base_uri": "https://localhost:8080/"
        },
        "id": "RhatnW3oItTL",
        "outputId": "935fbc05-1c4c-4fc2-ef6b-78a740694374"
      },
      "outputs": [
        {
          "name": "stdout",
          "output_type": "stream",
          "text": [
            "<class 'pandas.core.frame.DataFrame'>\n",
            "RangeIndex: 768 entries, 0 to 767\n",
            "Data columns (total 9 columns):\n",
            " #   Column                    Non-Null Count  Dtype  \n",
            "---  ------                    --------------  -----  \n",
            " 0   Pregnancies               768 non-null    int64  \n",
            " 1   Glucose                   768 non-null    int64  \n",
            " 2   BloodPressure             768 non-null    int64  \n",
            " 3   SkinThickness             768 non-null    int64  \n",
            " 4   Insulin                   768 non-null    int64  \n",
            " 5   BMI                       768 non-null    float64\n",
            " 6   DiabetesPedigreeFunction  768 non-null    float64\n",
            " 7   Age                       768 non-null    int64  \n",
            " 8   Outcome                   768 non-null    int64  \n",
            "dtypes: float64(2), int64(7)\n",
            "memory usage: 54.1 KB\n"
          ]
        }
      ],
      "source": [
        "df.info()"
      ]
    },
    {
      "cell_type": "code",
      "execution_count": null,
      "metadata": {
        "colab": {
          "base_uri": "https://localhost:8080/"
        },
        "id": "w4sM7qzFIdyU",
        "outputId": "3b386faf-5188-4059-a730-1bbc8df97406"
      },
      "outputs": [
        {
          "data": {
            "text/plain": [
              "Index(['Pregnancies', 'Glucose', 'BloodPressure', 'SkinThickness', 'Insulin',\n",
              "       'BMI', 'DiabetesPedigreeFunction', 'Age', 'Outcome'],\n",
              "      dtype='object')"
            ]
          },
          "execution_count": 4,
          "metadata": {},
          "output_type": "execute_result"
        }
      ],
      "source": [
        "df.columns"
      ]
    },
    {
      "cell_type": "code",
      "execution_count": null,
      "metadata": {
        "colab": {
          "base_uri": "https://localhost:8080/",
          "height": 300
        },
        "id": "X6kw11-8I15d",
        "outputId": "fd691479-4afc-42a7-a2ba-a3f502d42709"
      },
      "outputs": [
        {
          "data": {
            "text/html": [
              "\n",
              "  <div id=\"df-f7b05cca-4015-40b9-af63-855c83906aa9\">\n",
              "    <div class=\"colab-df-container\">\n",
              "      <div>\n",
              "<style scoped>\n",
              "    .dataframe tbody tr th:only-of-type {\n",
              "        vertical-align: middle;\n",
              "    }\n",
              "\n",
              "    .dataframe tbody tr th {\n",
              "        vertical-align: top;\n",
              "    }\n",
              "\n",
              "    .dataframe thead th {\n",
              "        text-align: right;\n",
              "    }\n",
              "</style>\n",
              "<table border=\"1\" class=\"dataframe\">\n",
              "  <thead>\n",
              "    <tr style=\"text-align: right;\">\n",
              "      <th></th>\n",
              "      <th>Pregnancies</th>\n",
              "      <th>Glucose</th>\n",
              "      <th>BloodPressure</th>\n",
              "      <th>SkinThickness</th>\n",
              "      <th>Insulin</th>\n",
              "      <th>BMI</th>\n",
              "      <th>DiabetesPedigreeFunction</th>\n",
              "      <th>Age</th>\n",
              "      <th>Outcome</th>\n",
              "    </tr>\n",
              "  </thead>\n",
              "  <tbody>\n",
              "    <tr>\n",
              "      <th>count</th>\n",
              "      <td>768.000000</td>\n",
              "      <td>768.000000</td>\n",
              "      <td>768.000000</td>\n",
              "      <td>768.000000</td>\n",
              "      <td>768.000000</td>\n",
              "      <td>768.000000</td>\n",
              "      <td>768.000000</td>\n",
              "      <td>768.000000</td>\n",
              "      <td>768.000000</td>\n",
              "    </tr>\n",
              "    <tr>\n",
              "      <th>mean</th>\n",
              "      <td>3.845052</td>\n",
              "      <td>120.894531</td>\n",
              "      <td>69.105469</td>\n",
              "      <td>20.536458</td>\n",
              "      <td>79.799479</td>\n",
              "      <td>31.992578</td>\n",
              "      <td>0.471876</td>\n",
              "      <td>33.240885</td>\n",
              "      <td>0.348958</td>\n",
              "    </tr>\n",
              "    <tr>\n",
              "      <th>std</th>\n",
              "      <td>3.369578</td>\n",
              "      <td>31.972618</td>\n",
              "      <td>19.355807</td>\n",
              "      <td>15.952218</td>\n",
              "      <td>115.244002</td>\n",
              "      <td>7.884160</td>\n",
              "      <td>0.331329</td>\n",
              "      <td>11.760232</td>\n",
              "      <td>0.476951</td>\n",
              "    </tr>\n",
              "    <tr>\n",
              "      <th>min</th>\n",
              "      <td>0.000000</td>\n",
              "      <td>0.000000</td>\n",
              "      <td>0.000000</td>\n",
              "      <td>0.000000</td>\n",
              "      <td>0.000000</td>\n",
              "      <td>0.000000</td>\n",
              "      <td>0.078000</td>\n",
              "      <td>21.000000</td>\n",
              "      <td>0.000000</td>\n",
              "    </tr>\n",
              "    <tr>\n",
              "      <th>25%</th>\n",
              "      <td>1.000000</td>\n",
              "      <td>99.000000</td>\n",
              "      <td>62.000000</td>\n",
              "      <td>0.000000</td>\n",
              "      <td>0.000000</td>\n",
              "      <td>27.300000</td>\n",
              "      <td>0.243750</td>\n",
              "      <td>24.000000</td>\n",
              "      <td>0.000000</td>\n",
              "    </tr>\n",
              "    <tr>\n",
              "      <th>50%</th>\n",
              "      <td>3.000000</td>\n",
              "      <td>117.000000</td>\n",
              "      <td>72.000000</td>\n",
              "      <td>23.000000</td>\n",
              "      <td>30.500000</td>\n",
              "      <td>32.000000</td>\n",
              "      <td>0.372500</td>\n",
              "      <td>29.000000</td>\n",
              "      <td>0.000000</td>\n",
              "    </tr>\n",
              "    <tr>\n",
              "      <th>75%</th>\n",
              "      <td>6.000000</td>\n",
              "      <td>140.250000</td>\n",
              "      <td>80.000000</td>\n",
              "      <td>32.000000</td>\n",
              "      <td>127.250000</td>\n",
              "      <td>36.600000</td>\n",
              "      <td>0.626250</td>\n",
              "      <td>41.000000</td>\n",
              "      <td>1.000000</td>\n",
              "    </tr>\n",
              "    <tr>\n",
              "      <th>max</th>\n",
              "      <td>17.000000</td>\n",
              "      <td>199.000000</td>\n",
              "      <td>122.000000</td>\n",
              "      <td>99.000000</td>\n",
              "      <td>846.000000</td>\n",
              "      <td>67.100000</td>\n",
              "      <td>2.420000</td>\n",
              "      <td>81.000000</td>\n",
              "      <td>1.000000</td>\n",
              "    </tr>\n",
              "  </tbody>\n",
              "</table>\n",
              "</div>\n",
              "      <button class=\"colab-df-convert\" onclick=\"convertToInteractive('df-f7b05cca-4015-40b9-af63-855c83906aa9')\"\n",
              "              title=\"Convert this dataframe to an interactive table.\"\n",
              "              style=\"display:none;\">\n",
              "        \n",
              "  <svg xmlns=\"http://www.w3.org/2000/svg\" height=\"24px\"viewBox=\"0 0 24 24\"\n",
              "       width=\"24px\">\n",
              "    <path d=\"M0 0h24v24H0V0z\" fill=\"none\"/>\n",
              "    <path d=\"M18.56 5.44l.94 2.06.94-2.06 2.06-.94-2.06-.94-.94-2.06-.94 2.06-2.06.94zm-11 1L8.5 8.5l.94-2.06 2.06-.94-2.06-.94L8.5 2.5l-.94 2.06-2.06.94zm10 10l.94 2.06.94-2.06 2.06-.94-2.06-.94-.94-2.06-.94 2.06-2.06.94z\"/><path d=\"M17.41 7.96l-1.37-1.37c-.4-.4-.92-.59-1.43-.59-.52 0-1.04.2-1.43.59L10.3 9.45l-7.72 7.72c-.78.78-.78 2.05 0 2.83L4 21.41c.39.39.9.59 1.41.59.51 0 1.02-.2 1.41-.59l7.78-7.78 2.81-2.81c.8-.78.8-2.07 0-2.86zM5.41 20L4 18.59l7.72-7.72 1.47 1.35L5.41 20z\"/>\n",
              "  </svg>\n",
              "      </button>\n",
              "      \n",
              "  <style>\n",
              "    .colab-df-container {\n",
              "      display:flex;\n",
              "      flex-wrap:wrap;\n",
              "      gap: 12px;\n",
              "    }\n",
              "\n",
              "    .colab-df-convert {\n",
              "      background-color: #E8F0FE;\n",
              "      border: none;\n",
              "      border-radius: 50%;\n",
              "      cursor: pointer;\n",
              "      display: none;\n",
              "      fill: #1967D2;\n",
              "      height: 32px;\n",
              "      padding: 0 0 0 0;\n",
              "      width: 32px;\n",
              "    }\n",
              "\n",
              "    .colab-df-convert:hover {\n",
              "      background-color: #E2EBFA;\n",
              "      box-shadow: 0px 1px 2px rgba(60, 64, 67, 0.3), 0px 1px 3px 1px rgba(60, 64, 67, 0.15);\n",
              "      fill: #174EA6;\n",
              "    }\n",
              "\n",
              "    [theme=dark] .colab-df-convert {\n",
              "      background-color: #3B4455;\n",
              "      fill: #D2E3FC;\n",
              "    }\n",
              "\n",
              "    [theme=dark] .colab-df-convert:hover {\n",
              "      background-color: #434B5C;\n",
              "      box-shadow: 0px 1px 3px 1px rgba(0, 0, 0, 0.15);\n",
              "      filter: drop-shadow(0px 1px 2px rgba(0, 0, 0, 0.3));\n",
              "      fill: #FFFFFF;\n",
              "    }\n",
              "  </style>\n",
              "\n",
              "      <script>\n",
              "        const buttonEl =\n",
              "          document.querySelector('#df-f7b05cca-4015-40b9-af63-855c83906aa9 button.colab-df-convert');\n",
              "        buttonEl.style.display =\n",
              "          google.colab.kernel.accessAllowed ? 'block' : 'none';\n",
              "\n",
              "        async function convertToInteractive(key) {\n",
              "          const element = document.querySelector('#df-f7b05cca-4015-40b9-af63-855c83906aa9');\n",
              "          const dataTable =\n",
              "            await google.colab.kernel.invokeFunction('convertToInteractive',\n",
              "                                                     [key], {});\n",
              "          if (!dataTable) return;\n",
              "\n",
              "          const docLinkHtml = 'Like what you see? Visit the ' +\n",
              "            '<a target=\"_blank\" href=https://colab.research.google.com/notebooks/data_table.ipynb>data table notebook</a>'\n",
              "            + ' to learn more about interactive tables.';\n",
              "          element.innerHTML = '';\n",
              "          dataTable['output_type'] = 'display_data';\n",
              "          await google.colab.output.renderOutput(dataTable, element);\n",
              "          const docLink = document.createElement('div');\n",
              "          docLink.innerHTML = docLinkHtml;\n",
              "          element.appendChild(docLink);\n",
              "        }\n",
              "      </script>\n",
              "    </div>\n",
              "  </div>\n",
              "  "
            ],
            "text/plain": [
              "       Pregnancies     Glucose  BloodPressure  SkinThickness     Insulin  \\\n",
              "count   768.000000  768.000000     768.000000     768.000000  768.000000   \n",
              "mean      3.845052  120.894531      69.105469      20.536458   79.799479   \n",
              "std       3.369578   31.972618      19.355807      15.952218  115.244002   \n",
              "min       0.000000    0.000000       0.000000       0.000000    0.000000   \n",
              "25%       1.000000   99.000000      62.000000       0.000000    0.000000   \n",
              "50%       3.000000  117.000000      72.000000      23.000000   30.500000   \n",
              "75%       6.000000  140.250000      80.000000      32.000000  127.250000   \n",
              "max      17.000000  199.000000     122.000000      99.000000  846.000000   \n",
              "\n",
              "              BMI  DiabetesPedigreeFunction         Age     Outcome  \n",
              "count  768.000000                768.000000  768.000000  768.000000  \n",
              "mean    31.992578                  0.471876   33.240885    0.348958  \n",
              "std      7.884160                  0.331329   11.760232    0.476951  \n",
              "min      0.000000                  0.078000   21.000000    0.000000  \n",
              "25%     27.300000                  0.243750   24.000000    0.000000  \n",
              "50%     32.000000                  0.372500   29.000000    0.000000  \n",
              "75%     36.600000                  0.626250   41.000000    1.000000  \n",
              "max     67.100000                  2.420000   81.000000    1.000000  "
            ]
          },
          "execution_count": 5,
          "metadata": {},
          "output_type": "execute_result"
        }
      ],
      "source": [
        "df.describe()"
      ]
    },
    {
      "cell_type": "code",
      "execution_count": null,
      "metadata": {
        "colab": {
          "base_uri": "https://localhost:8080/",
          "height": 332
        },
        "id": "-7qfmDGIJAkL",
        "outputId": "0b45d78f-6f07-49c7-9250-2a40bc346b87"
      },
      "outputs": [
        {
          "data": {
            "text/html": [
              "\n",
              "  <div id=\"df-dc8d119c-aff7-4109-9b4b-4adc11b7421d\">\n",
              "    <div class=\"colab-df-container\">\n",
              "      <div>\n",
              "<style scoped>\n",
              "    .dataframe tbody tr th:only-of-type {\n",
              "        vertical-align: middle;\n",
              "    }\n",
              "\n",
              "    .dataframe tbody tr th {\n",
              "        vertical-align: top;\n",
              "    }\n",
              "\n",
              "    .dataframe thead th {\n",
              "        text-align: right;\n",
              "    }\n",
              "</style>\n",
              "<table border=\"1\" class=\"dataframe\">\n",
              "  <thead>\n",
              "    <tr style=\"text-align: right;\">\n",
              "      <th></th>\n",
              "      <th>count</th>\n",
              "      <th>mean</th>\n",
              "      <th>std</th>\n",
              "      <th>min</th>\n",
              "      <th>25%</th>\n",
              "      <th>50%</th>\n",
              "      <th>75%</th>\n",
              "      <th>max</th>\n",
              "    </tr>\n",
              "  </thead>\n",
              "  <tbody>\n",
              "    <tr>\n",
              "      <th>Pregnancies</th>\n",
              "      <td>768.0</td>\n",
              "      <td>3.845052</td>\n",
              "      <td>3.369578</td>\n",
              "      <td>0.000</td>\n",
              "      <td>1.00000</td>\n",
              "      <td>3.0000</td>\n",
              "      <td>6.00000</td>\n",
              "      <td>17.00</td>\n",
              "    </tr>\n",
              "    <tr>\n",
              "      <th>Glucose</th>\n",
              "      <td>768.0</td>\n",
              "      <td>120.894531</td>\n",
              "      <td>31.972618</td>\n",
              "      <td>0.000</td>\n",
              "      <td>99.00000</td>\n",
              "      <td>117.0000</td>\n",
              "      <td>140.25000</td>\n",
              "      <td>199.00</td>\n",
              "    </tr>\n",
              "    <tr>\n",
              "      <th>BloodPressure</th>\n",
              "      <td>768.0</td>\n",
              "      <td>69.105469</td>\n",
              "      <td>19.355807</td>\n",
              "      <td>0.000</td>\n",
              "      <td>62.00000</td>\n",
              "      <td>72.0000</td>\n",
              "      <td>80.00000</td>\n",
              "      <td>122.00</td>\n",
              "    </tr>\n",
              "    <tr>\n",
              "      <th>SkinThickness</th>\n",
              "      <td>768.0</td>\n",
              "      <td>20.536458</td>\n",
              "      <td>15.952218</td>\n",
              "      <td>0.000</td>\n",
              "      <td>0.00000</td>\n",
              "      <td>23.0000</td>\n",
              "      <td>32.00000</td>\n",
              "      <td>99.00</td>\n",
              "    </tr>\n",
              "    <tr>\n",
              "      <th>Insulin</th>\n",
              "      <td>768.0</td>\n",
              "      <td>79.799479</td>\n",
              "      <td>115.244002</td>\n",
              "      <td>0.000</td>\n",
              "      <td>0.00000</td>\n",
              "      <td>30.5000</td>\n",
              "      <td>127.25000</td>\n",
              "      <td>846.00</td>\n",
              "    </tr>\n",
              "    <tr>\n",
              "      <th>BMI</th>\n",
              "      <td>768.0</td>\n",
              "      <td>31.992578</td>\n",
              "      <td>7.884160</td>\n",
              "      <td>0.000</td>\n",
              "      <td>27.30000</td>\n",
              "      <td>32.0000</td>\n",
              "      <td>36.60000</td>\n",
              "      <td>67.10</td>\n",
              "    </tr>\n",
              "    <tr>\n",
              "      <th>DiabetesPedigreeFunction</th>\n",
              "      <td>768.0</td>\n",
              "      <td>0.471876</td>\n",
              "      <td>0.331329</td>\n",
              "      <td>0.078</td>\n",
              "      <td>0.24375</td>\n",
              "      <td>0.3725</td>\n",
              "      <td>0.62625</td>\n",
              "      <td>2.42</td>\n",
              "    </tr>\n",
              "    <tr>\n",
              "      <th>Age</th>\n",
              "      <td>768.0</td>\n",
              "      <td>33.240885</td>\n",
              "      <td>11.760232</td>\n",
              "      <td>21.000</td>\n",
              "      <td>24.00000</td>\n",
              "      <td>29.0000</td>\n",
              "      <td>41.00000</td>\n",
              "      <td>81.00</td>\n",
              "    </tr>\n",
              "    <tr>\n",
              "      <th>Outcome</th>\n",
              "      <td>768.0</td>\n",
              "      <td>0.348958</td>\n",
              "      <td>0.476951</td>\n",
              "      <td>0.000</td>\n",
              "      <td>0.00000</td>\n",
              "      <td>0.0000</td>\n",
              "      <td>1.00000</td>\n",
              "      <td>1.00</td>\n",
              "    </tr>\n",
              "  </tbody>\n",
              "</table>\n",
              "</div>\n",
              "      <button class=\"colab-df-convert\" onclick=\"convertToInteractive('df-dc8d119c-aff7-4109-9b4b-4adc11b7421d')\"\n",
              "              title=\"Convert this dataframe to an interactive table.\"\n",
              "              style=\"display:none;\">\n",
              "        \n",
              "  <svg xmlns=\"http://www.w3.org/2000/svg\" height=\"24px\"viewBox=\"0 0 24 24\"\n",
              "       width=\"24px\">\n",
              "    <path d=\"M0 0h24v24H0V0z\" fill=\"none\"/>\n",
              "    <path d=\"M18.56 5.44l.94 2.06.94-2.06 2.06-.94-2.06-.94-.94-2.06-.94 2.06-2.06.94zm-11 1L8.5 8.5l.94-2.06 2.06-.94-2.06-.94L8.5 2.5l-.94 2.06-2.06.94zm10 10l.94 2.06.94-2.06 2.06-.94-2.06-.94-.94-2.06-.94 2.06-2.06.94z\"/><path d=\"M17.41 7.96l-1.37-1.37c-.4-.4-.92-.59-1.43-.59-.52 0-1.04.2-1.43.59L10.3 9.45l-7.72 7.72c-.78.78-.78 2.05 0 2.83L4 21.41c.39.39.9.59 1.41.59.51 0 1.02-.2 1.41-.59l7.78-7.78 2.81-2.81c.8-.78.8-2.07 0-2.86zM5.41 20L4 18.59l7.72-7.72 1.47 1.35L5.41 20z\"/>\n",
              "  </svg>\n",
              "      </button>\n",
              "      \n",
              "  <style>\n",
              "    .colab-df-container {\n",
              "      display:flex;\n",
              "      flex-wrap:wrap;\n",
              "      gap: 12px;\n",
              "    }\n",
              "\n",
              "    .colab-df-convert {\n",
              "      background-color: #E8F0FE;\n",
              "      border: none;\n",
              "      border-radius: 50%;\n",
              "      cursor: pointer;\n",
              "      display: none;\n",
              "      fill: #1967D2;\n",
              "      height: 32px;\n",
              "      padding: 0 0 0 0;\n",
              "      width: 32px;\n",
              "    }\n",
              "\n",
              "    .colab-df-convert:hover {\n",
              "      background-color: #E2EBFA;\n",
              "      box-shadow: 0px 1px 2px rgba(60, 64, 67, 0.3), 0px 1px 3px 1px rgba(60, 64, 67, 0.15);\n",
              "      fill: #174EA6;\n",
              "    }\n",
              "\n",
              "    [theme=dark] .colab-df-convert {\n",
              "      background-color: #3B4455;\n",
              "      fill: #D2E3FC;\n",
              "    }\n",
              "\n",
              "    [theme=dark] .colab-df-convert:hover {\n",
              "      background-color: #434B5C;\n",
              "      box-shadow: 0px 1px 3px 1px rgba(0, 0, 0, 0.15);\n",
              "      filter: drop-shadow(0px 1px 2px rgba(0, 0, 0, 0.3));\n",
              "      fill: #FFFFFF;\n",
              "    }\n",
              "  </style>\n",
              "\n",
              "      <script>\n",
              "        const buttonEl =\n",
              "          document.querySelector('#df-dc8d119c-aff7-4109-9b4b-4adc11b7421d button.colab-df-convert');\n",
              "        buttonEl.style.display =\n",
              "          google.colab.kernel.accessAllowed ? 'block' : 'none';\n",
              "\n",
              "        async function convertToInteractive(key) {\n",
              "          const element = document.querySelector('#df-dc8d119c-aff7-4109-9b4b-4adc11b7421d');\n",
              "          const dataTable =\n",
              "            await google.colab.kernel.invokeFunction('convertToInteractive',\n",
              "                                                     [key], {});\n",
              "          if (!dataTable) return;\n",
              "\n",
              "          const docLinkHtml = 'Like what you see? Visit the ' +\n",
              "            '<a target=\"_blank\" href=https://colab.research.google.com/notebooks/data_table.ipynb>data table notebook</a>'\n",
              "            + ' to learn more about interactive tables.';\n",
              "          element.innerHTML = '';\n",
              "          dataTable['output_type'] = 'display_data';\n",
              "          await google.colab.output.renderOutput(dataTable, element);\n",
              "          const docLink = document.createElement('div');\n",
              "          docLink.innerHTML = docLinkHtml;\n",
              "          element.appendChild(docLink);\n",
              "        }\n",
              "      </script>\n",
              "    </div>\n",
              "  </div>\n",
              "  "
            ],
            "text/plain": [
              "                          count        mean         std     min       25%  \\\n",
              "Pregnancies               768.0    3.845052    3.369578   0.000   1.00000   \n",
              "Glucose                   768.0  120.894531   31.972618   0.000  99.00000   \n",
              "BloodPressure             768.0   69.105469   19.355807   0.000  62.00000   \n",
              "SkinThickness             768.0   20.536458   15.952218   0.000   0.00000   \n",
              "Insulin                   768.0   79.799479  115.244002   0.000   0.00000   \n",
              "BMI                       768.0   31.992578    7.884160   0.000  27.30000   \n",
              "DiabetesPedigreeFunction  768.0    0.471876    0.331329   0.078   0.24375   \n",
              "Age                       768.0   33.240885   11.760232  21.000  24.00000   \n",
              "Outcome                   768.0    0.348958    0.476951   0.000   0.00000   \n",
              "\n",
              "                               50%        75%     max  \n",
              "Pregnancies                 3.0000    6.00000   17.00  \n",
              "Glucose                   117.0000  140.25000  199.00  \n",
              "BloodPressure              72.0000   80.00000  122.00  \n",
              "SkinThickness              23.0000   32.00000   99.00  \n",
              "Insulin                    30.5000  127.25000  846.00  \n",
              "BMI                        32.0000   36.60000   67.10  \n",
              "DiabetesPedigreeFunction    0.3725    0.62625    2.42  \n",
              "Age                        29.0000   41.00000   81.00  \n",
              "Outcome                     0.0000    1.00000    1.00  "
            ]
          },
          "execution_count": 6,
          "metadata": {},
          "output_type": "execute_result"
        }
      ],
      "source": [
        "# You can take transpose of the above table\n",
        "df.describe().T"
      ]
    },
    {
      "cell_type": "code",
      "execution_count": null,
      "metadata": {
        "colab": {
          "base_uri": "https://localhost:8080/",
          "height": 363
        },
        "id": "ZSZUDCXYJL29",
        "outputId": "74cb7eaf-163b-44b3-fc2d-23593bcd6b51"
      },
      "outputs": [
        {
          "data": {
            "text/html": [
              "\n",
              "  <div id=\"df-ee7d7f62-e0f5-45a4-ac87-ef39c182a578\">\n",
              "    <div class=\"colab-df-container\">\n",
              "      <div>\n",
              "<style scoped>\n",
              "    .dataframe tbody tr th:only-of-type {\n",
              "        vertical-align: middle;\n",
              "    }\n",
              "\n",
              "    .dataframe tbody tr th {\n",
              "        vertical-align: top;\n",
              "    }\n",
              "\n",
              "    .dataframe thead th {\n",
              "        text-align: right;\n",
              "    }\n",
              "</style>\n",
              "<table border=\"1\" class=\"dataframe\">\n",
              "  <thead>\n",
              "    <tr style=\"text-align: right;\">\n",
              "      <th></th>\n",
              "      <th>Pregnancies</th>\n",
              "      <th>Glucose</th>\n",
              "      <th>BloodPressure</th>\n",
              "      <th>SkinThickness</th>\n",
              "      <th>Insulin</th>\n",
              "      <th>BMI</th>\n",
              "      <th>DiabetesPedigreeFunction</th>\n",
              "      <th>Age</th>\n",
              "      <th>Outcome</th>\n",
              "    </tr>\n",
              "  </thead>\n",
              "  <tbody>\n",
              "    <tr>\n",
              "      <th>0</th>\n",
              "      <td>False</td>\n",
              "      <td>False</td>\n",
              "      <td>False</td>\n",
              "      <td>False</td>\n",
              "      <td>False</td>\n",
              "      <td>False</td>\n",
              "      <td>False</td>\n",
              "      <td>False</td>\n",
              "      <td>False</td>\n",
              "    </tr>\n",
              "    <tr>\n",
              "      <th>1</th>\n",
              "      <td>False</td>\n",
              "      <td>False</td>\n",
              "      <td>False</td>\n",
              "      <td>False</td>\n",
              "      <td>False</td>\n",
              "      <td>False</td>\n",
              "      <td>False</td>\n",
              "      <td>False</td>\n",
              "      <td>False</td>\n",
              "    </tr>\n",
              "    <tr>\n",
              "      <th>2</th>\n",
              "      <td>False</td>\n",
              "      <td>False</td>\n",
              "      <td>False</td>\n",
              "      <td>False</td>\n",
              "      <td>False</td>\n",
              "      <td>False</td>\n",
              "      <td>False</td>\n",
              "      <td>False</td>\n",
              "      <td>False</td>\n",
              "    </tr>\n",
              "    <tr>\n",
              "      <th>3</th>\n",
              "      <td>False</td>\n",
              "      <td>False</td>\n",
              "      <td>False</td>\n",
              "      <td>False</td>\n",
              "      <td>False</td>\n",
              "      <td>False</td>\n",
              "      <td>False</td>\n",
              "      <td>False</td>\n",
              "      <td>False</td>\n",
              "    </tr>\n",
              "    <tr>\n",
              "      <th>4</th>\n",
              "      <td>False</td>\n",
              "      <td>False</td>\n",
              "      <td>False</td>\n",
              "      <td>False</td>\n",
              "      <td>False</td>\n",
              "      <td>False</td>\n",
              "      <td>False</td>\n",
              "      <td>False</td>\n",
              "      <td>False</td>\n",
              "    </tr>\n",
              "    <tr>\n",
              "      <th>5</th>\n",
              "      <td>False</td>\n",
              "      <td>False</td>\n",
              "      <td>False</td>\n",
              "      <td>False</td>\n",
              "      <td>False</td>\n",
              "      <td>False</td>\n",
              "      <td>False</td>\n",
              "      <td>False</td>\n",
              "      <td>False</td>\n",
              "    </tr>\n",
              "    <tr>\n",
              "      <th>6</th>\n",
              "      <td>False</td>\n",
              "      <td>False</td>\n",
              "      <td>False</td>\n",
              "      <td>False</td>\n",
              "      <td>False</td>\n",
              "      <td>False</td>\n",
              "      <td>False</td>\n",
              "      <td>False</td>\n",
              "      <td>False</td>\n",
              "    </tr>\n",
              "    <tr>\n",
              "      <th>7</th>\n",
              "      <td>False</td>\n",
              "      <td>False</td>\n",
              "      <td>False</td>\n",
              "      <td>False</td>\n",
              "      <td>False</td>\n",
              "      <td>False</td>\n",
              "      <td>False</td>\n",
              "      <td>False</td>\n",
              "      <td>False</td>\n",
              "    </tr>\n",
              "    <tr>\n",
              "      <th>8</th>\n",
              "      <td>False</td>\n",
              "      <td>False</td>\n",
              "      <td>False</td>\n",
              "      <td>False</td>\n",
              "      <td>False</td>\n",
              "      <td>False</td>\n",
              "      <td>False</td>\n",
              "      <td>False</td>\n",
              "      <td>False</td>\n",
              "    </tr>\n",
              "    <tr>\n",
              "      <th>9</th>\n",
              "      <td>False</td>\n",
              "      <td>False</td>\n",
              "      <td>False</td>\n",
              "      <td>False</td>\n",
              "      <td>False</td>\n",
              "      <td>False</td>\n",
              "      <td>False</td>\n",
              "      <td>False</td>\n",
              "      <td>False</td>\n",
              "    </tr>\n",
              "  </tbody>\n",
              "</table>\n",
              "</div>\n",
              "      <button class=\"colab-df-convert\" onclick=\"convertToInteractive('df-ee7d7f62-e0f5-45a4-ac87-ef39c182a578')\"\n",
              "              title=\"Convert this dataframe to an interactive table.\"\n",
              "              style=\"display:none;\">\n",
              "        \n",
              "  <svg xmlns=\"http://www.w3.org/2000/svg\" height=\"24px\"viewBox=\"0 0 24 24\"\n",
              "       width=\"24px\">\n",
              "    <path d=\"M0 0h24v24H0V0z\" fill=\"none\"/>\n",
              "    <path d=\"M18.56 5.44l.94 2.06.94-2.06 2.06-.94-2.06-.94-.94-2.06-.94 2.06-2.06.94zm-11 1L8.5 8.5l.94-2.06 2.06-.94-2.06-.94L8.5 2.5l-.94 2.06-2.06.94zm10 10l.94 2.06.94-2.06 2.06-.94-2.06-.94-.94-2.06-.94 2.06-2.06.94z\"/><path d=\"M17.41 7.96l-1.37-1.37c-.4-.4-.92-.59-1.43-.59-.52 0-1.04.2-1.43.59L10.3 9.45l-7.72 7.72c-.78.78-.78 2.05 0 2.83L4 21.41c.39.39.9.59 1.41.59.51 0 1.02-.2 1.41-.59l7.78-7.78 2.81-2.81c.8-.78.8-2.07 0-2.86zM5.41 20L4 18.59l7.72-7.72 1.47 1.35L5.41 20z\"/>\n",
              "  </svg>\n",
              "      </button>\n",
              "      \n",
              "  <style>\n",
              "    .colab-df-container {\n",
              "      display:flex;\n",
              "      flex-wrap:wrap;\n",
              "      gap: 12px;\n",
              "    }\n",
              "\n",
              "    .colab-df-convert {\n",
              "      background-color: #E8F0FE;\n",
              "      border: none;\n",
              "      border-radius: 50%;\n",
              "      cursor: pointer;\n",
              "      display: none;\n",
              "      fill: #1967D2;\n",
              "      height: 32px;\n",
              "      padding: 0 0 0 0;\n",
              "      width: 32px;\n",
              "    }\n",
              "\n",
              "    .colab-df-convert:hover {\n",
              "      background-color: #E2EBFA;\n",
              "      box-shadow: 0px 1px 2px rgba(60, 64, 67, 0.3), 0px 1px 3px 1px rgba(60, 64, 67, 0.15);\n",
              "      fill: #174EA6;\n",
              "    }\n",
              "\n",
              "    [theme=dark] .colab-df-convert {\n",
              "      background-color: #3B4455;\n",
              "      fill: #D2E3FC;\n",
              "    }\n",
              "\n",
              "    [theme=dark] .colab-df-convert:hover {\n",
              "      background-color: #434B5C;\n",
              "      box-shadow: 0px 1px 3px 1px rgba(0, 0, 0, 0.15);\n",
              "      filter: drop-shadow(0px 1px 2px rgba(0, 0, 0, 0.3));\n",
              "      fill: #FFFFFF;\n",
              "    }\n",
              "  </style>\n",
              "\n",
              "      <script>\n",
              "        const buttonEl =\n",
              "          document.querySelector('#df-ee7d7f62-e0f5-45a4-ac87-ef39c182a578 button.colab-df-convert');\n",
              "        buttonEl.style.display =\n",
              "          google.colab.kernel.accessAllowed ? 'block' : 'none';\n",
              "\n",
              "        async function convertToInteractive(key) {\n",
              "          const element = document.querySelector('#df-ee7d7f62-e0f5-45a4-ac87-ef39c182a578');\n",
              "          const dataTable =\n",
              "            await google.colab.kernel.invokeFunction('convertToInteractive',\n",
              "                                                     [key], {});\n",
              "          if (!dataTable) return;\n",
              "\n",
              "          const docLinkHtml = 'Like what you see? Visit the ' +\n",
              "            '<a target=\"_blank\" href=https://colab.research.google.com/notebooks/data_table.ipynb>data table notebook</a>'\n",
              "            + ' to learn more about interactive tables.';\n",
              "          element.innerHTML = '';\n",
              "          dataTable['output_type'] = 'display_data';\n",
              "          await google.colab.output.renderOutput(dataTable, element);\n",
              "          const docLink = document.createElement('div');\n",
              "          docLink.innerHTML = docLinkHtml;\n",
              "          element.appendChild(docLink);\n",
              "        }\n",
              "      </script>\n",
              "    </div>\n",
              "  </div>\n",
              "  "
            ],
            "text/plain": [
              "   Pregnancies  Glucose  BloodPressure  SkinThickness  Insulin    BMI  \\\n",
              "0        False    False          False          False    False  False   \n",
              "1        False    False          False          False    False  False   \n",
              "2        False    False          False          False    False  False   \n",
              "3        False    False          False          False    False  False   \n",
              "4        False    False          False          False    False  False   \n",
              "5        False    False          False          False    False  False   \n",
              "6        False    False          False          False    False  False   \n",
              "7        False    False          False          False    False  False   \n",
              "8        False    False          False          False    False  False   \n",
              "9        False    False          False          False    False  False   \n",
              "\n",
              "   DiabetesPedigreeFunction    Age  Outcome  \n",
              "0                     False  False    False  \n",
              "1                     False  False    False  \n",
              "2                     False  False    False  \n",
              "3                     False  False    False  \n",
              "4                     False  False    False  \n",
              "5                     False  False    False  \n",
              "6                     False  False    False  \n",
              "7                     False  False    False  \n",
              "8                     False  False    False  \n",
              "9                     False  False    False  "
            ]
          },
          "execution_count": 7,
          "metadata": {},
          "output_type": "execute_result"
        }
      ],
      "source": [
        "df.isnull().head(10)"
      ]
    },
    {
      "cell_type": "code",
      "execution_count": null,
      "metadata": {
        "colab": {
          "base_uri": "https://localhost:8080/"
        },
        "id": "GL6zQeDOJXah",
        "outputId": "876fb904-1479-4447-b83e-defb8579ab2e"
      },
      "outputs": [
        {
          "data": {
            "text/plain": [
              "Pregnancies                 0\n",
              "Glucose                     0\n",
              "BloodPressure               0\n",
              "SkinThickness               0\n",
              "Insulin                     0\n",
              "BMI                         0\n",
              "DiabetesPedigreeFunction    0\n",
              "Age                         0\n",
              "Outcome                     0\n",
              "dtype: int64"
            ]
          },
          "execution_count": 8,
          "metadata": {},
          "output_type": "execute_result"
        }
      ],
      "source": [
        "df.isnull().sum()"
      ]
    },
    {
      "cell_type": "code",
      "execution_count": null,
      "metadata": {
        "colab": {
          "base_uri": "https://localhost:8080/"
        },
        "id": "3W-CY9QBJi1l",
        "outputId": "8019bf4b-d004-4bd4-d4d3-ae872166687b"
      },
      "outputs": [
        {
          "name": "stdout",
          "output_type": "stream",
          "text": [
            "Pregnancies                   0\n",
            "Glucose                       5\n",
            "BloodPressure                35\n",
            "SkinThickness               227\n",
            "Insulin                     374\n",
            "BMI                          11\n",
            "DiabetesPedigreeFunction      0\n",
            "Age                           0\n",
            "Outcome                       0\n",
            "dtype: int64\n"
          ]
        }
      ],
      "source": [
        "df_copy = df.copy(deep = True)\n",
        "df_copy[['Glucose','BloodPressure','SkinThickness','Insulin','BMI']] = df_copy[['Glucose','BloodPressure','SkinThickness','Insulin','BMI']].replace(0,np.NaN)\n",
        "\n",
        "print(df_copy.isnull().sum())"
      ]
    },
    {
      "cell_type": "code",
      "execution_count": null,
      "metadata": {
        "colab": {
          "base_uri": "https://localhost:8080/",
          "height": 607
        },
        "id": "FeY5hv8QaMgM",
        "outputId": "4a057421-53e6-4398-f5fd-16a245ac91e4"
      },
      "outputs": [
        {
          "data": {
            "image/png": "[encoded data removed]",
            "text/plain": [
              "<Figure size 720x720 with 9 Axes>"
            ]
          },
          "metadata": {},
          "output_type": "display_data"
        }
      ],
      "source": [
        "p = df.hist(figsize = (10,10))"
      ]
    },
    {
      "cell_type": "code",
      "execution_count": null,
      "metadata": {
        "id": "aJb3sm5caRWd"
      },
      "outputs": [],
      "source": [
        "# We can now fill the null values with the mean\n",
        "df_copy['Glucose'].fillna(df_copy['Glucose'].mean(), inplace = True)\n",
        "df_copy['BloodPressure'].fillna(df_copy['BloodPressure'].mean(), inplace = True)\n",
        "df_copy['SkinThickness'].fillna(df_copy['SkinThickness'].mean(), inplace = True)\n",
        "df_copy['Insulin'].fillna(df_copy['Insulin'].mean(), inplace = True)\n",
        "df_copy['BMI'].fillna(df_copy['BMI'].mean(), inplace = True)\n",
        "\n",
        "\n",
        "# Doubt here, can't it be filled with median?\n",
        "# Does it make a huge difference?"
      ]
    },
    {
      "cell_type": "code",
      "execution_count": null,
      "metadata": {
        "colab": {
          "base_uri": "https://localhost:8080/",
          "height": 607
        },
        "id": "AWGrAs55bEzq",
        "outputId": "51cd4665-b915-40d2-ae6f-06b937db1de8"
      },
      "outputs": [
        {
          "data": {
            "image/png": "[encoded data removed]",
            "text/plain": [
              "<Figure size 720x720 with 9 Axes>"
            ]
          },
          "metadata": {},
          "output_type": "display_data"
        }
      ],
      "source": [
        "p = df_copy.hist(figsize = (10,10))"
      ]
    },
    {
      "cell_type": "code",
      "execution_count": null,
      "metadata": {
        "colab": {
          "base_uri": "https://localhost:8080/",
          "height": 591
        },
        "id": "DkC42Eg0bJQi",
        "outputId": "553aade9-5c64-4596-c6d9-8e38834de6d0"
      },
      "outputs": [
        {
          "data": {
            "image/png": "[encoded data removed]",
            "text/plain": [
              "<Figure size 1800x720 with 3 Axes>"
            ]
          },
          "metadata": {},
          "output_type": "display_data"
        }
      ],
      "source": [
        "# Null count analysis\n",
        "p = msno.bar(df)"
      ]
    },
    {
      "cell_type": "code",
      "execution_count": null,
      "metadata": {
        "colab": {
          "base_uri": "https://localhost:8080/",
          "height": 314
        },
        "id": "ImzWLaGMcNuO",
        "outputId": "456316e0-773b-4c42-903f-041582aacc45"
      },
      "outputs": [
        {
          "name": "stdout",
          "output_type": "stream",
          "text": [
            "0    500\n",
            "1    268\n",
            "Name: Outcome, dtype: int64\n"
          ]
        },
        {
          "data": {
            "image/png": "[encoded data removed]",
            "text/plain": [
              "<Figure size 432x288 with 1 Axes>"
            ]
          },
          "metadata": {},
          "output_type": "display_data"
        }
      ],
      "source": [
        "color_wheel = {1: \"#0392cf\", 2: \"#7bc043\"}\n",
        "colors = df[\"Outcome\"].map(lambda x: color_wheel.get(x + 1))\n",
        "print(df.Outcome.value_counts())\n",
        "p=df.Outcome.value_counts().plot(kind=\"bar\")"
      ]
    },
    {
      "cell_type": "code",
      "execution_count": null,
      "metadata": {
        "id": "tAqLMY7ecbVI"
      },
      "outputs": [],
      "source": [
        "#  our dataset is completely imbalanced. In fact the number of patients who are diabetic is half of the patients who are non-diabetic."
      ]
    },
    {
      "cell_type": "code",
      "execution_count": null,
      "metadata": {
        "colab": {
          "base_uri": "https://localhost:8080/",
          "height": 351
        },
        "id": "UcYKjnM7cpEa",
        "outputId": "53f1eb83-b0f5-47e7-a7d0-5eb56cd7035d"
      },
      "outputs": [
        {
          "name": "stderr",
          "output_type": "stream",
          "text": [
            "/usr/local/lib/python3.7/dist-packages/seaborn/distributions.py:2619: FutureWarning: `distplot` is a deprecated function and will be removed in a future version. Please adapt your code to use either `displot` (a figure-level function with similar flexibility) or `histplot` (an axes-level function for histograms).\n",
            "  warnings.warn(msg, FutureWarning)\n"
          ]
        },
        {
          "data": {
            "text/plain": [
              "<matplotlib.axes._subplots.AxesSubplot at 0x7f4dc0287bd0>"
            ]
          },
          "execution_count": 16,
          "metadata": {},
          "output_type": "execute_result"
        },
        {
          "data": {
            "image/png": "[encoded data removed]",
            "text/plain": [
              "<Figure size 432x288 with 1 Axes>"
            ]
          },
          "metadata": {},
          "output_type": "display_data"
        }
      ],
      "source": [
        "sns.distplot(df['Insulin'])    \n",
        "# For univariate distribution of a column"
      ]
    },
    {
      "cell_type": "code",
      "execution_count": null,
      "metadata": {
        "colab": {
          "base_uri": "https://localhost:8080/",
          "height": 282
        },
        "id": "NX7Lpkpycpev",
        "outputId": "a87bf742-accc-4771-de61-e2b21317f647"
      },
      "outputs": [
        {
          "data": {
            "text/plain": [
              "<matplotlib.axes._subplots.AxesSubplot at 0x7f4dc00e7b10>"
            ]
          },
          "execution_count": 17,
          "metadata": {},
          "output_type": "execute_result"
        },
        {
          "data": {
            "image/png": "[encoded data removed]",
            "text/plain": [
              "<Figure size 432x288 with 1 Axes>"
            ]
          },
          "metadata": {},
          "output_type": "display_data"
        }
      ],
      "source": [
        "# box plot for column insulin to check for outliers and noise\n",
        "df['Insulin'].plot.box()"
      ]
    },
    {
      "cell_type": "code",
      "execution_count": null,
      "metadata": {
        "colab": {
          "base_uri": "https://localhost:8080/",
          "height": 390
        },
        "id": "96cnkM9tQh8E",
        "outputId": "fe6e0cb7-2874-44c6-82b5-382b8303401b"
      },
      "outputs": [
        {
          "data": {
            "image/png": "[encoded data removed]",
            "text/plain": [
              "<Figure size 432x288 with 2 Axes>"
            ]
          },
          "metadata": {},
          "output_type": "display_data"
        }
      ],
      "source": [
        "p = sns.heatmap(df.corr())\n",
        "# Now we can change the color of the heatmap\n"
      ]
    },
    {
      "cell_type": "code",
      "execution_count": null,
      "metadata": {
        "colab": {
          "base_uri": "https://localhost:8080/",
          "height": 390
        },
        "id": "DafcPslRQzmn",
        "outputId": "77e97996-e004-4fe7-eb53-791e5f72807d"
      },
      "outputs": [
        {
          "data": {
            "image/png": "[encoded data removed]",
            "text/plain": [
              "<Figure size 432x288 with 2 Axes>"
            ]
          },
          "metadata": {},
          "output_type": "display_data"
        }
      ],
      "source": [
        "p = sns.heatmap(df.corr(), annot=True,cmap ='RdYlGn')\n",
        "# annote is to show values on the cell and cmap is the color of the map (red, yellow, green)"
      ]
    },
    {
      "cell_type": "code",
      "execution_count": null,
      "metadata": {
        "id": "Q1RGvnXqQ_yU"
      },
      "outputs": [],
      "source": [
        "from sklearn.preprocessing import StandardScaler\n",
        "from sklearn import metrics"
      ]
    },
    {
      "cell_type": "code",
      "execution_count": null,
      "metadata": {
        "id": "nXA4uA3mx3S1"
      },
      "outputs": [],
      "source": []
    },
    {
      "cell_type": "code",
      "execution_count": null,
      "metadata": {
        "id": "KRrNZTmJ7WNK"
      },
      "outputs": [],
      "source": [
        "scaler = StandardScaler()\n",
        "X = df_copy.drop(['Outcome','BloodPressure', 'SkinThickness'], axis=1)\n",
        "y = df_copy['Outcome']"
      ]
    },
    {
      "cell_type": "code",
      "execution_count": null,
      "metadata": {
        "id": "y16fKM2q9BAj"
      },
      "outputs": [],
      "source": [
        "X = scaler.fit_transform(X)"
      ]
    },
    {
      "cell_type": "code",
      "execution_count": null,
      "metadata": {
        "colab": {
          "base_uri": "https://localhost:8080/"
        },
        "id": "Mf5bcs-w9NhF",
        "outputId": "6fd90241-f52e-4593-eafa-80b65e866e3e"
      },
      "outputs": [
        {
          "name": "stdout",
          "output_type": "stream",
          "text": [
            "[[ 6.39947260e-01  8.65108070e-01 -3.34507888e-16  1.66291742e-01\n",
            "   4.68491977e-01  1.42599540e+00]\n",
            " [-8.44885053e-01 -1.20616153e+00 -3.34507888e-16 -8.52531177e-01\n",
            "  -3.65060778e-01 -1.90671905e-01]\n",
            " [ 1.23388019e+00  2.01581340e+00 -3.34507888e-16 -1.33283341e+00\n",
            "   6.04397318e-01 -1.05584152e-01]\n",
            " ...\n",
            " [ 3.42980797e-01 -2.25789027e-02 -5.12538638e-01 -9.10749630e-01\n",
            "  -6.85193357e-01 -2.75759658e-01]\n",
            " [-8.44885053e-01  1.41807574e-01 -3.34507888e-16 -3.43119717e-01\n",
            "  -3.71101015e-01  1.17073215e+00]\n",
            " [-8.44885053e-01 -9.43143171e-01 -3.34507888e-16 -2.99455878e-01\n",
            "  -4.73785050e-01 -8.71373930e-01]]\n"
          ]
        }
      ],
      "source": [
        "print(X)"
      ]
    },
    {
      "cell_type": "code",
      "execution_count": null,
      "metadata": {
        "id": "1wmuiA-c9gST"
      },
      "outputs": [],
      "source": [
        "from sklearn.model_selection import train_test_split, GridSearchCV\n",
        "X_train, X_test, y_train, y_test = train_test_split(X, y, test_size=0.25, random_state=1)"
      ]
    },
    {
      "cell_type": "code",
      "execution_count": null,
      "metadata": {
        "id": "MW1SNK7JrhG5"
      },
      "outputs": [],
      "source": [
        "from sklearn.metrics import confusion_matrix, ConfusionMatrixDisplay,f1_score, precision_score, recall_score,classification_report, accuracy_score"
      ]
    },
    {
      "cell_type": "code",
      "execution_count": null,
      "metadata": {
        "id": "v6jfAsMDxqar"
      },
      "outputs": [],
      "source": [
        "class ConfMatrix:\n",
        "  def __init__(self, y_test, y_preds):\n",
        "    self.y_test = y_test\n",
        "    self.y_preds = y_preds\n",
        "    self.conf_mx = confusion_matrix(y_test,y_preds)\n",
        "  def plot_matrix(self):\n",
        "    heat_cm = pd.DataFrame(self.conf_mx, columns=np.unique(self.y_test), index = np.unique(self.y_test))\n",
        "    heat_cm.index.name = 'Actual'\n",
        "    heat_cm.columns.name = 'Predicted'\n",
        "\n",
        "    sns.heatmap(heat_cm, cmap=\"Blues\", annot=True, annot_kws={\"size\": 12},fmt='g')# font size\n",
        "    plt.show()"
      ]
    },
    {
      "cell_type": "markdown",
      "metadata": {
        "id": "EWNTcpJovUeV"
      },
      "source": [
        "# 1. Naive Bayes"
      ]
    },
    {
      "cell_type": "code",
      "execution_count": null,
      "metadata": {
        "id": "7NpSZvCSYvmg"
      },
      "outputs": [],
      "source": [
        "from sklearn.naive_bayes import GaussianNB\n",
        "gnb = GaussianNB()\n",
        "gnb.fit(X_train, y_train)\n",
        "  \n",
        "# making predictions on the testing set\n",
        "y_preds = gnb.predict(X_test)"
      ]
    },
    {
      "cell_type": "code",
      "execution_count": null,
      "metadata": {
        "colab": {
          "base_uri": "https://localhost:8080/"
        },
        "id": "N72UgXX0Y5Qg",
        "outputId": "70d2c84f-4a85-4400-bcb0-72057c36272a"
      },
      "outputs": [
        {
          "name": "stdout",
          "output_type": "stream",
          "text": [
            "Gaussian Naive Bayes model accuracy(in %): 76.04166666666666\n",
            "              precision    recall  f1-score   support\n",
            "\n",
            "           0       0.80      0.84      0.82       123\n",
            "           1       0.68      0.62      0.65        69\n",
            "\n",
            "    accuracy                           0.76       192\n",
            "   macro avg       0.74      0.73      0.73       192\n",
            "weighted avg       0.76      0.76      0.76       192\n",
            "\n"
          ]
        }
      ],
      "source": [
        "print(\"Gaussian Naive Bayes model accuracy(in %):\", accuracy_score(y_test, y_preds)*100)\n",
        "print(classification_report(y_test, y_preds))"
      ]
    },
    {
      "cell_type": "code",
      "execution_count": null,
      "metadata": {
        "colab": {
          "base_uri": "https://localhost:8080/",
          "height": 279
        },
        "id": "pZ4Xtgggo8hK",
        "outputId": "176e7278-0960-46e8-c998-2d1cd243c376"
      },
      "outputs": [
        {
          "data": {
            "image/png": "[encoded data removed]",
            "text/plain": [
              "<Figure size 432x288 with 2 Axes>"
            ]
          },
          "metadata": {},
          "output_type": "display_data"
        }
      ],
      "source": [
        "gnb_cm = ConfMatrix(y_test, y_preds)\n",
        "gnb_cm.plot_matrix()"
      ]
    },
    {
      "cell_type": "code",
      "execution_count": null,
      "metadata": {
        "colab": {
          "base_uri": "https://localhost:8080/"
        },
        "id": "FnX-qRtdhODG",
        "outputId": "9b47b01f-cbc8-4e3c-cd78-107dac14656e"
      },
      "outputs": [
        {
          "data": {
            "text/plain": [
              "array([0, 0, 0, 0, 0, 0, 0, 0, 0, 0, 0, 0, 1, 1, 1, 1, 0, 0, 0, 0, 0, 0,\n",
              "       1, 0, 0, 0, 0, 1, 0, 0, 0, 0, 0, 1, 0, 1, 0, 0, 0, 1, 0, 0, 0, 0,\n",
              "       0, 0, 1, 1, 0, 0, 0, 0, 1, 0, 1, 0, 0, 0, 1, 0, 1, 0, 1, 0, 1, 0,\n",
              "       0, 0, 1, 1, 1, 1, 1, 0, 1, 0, 1, 0, 0, 1, 1, 0, 0, 0, 0, 1, 1, 1,\n",
              "       0, 0, 1, 0, 0, 0, 1, 0, 0, 0, 1, 0, 0, 1, 1, 0, 0, 0, 0, 1, 0, 0,\n",
              "       0, 0, 0, 0, 1, 0, 0, 0, 0, 0, 0, 1, 0, 0, 0, 0, 0, 0, 1, 0, 1, 0,\n",
              "       0, 0, 0, 0, 0, 1, 0, 0, 1, 0, 0, 1, 1, 1, 0, 0, 0, 0, 0, 1, 1, 0,\n",
              "       1, 1, 0, 0, 0, 0, 1, 1, 0, 0, 1, 0, 0, 1, 1, 1, 1, 1, 0, 0, 1, 1,\n",
              "       1, 0, 0, 0, 1, 1, 0, 1, 0, 0, 0, 1, 0, 0, 0, 0])"
            ]
          },
          "execution_count": 30,
          "metadata": {},
          "output_type": "execute_result"
        }
      ],
      "source": [
        "y_preds"
      ]
    },
    {
      "cell_type": "markdown",
      "metadata": {
        "id": "BIkOpiGSbg-N"
      },
      "source": [
        "Gaussian Naive Bayes model accuracy(in %): 76.5625"
      ]
    },
    {
      "cell_type": "markdown",
      "metadata": {
        "id": "QLMt13hBvdHl"
      },
      "source": [
        "# 2. Decision Tree"
      ]
    },
    {
      "cell_type": "code",
      "execution_count": null,
      "metadata": {
        "id": "y4FtOgVDY6mG"
      },
      "outputs": [],
      "source": [
        "from sklearn.tree import DecisionTreeClassifier\n",
        "clf = DecisionTreeClassifier(random_state=0)"
      ]
    },
    {
      "cell_type": "code",
      "execution_count": null,
      "metadata": {
        "id": "Covs9OamZNZ1"
      },
      "outputs": [],
      "source": [
        "clf.fit(X_train, y_train)\n",
        "  \n",
        "# making predictions on the testing set\n",
        "y_preds = clf.predict(X_test)"
      ]
    },
    {
      "cell_type": "code",
      "execution_count": null,
      "metadata": {
        "colab": {
          "base_uri": "https://localhost:8080/"
        },
        "id": "o7pZy-yfZfHS",
        "outputId": "c7c644a4-6c75-4f33-88cd-87ef7044c917"
      },
      "outputs": [
        {
          "name": "stdout",
          "output_type": "stream",
          "text": [
            "Decision Tree model accuracy(in %): 68.22916666666666\n",
            "              precision    recall  f1-score   support\n",
            "\n",
            "           0       0.75      0.76      0.75       123\n",
            "           1       0.56      0.55      0.55        69\n",
            "\n",
            "    accuracy                           0.68       192\n",
            "   macro avg       0.65      0.65      0.65       192\n",
            "weighted avg       0.68      0.68      0.68       192\n",
            "\n"
          ]
        }
      ],
      "source": [
        "print(\"Decision Tree model accuracy(in %):\", accuracy_score(y_test, y_preds)*100)\n",
        "print(classification_report(y_test, y_preds))"
      ]
    },
    {
      "cell_type": "code",
      "execution_count": null,
      "metadata": {
        "colab": {
          "base_uri": "https://localhost:8080/",
          "height": 279
        },
        "id": "By0duQrDpj3E",
        "outputId": "9772a2a3-434c-430b-fe2f-f6379ed0cb83"
      },
      "outputs": [
        {
          "data": {
            "image/png": "[encoded data removed]",
            "text/plain": [
              "<Figure size 432x288 with 2 Axes>"
            ]
          },
          "metadata": {},
          "output_type": "display_data"
        }
      ],
      "source": [
        "dt_cm = ConfMatrix(y_test, y_preds)\n",
        "dt_cm.plot_matrix()"
      ]
    },
    {
      "cell_type": "code",
      "execution_count": null,
      "metadata": {
        "colab": {
          "base_uri": "https://localhost:8080/"
        },
        "id": "Y0XkGZ1-hJub",
        "outputId": "bec36e37-5430-48fa-b956-301fad86fa45"
      },
      "outputs": [
        {
          "name": "stdout",
          "output_type": "stream",
          "text": [
            "[1 0 0 0 0 0 0 0 1 0 0 0 0 1 0 0 0 0 0 0 1 0 1 0 0 0 0 1 0 0 0 1 0 1 1 1 0\n",
            " 0 0 0 0 0 0 1 0 0 0 1 0 0 0 1 1 0 1 0 0 0 1 0 1 0 1 0 1 0 0 0 1 1 1 1 0 0\n",
            " 0 1 1 1 0 1 1 0 0 0 0 0 0 1 0 1 0 0 1 0 1 1 0 0 1 0 0 0 1 0 0 0 0 1 0 0 0\n",
            " 0 0 1 0 0 1 0 1 1 0 1 1 0 0 0 1 0 0 0 1 0 0 0 0 0 0 1 0 1 1 1 0 1 1 0 0 0\n",
            " 0 0 0 0 0 1 1 0 0 0 0 1 1 1 0 0 0 0 0 1 1 0 1 1 0 1 1 1 1 1 0 0 1 0 0 1 0\n",
            " 0 0 1 0 0 1 0]\n"
          ]
        }
      ],
      "source": [
        "print(y_preds)"
      ]
    },
    {
      "cell_type": "markdown",
      "metadata": {
        "id": "vLJmR3oAvjEm"
      },
      "source": [
        "# 3. Random Forest"
      ]
    },
    {
      "cell_type": "code",
      "execution_count": null,
      "metadata": {
        "id": "B9L9r0XpZkX2"
      },
      "outputs": [],
      "source": [
        "from sklearn.ensemble import RandomForestClassifier\n",
        "rf = RandomForestClassifier(max_depth=16, random_state=0)"
      ]
    },
    {
      "cell_type": "code",
      "execution_count": null,
      "metadata": {
        "colab": {
          "base_uri": "https://localhost:8080/"
        },
        "id": "Aqt4fq67aZFs",
        "outputId": "210c74fa-b608-4123-feeb-5b9fca14bdcc"
      },
      "outputs": [
        {
          "name": "stdout",
          "output_type": "stream",
          "text": [
            "Random Forest model accuracy(in %): 80.20833333333334\n",
            "              precision    recall  f1-score   support\n",
            "\n",
            "           0       0.82      0.89      0.85       123\n",
            "           1       0.76      0.65      0.70        69\n",
            "\n",
            "    accuracy                           0.80       192\n",
            "   macro avg       0.79      0.77      0.78       192\n",
            "weighted avg       0.80      0.80      0.80       192\n",
            "\n"
          ]
        }
      ],
      "source": [
        "rf.fit(X_train, y_train)\n",
        "  \n",
        "# making predictions on the testing set\n",
        "y_preds = rf.predict(X_test)\n",
        "\n",
        "print(\"Random Forest model accuracy(in %):\", accuracy_score(y_test, y_preds)*100)\n",
        "print(classification_report(y_test, y_preds))"
      ]
    },
    {
      "cell_type": "code",
      "execution_count": null,
      "metadata": {
        "colab": {
          "base_uri": "https://localhost:8080/",
          "height": 279
        },
        "id": "WoqNCt8ApmWu",
        "outputId": "8fc727e3-0e05-4edd-a86d-b810f96b24ef"
      },
      "outputs": [
        {
          "data": {
            "image/png": "[encoded data removed]",
            "text/plain": [
              "<Figure size 432x288 with 2 Axes>"
            ]
          },
          "metadata": {},
          "output_type": "display_data"
        }
      ],
      "source": [
        "rf_cm = ConfMatrix(y_test, y_preds)\n",
        "rf_cm.plot_matrix()"
      ]
    },
    {
      "cell_type": "code",
      "execution_count": null,
      "metadata": {
        "colab": {
          "base_uri": "https://localhost:8080/"
        },
        "id": "kHKfQfbFg86t",
        "outputId": "8d2ca90e-fb58-4d6d-9d55-85e25bb76d47"
      },
      "outputs": [
        {
          "name": "stdout",
          "output_type": "stream",
          "text": [
            "[0 0 0 0 0 0 0 0 0 0 0 0 1 1 0 1 0 0 0 0 1 0 1 0 0 0 0 1 0 1 0 0 0 1 0 1 0\n",
            " 0 0 0 0 0 0 0 0 0 1 1 0 0 0 0 1 0 1 0 0 0 0 0 1 0 1 0 1 0 0 0 1 1 1 1 0 0\n",
            " 1 1 1 0 0 1 1 0 0 0 0 1 0 0 1 0 0 0 0 0 1 0 0 0 1 0 0 0 1 0 0 0 0 1 0 0 1\n",
            " 0 1 0 0 0 0 1 0 0 0 1 0 0 0 0 0 0 1 0 1 0 1 0 0 0 0 1 0 0 1 0 0 1 1 0 0 0\n",
            " 0 0 0 1 1 0 1 1 0 0 0 0 1 1 0 0 0 0 0 1 1 1 1 1 0 0 1 0 1 0 0 0 1 1 0 1 0\n",
            " 0 0 1 0 0 0 0]\n"
          ]
        }
      ],
      "source": [
        "print(y_preds)"
      ]
    },
    {
      "cell_type": "markdown",
      "metadata": {
        "id": "o8RSPNBUvnIh"
      },
      "source": [
        "# 4. SVM"
      ]
    },
    {
      "cell_type": "code",
      "execution_count": null,
      "metadata": {
        "id": "Sfv-G8q2agZe"
      },
      "outputs": [],
      "source": [
        "from sklearn import svm\n",
        "svm = svm.SVC()"
      ]
    },
    {
      "cell_type": "code",
      "execution_count": null,
      "metadata": {
        "colab": {
          "base_uri": "https://localhost:8080/"
        },
        "id": "BNjFLZFRa2HX",
        "outputId": "15856543-ebcc-46d6-8a3a-54c9da24b4e0"
      },
      "outputs": [
        {
          "name": "stdout",
          "output_type": "stream",
          "text": [
            "SVM accuracy(in %): 79.16666666666666\n",
            "              precision    recall  f1-score   support\n",
            "\n",
            "           0       0.79      0.91      0.85       123\n",
            "           1       0.78      0.58      0.67        69\n",
            "\n",
            "    accuracy                           0.79       192\n",
            "   macro avg       0.79      0.75      0.76       192\n",
            "weighted avg       0.79      0.79      0.78       192\n",
            "\n"
          ]
        }
      ],
      "source": [
        "svm.fit(X_train, y_train)\n",
        "  \n",
        "# making predictions on the testing set\n",
        "y_preds = svm.predict(X_test)\n",
        "print(\"SVM accuracy(in %):\", accuracy_score(y_test, y_preds)*100)\n",
        "print(classification_report(y_test, y_preds))"
      ]
    },
    {
      "cell_type": "code",
      "execution_count": null,
      "metadata": {
        "colab": {
          "base_uri": "https://localhost:8080/",
          "height": 279
        },
        "id": "OxQRyPYbpokm",
        "outputId": "a0207ee2-0b79-4c3a-fa6b-066cdd388ec6"
      },
      "outputs": [
        {
          "data": {
            "image/png": "[encoded data removed]",
            "text/plain": [
              "<Figure size 432x288 with 2 Axes>"
            ]
          },
          "metadata": {},
          "output_type": "display_data"
        }
      ],
      "source": [
        "svm_cm = ConfMatrix(y_test, y_preds)\n",
        "svm_cm.plot_matrix()"
      ]
    },
    {
      "cell_type": "markdown",
      "metadata": {
        "id": "cr7MaAcRvrvn"
      },
      "source": [
        "# 5. Catboost Classifier"
      ]
    },
    {
      "cell_type": "code",
      "execution_count": null,
      "metadata": {
        "colab": {
          "base_uri": "https://localhost:8080/"
        },
        "id": "uOJa2_QjnMQ0",
        "outputId": "fefbe99f-da90-44bd-bb81-b3a1f6b38ec0"
      },
      "outputs": [
        {
          "name": "stdout",
          "output_type": "stream",
          "text": [
            "Looking in indexes: https://pypi.org/simple, https://us-python.pkg.dev/colab-wheels/public/simple/\n",
            "Collecting catboost\n",
            "  Downloading catboost-1.1-cp37-none-manylinux1_x86_64.whl (76.8 MB)\n",
            "\u001b[K     |████████████████████████████████| 76.8 MB 1.3 MB/s \n",
            "\u001b[?25hRequirement already satisfied: plotly in /usr/local/lib/python3.7/dist-packages (from catboost) (5.5.0)\n",
            "Requirement already satisfied: matplotlib in /usr/local/lib/python3.7/dist-packages (from catboost) (3.2.2)\n",
            "Requirement already satisfied: six in /usr/local/lib/python3.7/dist-packages (from catboost) (1.15.0)\n",
            "Requirement already satisfied: numpy>=1.16.0 in /usr/local/lib/python3.7/dist-packages (from catboost) (1.21.6)\n",
            "Requirement already satisfied: scipy in /usr/local/lib/python3.7/dist-packages (from catboost) (1.7.3)\n",
            "Requirement already satisfied: graphviz in /usr/local/lib/python3.7/dist-packages (from catboost) (0.10.1)\n",
            "Requirement already satisfied: pandas>=0.24.0 in /usr/local/lib/python3.7/dist-packages (from catboost) (1.3.5)\n",
            "Requirement already satisfied: pytz>=2017.3 in /usr/local/lib/python3.7/dist-packages (from pandas>=0.24.0->catboost) (2022.4)\n",
            "Requirement already satisfied: python-dateutil>=2.7.3 in /usr/local/lib/python3.7/dist-packages (from pandas>=0.24.0->catboost) (2.8.2)\n",
            "Requirement already satisfied: kiwisolver>=1.0.1 in /usr/local/lib/python3.7/dist-packages (from matplotlib->catboost) (1.4.4)\n",
            "Requirement already satisfied: pyparsing!=2.0.4,!=2.1.2,!=2.1.6,>=2.0.1 in /usr/local/lib/python3.7/dist-packages (from matplotlib->catboost) (3.0.9)\n",
            "Requirement already satisfied: cycler>=0.10 in /usr/local/lib/python3.7/dist-packages (from matplotlib->catboost) (0.11.0)\n",
            "Requirement already satisfied: typing-extensions in /usr/local/lib/python3.7/dist-packages (from kiwisolver>=1.0.1->matplotlib->catboost) (4.1.1)\n",
            "Requirement already satisfied: tenacity>=6.2.0 in /usr/local/lib/python3.7/dist-packages (from plotly->catboost) (8.1.0)\n",
            "Installing collected packages: catboost\n",
            "Successfully installed catboost-1.1\n"
          ]
        }
      ],
      "source": [
        "!pip install catboost"
      ]
    },
    {
      "cell_type": "code",
      "execution_count": null,
      "metadata": {
        "colab": {
          "base_uri": "https://localhost:8080/"
        },
        "id": "oKrZltF6bA3E",
        "outputId": "91ce2f48-74b2-475f-b1df-6fc7f3c14aeb"
      },
      "outputs": [
        {
          "name": "stderr",
          "output_type": "stream",
          "text": [
            "You should provide test set for use best model. use_best_model parameter has been switched to false value.\n"
          ]
        },
        {
          "name": "stdout",
          "output_type": "stream",
          "text": [
            "catboost classifier accuracy(in %): 81.25\n",
            "              precision    recall  f1-score   support\n",
            "\n",
            "           0       0.84      0.87      0.86       123\n",
            "           1       0.75      0.71      0.73        69\n",
            "\n",
            "    accuracy                           0.81       192\n",
            "   macro avg       0.80      0.79      0.79       192\n",
            "weighted avg       0.81      0.81      0.81       192\n",
            "\n"
          ]
        }
      ],
      "source": [
        "from catboost import CatBoostClassifier\n",
        "\n",
        "cat = CatBoostClassifier(loss_function = 'Logloss',\n",
        "                        eval_metric = 'BalancedAccuracy',\n",
        "                        verbose = 200,\n",
        "                        random_seed = 20)\n",
        "\n",
        "cat_mod = cat.fit(X_train,y_train,\n",
        "                   use_best_model=True,\n",
        "                   verbose = 0,\n",
        "                    plot=False)\n",
        "                  \n",
        "cat_y_preds = cat_mod.predict(X_test)\n",
        "\n",
        "print(\"catboost classifier accuracy(in %):\", accuracy_score(y_test, cat_y_preds)*100)\n",
        "print(classification_report(y_test, cat_y_preds))\n"
      ]
    },
    {
      "cell_type": "code",
      "execution_count": null,
      "metadata": {
        "colab": {
          "base_uri": "https://localhost:8080/",
          "height": 279
        },
        "id": "Ua2TbyXBprS-",
        "outputId": "9cef0dfd-d6f9-41f7-93a0-fb2bfc41961a"
      },
      "outputs": [
        {
          "data": {
            "image/png": "[encoded data removed]",
            "text/plain": [
              "<Figure size 432x288 with 2 Axes>"
            ]
          },
          "metadata": {},
          "output_type": "display_data"
        }
      ],
      "source": [
        "cat_cm = ConfMatrix(y_test, cat_y_preds)\n",
        "cat_cm.plot_matrix()"
      ]
    },
    {
      "cell_type": "markdown",
      "metadata": {
        "id": "vwcJpllnvwu_"
      },
      "source": [
        "# 6. XGBoost Classifier"
      ]
    },
    {
      "cell_type": "code",
      "execution_count": null,
      "metadata": {
        "colab": {
          "base_uri": "https://localhost:8080/"
        },
        "id": "LSwDzD1An4o5",
        "outputId": "73f20900-69de-4b35-cf15-7cc47f18974b"
      },
      "outputs": [
        {
          "name": "stdout",
          "output_type": "stream",
          "text": [
            "Looking in indexes: https://pypi.org/simple, https://us-python.pkg.dev/colab-wheels/public/simple/\n",
            "Requirement already satisfied: xgboost in /usr/local/lib/python3.7/dist-packages (0.90)\n",
            "Requirement already satisfied: scipy in /usr/local/lib/python3.7/dist-packages (from xgboost) (1.7.3)\n",
            "Requirement already satisfied: numpy in /usr/local/lib/python3.7/dist-packages (from xgboost) (1.21.6)\n"
          ]
        }
      ],
      "source": [
        "!pip install xgboost"
      ]
    },
    {
      "cell_type": "code",
      "execution_count": null,
      "metadata": {
        "id": "HThrYcHcn6A5"
      },
      "outputs": [],
      "source": [
        "import xgboost as xgb"
      ]
    },
    {
      "cell_type": "code",
      "execution_count": null,
      "metadata": {
        "colab": {
          "base_uri": "https://localhost:8080/"
        },
        "id": "OgZABGnPoFgT",
        "outputId": "513ee8de-c4af-464a-ba2a-116fe3ea32ce"
      },
      "outputs": [
        {
          "name": "stdout",
          "output_type": "stream",
          "text": [
            "XGB classifier accuracy(in %): 80.72916666666666\n",
            "              precision    recall  f1-score   support\n",
            "\n",
            "           0       0.85      0.85      0.85       123\n",
            "           1       0.74      0.72      0.73        69\n",
            "\n",
            "    accuracy                           0.81       192\n",
            "   macro avg       0.79      0.79      0.79       192\n",
            "weighted avg       0.81      0.81      0.81       192\n",
            "\n"
          ]
        }
      ],
      "source": [
        "xgb_cl = xgb.XGBClassifier()\n",
        "\n",
        "# Fit\n",
        "xgb_cl.fit(X_train, y_train)\n",
        "\n",
        "# Predict\n",
        "y_preds = xgb_cl.predict(X_test)\n",
        "\n",
        "print(\"XGB classifier accuracy(in %):\", accuracy_score(y_test, y_preds)*100)\n",
        "print(classification_report(y_test, y_preds))"
      ]
    },
    {
      "cell_type": "code",
      "execution_count": null,
      "metadata": {
        "colab": {
          "base_uri": "https://localhost:8080/",
          "height": 279
        },
        "id": "qn3E3EOgp132",
        "outputId": "4f3723df-d675-46d0-ed2d-5d94fa07dc2e"
      },
      "outputs": [
        {
          "data": {
            "image/png": "[encoded data removed]",
            "text/plain": [
              "<Figure size 432x288 with 2 Axes>"
            ]
          },
          "metadata": {},
          "output_type": "display_data"
        }
      ],
      "source": [
        "xgb_cm = ConfMatrix(y_test, y_preds)\n",
        "xgb_cm.plot_matrix()"
      ]
    },
    {
      "cell_type": "markdown",
      "metadata": {
        "id": "yl6sI_DCv09X"
      },
      "source": [
        "# 7. KNN"
      ]
    },
    {
      "cell_type": "code",
      "execution_count": null,
      "metadata": {
        "id": "J-sOYOAFoPrd"
      },
      "outputs": [],
      "source": [
        "from sklearn.neighbors import KNeighborsClassifier\n",
        "neigh = KNeighborsClassifier(n_neighbors=10)"
      ]
    },
    {
      "cell_type": "code",
      "execution_count": null,
      "metadata": {
        "colab": {
          "base_uri": "https://localhost:8080/"
        },
        "id": "r3LZiNx6splt",
        "outputId": "5404f54d-062f-4e42-a109-c560520e5fb0"
      },
      "outputs": [
        {
          "name": "stdout",
          "output_type": "stream",
          "text": [
            "KNN accuracy(in %): 81.25\n",
            "              precision    recall  f1-score   support\n",
            "\n",
            "           0       0.82      0.91      0.86       123\n",
            "           1       0.80      0.64      0.71        69\n",
            "\n",
            "    accuracy                           0.81       192\n",
            "   macro avg       0.81      0.77      0.79       192\n",
            "weighted avg       0.81      0.81      0.81       192\n",
            "\n"
          ]
        }
      ],
      "source": [
        "neigh.fit(X_train, y_train)\n",
        "knn_y_preds = neigh.predict(X_test)\n",
        "\n",
        "print(\"KNN accuracy(in %):\", accuracy_score(y_test, knn_y_preds)*100)\n",
        "print(classification_report(y_test, knn_y_preds))"
      ]
    },
    {
      "cell_type": "code",
      "execution_count": null,
      "metadata": {
        "colab": {
          "base_uri": "https://localhost:8080/",
          "height": 279
        },
        "id": "d-Iz41bXtW18",
        "outputId": "f3f4d246-32ea-4ee3-ca51-7d697a66b5b4"
      },
      "outputs": [
        {
          "data": {
            "image/png": "[encoded data removed]",
            "text/plain": [
              "<Figure size 432x288 with 2 Axes>"
            ]
          },
          "metadata": {},
          "output_type": "display_data"
        }
      ],
      "source": [
        "knn_cm = ConfMatrix(y_test, knn_y_preds)\n",
        "knn_cm.plot_matrix()"
      ]
    },
    {
      "cell_type": "markdown",
      "metadata": {
        "id": "nGa-hj8yv3VL"
      },
      "source": [
        "# 8. Logistic Regression"
      ]
    },
    {
      "cell_type": "code",
      "execution_count": null,
      "metadata": {
        "id": "k_nXTRXhtXOt"
      },
      "outputs": [],
      "source": [
        "from sklearn.linear_model import LogisticRegression"
      ]
    },
    {
      "cell_type": "code",
      "execution_count": null,
      "metadata": {
        "colab": {
          "base_uri": "https://localhost:8080/"
        },
        "id": "V2cfX7nxtz8D",
        "outputId": "336111f9-4f56-45e9-ce5c-27e1da5aa27e"
      },
      "outputs": [
        {
          "name": "stdout",
          "output_type": "stream",
          "text": [
            "Logistic Regression accuracy(in %): 77.60416666666666\n",
            "              precision    recall  f1-score   support\n",
            "\n",
            "           0       0.80      0.87      0.83       123\n",
            "           1       0.72      0.61      0.66        69\n",
            "\n",
            "    accuracy                           0.78       192\n",
            "   macro avg       0.76      0.74      0.75       192\n",
            "weighted avg       0.77      0.78      0.77       192\n",
            "\n"
          ]
        }
      ],
      "source": [
        "lr = LogisticRegression()\n",
        "lr.fit(X_train, y_train)\n",
        "\n",
        "y_preds = lr.predict(X_test)\n",
        "\n",
        "print(\"Logistic Regression accuracy(in %):\", accuracy_score(y_test, y_preds)*100)\n",
        "print(classification_report(y_test, y_preds))"
      ]
    },
    {
      "cell_type": "code",
      "execution_count": null,
      "metadata": {
        "colab": {
          "base_uri": "https://localhost:8080/",
          "height": 279
        },
        "id": "QWIVgtoMuQB4",
        "outputId": "233346b3-aa7b-460e-e14b-6b597671db88"
      },
      "outputs": [
        {
          "data": {
            "image/png": "[encoded data removed]",
            "text/plain": [
              "<Figure size 432x288 with 2 Axes>"
            ]
          },
          "metadata": {},
          "output_type": "display_data"
        }
      ],
      "source": [
        "lr_cm = ConfMatrix(y_test, y_preds)\n",
        "lr_cm.plot_matrix()"
      ]
    },
    {
      "cell_type": "markdown",
      "metadata": {
        "id": "aJ1e651d0gOu"
      },
      "source": [
        "# KNN + Catboost"
      ]
    },
    {
      "cell_type": "code",
      "execution_count": null,
      "metadata": {
        "colab": {
          "base_uri": "https://localhost:8080/"
        },
        "id": "j-JLQ1jfvHNK",
        "outputId": "c1c7410c-32b4-4ab9-9dbb-bf9e7bfd5a0a"
      },
      "outputs": [
        {
          "name": "stdout",
          "output_type": "stream",
          "text": [
            "Accuracy(in %): 81.77083333333334\n",
            "              precision    recall  f1-score   support\n",
            "\n",
            "           0       0.81      0.93      0.87       123\n",
            "           1       0.84      0.61      0.71        69\n",
            "\n",
            "    accuracy                           0.82       192\n",
            "   macro avg       0.82      0.77      0.79       192\n",
            "weighted avg       0.82      0.82      0.81       192\n",
            "\n"
          ]
        }
      ],
      "source": [
        "final_preds = np.logical_and(knn_y_preds, cat_y_preds)\n",
        "# print(final_preds)\n",
        "print(\"Accuracy(in %):\", accuracy_score(y_test, final_preds)*100)\n",
        "print(classification_report(y_test, final_preds))"
      ]
    },
    {
      "cell_type": "markdown",
      "metadata": {
        "id": "0seauu9cQf5I"
      },
      "source": [
        "# Hyperparameter optimisation"
      ]
    },
    {
      "cell_type": "code",
      "execution_count": null,
      "metadata": {
        "id": "neYJjeKvwLpw"
      },
      "outputs": [],
      "source": [
        "def print_result(y_true, y_predict,model, arr):\n",
        "    accuracy = metrics.accuracy_score(y_test, y_predict)\n",
        "    # print(\"Accuracy: %.3f\" % accuracy)\n",
        "\n",
        "    precision = metrics.precision_score(y_test, y_predict)\n",
        "    # print(\"Precision: %.3f\" % precision)\n",
        "\n",
        "    recall = metrics.recall_score(y_test, y_predict)\n",
        "    # print(\"Recall: %.3f\" % recall)\n",
        "\n",
        "    f1 = metrics.f1_score(y_test, y_predict)\n",
        "    # print(\"F1 Score: %.3f\" % f1)\n",
        "    arr[model] = {'accuracy': accuracy*100, 'precision': precision, 'recall': recall, 'f1_score': f1}\n",
        "    return arr\n",
        "    # return arr.append({model:{'accuracy': accuracy, 'precision': precision, 'recall': recall, 'f1_score': f1}})"
      ]
    },
    {
      "cell_type": "code",
      "execution_count": null,
      "metadata": {
        "id": "QgyxUqz1xhhB"
      },
      "outputs": [],
      "source": [
        "scores = {}"
      ]
    },
    {
      "cell_type": "markdown",
      "metadata": {
        "id": "YUEt-lKZeIOp"
      },
      "source": [
        "#1. KNN\n"
      ]
    },
    {
      "cell_type": "code",
      "execution_count": null,
      "metadata": {
        "id": "1Ebedu-2mls3"
      },
      "outputs": [],
      "source": [
        "from sklearn.model_selection import RepeatedStratifiedKFold\n",
        "\n",
        "cv_method = RepeatedStratifiedKFold(n_splits=5, \n",
        "                                    n_repeats=3, \n",
        "                                    random_state=42)"
      ]
    },
    {
      "cell_type": "code",
      "execution_count": null,
      "metadata": {
        "id": "lBOpQWGuQpIM"
      },
      "outputs": [],
      "source": [
        "from sklearn.neighbors import KNeighborsClassifier\n",
        "knn = KNeighborsClassifier(n_neighbors=10)"
      ]
    },
    {
      "cell_type": "code",
      "execution_count": null,
      "metadata": {
        "colab": {
          "base_uri": "https://localhost:8080/"
        },
        "id": "RBDHVzONUHI1",
        "outputId": "cbc4c7b9-26ec-40f6-a4c7-cc9fd77c8ff8"
      },
      "outputs": [
        {
          "name": "stdout",
          "output_type": "stream",
          "text": [
            "KNN accuracy(in %): 81.25\n",
            "              precision    recall  f1-score   support\n",
            "\n",
            "           0       0.82      0.91      0.86       123\n",
            "           1       0.80      0.64      0.71        69\n",
            "\n",
            "    accuracy                           0.81       192\n",
            "   macro avg       0.81      0.77      0.79       192\n",
            "weighted avg       0.81      0.81      0.81       192\n",
            "\n"
          ]
        }
      ],
      "source": [
        "knn.fit(X_train, y_train)\n",
        "knn_y_preds = neigh.predict(X_test)\n",
        "\n",
        "print(\"KNN accuracy(in %):\", accuracy_score(y_test, knn_y_preds)*100)\n",
        "print(classification_report(y_test, knn_y_preds))"
      ]
    },
    {
      "cell_type": "code",
      "execution_count": null,
      "metadata": {
        "id": "rczX_VM6eHDD"
      },
      "outputs": [],
      "source": [
        "estimator_KNN = KNeighborsClassifier()\n",
        "parameters_KNN = {\n",
        "    'n_neighbors': (5, 10),\n",
        "    'leaf_size': (10,20,30,40,50),\n",
        "    'p': (1,2),\n",
        "    'weights': ('uniform', 'distance'),\n",
        "    'metric': ('minkowski', 'chebyshev'),\n",
        "}               \n",
        "# with GridSearch\n",
        "grid_search_KNN = GridSearchCV(\n",
        "    estimator=estimator_KNN,\n",
        "    param_grid=parameters_KNN,\n",
        "    scoring = 'accuracy',\n",
        "    # n_jobs = -1,\n",
        "    cv = cv_method\n",
        ")"
      ]
    },
    {
      "cell_type": "code",
      "execution_count": null,
      "metadata": {
        "colab": {
          "base_uri": "https://localhost:8080/"
        },
        "id": "avUmzcyaiELT",
        "outputId": "d4612963-bafe-4d3c-d057-af3b7b078601"
      },
      "outputs": [
        {
          "name": "stdout",
          "output_type": "stream",
          "text": [
            "{'leaf_size': 10, 'metric': 'minkowski', 'n_neighbors': 10, 'p': 2, 'weights': 'distance'}\n",
            "Best Score - KNN: 0.7383958020989507\n"
          ]
        }
      ],
      "source": [
        "KNN_1=grid_search_KNN.fit(X_train, y_train)\n",
        "y_pred_KNN1 =KNN_1.predict(X_test)\n",
        "\n",
        "#Parameter setting that gave the best results on the hold out data.\n",
        "print(grid_search_KNN.best_params_ ) \n",
        "#Mean cross-validated score of the best_estimator\n",
        "print('Best Score - KNN:', grid_search_KNN.best_score_ )"
      ]
    },
    {
      "cell_type": "code",
      "execution_count": null,
      "metadata": {
        "colab": {
          "base_uri": "https://localhost:8080/"
        },
        "id": "zM9BUvBLbv8d",
        "outputId": "a9b4f673-0359-4ce3-caa6-ff21b2736ad3"
      },
      "outputs": [
        {
          "data": {
            "text/plain": [
              "{'knn': {'accuracy': 81.25,\n",
              "  'precision': 0.8,\n",
              "  'recall': 0.6376811594202898,\n",
              "  'f1_score': 0.7096774193548386}}"
            ]
          },
          "execution_count": 64,
          "metadata": {},
          "output_type": "execute_result"
        }
      ],
      "source": [
        "best_knn = KNeighborsClassifier(leaf_size=10, metric='minkowski', n_neighbors=10, p=2, weights='uniform')\n",
        "best_knn.fit(X_train, y_train)\n",
        "knn_y_preds = best_knn.predict(X_test)\n",
        "\n",
        "# print(\"KNN accuracy(in %):\", accuracy_score(y_test, knn_y_preds)*100)\n",
        "# print(classification_report(y_test, knn_y_preds))\n",
        "print_result(y_test, knn_y_preds,'knn', scores)"
      ]
    },
    {
      "cell_type": "markdown",
      "metadata": {
        "id": "sJtnVBfmoAlP"
      },
      "source": [
        "#2. Naive Bayes\n"
      ]
    },
    {
      "cell_type": "code",
      "execution_count": null,
      "metadata": {
        "colab": {
          "base_uri": "https://localhost:8080/"
        },
        "id": "k3dv38NrjOVX",
        "outputId": "1c1808ad-ccf2-44a2-b84d-95dce640dcdc"
      },
      "outputs": [
        {
          "data": {
            "text/plain": [
              "array([1.e+00, 1.e-01, 1.e-02, 1.e-03, 1.e-04, 1.e-05, 1.e-06, 1.e-07,\n",
              "       1.e-08, 1.e-09])"
            ]
          },
          "execution_count": 65,
          "metadata": {},
          "output_type": "execute_result"
        }
      ],
      "source": [
        "model = GaussianNB()\n",
        "np.logspace(0,-9, num=10)"
      ]
    },
    {
      "cell_type": "code",
      "execution_count": null,
      "metadata": {
        "colab": {
          "base_uri": "https://localhost:8080/"
        },
        "id": "9NtHtNaSmntR",
        "outputId": "22648ce3-0456-4d9e-c7cd-1e5efe53bf52"
      },
      "outputs": [
        {
          "name": "stdout",
          "output_type": "stream",
          "text": [
            "Fitting 15 folds for each of 100 candidates, totalling 1500 fits\n"
          ]
        }
      ],
      "source": [
        "from sklearn.preprocessing import PowerTransformer\n",
        "params_NB = {'var_smoothing': np.logspace(0,-9, num=100)}\n",
        "\n",
        "best_nb = GridSearchCV(estimator=model, \n",
        "                     param_grid=params_NB, \n",
        "                     cv=cv_method,\n",
        "                     verbose=1, \n",
        "                     scoring='accuracy')\n",
        "\n",
        "Data_transformed = PowerTransformer().fit_transform(X_test)\n",
        "\n",
        "best_nb.fit(Data_transformed, y_test);"
      ]
    },
    {
      "cell_type": "code",
      "execution_count": null,
      "metadata": {
        "colab": {
          "base_uri": "https://localhost:8080/"
        },
        "id": "q-vEFdljmpi-",
        "outputId": "416fb4fa-4cf4-4666-9416-b4c3852c9412"
      },
      "outputs": [
        {
          "data": {
            "text/plain": [
              "{'var_smoothing': 0.8111308307896871}"
            ]
          },
          "execution_count": 67,
          "metadata": {},
          "output_type": "execute_result"
        }
      ],
      "source": [
        "best_nb.best_params_"
      ]
    },
    {
      "cell_type": "code",
      "execution_count": null,
      "metadata": {
        "colab": {
          "base_uri": "https://localhost:8080/"
        },
        "id": "ipukMT_3n2JX",
        "outputId": "d47a781a-5535-41b3-a801-301ddfc1172d"
      },
      "outputs": [
        {
          "data": {
            "text/plain": [
              "{'knn': {'accuracy': 81.25,\n",
              "  'precision': 0.8,\n",
              "  'recall': 0.6376811594202898,\n",
              "  'f1_score': 0.7096774193548386},\n",
              " 'Naive Bayes': {'accuracy': 81.25,\n",
              "  'precision': 0.7538461538461538,\n",
              "  'recall': 0.7101449275362319,\n",
              "  'f1_score': 0.7313432835820897}}"
            ]
          },
          "execution_count": 68,
          "metadata": {},
          "output_type": "execute_result"
        }
      ],
      "source": [
        "# predict the target on the test dataset\n",
        "nb_y_predict= best_nb.predict(Data_transformed)\n",
        "\n",
        "print_result(y_test, nb_y_predict, 'Naive Bayes', scores)"
      ]
    },
    {
      "cell_type": "markdown",
      "metadata": {
        "id": "UpcQRONjvTYC"
      },
      "source": [
        "# 3. Logistic Regression"
      ]
    },
    {
      "cell_type": "code",
      "execution_count": null,
      "metadata": {
        "id": "CjF9TpnUrWZO"
      },
      "outputs": [],
      "source": [
        "from sklearn.model_selection import GridSearchCV\n",
        "\n",
        "model = LogisticRegression()\n",
        "parameters = {\n",
        "            'penalty': ['l2'], \n",
        "             'C': [0.001,0.011,0.1,1,10,100,1000],\n",
        "            #  'max_iter' : [10,25]\n",
        "              } \n",
        "\n",
        "best_lr = GridSearchCV(model, parameters,cv=cv_method,)"
      ]
    },
    {
      "cell_type": "code",
      "execution_count": null,
      "metadata": {
        "id": "V0XwKhzwvXDN"
      },
      "outputs": [],
      "source": []
    },
    {
      "cell_type": "code",
      "execution_count": null,
      "metadata": {
        "colab": {
          "base_uri": "https://localhost:8080/"
        },
        "id": "lAvhytynvZB-",
        "outputId": "c28672eb-f949-44ff-cc10-fbec59fd04cb"
      },
      "outputs": [
        {
          "data": {
            "text/plain": [
              "{'knn': {'accuracy': 81.25,\n",
              "  'precision': 0.8,\n",
              "  'recall': 0.6376811594202898,\n",
              "  'f1_score': 0.7096774193548386},\n",
              " 'Naive Bayes': {'accuracy': 81.25,\n",
              "  'precision': 0.7538461538461538,\n",
              "  'recall': 0.7101449275362319,\n",
              "  'f1_score': 0.7313432835820897},\n",
              " 'Logistic Regression': {'accuracy': 77.60416666666666,\n",
              "  'precision': 0.7241379310344828,\n",
              "  'recall': 0.6086956521739131,\n",
              "  'f1_score': 0.6614173228346457}}"
            ]
          },
          "execution_count": 70,
          "metadata": {},
          "output_type": "execute_result"
        }
      ],
      "source": [
        "best_lr.fit(X_train, y_train)\n",
        "lr_y_predict = best_lr.predict(X_test)\n",
        "\n",
        "print_result(y_test, lr_y_predict, 'Logistic Regression', scores)"
      ]
    },
    {
      "cell_type": "markdown",
      "metadata": {
        "id": "AQ7KSFok044J"
      },
      "source": [
        "# 4. XGB Classifier"
      ]
    },
    {
      "cell_type": "code",
      "execution_count": null,
      "metadata": {
        "colab": {
          "base_uri": "https://localhost:8080/"
        },
        "id": "lo2t_Ojty14O",
        "outputId": "5c0a15e6-e8f0-468a-f3c6-1a2508f6ab40"
      },
      "outputs": [
        {
          "data": {
            "text/plain": [
              "{'knn': {'accuracy': 81.25,\n",
              "  'precision': 0.8,\n",
              "  'recall': 0.6376811594202898,\n",
              "  'f1_score': 0.7096774193548386},\n",
              " 'Naive Bayes': {'accuracy': 81.25,\n",
              "  'precision': 0.7538461538461538,\n",
              "  'recall': 0.7101449275362319,\n",
              "  'f1_score': 0.7313432835820897},\n",
              " 'Logistic Regression': {'accuracy': 77.60416666666666,\n",
              "  'precision': 0.7241379310344828,\n",
              "  'recall': 0.6086956521739131,\n",
              "  'f1_score': 0.6614173228346457},\n",
              " 'XGB': {'accuracy': 79.16666666666666,\n",
              "  'precision': 0.7230769230769231,\n",
              "  'recall': 0.6811594202898551,\n",
              "  'f1_score': 0.7014925373134329}}"
            ]
          },
          "execution_count": 71,
          "metadata": {},
          "output_type": "execute_result"
        }
      ],
      "source": [
        "xgb_cl = xgb.XGBClassifier()\n",
        "parameters = {\n",
        "            'eta':[0.1,0.3],\n",
        "            'max_depth': [2,4,6],\n",
        "            'min_child_weight': [0,1],\n",
        "            'max_leaves':[0,1]\n",
        "              } \n",
        "\n",
        "best_model = GridSearchCV(xgb_cl, parameters, cv=cv_method)\n",
        "\n",
        "best_xgb = best_model.fit(X_train, y_train)\n",
        "xgb_y_predict = best_xgb.predict(X_test)\n",
        "\n",
        "print_result(y_test, xgb_y_predict, 'XGB', scores)"
      ]
    },
    {
      "cell_type": "code",
      "execution_count": null,
      "metadata": {
        "colab": {
          "base_uri": "https://localhost:8080/"
        },
        "id": "iD7dAo0OnVNN",
        "outputId": "721c0c23-3920-4bb9-9aba-5df0630a7de8"
      },
      "outputs": [
        {
          "data": {
            "text/plain": [
              "{'C': 1, 'penalty': 'l2'}"
            ]
          },
          "execution_count": 72,
          "metadata": {},
          "output_type": "execute_result"
        }
      ],
      "source": [
        "best_lr.best_params_"
      ]
    },
    {
      "cell_type": "markdown",
      "metadata": {
        "id": "DEKF8nxSUt5O"
      },
      "source": [
        "\n",
        "#5. Decision tree\n",
        "\n",
        "\n"
      ]
    },
    {
      "cell_type": "code",
      "execution_count": null,
      "metadata": {
        "colab": {
          "base_uri": "https://localhost:8080/"
        },
        "id": "xqEH1CyXV7t9",
        "outputId": "03600bfc-65bd-40a6-9a3c-70972085eeea"
      },
      "outputs": [
        {
          "name": "stdout",
          "output_type": "stream",
          "text": [
            "{'criterion': 'entropy', 'max_depth': 4, 'min_samples_leaf': 1, 'min_samples_split': 0.1, 'splitter': 'random'}\n"
          ]
        },
        {
          "data": {
            "text/plain": [
              "{'knn': {'accuracy': 81.25,\n",
              "  'precision': 0.8,\n",
              "  'recall': 0.6376811594202898,\n",
              "  'f1_score': 0.7096774193548386},\n",
              " 'Naive Bayes': {'accuracy': 81.25,\n",
              "  'precision': 0.7538461538461538,\n",
              "  'recall': 0.7101449275362319,\n",
              "  'f1_score': 0.7313432835820897},\n",
              " 'Logistic Regression': {'accuracy': 77.60416666666666,\n",
              "  'precision': 0.7241379310344828,\n",
              "  'recall': 0.6086956521739131,\n",
              "  'f1_score': 0.6614173228346457},\n",
              " 'XGB': {'accuracy': 79.16666666666666,\n",
              "  'precision': 0.7230769230769231,\n",
              "  'recall': 0.6811594202898551,\n",
              "  'f1_score': 0.7014925373134329},\n",
              " 'Decision Tree': {'accuracy': 73.95833333333334,\n",
              "  'precision': 0.7435897435897436,\n",
              "  'recall': 0.42028985507246375,\n",
              "  'f1_score': 0.537037037037037}}"
            ]
          },
          "execution_count": 73,
          "metadata": {},
          "output_type": "execute_result"
        }
      ],
      "source": [
        "from sklearn.tree import DecisionTreeClassifier\n",
        "\n",
        "dt_clf = DecisionTreeClassifier()\n",
        "\n",
        "parameters = {\n",
        "    'criterion': ['gini', 'entropy'],\n",
        "    'splitter': ['best','random'],\n",
        "    'max_depth': [2, 4],\n",
        "    'min_samples_split': [0.1,0.3,0.5,0.9],\n",
        "    'min_samples_leaf': [1,2,4]\n",
        "}\n",
        "\n",
        "best_model = GridSearchCV(dt_clf, parameters, cv=cv_method)\n",
        "\n",
        "best_dt = best_model.fit(X_train, y_train)\n",
        "dt_y_predict = best_dt.predict(X_test)\n",
        "print(best_dt.best_params_)\n",
        "print_result(y_test, dt_y_predict, 'Decision Tree', scores)"
      ]
    },
    {
      "cell_type": "markdown",
      "metadata": {
        "id": "203pARPUWn1W"
      },
      "source": [
        "#6. Random forest"
      ]
    },
    {
      "cell_type": "code",
      "execution_count": null,
      "metadata": {
        "colab": {
          "base_uri": "https://localhost:8080/"
        },
        "id": "T09-oLX1V9ES",
        "outputId": "e52dc89b-6e0b-47ef-8d5d-4fd7dd3e7634"
      },
      "outputs": [
        {
          "name": "stdout",
          "output_type": "stream",
          "text": [
            "[[107  16]\n",
            " [ 24  45]]\n",
            "0.7916666666666666\n",
            "              precision    recall  f1-score   support\n",
            "\n",
            "           0       0.82      0.87      0.84       123\n",
            "           1       0.74      0.65      0.69        69\n",
            "\n",
            "    accuracy                           0.79       192\n",
            "   macro avg       0.78      0.76      0.77       192\n",
            "weighted avg       0.79      0.79      0.79       192\n",
            "\n"
          ]
        }
      ],
      "source": [
        "from sklearn.ensemble import RandomForestClassifier\n",
        "rf_clf=RandomForestClassifier(n_estimators=10).fit(X_train,y_train)\n",
        "y_pred=rf_clf.predict(X_test)\n",
        "model=RandomForestClassifier(n_estimators=100,criterion='gini',\n",
        "                             max_features='sqrt',min_samples_leaf=5,random_state=0).fit(X_train,y_train)\n",
        "predictions=model.predict(X_test)\n",
        "print(confusion_matrix(y_test,predictions))\n",
        "print(metrics.accuracy_score(y_test,predictions))\n",
        "print(classification_report(y_test,predictions))"
      ]
    },
    {
      "cell_type": "code",
      "execution_count": null,
      "metadata": {
        "colab": {
          "base_uri": "https://localhost:8080/"
        },
        "id": "Z8qlSh7pWx6v",
        "outputId": "801063f6-bba5-4bd4-f768-5a383eecafe3"
      },
      "outputs": [
        {
          "name": "stdout",
          "output_type": "stream",
          "text": [
            "{'n_estimators': [100, 200, 300, 400, 500, 600, 700, 800, 900, 1000, 1100, 1200], 'max_features': ['auto', 'sqrt', 'log2'], 'max_depth': [450, 456, 463, 470, 477, 483, 490, 497, 504, 511], 'min_samples_split': [2, 5, 10, 14], 'min_samples_leaf': [1, 2, 4, 6, 8], 'criterion': ['entropy', 'gini']}\n"
          ]
        }
      ],
      "source": [
        "#Randomized search cv\n",
        "from sklearn.model_selection import RandomizedSearchCV\n",
        "# Number of trees in random forest\n",
        "n_estimators = [int(x) for x in np.linspace(start = 100, stop = 1200, num = 12)]\n",
        "# Number of features to consider at every split\n",
        "max_features = ['auto', 'sqrt','log2']\n",
        "# Maximum number of levels in tree\n",
        "max_depth = [int(x) for x in np.linspace(450, 511,10)]\n",
        "# Minimum number of samples required to split a node\n",
        "min_samples_split = [2, 5, 10,14]\n",
        "# Minimum number of samples required at each leaf node\n",
        "min_samples_leaf = [1, 2, 4,6,8]\n",
        "# Create the random grid\n",
        "random_grid = {'n_estimators': n_estimators,\n",
        "               'max_features': max_features,\n",
        "               'max_depth': max_depth,\n",
        "               'min_samples_split': min_samples_split,\n",
        "               'min_samples_leaf': min_samples_leaf,\n",
        "              'criterion':['entropy','gini']}\n",
        "print(random_grid)"
      ]
    },
    {
      "cell_type": "code",
      "execution_count": null,
      "metadata": {
        "colab": {
          "base_uri": "https://localhost:8080/"
        },
        "id": "0IbqYoXcXoOp",
        "outputId": "e22bffef-e4b9-4b5a-b1a9-12d3836ca17a"
      },
      "outputs": [
        {
          "name": "stdout",
          "output_type": "stream",
          "text": [
            "Fitting 5 folds for each of 20 candidates, totalling 100 fits\n"
          ]
        },
        {
          "data": {
            "text/plain": [
              "RandomizedSearchCV(cv=5, estimator=RandomForestClassifier(), n_iter=20,\n",
              "                   n_jobs=-1,\n",
              "                   param_distributions={'criterion': ['entropy', 'gini'],\n",
              "                                        'max_depth': [450, 456, 463, 470, 477,\n",
              "                                                      483, 490, 497, 504, 511],\n",
              "                                        'max_features': ['auto', 'sqrt',\n",
              "                                                         'log2'],\n",
              "                                        'min_samples_leaf': [1, 2, 4, 6, 8],\n",
              "                                        'min_samples_split': [2, 5, 10, 14],\n",
              "                                        'n_estimators': [100, 200, 300, 400,\n",
              "                                                         500, 600, 700, 800,\n",
              "                                                         900, 1000, 1100,\n",
              "                                                         1200]},\n",
              "                   random_state=100, verbose=2)"
            ]
          },
          "execution_count": 76,
          "metadata": {},
          "output_type": "execute_result"
        }
      ],
      "source": [
        "rf=RandomForestClassifier()\n",
        "best_rf = RandomizedSearchCV(estimator=rf,param_distributions=random_grid,n_iter=20, cv=5,verbose=2,\n",
        "                               random_state=100,n_jobs=-1)\n",
        "### fit the randomized model\n",
        "best_rf.fit(X_train,y_train)"
      ]
    },
    {
      "cell_type": "code",
      "execution_count": null,
      "metadata": {
        "colab": {
          "base_uri": "https://localhost:8080/"
        },
        "id": "pDlF_JbFXyDX",
        "outputId": "34c6c883-646c-4d62-c866-c19d5f6e13cc"
      },
      "outputs": [
        {
          "data": {
            "text/plain": [
              "{'n_estimators': 1200,\n",
              " 'min_samples_split': 10,\n",
              " 'min_samples_leaf': 8,\n",
              " 'max_features': 'sqrt',\n",
              " 'max_depth': 511,\n",
              " 'criterion': 'gini'}"
            ]
          },
          "execution_count": 77,
          "metadata": {},
          "output_type": "execute_result"
        }
      ],
      "source": [
        "best_rf.best_params_"
      ]
    },
    {
      "cell_type": "code",
      "execution_count": null,
      "metadata": {
        "colab": {
          "base_uri": "https://localhost:8080/"
        },
        "id": "9APsdpcTX26y",
        "outputId": "2db8e41d-3ec0-452f-904b-e4f7a84bff9c"
      },
      "outputs": [
        {
          "data": {
            "text/plain": [
              "{'knn': {'accuracy': 81.25,\n",
              "  'precision': 0.8,\n",
              "  'recall': 0.6376811594202898,\n",
              "  'f1_score': 0.7096774193548386},\n",
              " 'Naive Bayes': {'accuracy': 81.25,\n",
              "  'precision': 0.7538461538461538,\n",
              "  'recall': 0.7101449275362319,\n",
              "  'f1_score': 0.7313432835820897},\n",
              " 'Logistic Regression': {'accuracy': 77.60416666666666,\n",
              "  'precision': 0.7241379310344828,\n",
              "  'recall': 0.6086956521739131,\n",
              "  'f1_score': 0.6614173228346457},\n",
              " 'XGB': {'accuracy': 79.16666666666666,\n",
              "  'precision': 0.7230769230769231,\n",
              "  'recall': 0.6811594202898551,\n",
              "  'f1_score': 0.7014925373134329},\n",
              " 'Decision Tree': {'accuracy': 73.95833333333334,\n",
              "  'precision': 0.7435897435897436,\n",
              "  'recall': 0.42028985507246375,\n",
              "  'f1_score': 0.537037037037037},\n",
              " 'Random_Forest': {'accuracy': 79.6875,\n",
              "  'precision': 0.7419354838709677,\n",
              "  'recall': 0.6666666666666666,\n",
              "  'f1_score': 0.7022900763358778}}"
            ]
          },
          "execution_count": 78,
          "metadata": {},
          "output_type": "execute_result"
        }
      ],
      "source": [
        "rf_y_pred=best_rf.predict(X_test)\n",
        "\n",
        "print_result(y_test,rf_y_pred,'Random_Forest', scores)"
      ]
    },
    {
      "cell_type": "markdown",
      "metadata": {
        "id": "rA62DqH-fhd8"
      },
      "source": [
        "#7. SVM"
      ]
    },
    {
      "cell_type": "code",
      "execution_count": null,
      "metadata": {
        "id": "OhI5zNtDfkal"
      },
      "outputs": [],
      "source": [
        "from sklearn.svm import SVC\n",
        "model_params = {\n",
        "        'C':[1,10,20,50],\n",
        "        'kernel':['linear', 'rbf']\n",
        "        }"
      ]
    },
    {
      "cell_type": "code",
      "execution_count": null,
      "metadata": {
        "colab": {
          "base_uri": "https://localhost:8080/"
        },
        "id": "GIjAI4NCqRz-",
        "outputId": "cd085d0f-834a-4adf-af1b-c88ea4464941"
      },
      "outputs": [
        {
          "data": {
            "text/plain": [
              "{'knn': {'accuracy': 81.25,\n",
              "  'precision': 0.8,\n",
              "  'recall': 0.6376811594202898,\n",
              "  'f1_score': 0.7096774193548386},\n",
              " 'Naive Bayes': {'accuracy': 81.25,\n",
              "  'precision': 0.7538461538461538,\n",
              "  'recall': 0.7101449275362319,\n",
              "  'f1_score': 0.7313432835820897},\n",
              " 'Logistic Regression': {'accuracy': 77.60416666666666,\n",
              "  'precision': 0.7241379310344828,\n",
              "  'recall': 0.6086956521739131,\n",
              "  'f1_score': 0.6614173228346457},\n",
              " 'XGB': {'accuracy': 79.16666666666666,\n",
              "  'precision': 0.7230769230769231,\n",
              "  'recall': 0.6811594202898551,\n",
              "  'f1_score': 0.7014925373134329},\n",
              " 'Decision Tree': {'accuracy': 73.95833333333334,\n",
              "  'precision': 0.7435897435897436,\n",
              "  'recall': 0.42028985507246375,\n",
              "  'f1_score': 0.537037037037037},\n",
              " 'Random_Forest': {'accuracy': 79.6875,\n",
              "  'precision': 0.7419354838709677,\n",
              "  'recall': 0.6666666666666666,\n",
              "  'f1_score': 0.7022900763358778},\n",
              " 'SVM': {'accuracy': 77.08333333333334,\n",
              "  'precision': 0.7272727272727273,\n",
              "  'recall': 0.5797101449275363,\n",
              "  'f1_score': 0.6451612903225806}}"
            ]
          },
          "execution_count": 80,
          "metadata": {},
          "output_type": "execute_result"
        }
      ],
      "source": [
        "svm = SVC()\n",
        "best_model = GridSearchCV(svm, model_params,cv=cv_method)\n",
        "\n",
        "best_svm = best_model.fit(X_train, y_train)\n",
        "svm_y_predict = best_svm.predict(X_test)\n",
        "\n",
        "print_result(y_test, svm_y_predict, 'SVM', scores)"
      ]
    },
    {
      "cell_type": "markdown",
      "metadata": {
        "id": "ncAhdmGdgkyi"
      },
      "source": [
        "#8. Catboost"
      ]
    },
    {
      "cell_type": "code",
      "execution_count": null,
      "metadata": {
        "colab": {
          "base_uri": "https://localhost:8080/"
        },
        "id": "zu_VnUXyf2-B",
        "outputId": "42808ad2-5529-497f-c932-f0dbb1f136d4"
      },
      "outputs": [
        {
          "name": "stderr",
          "output_type": "stream",
          "text": [
            "You should provide test set for use best model. use_best_model parameter has been switched to false value.\n"
          ]
        },
        {
          "data": {
            "text/plain": [
              "{'knn': {'accuracy': 81.25,\n",
              "  'precision': 0.8,\n",
              "  'recall': 0.6376811594202898,\n",
              "  'f1_score': 0.7096774193548386},\n",
              " 'Naive Bayes': {'accuracy': 81.25,\n",
              "  'precision': 0.7538461538461538,\n",
              "  'recall': 0.7101449275362319,\n",
              "  'f1_score': 0.7313432835820897},\n",
              " 'Logistic Regression': {'accuracy': 77.60416666666666,\n",
              "  'precision': 0.7241379310344828,\n",
              "  'recall': 0.6086956521739131,\n",
              "  'f1_score': 0.6614173228346457},\n",
              " 'XGB': {'accuracy': 79.16666666666666,\n",
              "  'precision': 0.7230769230769231,\n",
              "  'recall': 0.6811594202898551,\n",
              "  'f1_score': 0.7014925373134329},\n",
              " 'Decision Tree': {'accuracy': 73.95833333333334,\n",
              "  'precision': 0.7435897435897436,\n",
              "  'recall': 0.42028985507246375,\n",
              "  'f1_score': 0.537037037037037},\n",
              " 'Random_Forest': {'accuracy': 79.6875,\n",
              "  'precision': 0.7419354838709677,\n",
              "  'recall': 0.6666666666666666,\n",
              "  'f1_score': 0.7022900763358778},\n",
              " 'SVM': {'accuracy': 77.08333333333334,\n",
              "  'precision': 0.7272727272727273,\n",
              "  'recall': 0.5797101449275363,\n",
              "  'f1_score': 0.6451612903225806},\n",
              " 'Catboost': {'accuracy': 80.20833333333334,\n",
              "  'precision': 0.7540983606557377,\n",
              "  'recall': 0.6666666666666666,\n",
              "  'f1_score': 0.7076923076923076}}"
            ]
          },
          "execution_count": 81,
          "metadata": {},
          "output_type": "execute_result"
        }
      ],
      "source": [
        "cat = CatBoostClassifier()\n",
        "\n",
        "cat_mod = cat.fit(X_train,y_train,\n",
        "                   use_best_model=True,\n",
        "                   verbose = 0,\n",
        "                    plot=False)\n",
        "                  \n",
        "cat_y_preds = cat_mod.predict(X_test)\n",
        "\n",
        "print_result(y_test, cat_y_preds, 'Catboost', scores)"
      ]
    },
    {
      "cell_type": "code",
      "execution_count": null,
      "metadata": {
        "colab": {
          "base_uri": "https://localhost:8080/",
          "height": 175
        },
        "id": "u3lNLILGUEy9",
        "outputId": "f65f42f9-76c7-4652-d2de-ac4999c23dd0"
      },
      "outputs": [
        {
          "data": {
            "text/html": [
              "\n",
              "  <div id=\"df-a8ac9b55-f5d8-4d2a-b758-4d17b6cf9906\">\n",
              "    <div class=\"colab-df-container\">\n",
              "      <div>\n",
              "<style scoped>\n",
              "    .dataframe tbody tr th:only-of-type {\n",
              "        vertical-align: middle;\n",
              "    }\n",
              "\n",
              "    .dataframe tbody tr th {\n",
              "        vertical-align: top;\n",
              "    }\n",
              "\n",
              "    .dataframe thead th {\n",
              "        text-align: right;\n",
              "    }\n",
              "</style>\n",
              "<table border=\"1\" class=\"dataframe\">\n",
              "  <thead>\n",
              "    <tr style=\"text-align: right;\">\n",
              "      <th></th>\n",
              "      <th>Catboost</th>\n",
              "      <th>Decision Tree</th>\n",
              "      <th>Logistic Regression</th>\n",
              "      <th>Naive Bayes</th>\n",
              "      <th>Random_Forest</th>\n",
              "      <th>SVM</th>\n",
              "      <th>XGB</th>\n",
              "      <th>knn</th>\n",
              "    </tr>\n",
              "  </thead>\n",
              "  <tbody>\n",
              "    <tr>\n",
              "      <th>accuracy</th>\n",
              "      <td>80.208333</td>\n",
              "      <td>73.958333</td>\n",
              "      <td>77.604167</td>\n",
              "      <td>81.250000</td>\n",
              "      <td>79.687500</td>\n",
              "      <td>77.083333</td>\n",
              "      <td>79.166667</td>\n",
              "      <td>81.250000</td>\n",
              "    </tr>\n",
              "    <tr>\n",
              "      <th>precision</th>\n",
              "      <td>0.754098</td>\n",
              "      <td>0.743590</td>\n",
              "      <td>0.724138</td>\n",
              "      <td>0.753846</td>\n",
              "      <td>0.741935</td>\n",
              "      <td>0.727273</td>\n",
              "      <td>0.723077</td>\n",
              "      <td>0.800000</td>\n",
              "    </tr>\n",
              "    <tr>\n",
              "      <th>recall</th>\n",
              "      <td>0.666667</td>\n",
              "      <td>0.420290</td>\n",
              "      <td>0.608696</td>\n",
              "      <td>0.710145</td>\n",
              "      <td>0.666667</td>\n",
              "      <td>0.579710</td>\n",
              "      <td>0.681159</td>\n",
              "      <td>0.637681</td>\n",
              "    </tr>\n",
              "    <tr>\n",
              "      <th>f1_score</th>\n",
              "      <td>0.707692</td>\n",
              "      <td>0.537037</td>\n",
              "      <td>0.661417</td>\n",
              "      <td>0.731343</td>\n",
              "      <td>0.702290</td>\n",
              "      <td>0.645161</td>\n",
              "      <td>0.701493</td>\n",
              "      <td>0.709677</td>\n",
              "    </tr>\n",
              "  </tbody>\n",
              "</table>\n",
              "</div>\n",
              "      <button class=\"colab-df-convert\" onclick=\"convertToInteractive('df-a8ac9b55-f5d8-4d2a-b758-4d17b6cf9906')\"\n",
              "              title=\"Convert this dataframe to an interactive table.\"\n",
              "              style=\"display:none;\">\n",
              "        \n",
              "  <svg xmlns=\"http://www.w3.org/2000/svg\" height=\"24px\"viewBox=\"0 0 24 24\"\n",
              "       width=\"24px\">\n",
              "    <path d=\"M0 0h24v24H0V0z\" fill=\"none\"/>\n",
              "    <path d=\"M18.56 5.44l.94 2.06.94-2.06 2.06-.94-2.06-.94-.94-2.06-.94 2.06-2.06.94zm-11 1L8.5 8.5l.94-2.06 2.06-.94-2.06-.94L8.5 2.5l-.94 2.06-2.06.94zm10 10l.94 2.06.94-2.06 2.06-.94-2.06-.94-.94-2.06-.94 2.06-2.06.94z\"/><path d=\"M17.41 7.96l-1.37-1.37c-.4-.4-.92-.59-1.43-.59-.52 0-1.04.2-1.43.59L10.3 9.45l-7.72 7.72c-.78.78-.78 2.05 0 2.83L4 21.41c.39.39.9.59 1.41.59.51 0 1.02-.2 1.41-.59l7.78-7.78 2.81-2.81c.8-.78.8-2.07 0-2.86zM5.41 20L4 18.59l7.72-7.72 1.47 1.35L5.41 20z\"/>\n",
              "  </svg>\n",
              "      </button>\n",
              "      \n",
              "  <style>\n",
              "    .colab-df-container {\n",
              "      display:flex;\n",
              "      flex-wrap:wrap;\n",
              "      gap: 12px;\n",
              "    }\n",
              "\n",
              "    .colab-df-convert {\n",
              "      background-color: #E8F0FE;\n",
              "      border: none;\n",
              "      border-radius: 50%;\n",
              "      cursor: pointer;\n",
              "      display: none;\n",
              "      fill: #1967D2;\n",
              "      height: 32px;\n",
              "      padding: 0 0 0 0;\n",
              "      width: 32px;\n",
              "    }\n",
              "\n",
              "    .colab-df-convert:hover {\n",
              "      background-color: #E2EBFA;\n",
              "      box-shadow: 0px 1px 2px rgba(60, 64, 67, 0.3), 0px 1px 3px 1px rgba(60, 64, 67, 0.15);\n",
              "      fill: #174EA6;\n",
              "    }\n",
              "\n",
              "    [theme=dark] .colab-df-convert {\n",
              "      background-color: #3B4455;\n",
              "      fill: #D2E3FC;\n",
              "    }\n",
              "\n",
              "    [theme=dark] .colab-df-convert:hover {\n",
              "      background-color: #434B5C;\n",
              "      box-shadow: 0px 1px 3px 1px rgba(0, 0, 0, 0.15);\n",
              "      filter: drop-shadow(0px 1px 2px rgba(0, 0, 0, 0.3));\n",
              "      fill: #FFFFFF;\n",
              "    }\n",
              "  </style>\n",
              "\n",
              "      <script>\n",
              "        const buttonEl =\n",
              "          document.querySelector('#df-a8ac9b55-f5d8-4d2a-b758-4d17b6cf9906 button.colab-df-convert');\n",
              "        buttonEl.style.display =\n",
              "          google.colab.kernel.accessAllowed ? 'block' : 'none';\n",
              "\n",
              "        async function convertToInteractive(key) {\n",
              "          const element = document.querySelector('#df-a8ac9b55-f5d8-4d2a-b758-4d17b6cf9906');\n",
              "          const dataTable =\n",
              "            await google.colab.kernel.invokeFunction('convertToInteractive',\n",
              "                                                     [key], {});\n",
              "          if (!dataTable) return;\n",
              "\n",
              "          const docLinkHtml = 'Like what you see? Visit the ' +\n",
              "            '<a target=\"_blank\" href=https://colab.research.google.com/notebooks/data_table.ipynb>data table notebook</a>'\n",
              "            + ' to learn more about interactive tables.';\n",
              "          element.innerHTML = '';\n",
              "          dataTable['output_type'] = 'display_data';\n",
              "          await google.colab.output.renderOutput(dataTable, element);\n",
              "          const docLink = document.createElement('div');\n",
              "          docLink.innerHTML = docLinkHtml;\n",
              "          element.appendChild(docLink);\n",
              "        }\n",
              "      </script>\n",
              "    </div>\n",
              "  </div>\n",
              "  "
            ],
            "text/plain": [
              "            Catboost  Decision Tree  Logistic Regression  Naive Bayes  \\\n",
              "accuracy   80.208333      73.958333            77.604167    81.250000   \n",
              "precision   0.754098       0.743590             0.724138     0.753846   \n",
              "recall      0.666667       0.420290             0.608696     0.710145   \n",
              "f1_score    0.707692       0.537037             0.661417     0.731343   \n",
              "\n",
              "           Random_Forest        SVM        XGB        knn  \n",
              "accuracy       79.687500  77.083333  79.166667  81.250000  \n",
              "precision       0.741935   0.727273   0.723077   0.800000  \n",
              "recall          0.666667   0.579710   0.681159   0.637681  \n",
              "f1_score        0.702290   0.645161   0.701493   0.709677  "
            ]
          },
          "execution_count": 82,
          "metadata": {},
          "output_type": "execute_result"
        }
      ],
      "source": [
        "df = pd.DataFrame.from_records(scores)\n",
        "df"
      ]
    },
    {
      "cell_type": "code",
      "execution_count": null,
      "metadata": {
        "colab": {
          "base_uri": "https://localhost:8080/"
        },
        "id": "3CUR6b1Hg5zM",
        "outputId": "a5d0313b-f9f9-4e81-95e9-c51b7c1a77e8"
      },
      "outputs": [
        {
          "name": "stdout",
          "output_type": "stream",
          "text": [
            "Fitting 15 folds for each of 100 candidates, totalling 1500 fits\n",
            "Fitting 5 folds for each of 20 candidates, totalling 100 fits\n"
          ]
        },
        {
          "data": {
            "text/plain": [
              "0.796875"
            ]
          },
          "execution_count": 83,
          "metadata": {},
          "output_type": "execute_result"
        }
      ],
      "source": [
        "from sklearn.ensemble import VotingClassifier\n",
        "\n",
        "vc = VotingClassifier(estimators=[('knn', best_knn), ('NB', best_nb), ('RF', best_rf)], voting='hard')\n",
        "vc.fit(X_train,y_train)\n",
        "vc.score(X_test,y_test)"
      ]
    },
    {
      "cell_type": "code",
      "execution_count": null,
      "metadata": {
        "id": "J9mrmw0j3c-P"
      },
      "outputs": [],
      "source": [
        "df.to_excel('output.xlsx')"
      ]
    },
    {
      "cell_type": "code",
      "execution_count": null,
      "metadata": {
        "colab": {
          "base_uri": "https://localhost:8080/"
        },
        "id": "XjYe87pE5KWp",
        "outputId": "f63d842a-94c3-4522-da30-523d7ff13786"
      },
      "outputs": [
        {
          "data": {
            "text/plain": [
              "(576, 6)"
            ]
          },
          "execution_count": 88,
          "metadata": {},
          "output_type": "execute_result"
        }
      ],
      "source": [
        "X_train.shape"
      ]
    },
    {
      "cell_type": "code",
      "execution_count": null,
      "metadata": {
        "id": "b03dfM9x5C7c"
      },
      "outputs": [],
      "source": [
        "import torch\n",
        "import torch.nn as nn\n",
        "from tqdm import tqdm"
      ]
    },
    {
      "cell_type": "code",
      "execution_count": null,
      "metadata": {
        "id": "pZW6rUgg5BBl"
      },
      "outputs": [],
      "source": [
        "class LogisticRegression(torch.nn.Module):\n",
        "    def __init__(self, input_dim, output_dim):\n",
        "        super(LogisticRegression, self).__init__()\n",
        "        self.linear_1 = torch.nn.Linear(input_dim, 1024)\n",
        "        self.dropout_1 = torch.nn.Dropout()\n",
        "        self.linear_2 = torch.nn.Linear(1024, 512)\n",
        "        self.dropout_2 = torch.nn.Dropout()\n",
        "        self.linear_3 = torch.nn.Linear(512, 128)\n",
        "        self.linear_4 = torch.nn.Linear(128, output_dim)\n",
        "        \n",
        "    def forward(self, x):\n",
        "        x = self.linear_1(x)\n",
        "        x = self.dropout_1(x)\n",
        "        x = self.linear_2(x)\n",
        "        x = self.dropout_2(x)\n",
        "        x = self.linear_3(x)\n",
        "        outputs = torch.sigmoid(self.linear_4(x))\n",
        "        return outputs"
      ]
    },
    {
      "cell_type": "code",
      "execution_count": null,
      "metadata": {
        "id": "R1sADN435D3h"
      },
      "outputs": [],
      "source": [
        "epochs = 200_000\n",
        "input_dim = 6 # Two inputs x1 and x2 \n",
        "output_dim = 1 # Two possible outputs\n",
        "learning_rate = 0.001\n",
        "\n",
        "model = LogisticRegression(input_dim,output_dim)"
      ]
    },
    {
      "cell_type": "code",
      "execution_count": null,
      "metadata": {
        "id": "vSPJlTWS5WUh"
      },
      "outputs": [],
      "source": [
        "criterion = torch.nn.BCELoss()\n",
        "\n",
        "optimizer = torch.optim.Adam(model.parameters(), lr=learning_rate)\n",
        "\n",
        "X_train, X_test = torch.Tensor(X_train),torch.Tensor(X_test)\n",
        "y_train, y_test = torch.Tensor(np.array(y_train)),torch.Tensor(np.array(y_test))"
      ]
    },
    {
      "cell_type": "code",
      "execution_count": null,
      "metadata": {
        "colab": {
          "background_save": true,
          "base_uri": "https://localhost:8080/"
        },
        "id": "DPzMtzJd5WvH",
        "outputId": "5033595a-adee-404d-b7f9-24d3ff6ae0a4"
      },
      "outputs": [
        {
          "name": "stderr",
          "output_type": "stream",
          "text": [
            "Training Epochs:   1%|          | 1002/200000 [00:56<2:28:46, 22.29it/s]"
          ]
        },
        {
          "name": "stdout",
          "output_type": "stream",
          "text": [
            "Iteration: 1000. \n",
            "Test - Loss: 0.4471501410007477. Accuracy: 77.08333333333333\n",
            "Train -  Loss: 0.4730926752090454. Accuracy: 78.29861111111111\n",
            "\n"
          ]
        },
        {
          "name": "stderr",
          "output_type": "stream",
          "text": [
            "Training Epochs:   1%|          | 2004/200000 [01:39<2:24:58, 22.76it/s]"
          ]
        },
        {
          "name": "stdout",
          "output_type": "stream",
          "text": [
            "Iteration: 2000. \n",
            "Test - Loss: 0.4409862458705902. Accuracy: 78.125\n",
            "Train -  Loss: 0.47522762417793274. Accuracy: 77.77777777777777\n",
            "\n"
          ]
        },
        {
          "name": "stderr",
          "output_type": "stream",
          "text": [
            "Training Epochs:   2%|▏         | 3002/200000 [02:23<2:22:43, 23.01it/s]"
          ]
        },
        {
          "name": "stdout",
          "output_type": "stream",
          "text": [
            "Iteration: 3000. \n",
            "Test - Loss: 0.44464218616485596. Accuracy: 77.60416666666667\n",
            "Train -  Loss: 0.48037147521972656. Accuracy: 76.38888888888889\n",
            "\n"
          ]
        },
        {
          "name": "stderr",
          "output_type": "stream",
          "text": [
            "Training Epochs:   2%|▏         | 4004/200000 [03:06<2:21:17, 23.12it/s]"
          ]
        },
        {
          "name": "stdout",
          "output_type": "stream",
          "text": [
            "Iteration: 4000. \n",
            "Test - Loss: 0.43339478969573975. Accuracy: 78.125\n",
            "Train -  Loss: 0.4773513972759247. Accuracy: 76.04166666666667\n",
            "\n"
          ]
        },
        {
          "name": "stderr",
          "output_type": "stream",
          "text": [
            "Training Epochs:   3%|▎         | 5003/200000 [03:49<2:21:30, 22.97it/s]"
          ]
        },
        {
          "name": "stdout",
          "output_type": "stream",
          "text": [
            "Iteration: 5000. \n",
            "Test - Loss: 0.44285857677459717. Accuracy: 79.6875\n",
            "Train -  Loss: 0.47588810324668884. Accuracy: 77.25694444444444\n",
            "\n"
          ]
        },
        {
          "name": "stderr",
          "output_type": "stream",
          "text": [
            "Training Epochs:   3%|▎         | 6002/200000 [04:32<2:18:27, 23.35it/s]"
          ]
        },
        {
          "name": "stdout",
          "output_type": "stream",
          "text": [
            "Iteration: 6000. \n",
            "Test - Loss: 0.44313183426856995. Accuracy: 77.08333333333333\n",
            "Train -  Loss: 0.4772384464740753. Accuracy: 76.90972222222223\n",
            "\n"
          ]
        },
        {
          "name": "stderr",
          "output_type": "stream",
          "text": [
            "Training Epochs:   4%|▎         | 7004/200000 [05:15<2:16:31, 23.56it/s]"
          ]
        },
        {
          "name": "stdout",
          "output_type": "stream",
          "text": [
            "Iteration: 7000. \n",
            "Test - Loss: 0.4397228956222534. Accuracy: 78.125\n",
            "Train -  Loss: 0.4796261787414551. Accuracy: 78.125\n",
            "\n"
          ]
        },
        {
          "name": "stderr",
          "output_type": "stream",
          "text": [
            "Training Epochs:   4%|▍         | 8003/200000 [05:57<2:20:19, 22.80it/s]"
          ]
        },
        {
          "name": "stdout",
          "output_type": "stream",
          "text": [
            "Iteration: 8000. \n",
            "Test - Loss: 0.44114065170288086. Accuracy: 76.5625\n",
            "Train -  Loss: 0.47915205359458923. Accuracy: 78.29861111111111\n",
            "\n"
          ]
        },
        {
          "name": "stderr",
          "output_type": "stream",
          "text": [
            "Training Epochs:   5%|▍         | 9002/200000 [06:40<2:16:07, 23.39it/s]"
          ]
        },
        {
          "name": "stdout",
          "output_type": "stream",
          "text": [
            "Iteration: 9000. \n",
            "Test - Loss: 0.4501190185546875. Accuracy: 77.08333333333333\n",
            "Train -  Loss: 0.4773108661174774. Accuracy: 77.25694444444444\n",
            "\n"
          ]
        },
        {
          "name": "stderr",
          "output_type": "stream",
          "text": [
            "Training Epochs:   5%|▌         | 10004/200000 [07:22<2:14:16, 23.58it/s]"
          ]
        },
        {
          "name": "stdout",
          "output_type": "stream",
          "text": [
            "Iteration: 10000. \n",
            "Test - Loss: 0.44493016600608826. Accuracy: 78.125\n",
            "Train -  Loss: 0.4794008433818817. Accuracy: 77.77777777777777\n",
            "\n"
          ]
        },
        {
          "name": "stderr",
          "output_type": "stream",
          "text": [
            "Training Epochs:   6%|▌         | 11003/200000 [08:04<2:12:49, 23.71it/s]"
          ]
        },
        {
          "name": "stdout",
          "output_type": "stream",
          "text": [
            "Iteration: 11000. \n",
            "Test - Loss: 0.43664097785949707. Accuracy: 78.125\n",
            "Train -  Loss: 0.4806021451950073. Accuracy: 77.43055555555556\n",
            "\n"
          ]
        },
        {
          "name": "stderr",
          "output_type": "stream",
          "text": [
            "Training Epochs:   6%|▌         | 12002/200000 [08:47<2:16:35, 22.94it/s]"
          ]
        },
        {
          "name": "stdout",
          "output_type": "stream",
          "text": [
            "Iteration: 12000. \n",
            "Test - Loss: 0.4359091818332672. Accuracy: 77.60416666666667\n",
            "Train -  Loss: 0.47559744119644165. Accuracy: 77.25694444444444\n",
            "\n"
          ]
        },
        {
          "name": "stderr",
          "output_type": "stream",
          "text": [
            "Training Epochs:   7%|▋         | 13004/200000 [09:29<2:15:25, 23.01it/s]"
          ]
        },
        {
          "name": "stdout",
          "output_type": "stream",
          "text": [
            "Iteration: 13000. \n",
            "Test - Loss: 0.4448679983615875. Accuracy: 76.5625\n",
            "Train -  Loss: 0.4743528962135315. Accuracy: 77.08333333333333\n",
            "\n"
          ]
        },
        {
          "name": "stderr",
          "output_type": "stream",
          "text": [
            "Training Epochs:   7%|▋         | 14003/200000 [10:11<2:11:39, 23.55it/s]"
          ]
        },
        {
          "name": "stdout",
          "output_type": "stream",
          "text": [
            "Iteration: 14000. \n",
            "Test - Loss: 0.4418172538280487. Accuracy: 78.64583333333333\n",
            "Train -  Loss: 0.4767976999282837. Accuracy: 76.90972222222223\n",
            "\n"
          ]
        },
        {
          "name": "stderr",
          "output_type": "stream",
          "text": [
            "Training Epochs:   8%|▊         | 15002/200000 [10:54<2:12:03, 23.35it/s]"
          ]
        },
        {
          "name": "stdout",
          "output_type": "stream",
          "text": [
            "Iteration: 15000. \n",
            "Test - Loss: 0.43631401658058167. Accuracy: 78.64583333333333\n",
            "Train -  Loss: 0.4774543046951294. Accuracy: 77.43055555555556\n",
            "\n"
          ]
        },
        {
          "name": "stderr",
          "output_type": "stream",
          "text": [
            "Training Epochs:   8%|▊         | 16004/200000 [11:36<2:11:48, 23.27it/s]"
          ]
        },
        {
          "name": "stdout",
          "output_type": "stream",
          "text": [
            "Iteration: 16000. \n",
            "Test - Loss: 0.4469725787639618. Accuracy: 78.125\n",
            "Train -  Loss: 0.48054492473602295. Accuracy: 77.60416666666667\n",
            "\n"
          ]
        },
        {
          "name": "stderr",
          "output_type": "stream",
          "text": [
            "Training Epochs:   9%|▊         | 17003/200000 [12:18<2:10:47, 23.32it/s]"
          ]
        },
        {
          "name": "stdout",
          "output_type": "stream",
          "text": [
            "Iteration: 17000. \n",
            "Test - Loss: 0.439260870218277. Accuracy: 78.64583333333333\n",
            "Train -  Loss: 0.47712987661361694. Accuracy: 77.43055555555556\n",
            "\n"
          ]
        },
        {
          "name": "stderr",
          "output_type": "stream",
          "text": [
            "Training Epochs:   9%|▉         | 18002/200000 [13:01<2:12:54, 22.82it/s]"
          ]
        },
        {
          "name": "stdout",
          "output_type": "stream",
          "text": [
            "Iteration: 18000. \n",
            "Test - Loss: 0.44393131136894226. Accuracy: 77.60416666666667\n",
            "Train -  Loss: 0.4760320484638214. Accuracy: 77.77777777777777\n",
            "\n"
          ]
        },
        {
          "name": "stderr",
          "output_type": "stream",
          "text": [
            "Training Epochs:  10%|▉         | 19004/200000 [13:44<2:11:48, 22.89it/s]"
          ]
        },
        {
          "name": "stdout",
          "output_type": "stream",
          "text": [
            "Iteration: 19000. \n",
            "Test - Loss: 0.43709126114845276. Accuracy: 75.52083333333333\n",
            "Train -  Loss: 0.48199546337127686. Accuracy: 77.43055555555556\n",
            "\n"
          ]
        },
        {
          "name": "stderr",
          "output_type": "stream",
          "text": [
            "Training Epochs:  10%|█         | 20003/200000 [14:27<2:10:56, 22.91it/s]"
          ]
        },
        {
          "name": "stdout",
          "output_type": "stream",
          "text": [
            "Iteration: 20000. \n",
            "Test - Loss: 0.44862115383148193. Accuracy: 77.08333333333333\n",
            "Train -  Loss: 0.472739577293396. Accuracy: 77.25694444444444\n",
            "\n"
          ]
        },
        {
          "name": "stderr",
          "output_type": "stream",
          "text": [
            "Training Epochs:  11%|█         | 21002/200000 [15:11<2:10:12, 22.91it/s]"
          ]
        },
        {
          "name": "stdout",
          "output_type": "stream",
          "text": [
            "Iteration: 21000. \n",
            "Test - Loss: 0.4404889643192291. Accuracy: 77.08333333333333\n",
            "Train -  Loss: 0.4759413003921509. Accuracy: 77.60416666666667\n",
            "\n"
          ]
        },
        {
          "name": "stderr",
          "output_type": "stream",
          "text": [
            "Training Epochs:  11%|█         | 22004/200000 [15:54<2:10:17, 22.77it/s]"
          ]
        },
        {
          "name": "stdout",
          "output_type": "stream",
          "text": [
            "Iteration: 22000. \n",
            "Test - Loss: 0.43814635276794434. Accuracy: 77.08333333333333\n",
            "Train -  Loss: 0.4719824194908142. Accuracy: 76.5625\n",
            "\n"
          ]
        },
        {
          "name": "stderr",
          "output_type": "stream",
          "text": [
            "Training Epochs:  12%|█▏        | 23003/200000 [16:37<2:08:18, 22.99it/s]"
          ]
        },
        {
          "name": "stdout",
          "output_type": "stream",
          "text": [
            "Iteration: 23000. \n",
            "Test - Loss: 0.4382983148097992. Accuracy: 78.125\n",
            "Train -  Loss: 0.48001629114151. Accuracy: 77.43055555555556\n",
            "\n"
          ]
        },
        {
          "name": "stderr",
          "output_type": "stream",
          "text": [
            "Training Epochs:  12%|█▏        | 24002/200000 [17:19<2:09:05, 22.72it/s]"
          ]
        },
        {
          "name": "stdout",
          "output_type": "stream",
          "text": [
            "Iteration: 24000. \n",
            "Test - Loss: 0.44717398285865784. Accuracy: 77.60416666666667\n",
            "Train -  Loss: 0.47875234484672546. Accuracy: 76.90972222222223\n",
            "\n"
          ]
        },
        {
          "name": "stderr",
          "output_type": "stream",
          "text": [
            "Training Epochs:  13%|█▎        | 25004/200000 [18:02<2:06:34, 23.04it/s]"
          ]
        },
        {
          "name": "stdout",
          "output_type": "stream",
          "text": [
            "Iteration: 25000. \n",
            "Test - Loss: 0.44526612758636475. Accuracy: 76.5625\n",
            "Train -  Loss: 0.4697578251361847. Accuracy: 77.95138888888889\n",
            "\n"
          ]
        },
        {
          "name": "stderr",
          "output_type": "stream",
          "text": [
            "Training Epochs:  13%|█▎        | 26003/200000 [18:44<2:06:10, 22.98it/s]"
          ]
        },
        {
          "name": "stdout",
          "output_type": "stream",
          "text": [
            "Iteration: 26000. \n",
            "Test - Loss: 0.43673181533813477. Accuracy: 78.125\n",
            "Train -  Loss: 0.4767298698425293. Accuracy: 77.60416666666667\n",
            "\n"
          ]
        },
        {
          "name": "stderr",
          "output_type": "stream",
          "text": [
            "Training Epochs:  14%|█▎        | 27002/200000 [19:27<2:08:18, 22.47it/s]"
          ]
        },
        {
          "name": "stdout",
          "output_type": "stream",
          "text": [
            "Iteration: 27000. \n",
            "Test - Loss: 0.4351499378681183. Accuracy: 78.125\n",
            "Train -  Loss: 0.47664669156074524. Accuracy: 77.60416666666667\n",
            "\n"
          ]
        },
        {
          "name": "stderr",
          "output_type": "stream",
          "text": [
            "Training Epochs:  14%|█▍        | 28004/200000 [20:10<2:02:29, 23.40it/s]"
          ]
        },
        {
          "name": "stdout",
          "output_type": "stream",
          "text": [
            "Iteration: 28000. \n",
            "Test - Loss: 0.4349164068698883. Accuracy: 77.08333333333333\n",
            "Train -  Loss: 0.480214923620224. Accuracy: 77.43055555555556\n",
            "\n"
          ]
        },
        {
          "name": "stderr",
          "output_type": "stream",
          "text": [
            "Training Epochs:  15%|█▍        | 29003/200000 [20:52<2:03:58, 22.99it/s]"
          ]
        },
        {
          "name": "stdout",
          "output_type": "stream",
          "text": [
            "Iteration: 29000. \n",
            "Test - Loss: 0.4406774044036865. Accuracy: 78.125\n",
            "Train -  Loss: 0.47444310784339905. Accuracy: 77.60416666666667\n",
            "\n"
          ]
        },
        {
          "name": "stderr",
          "output_type": "stream",
          "text": [
            "Training Epochs:  15%|█▌        | 30002/200000 [21:35<2:03:20, 22.97it/s]"
          ]
        },
        {
          "name": "stdout",
          "output_type": "stream",
          "text": [
            "Iteration: 30000. \n",
            "Test - Loss: 0.4429697096347809. Accuracy: 78.64583333333333\n",
            "Train -  Loss: 0.47806745767593384. Accuracy: 77.60416666666667\n",
            "\n"
          ]
        },
        {
          "name": "stderr",
          "output_type": "stream",
          "text": [
            "Training Epochs:  16%|█▌        | 31004/200000 [22:18<2:01:57, 23.09it/s]"
          ]
        },
        {
          "name": "stdout",
          "output_type": "stream",
          "text": [
            "Iteration: 31000. \n",
            "Test - Loss: 0.4445915222167969. Accuracy: 76.5625\n",
            "Train -  Loss: 0.47959184646606445. Accuracy: 78.125\n",
            "\n"
          ]
        },
        {
          "name": "stderr",
          "output_type": "stream",
          "text": [
            "Training Epochs:  16%|█▌        | 32003/200000 [23:01<2:02:51, 22.79it/s]"
          ]
        },
        {
          "name": "stdout",
          "output_type": "stream",
          "text": [
            "Iteration: 32000. \n",
            "Test - Loss: 0.4359095096588135. Accuracy: 79.16666666666667\n",
            "Train -  Loss: 0.4786323308944702. Accuracy: 77.60416666666667\n",
            "\n"
          ]
        },
        {
          "name": "stderr",
          "output_type": "stream",
          "text": [
            "Training Epochs:  17%|█▋        | 33002/200000 [23:44<1:59:25, 23.30it/s]"
          ]
        },
        {
          "name": "stdout",
          "output_type": "stream",
          "text": [
            "Iteration: 33000. \n",
            "Test - Loss: 0.4356522858142853. Accuracy: 76.5625\n",
            "Train -  Loss: 0.47663959860801697. Accuracy: 77.77777777777777\n",
            "\n"
          ]
        },
        {
          "name": "stderr",
          "output_type": "stream",
          "text": [
            "Training Epochs:  17%|█▋        | 34004/200000 [24:27<2:00:12, 23.01it/s]"
          ]
        },
        {
          "name": "stdout",
          "output_type": "stream",
          "text": [
            "Iteration: 34000. \n",
            "Test - Loss: 0.44232359528541565. Accuracy: 78.125\n",
            "Train -  Loss: 0.4724063277244568. Accuracy: 77.60416666666667\n",
            "\n"
          ]
        },
        {
          "name": "stderr",
          "output_type": "stream",
          "text": [
            "Training Epochs:  18%|█▊        | 35003/200000 [25:09<1:57:15, 23.45it/s]"
          ]
        },
        {
          "name": "stdout",
          "output_type": "stream",
          "text": [
            "Iteration: 35000. \n",
            "Test - Loss: 0.4466051757335663. Accuracy: 78.125\n",
            "Train -  Loss: 0.47470104694366455. Accuracy: 76.73611111111111\n",
            "\n"
          ]
        },
        {
          "name": "stderr",
          "output_type": "stream",
          "text": [
            "Training Epochs:  18%|█▊        | 36002/200000 [25:52<2:02:10, 22.37it/s]"
          ]
        },
        {
          "name": "stdout",
          "output_type": "stream",
          "text": [
            "Iteration: 36000. \n",
            "Test - Loss: 0.4425297975540161. Accuracy: 77.60416666666667\n",
            "Train -  Loss: 0.47319889068603516. Accuracy: 78.64583333333333\n",
            "\n"
          ]
        },
        {
          "name": "stderr",
          "output_type": "stream",
          "text": [
            "Training Epochs:  19%|█▊        | 37004/200000 [26:35<1:57:19, 23.16it/s]"
          ]
        },
        {
          "name": "stdout",
          "output_type": "stream",
          "text": [
            "Iteration: 37000. \n",
            "Test - Loss: 0.44787701964378357. Accuracy: 78.64583333333333\n",
            "Train -  Loss: 0.47451460361480713. Accuracy: 77.60416666666667\n",
            "\n"
          ]
        },
        {
          "name": "stderr",
          "output_type": "stream",
          "text": [
            "Training Epochs:  19%|█▉        | 38003/200000 [27:18<1:59:41, 22.56it/s]"
          ]
        },
        {
          "name": "stdout",
          "output_type": "stream",
          "text": [
            "Iteration: 38000. \n",
            "Test - Loss: 0.43905532360076904. Accuracy: 79.16666666666667\n",
            "Train -  Loss: 0.4836914837360382. Accuracy: 77.95138888888889\n",
            "\n"
          ]
        },
        {
          "name": "stderr",
          "output_type": "stream",
          "text": [
            "Training Epochs:  20%|█▉        | 39002/200000 [28:01<1:55:09, 23.30it/s]"
          ]
        },
        {
          "name": "stdout",
          "output_type": "stream",
          "text": [
            "Iteration: 39000. \n",
            "Test - Loss: 0.44801416993141174. Accuracy: 76.04166666666667\n",
            "Train -  Loss: 0.4766407012939453. Accuracy: 77.60416666666667\n",
            "\n"
          ]
        },
        {
          "name": "stderr",
          "output_type": "stream",
          "text": [
            "Training Epochs:  20%|██        | 40004/200000 [28:43<1:56:11, 22.95it/s]"
          ]
        },
        {
          "name": "stdout",
          "output_type": "stream",
          "text": [
            "Iteration: 40000. \n",
            "Test - Loss: 0.4459857642650604. Accuracy: 77.08333333333333\n",
            "Train -  Loss: 0.4729258716106415. Accuracy: 77.77777777777777\n",
            "\n"
          ]
        },
        {
          "name": "stderr",
          "output_type": "stream",
          "text": [
            "Training Epochs:  21%|██        | 41003/200000 [29:26<1:53:58, 23.25it/s]"
          ]
        },
        {
          "name": "stdout",
          "output_type": "stream",
          "text": [
            "Iteration: 41000. \n",
            "Test - Loss: 0.4370678961277008. Accuracy: 76.5625\n",
            "Train -  Loss: 0.48321300745010376. Accuracy: 78.47222222222223\n",
            "\n"
          ]
        },
        {
          "name": "stderr",
          "output_type": "stream",
          "text": [
            "Training Epochs:  21%|██        | 42002/200000 [30:09<1:56:08, 22.67it/s]"
          ]
        },
        {
          "name": "stdout",
          "output_type": "stream",
          "text": [
            "Iteration: 42000. \n",
            "Test - Loss: 0.4454512596130371. Accuracy: 77.08333333333333\n",
            "Train -  Loss: 0.4772557020187378. Accuracy: 77.25694444444444\n",
            "\n"
          ]
        },
        {
          "name": "stderr",
          "output_type": "stream",
          "text": [
            "Training Epochs:  22%|██▏       | 43004/200000 [30:52<1:53:36, 23.03it/s]"
          ]
        },
        {
          "name": "stdout",
          "output_type": "stream",
          "text": [
            "Iteration: 43000. \n",
            "Test - Loss: 0.44350406527519226. Accuracy: 76.5625\n",
            "Train -  Loss: 0.47586768865585327. Accuracy: 77.25694444444444\n",
            "\n"
          ]
        },
        {
          "name": "stderr",
          "output_type": "stream",
          "text": [
            "Training Epochs:  22%|██▏       | 44003/200000 [31:34<1:52:00, 23.21it/s]"
          ]
        },
        {
          "name": "stdout",
          "output_type": "stream",
          "text": [
            "Iteration: 44000. \n",
            "Test - Loss: 0.4331148862838745. Accuracy: 77.60416666666667\n",
            "Train -  Loss: 0.4762013256549835. Accuracy: 77.77777777777777\n",
            "\n"
          ]
        },
        {
          "name": "stderr",
          "output_type": "stream",
          "text": [
            "Training Epochs:  23%|██▎       | 45002/200000 [32:17<1:50:43, 23.33it/s]"
          ]
        },
        {
          "name": "stdout",
          "output_type": "stream",
          "text": [
            "Iteration: 45000. \n",
            "Test - Loss: 0.4320111572742462. Accuracy: 77.60416666666667\n",
            "Train -  Loss: 0.48061397671699524. Accuracy: 77.77777777777777\n",
            "\n"
          ]
        },
        {
          "name": "stderr",
          "output_type": "stream",
          "text": [
            "Training Epochs:  23%|██▎       | 46004/200000 [32:59<1:49:19, 23.48it/s]"
          ]
        },
        {
          "name": "stdout",
          "output_type": "stream",
          "text": [
            "Iteration: 46000. \n",
            "Test - Loss: 0.43586310744285583. Accuracy: 77.60416666666667\n",
            "Train -  Loss: 0.47821861505508423. Accuracy: 77.60416666666667\n",
            "\n"
          ]
        },
        {
          "name": "stderr",
          "output_type": "stream",
          "text": [
            "Training Epochs:  24%|██▎       | 47003/200000 [33:42<1:50:21, 23.11it/s]"
          ]
        },
        {
          "name": "stdout",
          "output_type": "stream",
          "text": [
            "Iteration: 47000. \n",
            "Test - Loss: 0.44804704189300537. Accuracy: 77.08333333333333\n",
            "Train -  Loss: 0.4749588370323181. Accuracy: 78.125\n",
            "\n"
          ]
        },
        {
          "name": "stderr",
          "output_type": "stream",
          "text": [
            "Training Epochs:  24%|██▍       | 48002/200000 [34:25<1:49:35, 23.12it/s]"
          ]
        },
        {
          "name": "stdout",
          "output_type": "stream",
          "text": [
            "Iteration: 48000. \n",
            "Test - Loss: 0.43692275881767273. Accuracy: 78.64583333333333\n",
            "Train -  Loss: 0.4766758680343628. Accuracy: 77.77777777777777\n",
            "\n"
          ]
        },
        {
          "name": "stderr",
          "output_type": "stream",
          "text": [
            "Training Epochs:  25%|██▍       | 49004/200000 [35:08<1:49:14, 23.04it/s]"
          ]
        },
        {
          "name": "stdout",
          "output_type": "stream",
          "text": [
            "Iteration: 49000. \n",
            "Test - Loss: 0.4484325647354126. Accuracy: 77.08333333333333\n",
            "Train -  Loss: 0.47644710540771484. Accuracy: 77.43055555555556\n",
            "\n"
          ]
        },
        {
          "name": "stderr",
          "output_type": "stream",
          "text": [
            "Training Epochs:  25%|██▌       | 50003/200000 [35:50<1:45:43, 23.65it/s]"
          ]
        },
        {
          "name": "stdout",
          "output_type": "stream",
          "text": [
            "Iteration: 50000. \n",
            "Test - Loss: 0.4468700885772705. Accuracy: 78.125\n",
            "Train -  Loss: 0.47689852118492126. Accuracy: 77.08333333333333\n",
            "\n"
          ]
        },
        {
          "name": "stderr",
          "output_type": "stream",
          "text": [
            "Training Epochs:  26%|██▌       | 51002/200000 [36:32<1:47:39, 23.07it/s]"
          ]
        },
        {
          "name": "stdout",
          "output_type": "stream",
          "text": [
            "Iteration: 51000. \n",
            "Test - Loss: 0.44447603821754456. Accuracy: 77.08333333333333\n",
            "Train -  Loss: 0.4777435064315796. Accuracy: 77.77777777777777\n",
            "\n"
          ]
        },
        {
          "name": "stderr",
          "output_type": "stream",
          "text": [
            "Training Epochs:  26%|██▌       | 52004/200000 [37:15<1:44:27, 23.61it/s]"
          ]
        },
        {
          "name": "stdout",
          "output_type": "stream",
          "text": [
            "Iteration: 52000. \n",
            "Test - Loss: 0.43825197219848633. Accuracy: 79.6875\n",
            "Train -  Loss: 0.47742971777915955. Accuracy: 77.95138888888889\n",
            "\n"
          ]
        },
        {
          "name": "stderr",
          "output_type": "stream",
          "text": [
            "Training Epochs:  27%|██▋       | 53003/200000 [37:58<1:48:00, 22.68it/s]"
          ]
        },
        {
          "name": "stdout",
          "output_type": "stream",
          "text": [
            "Iteration: 53000. \n",
            "Test - Loss: 0.4439655542373657. Accuracy: 77.08333333333333\n",
            "Train -  Loss: 0.4819510281085968. Accuracy: 78.125\n",
            "\n"
          ]
        },
        {
          "name": "stderr",
          "output_type": "stream",
          "text": [
            "Training Epochs:  27%|██▋       | 54002/200000 [38:41<1:45:53, 22.98it/s]"
          ]
        },
        {
          "name": "stdout",
          "output_type": "stream",
          "text": [
            "Iteration: 54000. \n",
            "Test - Loss: 0.4406144917011261. Accuracy: 78.64583333333333\n",
            "Train -  Loss: 0.47805362939834595. Accuracy: 77.77777777777777\n",
            "\n"
          ]
        },
        {
          "name": "stderr",
          "output_type": "stream",
          "text": [
            "Training Epochs:  28%|██▊       | 55004/200000 [39:24<1:45:39, 22.87it/s]"
          ]
        },
        {
          "name": "stdout",
          "output_type": "stream",
          "text": [
            "Iteration: 55000. \n",
            "Test - Loss: 0.44193196296691895. Accuracy: 77.60416666666667\n",
            "Train -  Loss: 0.4790280759334564. Accuracy: 77.60416666666667\n",
            "\n"
          ]
        },
        {
          "name": "stderr",
          "output_type": "stream",
          "text": [
            "Training Epochs:  28%|██▊       | 56003/200000 [40:07<1:45:48, 22.68it/s]"
          ]
        },
        {
          "name": "stdout",
          "output_type": "stream",
          "text": [
            "Iteration: 56000. \n",
            "Test - Loss: 0.4478677809238434. Accuracy: 77.60416666666667\n",
            "Train -  Loss: 0.47711658477783203. Accuracy: 76.90972222222223\n",
            "\n"
          ]
        },
        {
          "name": "stderr",
          "output_type": "stream",
          "text": [
            "Training Epochs:  29%|██▊       | 57002/200000 [40:50<1:44:23, 22.83it/s]"
          ]
        },
        {
          "name": "stdout",
          "output_type": "stream",
          "text": [
            "Iteration: 57000. \n",
            "Test - Loss: 0.44783082604408264. Accuracy: 77.08333333333333\n",
            "Train -  Loss: 0.4737730026245117. Accuracy: 77.25694444444444\n",
            "\n"
          ]
        },
        {
          "name": "stderr",
          "output_type": "stream",
          "text": [
            "Training Epochs:  29%|██▉       | 58004/200000 [41:33<1:42:31, 23.08it/s]"
          ]
        },
        {
          "name": "stdout",
          "output_type": "stream",
          "text": [
            "Iteration: 58000. \n",
            "Test - Loss: 0.4427658021450043. Accuracy: 77.60416666666667\n",
            "Train -  Loss: 0.47737041115760803. Accuracy: 77.25694444444444\n",
            "\n"
          ]
        },
        {
          "name": "stderr",
          "output_type": "stream",
          "text": [
            "Training Epochs:  30%|██▉       | 59003/200000 [42:16<1:40:45, 23.32it/s]"
          ]
        },
        {
          "name": "stdout",
          "output_type": "stream",
          "text": [
            "Iteration: 59000. \n",
            "Test - Loss: 0.44099879264831543. Accuracy: 77.60416666666667\n",
            "Train -  Loss: 0.47430816292762756. Accuracy: 76.90972222222223\n",
            "\n"
          ]
        },
        {
          "name": "stderr",
          "output_type": "stream",
          "text": [
            "Training Epochs:  30%|███       | 60002/200000 [42:59<1:39:22, 23.48it/s]"
          ]
        },
        {
          "name": "stdout",
          "output_type": "stream",
          "text": [
            "Iteration: 60000. \n",
            "Test - Loss: 0.44364866614341736. Accuracy: 77.60416666666667\n",
            "Train -  Loss: 0.47458615899086. Accuracy: 76.73611111111111\n",
            "\n"
          ]
        },
        {
          "name": "stderr",
          "output_type": "stream",
          "text": [
            "Training Epochs:  31%|███       | 61004/200000 [43:41<1:41:21, 22.86it/s]"
          ]
        },
        {
          "name": "stdout",
          "output_type": "stream",
          "text": [
            "Iteration: 61000. \n",
            "Test - Loss: 0.43231090903282166. Accuracy: 77.60416666666667\n",
            "Train -  Loss: 0.47528403997421265. Accuracy: 77.08333333333333\n",
            "\n"
          ]
        },
        {
          "name": "stderr",
          "output_type": "stream",
          "text": [
            "Training Epochs:  31%|███       | 62003/200000 [44:24<1:39:01, 23.23it/s]"
          ]
        },
        {
          "name": "stdout",
          "output_type": "stream",
          "text": [
            "Iteration: 62000. \n",
            "Test - Loss: 0.4376052916049957. Accuracy: 77.60416666666667\n",
            "Train -  Loss: 0.47431817650794983. Accuracy: 77.77777777777777\n",
            "\n"
          ]
        },
        {
          "name": "stderr",
          "output_type": "stream",
          "text": [
            "Training Epochs:  32%|███▏      | 63002/200000 [45:07<1:39:45, 22.89it/s]"
          ]
        },
        {
          "name": "stdout",
          "output_type": "stream",
          "text": [
            "Iteration: 63000. \n",
            "Test - Loss: 0.43988144397735596. Accuracy: 77.60416666666667\n",
            "Train -  Loss: 0.4828653335571289. Accuracy: 76.73611111111111\n",
            "\n"
          ]
        },
        {
          "name": "stderr",
          "output_type": "stream",
          "text": [
            "Training Epochs:  32%|███▏      | 64004/200000 [45:50<1:40:58, 22.45it/s]"
          ]
        },
        {
          "name": "stdout",
          "output_type": "stream",
          "text": [
            "Iteration: 64000. \n",
            "Test - Loss: 0.44029250741004944. Accuracy: 77.60416666666667\n",
            "Train -  Loss: 0.4790739417076111. Accuracy: 77.08333333333333\n",
            "\n"
          ]
        },
        {
          "name": "stderr",
          "output_type": "stream",
          "text": [
            "Training Epochs:  33%|███▎      | 65003/200000 [46:33<1:38:31, 22.84it/s]"
          ]
        },
        {
          "name": "stdout",
          "output_type": "stream",
          "text": [
            "Iteration: 65000. \n",
            "Test - Loss: 0.4456561505794525. Accuracy: 77.60416666666667\n",
            "Train -  Loss: 0.47804704308509827. Accuracy: 77.08333333333333\n",
            "\n"
          ]
        },
        {
          "name": "stderr",
          "output_type": "stream",
          "text": [
            "Training Epochs:  33%|███▎      | 66002/200000 [47:16<1:37:41, 22.86it/s]"
          ]
        },
        {
          "name": "stdout",
          "output_type": "stream",
          "text": [
            "Iteration: 66000. \n",
            "Test - Loss: 0.43480384349823. Accuracy: 77.60416666666667\n",
            "Train -  Loss: 0.47557246685028076. Accuracy: 77.60416666666667\n",
            "\n"
          ]
        },
        {
          "name": "stderr",
          "output_type": "stream",
          "text": [
            "Training Epochs:  34%|███▎      | 67004/200000 [47:59<1:35:53, 23.11it/s]"
          ]
        },
        {
          "name": "stdout",
          "output_type": "stream",
          "text": [
            "Iteration: 67000. \n",
            "Test - Loss: 0.43946337699890137. Accuracy: 77.60416666666667\n",
            "Train -  Loss: 0.47819221019744873. Accuracy: 77.95138888888889\n",
            "\n"
          ]
        },
        {
          "name": "stderr",
          "output_type": "stream",
          "text": [
            "Training Epochs:  34%|███▍      | 68003/200000 [48:42<1:34:51, 23.19it/s]"
          ]
        },
        {
          "name": "stdout",
          "output_type": "stream",
          "text": [
            "Iteration: 68000. \n",
            "Test - Loss: 0.4391133487224579. Accuracy: 78.125\n",
            "Train -  Loss: 0.47737276554107666. Accuracy: 76.73611111111111\n",
            "\n"
          ]
        },
        {
          "name": "stderr",
          "output_type": "stream",
          "text": [
            "Training Epochs:  35%|███▍      | 69002/200000 [49:25<1:34:20, 23.14it/s]"
          ]
        },
        {
          "name": "stdout",
          "output_type": "stream",
          "text": [
            "Iteration: 69000. \n",
            "Test - Loss: 0.43706074357032776. Accuracy: 77.08333333333333\n",
            "Train -  Loss: 0.4697249233722687. Accuracy: 77.25694444444444\n",
            "\n"
          ]
        },
        {
          "name": "stderr",
          "output_type": "stream",
          "text": [
            "Training Epochs:  35%|███▌      | 70004/200000 [50:08<1:33:23, 23.20it/s]"
          ]
        },
        {
          "name": "stdout",
          "output_type": "stream",
          "text": [
            "Iteration: 70000. \n",
            "Test - Loss: 0.44198188185691833. Accuracy: 77.60416666666667\n",
            "Train -  Loss: 0.4724465608596802. Accuracy: 77.95138888888889\n",
            "\n"
          ]
        },
        {
          "name": "stderr",
          "output_type": "stream",
          "text": [
            "Training Epochs:  36%|███▌      | 71003/200000 [50:51<1:32:51, 23.15it/s]"
          ]
        },
        {
          "name": "stdout",
          "output_type": "stream",
          "text": [
            "Iteration: 71000. \n",
            "Test - Loss: 0.4419911205768585. Accuracy: 77.60416666666667\n",
            "Train -  Loss: 0.47445356845855713. Accuracy: 77.77777777777777\n",
            "\n"
          ]
        },
        {
          "name": "stderr",
          "output_type": "stream",
          "text": [
            "Training Epochs:  36%|███▌      | 72002/200000 [51:34<1:34:22, 22.60it/s]"
          ]
        },
        {
          "name": "stdout",
          "output_type": "stream",
          "text": [
            "Iteration: 72000. \n",
            "Test - Loss: 0.44204244017601013. Accuracy: 78.64583333333333\n",
            "Train -  Loss: 0.4814872741699219. Accuracy: 76.73611111111111\n",
            "\n"
          ]
        },
        {
          "name": "stderr",
          "output_type": "stream",
          "text": [
            "Training Epochs:  37%|███▋      | 73004/200000 [52:18<1:32:35, 22.86it/s]"
          ]
        },
        {
          "name": "stdout",
          "output_type": "stream",
          "text": [
            "Iteration: 73000. \n",
            "Test - Loss: 0.44252416491508484. Accuracy: 78.64583333333333\n",
            "Train -  Loss: 0.4773024916648865. Accuracy: 77.25694444444444\n",
            "\n"
          ]
        },
        {
          "name": "stderr",
          "output_type": "stream",
          "text": [
            "Training Epochs:  37%|███▋      | 74003/200000 [53:01<1:30:37, 23.17it/s]"
          ]
        },
        {
          "name": "stdout",
          "output_type": "stream",
          "text": [
            "Iteration: 74000. \n",
            "Test - Loss: 0.44096317887306213. Accuracy: 78.64583333333333\n",
            "Train -  Loss: 0.4743126630783081. Accuracy: 77.60416666666667\n",
            "\n"
          ]
        },
        {
          "name": "stderr",
          "output_type": "stream",
          "text": [
            "Training Epochs:  38%|███▊      | 75002/200000 [53:44<1:31:36, 22.74it/s]"
          ]
        },
        {
          "name": "stdout",
          "output_type": "stream",
          "text": [
            "Iteration: 75000. \n",
            "Test - Loss: 0.44282373785972595. Accuracy: 78.64583333333333\n",
            "Train -  Loss: 0.47627168893814087. Accuracy: 78.125\n",
            "\n"
          ]
        },
        {
          "name": "stderr",
          "output_type": "stream",
          "text": [
            "Training Epochs:  38%|███▊      | 76004/200000 [54:27<1:29:08, 23.18it/s]"
          ]
        },
        {
          "name": "stdout",
          "output_type": "stream",
          "text": [
            "Iteration: 76000. \n",
            "Test - Loss: 0.44951462745666504. Accuracy: 78.64583333333333\n",
            "Train -  Loss: 0.4750937223434448. Accuracy: 77.25694444444444\n",
            "\n"
          ]
        },
        {
          "name": "stderr",
          "output_type": "stream",
          "text": [
            "Training Epochs:  39%|███▊      | 77003/200000 [55:10<1:28:32, 23.15it/s]"
          ]
        },
        {
          "name": "stdout",
          "output_type": "stream",
          "text": [
            "Iteration: 77000. \n",
            "Test - Loss: 0.4346874952316284. Accuracy: 77.08333333333333\n",
            "Train -  Loss: 0.47433027625083923. Accuracy: 77.60416666666667\n",
            "\n"
          ]
        },
        {
          "name": "stderr",
          "output_type": "stream",
          "text": [
            "Training Epochs:  39%|███▉      | 78002/200000 [55:53<1:28:55, 22.87it/s]"
          ]
        },
        {
          "name": "stdout",
          "output_type": "stream",
          "text": [
            "Iteration: 78000. \n",
            "Test - Loss: 0.4409814774990082. Accuracy: 77.08333333333333\n",
            "Train -  Loss: 0.4756903052330017. Accuracy: 76.90972222222223\n",
            "\n"
          ]
        },
        {
          "name": "stderr",
          "output_type": "stream",
          "text": [
            "Training Epochs:  40%|███▉      | 79004/200000 [56:36<1:26:47, 23.23it/s]"
          ]
        },
        {
          "name": "stdout",
          "output_type": "stream",
          "text": [
            "Iteration: 79000. \n",
            "Test - Loss: 0.44433069229125977. Accuracy: 77.60416666666667\n",
            "Train -  Loss: 0.477343887090683. Accuracy: 78.125\n",
            "\n"
          ]
        },
        {
          "name": "stderr",
          "output_type": "stream",
          "text": [
            "Training Epochs:  40%|████      | 80003/200000 [57:19<1:26:02, 23.25it/s]"
          ]
        },
        {
          "name": "stdout",
          "output_type": "stream",
          "text": [
            "Iteration: 80000. \n",
            "Test - Loss: 0.44183483719825745. Accuracy: 79.16666666666667\n",
            "Train -  Loss: 0.4784213602542877. Accuracy: 77.77777777777777\n",
            "\n"
          ]
        },
        {
          "name": "stderr",
          "output_type": "stream",
          "text": [
            "Training Epochs:  41%|████      | 81002/200000 [58:02<1:26:32, 22.92it/s]"
          ]
        },
        {
          "name": "stdout",
          "output_type": "stream",
          "text": [
            "Iteration: 81000. \n",
            "Test - Loss: 0.44568192958831787. Accuracy: 77.60416666666667\n",
            "Train -  Loss: 0.47852468490600586. Accuracy: 76.73611111111111\n",
            "\n"
          ]
        },
        {
          "name": "stderr",
          "output_type": "stream",
          "text": [
            "Training Epochs:  41%|████      | 82004/200000 [58:46<1:26:43, 22.67it/s]"
          ]
        },
        {
          "name": "stdout",
          "output_type": "stream",
          "text": [
            "Iteration: 82000. \n",
            "Test - Loss: 0.44270023703575134. Accuracy: 78.125\n",
            "Train -  Loss: 0.4743939936161041. Accuracy: 77.43055555555556\n",
            "\n"
          ]
        },
        {
          "name": "stderr",
          "output_type": "stream",
          "text": [
            "Training Epochs:  42%|████▏     | 83003/200000 [59:29<1:24:53, 22.97it/s]"
          ]
        },
        {
          "name": "stdout",
          "output_type": "stream",
          "text": [
            "Iteration: 83000. \n",
            "Test - Loss: 0.4481212794780731. Accuracy: 77.60416666666667\n",
            "Train -  Loss: 0.4775559604167938. Accuracy: 77.77777777777777\n",
            "\n"
          ]
        },
        {
          "name": "stderr",
          "output_type": "stream",
          "text": [
            "Training Epochs:  42%|████▏     | 84002/200000 [1:00:12<1:24:29, 22.88it/s]"
          ]
        },
        {
          "name": "stdout",
          "output_type": "stream",
          "text": [
            "Iteration: 84000. \n",
            "Test - Loss: 0.4374762773513794. Accuracy: 78.64583333333333\n",
            "Train -  Loss: 0.48051685094833374. Accuracy: 77.08333333333333\n",
            "\n"
          ]
        },
        {
          "name": "stderr",
          "output_type": "stream",
          "text": [
            "Training Epochs:  43%|████▎     | 85004/200000 [1:00:55<1:21:59, 23.37it/s]"
          ]
        },
        {
          "name": "stdout",
          "output_type": "stream",
          "text": [
            "Iteration: 85000. \n",
            "Test - Loss: 0.44442954659461975. Accuracy: 78.125\n",
            "Train -  Loss: 0.4793902635574341. Accuracy: 76.90972222222223\n",
            "\n"
          ]
        },
        {
          "name": "stderr",
          "output_type": "stream",
          "text": [
            "Training Epochs:  43%|████▎     | 86003/200000 [1:01:38<1:22:28, 23.04it/s]"
          ]
        },
        {
          "name": "stdout",
          "output_type": "stream",
          "text": [
            "Iteration: 86000. \n",
            "Test - Loss: 0.4405495226383209. Accuracy: 78.64583333333333\n",
            "Train -  Loss: 0.47528204321861267. Accuracy: 77.43055555555556\n",
            "\n"
          ]
        },
        {
          "name": "stderr",
          "output_type": "stream",
          "text": [
            "Training Epochs:  44%|████▎     | 87002/200000 [1:02:21<1:22:07, 22.93it/s]"
          ]
        },
        {
          "name": "stdout",
          "output_type": "stream",
          "text": [
            "Iteration: 87000. \n",
            "Test - Loss: 0.4438190758228302. Accuracy: 77.60416666666667\n",
            "Train -  Loss: 0.47886642813682556. Accuracy: 77.60416666666667\n",
            "\n"
          ]
        },
        {
          "name": "stderr",
          "output_type": "stream",
          "text": [
            "Training Epochs:  44%|████▍     | 88004/200000 [1:03:03<1:21:29, 22.90it/s]"
          ]
        },
        {
          "name": "stdout",
          "output_type": "stream",
          "text": [
            "Iteration: 88000. \n",
            "Test - Loss: 0.4447127878665924. Accuracy: 77.60416666666667\n",
            "Train -  Loss: 0.4748486280441284. Accuracy: 77.25694444444444\n",
            "\n"
          ]
        },
        {
          "name": "stderr",
          "output_type": "stream",
          "text": [
            "Training Epochs:  45%|████▍     | 89003/200000 [1:03:46<1:18:36, 23.53it/s]"
          ]
        },
        {
          "name": "stdout",
          "output_type": "stream",
          "text": [
            "Iteration: 89000. \n",
            "Test - Loss: 0.44577550888061523. Accuracy: 75.52083333333333\n",
            "Train -  Loss: 0.47749778628349304. Accuracy: 77.60416666666667\n",
            "\n"
          ]
        },
        {
          "name": "stderr",
          "output_type": "stream",
          "text": [
            "Training Epochs:  45%|████▌     | 90002/200000 [1:04:29<1:20:53, 22.66it/s]"
          ]
        },
        {
          "name": "stdout",
          "output_type": "stream",
          "text": [
            "Iteration: 90000. \n",
            "Test - Loss: 0.4390698969364166. Accuracy: 77.08333333333333\n",
            "Train -  Loss: 0.4800668954849243. Accuracy: 78.47222222222223\n",
            "\n"
          ]
        },
        {
          "name": "stderr",
          "output_type": "stream",
          "text": [
            "Training Epochs:  46%|████▌     | 91004/200000 [1:05:12<1:21:09, 22.38it/s]"
          ]
        },
        {
          "name": "stdout",
          "output_type": "stream",
          "text": [
            "Iteration: 91000. \n",
            "Test - Loss: 0.44315531849861145. Accuracy: 76.5625\n",
            "Train -  Loss: 0.47425344586372375. Accuracy: 77.43055555555556\n",
            "\n"
          ]
        },
        {
          "name": "stderr",
          "output_type": "stream",
          "text": [
            "Training Epochs:  46%|████▌     | 92003/200000 [1:05:56<1:18:03, 23.06it/s]"
          ]
        },
        {
          "name": "stdout",
          "output_type": "stream",
          "text": [
            "Iteration: 92000. \n",
            "Test - Loss: 0.44484278559684753. Accuracy: 78.64583333333333\n",
            "Train -  Loss: 0.4829998016357422. Accuracy: 77.08333333333333\n",
            "\n"
          ]
        },
        {
          "name": "stderr",
          "output_type": "stream",
          "text": [
            "Training Epochs:  47%|████▋     | 93002/200000 [1:06:39<1:18:10, 22.81it/s]"
          ]
        },
        {
          "name": "stdout",
          "output_type": "stream",
          "text": [
            "Iteration: 93000. \n",
            "Test - Loss: 0.4474528729915619. Accuracy: 76.04166666666667\n",
            "Train -  Loss: 0.4829045534133911. Accuracy: 77.25694444444444\n",
            "\n"
          ]
        },
        {
          "name": "stderr",
          "output_type": "stream",
          "text": [
            "Training Epochs:  47%|████▋     | 94004/200000 [1:07:22<1:16:32, 23.08it/s]"
          ]
        },
        {
          "name": "stdout",
          "output_type": "stream",
          "text": [
            "Iteration: 94000. \n",
            "Test - Loss: 0.4427253305912018. Accuracy: 77.60416666666667\n",
            "Train -  Loss: 0.4760669469833374. Accuracy: 77.25694444444444\n",
            "\n"
          ]
        },
        {
          "name": "stderr",
          "output_type": "stream",
          "text": [
            "Training Epochs:  48%|████▊     | 95003/200000 [1:08:05<1:16:01, 23.02it/s]"
          ]
        },
        {
          "name": "stdout",
          "output_type": "stream",
          "text": [
            "Iteration: 95000. \n",
            "Test - Loss: 0.4394368827342987. Accuracy: 77.60416666666667\n",
            "Train -  Loss: 0.4877668023109436. Accuracy: 76.90972222222223\n",
            "\n"
          ]
        },
        {
          "name": "stderr",
          "output_type": "stream",
          "text": [
            "Training Epochs:  48%|████▊     | 96002/200000 [1:08:48<1:15:19, 23.01it/s]"
          ]
        },
        {
          "name": "stdout",
          "output_type": "stream",
          "text": [
            "Iteration: 96000. \n",
            "Test - Loss: 0.4449325501918793. Accuracy: 77.08333333333333\n",
            "Train -  Loss: 0.47709259390830994. Accuracy: 77.43055555555556\n",
            "\n"
          ]
        },
        {
          "name": "stderr",
          "output_type": "stream",
          "text": [
            "Training Epochs:  49%|████▊     | 97004/200000 [1:09:31<1:14:13, 23.13it/s]"
          ]
        },
        {
          "name": "stdout",
          "output_type": "stream",
          "text": [
            "Iteration: 97000. \n",
            "Test - Loss: 0.4318145513534546. Accuracy: 78.125\n",
            "Train -  Loss: 0.4737178087234497. Accuracy: 78.29861111111111\n",
            "\n"
          ]
        },
        {
          "name": "stderr",
          "output_type": "stream",
          "text": [
            "Training Epochs:  49%|████▉     | 98003/200000 [1:10:14<1:13:36, 23.09it/s]"
          ]
        },
        {
          "name": "stdout",
          "output_type": "stream",
          "text": [
            "Iteration: 98000. \n",
            "Test - Loss: 0.4516565501689911. Accuracy: 77.08333333333333\n",
            "Train -  Loss: 0.47759661078453064. Accuracy: 77.95138888888889\n",
            "\n"
          ]
        },
        {
          "name": "stderr",
          "output_type": "stream",
          "text": [
            "Training Epochs:  50%|████▉     | 99002/200000 [1:10:58<1:13:34, 22.88it/s]"
          ]
        },
        {
          "name": "stdout",
          "output_type": "stream",
          "text": [
            "Iteration: 99000. \n",
            "Test - Loss: 0.4480864703655243. Accuracy: 76.5625\n",
            "Train -  Loss: 0.47767576575279236. Accuracy: 76.90972222222223\n",
            "\n"
          ]
        },
        {
          "name": "stderr",
          "output_type": "stream",
          "text": [
            "Training Epochs:  50%|█████     | 100004/200000 [1:11:41<1:13:09, 22.78it/s]"
          ]
        },
        {
          "name": "stdout",
          "output_type": "stream",
          "text": [
            "Iteration: 100000. \n",
            "Test - Loss: 0.44256791472435. Accuracy: 77.08333333333333\n",
            "Train -  Loss: 0.4788351058959961. Accuracy: 77.43055555555556\n",
            "\n"
          ]
        },
        {
          "name": "stderr",
          "output_type": "stream",
          "text": [
            "Training Epochs:  51%|█████     | 101003/200000 [1:12:25<1:13:30, 22.45it/s]"
          ]
        },
        {
          "name": "stdout",
          "output_type": "stream",
          "text": [
            "Iteration: 101000. \n",
            "Test - Loss: 0.4397679567337036. Accuracy: 78.64583333333333\n",
            "Train -  Loss: 0.4807252883911133. Accuracy: 77.43055555555556\n",
            "\n"
          ]
        },
        {
          "name": "stderr",
          "output_type": "stream",
          "text": [
            "Training Epochs:  51%|█████     | 102002/200000 [1:13:08<1:13:17, 22.29it/s]"
          ]
        },
        {
          "name": "stdout",
          "output_type": "stream",
          "text": [
            "Iteration: 102000. \n",
            "Test - Loss: 0.43934234976768494. Accuracy: 78.125\n",
            "Train -  Loss: 0.474538117647171. Accuracy: 77.25694444444444\n",
            "\n"
          ]
        },
        {
          "name": "stderr",
          "output_type": "stream",
          "text": [
            "Training Epochs:  52%|█████▏    | 103004/200000 [1:13:52<1:11:45, 22.53it/s]"
          ]
        },
        {
          "name": "stdout",
          "output_type": "stream",
          "text": [
            "Iteration: 103000. \n",
            "Test - Loss: 0.4405219554901123. Accuracy: 77.08333333333333\n",
            "Train -  Loss: 0.47628530859947205. Accuracy: 77.60416666666667\n",
            "\n"
          ]
        },
        {
          "name": "stderr",
          "output_type": "stream",
          "text": [
            "Training Epochs:  52%|█████▏    | 104003/200000 [1:14:35<1:09:20, 23.07it/s]"
          ]
        },
        {
          "name": "stdout",
          "output_type": "stream",
          "text": [
            "Iteration: 104000. \n",
            "Test - Loss: 0.4479009807109833. Accuracy: 77.08333333333333\n",
            "Train -  Loss: 0.48218461871147156. Accuracy: 77.25694444444444\n",
            "\n"
          ]
        },
        {
          "name": "stderr",
          "output_type": "stream",
          "text": [
            "Training Epochs:  53%|█████▎    | 105002/200000 [1:15:18<1:10:21, 22.50it/s]"
          ]
        },
        {
          "name": "stdout",
          "output_type": "stream",
          "text": [
            "Iteration: 105000. \n",
            "Test - Loss: 0.43508830666542053. Accuracy: 78.125\n",
            "Train -  Loss: 0.48526397347450256. Accuracy: 77.08333333333333\n",
            "\n"
          ]
        },
        {
          "name": "stderr",
          "output_type": "stream",
          "text": [
            "Training Epochs:  53%|█████▎    | 106004/200000 [1:16:02<1:08:41, 22.80it/s]"
          ]
        },
        {
          "name": "stdout",
          "output_type": "stream",
          "text": [
            "Iteration: 106000. \n",
            "Test - Loss: 0.44487106800079346. Accuracy: 78.125\n",
            "Train -  Loss: 0.47848451137542725. Accuracy: 77.60416666666667\n",
            "\n"
          ]
        },
        {
          "name": "stderr",
          "output_type": "stream",
          "text": [
            "Training Epochs:  54%|█████▎    | 107003/200000 [1:16:46<1:07:24, 23.00it/s]"
          ]
        },
        {
          "name": "stdout",
          "output_type": "stream",
          "text": [
            "Iteration: 107000. \n",
            "Test - Loss: 0.4402327537536621. Accuracy: 78.125\n",
            "Train -  Loss: 0.4790138006210327. Accuracy: 77.08333333333333\n",
            "\n"
          ]
        },
        {
          "name": "stderr",
          "output_type": "stream",
          "text": [
            "Training Epochs:  54%|█████▍    | 108002/200000 [1:17:30<1:08:17, 22.45it/s]"
          ]
        },
        {
          "name": "stdout",
          "output_type": "stream",
          "text": [
            "Iteration: 108000. \n",
            "Test - Loss: 0.43789950013160706. Accuracy: 77.60416666666667\n",
            "Train -  Loss: 0.4802381098270416. Accuracy: 77.77777777777777\n",
            "\n"
          ]
        },
        {
          "name": "stderr",
          "output_type": "stream",
          "text": [
            "Training Epochs:  55%|█████▍    | 109004/200000 [1:18:13<1:06:58, 22.65it/s]"
          ]
        },
        {
          "name": "stdout",
          "output_type": "stream",
          "text": [
            "Iteration: 109000. \n",
            "Test - Loss: 0.4409472644329071. Accuracy: 78.125\n",
            "Train -  Loss: 0.47757503390312195. Accuracy: 77.08333333333333\n",
            "\n"
          ]
        },
        {
          "name": "stderr",
          "output_type": "stream",
          "text": [
            "Training Epochs:  55%|█████▌    | 110003/200000 [1:18:57<1:07:05, 22.36it/s]"
          ]
        },
        {
          "name": "stdout",
          "output_type": "stream",
          "text": [
            "Iteration: 110000. \n",
            "Test - Loss: 0.4452669322490692. Accuracy: 78.64583333333333\n",
            "Train -  Loss: 0.47684478759765625. Accuracy: 77.43055555555556\n",
            "\n"
          ]
        },
        {
          "name": "stderr",
          "output_type": "stream",
          "text": [
            "Training Epochs:  56%|█████▌    | 111002/200000 [1:19:41<1:04:53, 22.86it/s]"
          ]
        },
        {
          "name": "stdout",
          "output_type": "stream",
          "text": [
            "Iteration: 111000. \n",
            "Test - Loss: 0.45335638523101807. Accuracy: 78.64583333333333\n",
            "Train -  Loss: 0.47816890478134155. Accuracy: 77.25694444444444\n",
            "\n"
          ]
        },
        {
          "name": "stderr",
          "output_type": "stream",
          "text": [
            "Training Epochs:  56%|█████▌    | 112004/200000 [1:20:24<1:03:26, 23.12it/s]"
          ]
        },
        {
          "name": "stdout",
          "output_type": "stream",
          "text": [
            "Iteration: 112000. \n",
            "Test - Loss: 0.4380241632461548. Accuracy: 78.125\n",
            "Train -  Loss: 0.47042274475097656. Accuracy: 78.47222222222223\n",
            "\n"
          ]
        },
        {
          "name": "stderr",
          "output_type": "stream",
          "text": [
            "Training Epochs:  57%|█████▋    | 113003/200000 [1:21:07<1:04:04, 22.63it/s]"
          ]
        },
        {
          "name": "stdout",
          "output_type": "stream",
          "text": [
            "Iteration: 113000. \n",
            "Test - Loss: 0.4375252425670624. Accuracy: 77.08333333333333\n",
            "Train -  Loss: 0.4815729558467865. Accuracy: 77.43055555555556\n",
            "\n"
          ]
        },
        {
          "name": "stderr",
          "output_type": "stream",
          "text": [
            "Training Epochs:  57%|█████▋    | 114002/200000 [1:21:50<1:02:47, 22.83it/s]"
          ]
        },
        {
          "name": "stdout",
          "output_type": "stream",
          "text": [
            "Iteration: 114000. \n",
            "Test - Loss: 0.441188782453537. Accuracy: 77.08333333333333\n",
            "Train -  Loss: 0.47669294476509094. Accuracy: 77.25694444444444\n",
            "\n"
          ]
        },
        {
          "name": "stderr",
          "output_type": "stream",
          "text": [
            "Training Epochs:  58%|█████▊    | 115004/200000 [1:22:34<1:01:52, 22.89it/s]"
          ]
        },
        {
          "name": "stdout",
          "output_type": "stream",
          "text": [
            "Iteration: 115000. \n",
            "Test - Loss: 0.436611533164978. Accuracy: 78.64583333333333\n",
            "Train -  Loss: 0.4802743196487427. Accuracy: 77.77777777777777\n",
            "\n"
          ]
        },
        {
          "name": "stderr",
          "output_type": "stream",
          "text": [
            "Training Epochs:  58%|█████▊    | 116003/200000 [1:23:17<1:03:04, 22.20it/s]"
          ]
        },
        {
          "name": "stdout",
          "output_type": "stream",
          "text": [
            "Iteration: 116000. \n",
            "Test - Loss: 0.44432032108306885. Accuracy: 77.60416666666667\n",
            "Train -  Loss: 0.4801129102706909. Accuracy: 77.43055555555556\n",
            "\n"
          ]
        },
        {
          "name": "stderr",
          "output_type": "stream",
          "text": [
            "Training Epochs:  59%|█████▊    | 117002/200000 [1:24:01<1:01:32, 22.48it/s]"
          ]
        },
        {
          "name": "stdout",
          "output_type": "stream",
          "text": [
            "Iteration: 117000. \n",
            "Test - Loss: 0.4464585781097412. Accuracy: 78.125\n",
            "Train -  Loss: 0.47111791372299194. Accuracy: 76.5625\n",
            "\n"
          ]
        },
        {
          "name": "stderr",
          "output_type": "stream",
          "text": [
            "Training Epochs:  59%|█████▉    | 118004/200000 [1:24:45<1:01:37, 22.18it/s]"
          ]
        },
        {
          "name": "stdout",
          "output_type": "stream",
          "text": [
            "Iteration: 118000. \n",
            "Test - Loss: 0.44920241832733154. Accuracy: 78.125\n",
            "Train -  Loss: 0.47493961453437805. Accuracy: 77.77777777777777\n",
            "\n"
          ]
        },
        {
          "name": "stderr",
          "output_type": "stream",
          "text": [
            "Training Epochs:  60%|█████▉    | 119003/200000 [1:25:29<59:08, 22.82it/s]"
          ]
        },
        {
          "name": "stdout",
          "output_type": "stream",
          "text": [
            "Iteration: 119000. \n",
            "Test - Loss: 0.4334610402584076. Accuracy: 78.64583333333333\n",
            "Train -  Loss: 0.48455947637557983. Accuracy: 77.25694444444444\n",
            "\n"
          ]
        },
        {
          "name": "stderr",
          "output_type": "stream",
          "text": [
            "Training Epochs:  60%|██████    | 120002/200000 [1:26:12<58:37, 22.74it/s]"
          ]
        },
        {
          "name": "stdout",
          "output_type": "stream",
          "text": [
            "Iteration: 120000. \n",
            "Test - Loss: 0.44227755069732666. Accuracy: 77.60416666666667\n",
            "Train -  Loss: 0.48286616802215576. Accuracy: 76.38888888888889\n",
            "\n"
          ]
        },
        {
          "name": "stderr",
          "output_type": "stream",
          "text": [
            "Training Epochs:  61%|██████    | 121004/200000 [1:26:56<57:45, 22.80it/s]"
          ]
        },
        {
          "name": "stdout",
          "output_type": "stream",
          "text": [
            "Iteration: 121000. \n",
            "Test - Loss: 0.4365101158618927. Accuracy: 77.60416666666667\n",
            "Train -  Loss: 0.47891610860824585. Accuracy: 77.60416666666667\n",
            "\n"
          ]
        },
        {
          "name": "stderr",
          "output_type": "stream",
          "text": [
            "Training Epochs:  61%|██████    | 122003/200000 [1:27:39<57:50, 22.47it/s]"
          ]
        },
        {
          "name": "stdout",
          "output_type": "stream",
          "text": [
            "Iteration: 122000. \n",
            "Test - Loss: 0.43658968806266785. Accuracy: 78.125\n",
            "Train -  Loss: 0.475092351436615. Accuracy: 77.25694444444444\n",
            "\n"
          ]
        },
        {
          "name": "stderr",
          "output_type": "stream",
          "text": [
            "Training Epochs:  62%|██████▏   | 123002/200000 [1:28:24<57:25, 22.35it/s]"
          ]
        },
        {
          "name": "stdout",
          "output_type": "stream",
          "text": [
            "Iteration: 123000. \n",
            "Test - Loss: 0.4404582679271698. Accuracy: 79.6875\n",
            "Train -  Loss: 0.474810391664505. Accuracy: 77.25694444444444\n",
            "\n"
          ]
        },
        {
          "name": "stderr",
          "output_type": "stream",
          "text": [
            "Training Epochs:  62%|██████▏   | 124004/200000 [1:29:07<56:13, 22.52it/s]"
          ]
        },
        {
          "name": "stdout",
          "output_type": "stream",
          "text": [
            "Iteration: 124000. \n",
            "Test - Loss: 0.44303619861602783. Accuracy: 76.5625\n",
            "Train -  Loss: 0.47423213720321655. Accuracy: 76.90972222222223\n",
            "\n"
          ]
        },
        {
          "name": "stderr",
          "output_type": "stream",
          "text": [
            "Training Epochs:  63%|██████▎   | 125003/200000 [1:29:51<55:24, 22.56it/s]"
          ]
        },
        {
          "name": "stdout",
          "output_type": "stream",
          "text": [
            "Iteration: 125000. \n",
            "Test - Loss: 0.43784835934638977. Accuracy: 78.64583333333333\n",
            "Train -  Loss: 0.47397682070732117. Accuracy: 77.77777777777777\n",
            "\n"
          ]
        },
        {
          "name": "stderr",
          "output_type": "stream",
          "text": [
            "Training Epochs:  63%|██████▎   | 126002/200000 [1:30:35<55:01, 22.42it/s]"
          ]
        },
        {
          "name": "stdout",
          "output_type": "stream",
          "text": [
            "Iteration: 126000. \n",
            "Test - Loss: 0.434477835893631. Accuracy: 78.125\n",
            "Train -  Loss: 0.48265546560287476. Accuracy: 77.08333333333333\n",
            "\n"
          ]
        },
        {
          "name": "stderr",
          "output_type": "stream",
          "text": [
            "Training Epochs:  64%|██████▎   | 127004/200000 [1:31:19<54:13, 22.44it/s]"
          ]
        },
        {
          "name": "stdout",
          "output_type": "stream",
          "text": [
            "Iteration: 127000. \n",
            "Test - Loss: 0.4456625282764435. Accuracy: 78.125\n",
            "Train -  Loss: 0.4832349419593811. Accuracy: 78.125\n",
            "\n"
          ]
        },
        {
          "name": "stderr",
          "output_type": "stream",
          "text": [
            "Training Epochs:  64%|██████▍   | 128003/200000 [1:32:03<52:38, 22.80it/s]"
          ]
        },
        {
          "name": "stdout",
          "output_type": "stream",
          "text": [
            "Iteration: 128000. \n",
            "Test - Loss: 0.4388315975666046. Accuracy: 77.60416666666667\n",
            "Train -  Loss: 0.4782624840736389. Accuracy: 77.60416666666667\n",
            "\n"
          ]
        },
        {
          "name": "stderr",
          "output_type": "stream",
          "text": [
            "Training Epochs:  65%|██████▍   | 129002/200000 [1:32:46<52:17, 22.63it/s]"
          ]
        },
        {
          "name": "stdout",
          "output_type": "stream",
          "text": [
            "Iteration: 129000. \n",
            "Test - Loss: 0.4389139413833618. Accuracy: 78.125\n",
            "Train -  Loss: 0.47522708773612976. Accuracy: 77.25694444444444\n",
            "\n"
          ]
        },
        {
          "name": "stderr",
          "output_type": "stream",
          "text": [
            "Training Epochs:  65%|██████▌   | 130004/200000 [1:33:30<50:16, 23.20it/s]"
          ]
        },
        {
          "name": "stdout",
          "output_type": "stream",
          "text": [
            "Iteration: 130000. \n",
            "Test - Loss: 0.44464167952537537. Accuracy: 77.60416666666667\n",
            "Train -  Loss: 0.47222083806991577. Accuracy: 77.77777777777777\n",
            "\n"
          ]
        },
        {
          "name": "stderr",
          "output_type": "stream",
          "text": [
            "Training Epochs:  66%|██████▌   | 131003/200000 [1:34:14<50:55, 22.58it/s]"
          ]
        },
        {
          "name": "stdout",
          "output_type": "stream",
          "text": [
            "Iteration: 131000. \n",
            "Test - Loss: 0.4497922658920288. Accuracy: 78.125\n",
            "Train -  Loss: 0.4779275357723236. Accuracy: 76.38888888888889\n",
            "\n"
          ]
        },
        {
          "name": "stderr",
          "output_type": "stream",
          "text": [
            "Training Epochs:  66%|██████▌   | 132002/200000 [1:34:58<49:59, 22.67it/s]"
          ]
        },
        {
          "name": "stdout",
          "output_type": "stream",
          "text": [
            "Iteration: 132000. \n",
            "Test - Loss: 0.44035056233406067. Accuracy: 77.08333333333333\n",
            "Train -  Loss: 0.47858646512031555. Accuracy: 78.125\n",
            "\n"
          ]
        },
        {
          "name": "stderr",
          "output_type": "stream",
          "text": [
            "Training Epochs:  67%|██████▋   | 133004/200000 [1:35:42<49:55, 22.37it/s]"
          ]
        },
        {
          "name": "stdout",
          "output_type": "stream",
          "text": [
            "Iteration: 133000. \n",
            "Test - Loss: 0.4402892589569092. Accuracy: 75.52083333333333\n",
            "Train -  Loss: 0.47764450311660767. Accuracy: 77.08333333333333\n",
            "\n"
          ]
        },
        {
          "name": "stderr",
          "output_type": "stream",
          "text": [
            "Training Epochs:  67%|██████▋   | 134003/200000 [1:36:26<49:13, 22.35it/s]"
          ]
        },
        {
          "name": "stdout",
          "output_type": "stream",
          "text": [
            "Iteration: 134000. \n",
            "Test - Loss: 0.4458547532558441. Accuracy: 77.60416666666667\n",
            "Train -  Loss: 0.4775281548500061. Accuracy: 77.08333333333333\n",
            "\n"
          ]
        },
        {
          "name": "stderr",
          "output_type": "stream",
          "text": [
            "Training Epochs:  68%|██████▊   | 135002/200000 [1:37:10<48:02, 22.55it/s]"
          ]
        },
        {
          "name": "stdout",
          "output_type": "stream",
          "text": [
            "Iteration: 135000. \n",
            "Test - Loss: 0.44194281101226807. Accuracy: 78.64583333333333\n",
            "Train -  Loss: 0.48132801055908203. Accuracy: 76.73611111111111\n",
            "\n"
          ]
        },
        {
          "name": "stderr",
          "output_type": "stream",
          "text": [
            "Training Epochs:  68%|██████▊   | 136004/200000 [1:37:54<46:43, 22.83it/s]"
          ]
        },
        {
          "name": "stdout",
          "output_type": "stream",
          "text": [
            "Iteration: 136000. \n",
            "Test - Loss: 0.44933393597602844. Accuracy: 78.125\n",
            "Train -  Loss: 0.4742775559425354. Accuracy: 77.77777777777777\n",
            "\n"
          ]
        },
        {
          "name": "stderr",
          "output_type": "stream",
          "text": [
            "Training Epochs:  69%|██████▊   | 137003/200000 [1:38:37<48:25, 21.68it/s]"
          ]
        },
        {
          "name": "stdout",
          "output_type": "stream",
          "text": [
            "Iteration: 137000. \n",
            "Test - Loss: 0.4465407431125641. Accuracy: 78.64583333333333\n",
            "Train -  Loss: 0.47470128536224365. Accuracy: 77.95138888888889\n",
            "\n"
          ]
        },
        {
          "name": "stderr",
          "output_type": "stream",
          "text": [
            "Training Epochs:  69%|██████▉   | 138002/200000 [1:39:21<46:26, 22.25it/s]"
          ]
        },
        {
          "name": "stdout",
          "output_type": "stream",
          "text": [
            "Iteration: 138000. \n",
            "Test - Loss: 0.43747708201408386. Accuracy: 78.125\n",
            "Train -  Loss: 0.47810328006744385. Accuracy: 77.95138888888889\n",
            "\n"
          ]
        },
        {
          "name": "stderr",
          "output_type": "stream",
          "text": [
            "Training Epochs:  70%|██████▉   | 139004/200000 [1:40:05<44:29, 22.85it/s]"
          ]
        },
        {
          "name": "stdout",
          "output_type": "stream",
          "text": [
            "Iteration: 139000. \n",
            "Test - Loss: 0.4438260495662689. Accuracy: 79.16666666666667\n",
            "Train -  Loss: 0.4752388596534729. Accuracy: 77.43055555555556\n",
            "\n"
          ]
        },
        {
          "name": "stderr",
          "output_type": "stream",
          "text": [
            "Training Epochs:  70%|███████   | 140003/200000 [1:40:49<44:57, 22.24it/s]"
          ]
        },
        {
          "name": "stdout",
          "output_type": "stream",
          "text": [
            "Iteration: 140000. \n",
            "Test - Loss: 0.44388672709465027. Accuracy: 79.6875\n",
            "Train -  Loss: 0.47709718346595764. Accuracy: 77.77777777777777\n",
            "\n"
          ]
        },
        {
          "name": "stderr",
          "output_type": "stream",
          "text": [
            "Training Epochs:  71%|███████   | 141002/200000 [1:41:33<43:46, 22.47it/s]"
          ]
        },
        {
          "name": "stdout",
          "output_type": "stream",
          "text": [
            "Iteration: 141000. \n",
            "Test - Loss: 0.4453282356262207. Accuracy: 77.60416666666667\n",
            "Train -  Loss: 0.4738394320011139. Accuracy: 77.95138888888889\n",
            "\n"
          ]
        },
        {
          "name": "stderr",
          "output_type": "stream",
          "text": [
            "Training Epochs:  71%|███████   | 142004/200000 [1:42:17<43:45, 22.09it/s]"
          ]
        },
        {
          "name": "stdout",
          "output_type": "stream",
          "text": [
            "Iteration: 142000. \n",
            "Test - Loss: 0.44338762760162354. Accuracy: 77.08333333333333\n",
            "Train -  Loss: 0.4809683561325073. Accuracy: 75.86805555555556\n",
            "\n"
          ]
        },
        {
          "name": "stderr",
          "output_type": "stream",
          "text": [
            "Training Epochs:  72%|███████▏  | 143003/200000 [1:43:01<42:40, 22.26it/s]"
          ]
        },
        {
          "name": "stdout",
          "output_type": "stream",
          "text": [
            "Iteration: 143000. \n",
            "Test - Loss: 0.4480609893798828. Accuracy: 78.125\n",
            "Train -  Loss: 0.47651591897010803. Accuracy: 77.43055555555556\n",
            "\n"
          ]
        },
        {
          "name": "stderr",
          "output_type": "stream",
          "text": [
            "Training Epochs:  72%|███████▏  | 144002/200000 [1:43:46<42:11, 22.12it/s]"
          ]
        },
        {
          "name": "stdout",
          "output_type": "stream",
          "text": [
            "Iteration: 144000. \n",
            "Test - Loss: 0.4473479092121124. Accuracy: 77.08333333333333\n",
            "Train -  Loss: 0.48447057604789734. Accuracy: 76.5625\n",
            "\n"
          ]
        },
        {
          "name": "stderr",
          "output_type": "stream",
          "text": [
            "Training Epochs:  73%|███████▎  | 145004/200000 [1:44:31<41:03, 22.32it/s]"
          ]
        },
        {
          "name": "stdout",
          "output_type": "stream",
          "text": [
            "Iteration: 145000. \n",
            "Test - Loss: 0.45381656289100647. Accuracy: 77.08333333333333\n",
            "Train -  Loss: 0.47926345467567444. Accuracy: 78.125\n",
            "\n"
          ]
        },
        {
          "name": "stderr",
          "output_type": "stream",
          "text": [
            "Training Epochs:  73%|███████▎  | 146003/200000 [1:45:14<39:13, 22.94it/s]"
          ]
        },
        {
          "name": "stdout",
          "output_type": "stream",
          "text": [
            "Iteration: 146000. \n",
            "Test - Loss: 0.44130027294158936. Accuracy: 77.08333333333333\n",
            "Train -  Loss: 0.4815457761287689. Accuracy: 77.25694444444444\n",
            "\n"
          ]
        },
        {
          "name": "stderr",
          "output_type": "stream",
          "text": [
            "Training Epochs:  74%|███████▎  | 147002/200000 [1:45:59<39:39, 22.27it/s]"
          ]
        },
        {
          "name": "stdout",
          "output_type": "stream",
          "text": [
            "Iteration: 147000. \n",
            "Test - Loss: 0.4399692118167877. Accuracy: 78.125\n",
            "Train -  Loss: 0.4833773076534271. Accuracy: 76.5625\n",
            "\n"
          ]
        },
        {
          "name": "stderr",
          "output_type": "stream",
          "text": [
            "Training Epochs:  74%|███████▍  | 148004/200000 [1:46:43<38:40, 22.41it/s]"
          ]
        },
        {
          "name": "stdout",
          "output_type": "stream",
          "text": [
            "Iteration: 148000. \n",
            "Test - Loss: 0.43879184126853943. Accuracy: 78.64583333333333\n",
            "Train -  Loss: 0.47695276141166687. Accuracy: 77.25694444444444\n",
            "\n"
          ]
        },
        {
          "name": "stderr",
          "output_type": "stream",
          "text": [
            "Training Epochs:  75%|███████▍  | 149003/200000 [1:47:27<38:19, 22.18it/s]"
          ]
        },
        {
          "name": "stdout",
          "output_type": "stream",
          "text": [
            "Iteration: 149000. \n",
            "Test - Loss: 0.44168928265571594. Accuracy: 76.5625\n",
            "Train -  Loss: 0.4808003008365631. Accuracy: 78.47222222222223\n",
            "\n"
          ]
        },
        {
          "name": "stderr",
          "output_type": "stream",
          "text": [
            "Training Epochs:  75%|███████▌  | 150002/200000 [1:48:11<36:33, 22.80it/s]"
          ]
        },
        {
          "name": "stdout",
          "output_type": "stream",
          "text": [
            "Iteration: 150000. \n",
            "Test - Loss: 0.4467635452747345. Accuracy: 78.125\n",
            "Train -  Loss: 0.4725494980812073. Accuracy: 77.77777777777777\n",
            "\n"
          ]
        },
        {
          "name": "stderr",
          "output_type": "stream",
          "text": [
            "Training Epochs:  76%|███████▌  | 151004/200000 [1:48:55<36:04, 22.63it/s]"
          ]
        },
        {
          "name": "stdout",
          "output_type": "stream",
          "text": [
            "Iteration: 151000. \n",
            "Test - Loss: 0.44306328892707825. Accuracy: 77.08333333333333\n",
            "Train -  Loss: 0.4808894693851471. Accuracy: 77.95138888888889\n",
            "\n"
          ]
        },
        {
          "name": "stderr",
          "output_type": "stream",
          "text": [
            "Training Epochs:  76%|███████▌  | 152003/200000 [1:49:38<35:45, 22.37it/s]"
          ]
        },
        {
          "name": "stdout",
          "output_type": "stream",
          "text": [
            "Iteration: 152000. \n",
            "Test - Loss: 0.44875743985176086. Accuracy: 76.5625\n",
            "Train -  Loss: 0.48178040981292725. Accuracy: 77.43055555555556\n",
            "\n"
          ]
        },
        {
          "name": "stderr",
          "output_type": "stream",
          "text": [
            "Training Epochs:  77%|███████▋  | 153002/200000 [1:50:22<34:59, 22.38it/s]"
          ]
        },
        {
          "name": "stdout",
          "output_type": "stream",
          "text": [
            "Iteration: 153000. \n",
            "Test - Loss: 0.4351918399333954. Accuracy: 77.08333333333333\n",
            "Train -  Loss: 0.48201268911361694. Accuracy: 78.64583333333333\n",
            "\n"
          ]
        },
        {
          "name": "stderr",
          "output_type": "stream",
          "text": [
            "Training Epochs:  77%|███████▋  | 154004/200000 [1:51:06<33:42, 22.74it/s]"
          ]
        },
        {
          "name": "stdout",
          "output_type": "stream",
          "text": [
            "Iteration: 154000. \n",
            "Test - Loss: 0.4484840929508209. Accuracy: 78.125\n",
            "Train -  Loss: 0.47603777050971985. Accuracy: 76.5625\n",
            "\n"
          ]
        },
        {
          "name": "stderr",
          "output_type": "stream",
          "text": [
            "Training Epochs:  78%|███████▊  | 155003/200000 [1:51:49<32:43, 22.92it/s]"
          ]
        },
        {
          "name": "stdout",
          "output_type": "stream",
          "text": [
            "Iteration: 155000. \n",
            "Test - Loss: 0.4399416446685791. Accuracy: 76.5625\n",
            "Train -  Loss: 0.4735148847103119. Accuracy: 77.95138888888889\n",
            "\n"
          ]
        },
        {
          "name": "stderr",
          "output_type": "stream",
          "text": [
            "Training Epochs:  78%|███████▊  | 156002/200000 [1:52:32<32:21, 22.66it/s]"
          ]
        },
        {
          "name": "stdout",
          "output_type": "stream",
          "text": [
            "Iteration: 156000. \n",
            "Test - Loss: 0.43737921118736267. Accuracy: 77.60416666666667\n",
            "Train -  Loss: 0.47237831354141235. Accuracy: 77.43055555555556\n",
            "\n"
          ]
        },
        {
          "name": "stderr",
          "output_type": "stream",
          "text": [
            "Training Epochs:  79%|███████▊  | 157004/200000 [1:53:16<31:29, 22.76it/s]"
          ]
        },
        {
          "name": "stdout",
          "output_type": "stream",
          "text": [
            "Iteration: 157000. \n",
            "Test - Loss: 0.44543156027793884. Accuracy: 78.64583333333333\n",
            "Train -  Loss: 0.47489261627197266. Accuracy: 77.60416666666667\n",
            "\n"
          ]
        },
        {
          "name": "stderr",
          "output_type": "stream",
          "text": [
            "Training Epochs:  79%|███████▉  | 158003/200000 [1:54:00<30:37, 22.86it/s]"
          ]
        },
        {
          "name": "stdout",
          "output_type": "stream",
          "text": [
            "Iteration: 158000. \n",
            "Test - Loss: 0.44796058535575867. Accuracy: 78.125\n",
            "Train -  Loss: 0.48109281063079834. Accuracy: 77.08333333333333\n",
            "\n"
          ]
        },
        {
          "name": "stderr",
          "output_type": "stream",
          "text": [
            "Training Epochs:  80%|███████▉  | 159002/200000 [1:54:44<30:17, 22.56it/s]"
          ]
        },
        {
          "name": "stdout",
          "output_type": "stream",
          "text": [
            "Iteration: 159000. \n",
            "Test - Loss: 0.4394863545894623. Accuracy: 77.08333333333333\n",
            "Train -  Loss: 0.4796791672706604. Accuracy: 78.29861111111111\n",
            "\n"
          ]
        },
        {
          "name": "stderr",
          "output_type": "stream",
          "text": [
            "Training Epochs:  80%|████████  | 160004/200000 [1:55:27<29:54, 22.29it/s]"
          ]
        },
        {
          "name": "stdout",
          "output_type": "stream",
          "text": [
            "Iteration: 160000. \n",
            "Test - Loss: 0.4498847424983978. Accuracy: 77.08333333333333\n",
            "Train -  Loss: 0.479556143283844. Accuracy: 77.77777777777777\n",
            "\n"
          ]
        },
        {
          "name": "stderr",
          "output_type": "stream",
          "text": [
            "Training Epochs:  81%|████████  | 161003/200000 [1:56:11<29:01, 22.39it/s]"
          ]
        },
        {
          "name": "stdout",
          "output_type": "stream",
          "text": [
            "Iteration: 161000. \n",
            "Test - Loss: 0.43309763073921204. Accuracy: 78.125\n",
            "Train -  Loss: 0.4725245237350464. Accuracy: 78.125\n",
            "\n"
          ]
        },
        {
          "name": "stderr",
          "output_type": "stream",
          "text": [
            "Training Epochs:  81%|████████  | 162002/200000 [1:56:55<27:40, 22.88it/s]"
          ]
        },
        {
          "name": "stdout",
          "output_type": "stream",
          "text": [
            "Iteration: 162000. \n",
            "Test - Loss: 0.4425531327724457. Accuracy: 77.08333333333333\n",
            "Train -  Loss: 0.4801555275917053. Accuracy: 77.77777777777777\n",
            "\n"
          ]
        },
        {
          "name": "stderr",
          "output_type": "stream",
          "text": [
            "Training Epochs:  82%|████████▏ | 163004/200000 [1:57:39<27:00, 22.83it/s]"
          ]
        },
        {
          "name": "stdout",
          "output_type": "stream",
          "text": [
            "Iteration: 163000. \n",
            "Test - Loss: 0.44228896498680115. Accuracy: 77.60416666666667\n",
            "Train -  Loss: 0.47646841406822205. Accuracy: 76.73611111111111\n",
            "\n"
          ]
        },
        {
          "name": "stderr",
          "output_type": "stream",
          "text": [
            "Training Epochs:  82%|████████▏ | 164003/200000 [1:58:22<26:53, 22.32it/s]"
          ]
        },
        {
          "name": "stdout",
          "output_type": "stream",
          "text": [
            "Iteration: 164000. \n",
            "Test - Loss: 0.4330911636352539. Accuracy: 77.08333333333333\n",
            "Train -  Loss: 0.48349565267562866. Accuracy: 76.5625\n",
            "\n"
          ]
        },
        {
          "name": "stderr",
          "output_type": "stream",
          "text": [
            "Training Epochs:  83%|████████▎ | 165002/200000 [1:59:06<25:53, 22.53it/s]"
          ]
        },
        {
          "name": "stdout",
          "output_type": "stream",
          "text": [
            "Iteration: 165000. \n",
            "Test - Loss: 0.4453323781490326. Accuracy: 77.08333333333333\n",
            "Train -  Loss: 0.4729410409927368. Accuracy: 77.25694444444444\n",
            "\n"
          ]
        },
        {
          "name": "stderr",
          "output_type": "stream",
          "text": [
            "Training Epochs:  83%|████████▎ | 166004/200000 [1:59:50<26:25, 21.44it/s]"
          ]
        },
        {
          "name": "stdout",
          "output_type": "stream",
          "text": [
            "Iteration: 166000. \n",
            "Test - Loss: 0.4401117265224457. Accuracy: 78.125\n",
            "Train -  Loss: 0.4821453094482422. Accuracy: 77.60416666666667\n",
            "\n"
          ]
        },
        {
          "name": "stderr",
          "output_type": "stream",
          "text": [
            "Training Epochs:  84%|████████▎ | 167003/200000 [2:00:34<24:08, 22.78it/s]"
          ]
        },
        {
          "name": "stdout",
          "output_type": "stream",
          "text": [
            "Iteration: 167000. \n",
            "Test - Loss: 0.45299068093299866. Accuracy: 78.125\n",
            "Train -  Loss: 0.48027393221855164. Accuracy: 77.08333333333333\n",
            "\n"
          ]
        },
        {
          "name": "stderr",
          "output_type": "stream",
          "text": [
            "Training Epochs:  84%|████████▍ | 168002/200000 [2:01:17<23:42, 22.49it/s]"
          ]
        },
        {
          "name": "stdout",
          "output_type": "stream",
          "text": [
            "Iteration: 168000. \n",
            "Test - Loss: 0.44382134079933167. Accuracy: 76.5625\n",
            "Train -  Loss: 0.4838702380657196. Accuracy: 76.38888888888889\n",
            "\n"
          ]
        },
        {
          "name": "stderr",
          "output_type": "stream",
          "text": [
            "Training Epochs:  85%|████████▍ | 169004/200000 [2:02:02<22:57, 22.50it/s]"
          ]
        },
        {
          "name": "stdout",
          "output_type": "stream",
          "text": [
            "Iteration: 169000. \n",
            "Test - Loss: 0.4505596160888672. Accuracy: 77.08333333333333\n",
            "Train -  Loss: 0.48218950629234314. Accuracy: 77.43055555555556\n",
            "\n"
          ]
        },
        {
          "name": "stderr",
          "output_type": "stream",
          "text": [
            "Training Epochs:  85%|████████▌ | 170003/200000 [2:02:46<21:47, 22.94it/s]"
          ]
        },
        {
          "name": "stdout",
          "output_type": "stream",
          "text": [
            "Iteration: 170000. \n",
            "Test - Loss: 0.44548967480659485. Accuracy: 78.125\n",
            "Train -  Loss: 0.47942957282066345. Accuracy: 76.73611111111111\n",
            "\n"
          ]
        },
        {
          "name": "stderr",
          "output_type": "stream",
          "text": [
            "Training Epochs:  86%|████████▌ | 171002/200000 [2:03:29<22:00, 21.95it/s]"
          ]
        },
        {
          "name": "stdout",
          "output_type": "stream",
          "text": [
            "Iteration: 171000. \n",
            "Test - Loss: 0.44396719336509705. Accuracy: 78.64583333333333\n",
            "Train -  Loss: 0.4763706922531128. Accuracy: 77.95138888888889\n",
            "\n"
          ]
        },
        {
          "name": "stderr",
          "output_type": "stream",
          "text": [
            "Training Epochs:  86%|████████▌ | 172004/200000 [2:04:13<20:46, 22.47it/s]"
          ]
        },
        {
          "name": "stdout",
          "output_type": "stream",
          "text": [
            "Iteration: 172000. \n",
            "Test - Loss: 0.4524865448474884. Accuracy: 77.60416666666667\n",
            "Train -  Loss: 0.4728754460811615. Accuracy: 77.43055555555556\n",
            "\n"
          ]
        },
        {
          "name": "stderr",
          "output_type": "stream",
          "text": [
            "Training Epochs:  87%|████████▋ | 173003/200000 [2:04:57<19:43, 22.81it/s]"
          ]
        },
        {
          "name": "stdout",
          "output_type": "stream",
          "text": [
            "Iteration: 173000. \n",
            "Test - Loss: 0.43826594948768616. Accuracy: 77.08333333333333\n",
            "Train -  Loss: 0.47910457849502563. Accuracy: 77.25694444444444\n",
            "\n"
          ]
        },
        {
          "name": "stderr",
          "output_type": "stream",
          "text": [
            "Training Epochs:  87%|████████▋ | 174002/200000 [2:05:40<19:06, 22.68it/s]"
          ]
        },
        {
          "name": "stdout",
          "output_type": "stream",
          "text": [
            "Iteration: 174000. \n",
            "Test - Loss: 0.43778398633003235. Accuracy: 78.64583333333333\n",
            "Train -  Loss: 0.47433629631996155. Accuracy: 77.95138888888889\n",
            "\n"
          ]
        },
        {
          "name": "stderr",
          "output_type": "stream",
          "text": [
            "Training Epochs:  88%|████████▊ | 175004/200000 [2:06:25<18:51, 22.09it/s]"
          ]
        },
        {
          "name": "stdout",
          "output_type": "stream",
          "text": [
            "Iteration: 175000. \n",
            "Test - Loss: 0.44277235865592957. Accuracy: 76.5625\n",
            "Train -  Loss: 0.4787150025367737. Accuracy: 77.95138888888889\n",
            "\n"
          ]
        },
        {
          "name": "stderr",
          "output_type": "stream",
          "text": [
            "Training Epochs:  88%|████████▊ | 176003/200000 [2:07:09<17:46, 22.51it/s]"
          ]
        },
        {
          "name": "stdout",
          "output_type": "stream",
          "text": [
            "Iteration: 176000. \n",
            "Test - Loss: 0.4425649642944336. Accuracy: 77.08333333333333\n",
            "Train -  Loss: 0.4795833230018616. Accuracy: 77.25694444444444\n",
            "\n"
          ]
        },
        {
          "name": "stderr",
          "output_type": "stream",
          "text": [
            "Training Epochs:  89%|████████▊ | 177002/200000 [2:07:53<17:17, 22.16it/s]"
          ]
        },
        {
          "name": "stdout",
          "output_type": "stream",
          "text": [
            "Iteration: 177000. \n",
            "Test - Loss: 0.4393804967403412. Accuracy: 78.64583333333333\n",
            "Train -  Loss: 0.47623729705810547. Accuracy: 77.77777777777777\n",
            "\n"
          ]
        },
        {
          "name": "stderr",
          "output_type": "stream",
          "text": [
            "Training Epochs:  89%|████████▉ | 178004/200000 [2:08:37<16:32, 22.16it/s]"
          ]
        },
        {
          "name": "stdout",
          "output_type": "stream",
          "text": [
            "Iteration: 178000. \n",
            "Test - Loss: 0.4528469741344452. Accuracy: 76.5625\n",
            "Train -  Loss: 0.47498422861099243. Accuracy: 77.60416666666667\n",
            "\n"
          ]
        },
        {
          "name": "stderr",
          "output_type": "stream",
          "text": [
            "Training Epochs:  90%|████████▉ | 179003/200000 [2:09:21<15:18, 22.87it/s]"
          ]
        },
        {
          "name": "stdout",
          "output_type": "stream",
          "text": [
            "Iteration: 179000. \n",
            "Test - Loss: 0.4375734329223633. Accuracy: 77.08333333333333\n",
            "Train -  Loss: 0.47718778252601624. Accuracy: 77.25694444444444\n",
            "\n"
          ]
        },
        {
          "name": "stderr",
          "output_type": "stream",
          "text": [
            "Training Epochs:  90%|█████████ | 180002/200000 [2:10:04<14:34, 22.86it/s]"
          ]
        },
        {
          "name": "stdout",
          "output_type": "stream",
          "text": [
            "Iteration: 180000. \n",
            "Test - Loss: 0.44880545139312744. Accuracy: 78.125\n",
            "Train -  Loss: 0.47792142629623413. Accuracy: 77.08333333333333\n",
            "\n"
          ]
        },
        {
          "name": "stderr",
          "output_type": "stream",
          "text": [
            "Training Epochs:  91%|█████████ | 181004/200000 [2:10:47<14:24, 21.97it/s]"
          ]
        },
        {
          "name": "stdout",
          "output_type": "stream",
          "text": [
            "Iteration: 181000. \n",
            "Test - Loss: 0.45004144310951233. Accuracy: 78.125\n",
            "Train -  Loss: 0.47654902935028076. Accuracy: 77.08333333333333\n",
            "\n"
          ]
        },
        {
          "name": "stderr",
          "output_type": "stream",
          "text": [
            "Training Epochs:  91%|█████████ | 182003/200000 [2:11:31<13:25, 22.34it/s]"
          ]
        },
        {
          "name": "stdout",
          "output_type": "stream",
          "text": [
            "Iteration: 182000. \n",
            "Test - Loss: 0.44649389386177063. Accuracy: 77.08333333333333\n",
            "Train -  Loss: 0.47910457849502563. Accuracy: 77.25694444444444\n",
            "\n"
          ]
        },
        {
          "name": "stderr",
          "output_type": "stream",
          "text": [
            "Training Epochs:  92%|█████████▏| 183002/200000 [2:12:15<12:31, 22.61it/s]"
          ]
        },
        {
          "name": "stdout",
          "output_type": "stream",
          "text": [
            "Iteration: 183000. \n",
            "Test - Loss: 0.43765321373939514. Accuracy: 77.60416666666667\n",
            "Train -  Loss: 0.4827916920185089. Accuracy: 76.73611111111111\n",
            "\n"
          ]
        },
        {
          "name": "stderr",
          "output_type": "stream",
          "text": [
            "Training Epochs:  92%|█████████▏| 184004/200000 [2:12:59<11:39, 22.87it/s]"
          ]
        },
        {
          "name": "stdout",
          "output_type": "stream",
          "text": [
            "Iteration: 184000. \n",
            "Test - Loss: 0.4328179657459259. Accuracy: 78.64583333333333\n",
            "Train -  Loss: 0.47724246978759766. Accuracy: 76.38888888888889\n",
            "\n"
          ]
        },
        {
          "name": "stderr",
          "output_type": "stream",
          "text": [
            "Training Epochs:  93%|█████████▎| 185003/200000 [2:13:42<11:08, 22.42it/s]"
          ]
        },
        {
          "name": "stdout",
          "output_type": "stream",
          "text": [
            "Iteration: 185000. \n",
            "Test - Loss: 0.43922850489616394. Accuracy: 78.64583333333333\n",
            "Train -  Loss: 0.4737755358219147. Accuracy: 78.125\n",
            "\n"
          ]
        },
        {
          "name": "stderr",
          "output_type": "stream",
          "text": [
            "Training Epochs:  93%|█████████▎| 186002/200000 [2:14:26<10:18, 22.65it/s]"
          ]
        },
        {
          "name": "stdout",
          "output_type": "stream",
          "text": [
            "Iteration: 186000. \n",
            "Test - Loss: 0.4362199008464813. Accuracy: 78.125\n",
            "Train -  Loss: 0.4758334159851074. Accuracy: 77.25694444444444\n",
            "\n"
          ]
        },
        {
          "name": "stderr",
          "output_type": "stream",
          "text": [
            "Training Epochs:  94%|█████████▎| 187004/200000 [2:15:10<09:35, 22.58it/s]"
          ]
        },
        {
          "name": "stdout",
          "output_type": "stream",
          "text": [
            "Iteration: 187000. \n",
            "Test - Loss: 0.4408997595310211. Accuracy: 78.125\n",
            "Train -  Loss: 0.47662413120269775. Accuracy: 77.95138888888889\n",
            "\n"
          ]
        },
        {
          "name": "stderr",
          "output_type": "stream",
          "text": [
            "Training Epochs:  94%|█████████▍| 188003/200000 [2:15:54<08:50, 22.59it/s]"
          ]
        },
        {
          "name": "stdout",
          "output_type": "stream",
          "text": [
            "Iteration: 188000. \n",
            "Test - Loss: 0.44784340262413025. Accuracy: 78.125\n",
            "Train -  Loss: 0.4799605906009674. Accuracy: 77.43055555555556\n",
            "\n"
          ]
        },
        {
          "name": "stderr",
          "output_type": "stream",
          "text": [
            "Training Epochs:  95%|█████████▍| 189002/200000 [2:16:38<08:15, 22.18it/s]"
          ]
        },
        {
          "name": "stdout",
          "output_type": "stream",
          "text": [
            "Iteration: 189000. \n",
            "Test - Loss: 0.44111064076423645. Accuracy: 78.64583333333333\n",
            "Train -  Loss: 0.47669491171836853. Accuracy: 77.43055555555556\n",
            "\n"
          ]
        },
        {
          "name": "stderr",
          "output_type": "stream",
          "text": [
            "Training Epochs:  95%|█████████▌| 190004/200000 [2:17:21<07:19, 22.77it/s]"
          ]
        },
        {
          "name": "stdout",
          "output_type": "stream",
          "text": [
            "Iteration: 190000. \n",
            "Test - Loss: 0.4388609826564789. Accuracy: 77.60416666666667\n",
            "Train -  Loss: 0.47627872228622437. Accuracy: 77.77777777777777\n",
            "\n"
          ]
        },
        {
          "name": "stderr",
          "output_type": "stream",
          "text": [
            "Training Epochs:  96%|█████████▌| 191003/200000 [2:18:04<06:34, 22.78it/s]"
          ]
        },
        {
          "name": "stdout",
          "output_type": "stream",
          "text": [
            "Iteration: 191000. \n",
            "Test - Loss: 0.4440275728702545. Accuracy: 76.5625\n",
            "Train -  Loss: 0.47729936242103577. Accuracy: 77.43055555555556\n",
            "\n"
          ]
        },
        {
          "name": "stderr",
          "output_type": "stream",
          "text": [
            "Training Epochs:  96%|█████████▌| 192002/200000 [2:18:48<05:46, 23.08it/s]"
          ]
        },
        {
          "name": "stdout",
          "output_type": "stream",
          "text": [
            "Iteration: 192000. \n",
            "Test - Loss: 0.4493735134601593. Accuracy: 78.125\n",
            "Train -  Loss: 0.47804388403892517. Accuracy: 77.08333333333333\n",
            "\n"
          ]
        },
        {
          "name": "stderr",
          "output_type": "stream",
          "text": [
            "Training Epochs:  97%|█████████▋| 193004/200000 [2:19:31<05:02, 23.13it/s]"
          ]
        },
        {
          "name": "stdout",
          "output_type": "stream",
          "text": [
            "Iteration: 193000. \n",
            "Test - Loss: 0.4405885636806488. Accuracy: 77.60416666666667\n",
            "Train -  Loss: 0.47819316387176514. Accuracy: 77.25694444444444\n",
            "\n"
          ]
        },
        {
          "name": "stderr",
          "output_type": "stream",
          "text": [
            "Training Epochs:  97%|█████████▋| 194003/200000 [2:20:14<04:18, 23.22it/s]"
          ]
        },
        {
          "name": "stdout",
          "output_type": "stream",
          "text": [
            "Iteration: 194000. \n",
            "Test - Loss: 0.4447571337223053. Accuracy: 76.5625\n",
            "Train -  Loss: 0.47664034366607666. Accuracy: 76.90972222222223\n",
            "\n"
          ]
        },
        {
          "name": "stderr",
          "output_type": "stream",
          "text": [
            "Training Epochs:  98%|█████████▊| 195002/200000 [2:20:56<03:35, 23.19it/s]"
          ]
        },
        {
          "name": "stdout",
          "output_type": "stream",
          "text": [
            "Iteration: 195000. \n",
            "Test - Loss: 0.44537171721458435. Accuracy: 78.125\n",
            "Train -  Loss: 0.47814327478408813. Accuracy: 77.43055555555556\n",
            "\n"
          ]
        },
        {
          "name": "stderr",
          "output_type": "stream",
          "text": [
            "Training Epochs:  98%|█████████▊| 196004/200000 [2:21:40<02:53, 23.02it/s]"
          ]
        },
        {
          "name": "stdout",
          "output_type": "stream",
          "text": [
            "Iteration: 196000. \n",
            "Test - Loss: 0.446041464805603. Accuracy: 77.60416666666667\n",
            "Train -  Loss: 0.47326067090034485. Accuracy: 76.73611111111111\n",
            "\n"
          ]
        },
        {
          "name": "stderr",
          "output_type": "stream",
          "text": [
            "Training Epochs:  99%|█████████▊| 197003/200000 [2:22:23<02:09, 23.09it/s]"
          ]
        },
        {
          "name": "stdout",
          "output_type": "stream",
          "text": [
            "Iteration: 197000. \n",
            "Test - Loss: 0.4377702474594116. Accuracy: 78.125\n",
            "Train -  Loss: 0.48101747035980225. Accuracy: 78.125\n",
            "\n"
          ]
        },
        {
          "name": "stderr",
          "output_type": "stream",
          "text": [
            "Training Epochs:  99%|█████████▉| 198002/200000 [2:23:06<01:27, 22.95it/s]"
          ]
        },
        {
          "name": "stdout",
          "output_type": "stream",
          "text": [
            "Iteration: 198000. \n",
            "Test - Loss: 0.44591498374938965. Accuracy: 77.08333333333333\n",
            "Train -  Loss: 0.47659480571746826. Accuracy: 76.90972222222223\n",
            "\n"
          ]
        },
        {
          "name": "stderr",
          "output_type": "stream",
          "text": [
            "Training Epochs: 100%|█████████▉| 199004/200000 [2:23:49<00:42, 23.22it/s]"
          ]
        },
        {
          "name": "stdout",
          "output_type": "stream",
          "text": [
            "Iteration: 199000. \n",
            "Test - Loss: 0.44300565123558044. Accuracy: 78.64583333333333\n",
            "Train -  Loss: 0.4809073209762573. Accuracy: 76.90972222222223\n",
            "\n"
          ]
        },
        {
          "name": "stderr",
          "output_type": "stream",
          "text": [
            "Training Epochs: 100%|██████████| 200000/200000 [2:24:32<00:00, 23.06it/s]"
          ]
        },
        {
          "name": "stdout",
          "output_type": "stream",
          "text": [
            "Iteration: 200000. \n",
            "Test - Loss: 0.439322829246521. Accuracy: 77.08333333333333\n",
            "Train -  Loss: 0.47536182403564453. Accuracy: 77.08333333333333\n",
            "\n"
          ]
        },
        {
          "name": "stderr",
          "output_type": "stream",
          "text": [
            "\n"
          ]
        }
      ],
      "source": [
        "losses = []\n",
        "losses_test = []\n",
        "Iterations = []\n",
        "iter = 0\n",
        "for epoch in tqdm(range(int(epochs)),desc='Training Epochs'):\n",
        "    x = X_train\n",
        "    labels = y_train\n",
        "    optimizer.zero_grad() # Setting our stored gradients equal to zero\n",
        "    outputs = model(X_train)\n",
        "    loss = criterion(torch.squeeze(outputs), labels) # [200,1] -squeeze-> [200]\n",
        "    \n",
        "    loss.backward() # Computes the gradient of the given tensor w.r.t. graph leaves \n",
        "    \n",
        "    optimizer.step() # Updates weights and biases with the optimizer (SGD)\n",
        "    iter+=1\n",
        "    if iter%1000==0:\n",
        "        # calculate Accuracy\n",
        "        with torch.no_grad():\n",
        "            # Calculating the loss and accuracy for the test dataset\n",
        "            correct_test = 0\n",
        "            total_test = 0\n",
        "            outputs_test = torch.squeeze(model(X_test))\n",
        "            loss_test = criterion(outputs_test, y_test)\n",
        "            \n",
        "            predicted_test = outputs_test.round().detach().numpy()\n",
        "            total_test += y_test.size(0)\n",
        "            correct_test += np.sum(predicted_test == y_test.detach().numpy())\n",
        "            accuracy_test = 100 * correct_test/total_test\n",
        "            losses_test.append(loss_test.item())\n",
        "            \n",
        "            # Calculating the loss and accuracy for the train dataset\n",
        "            total = 0\n",
        "            correct = 0\n",
        "            total += y_train.size(0)\n",
        "            correct += np.sum(torch.squeeze(outputs).round().detach().numpy() == y_train.detach().numpy())\n",
        "            accuracy = 100 * correct/total\n",
        "            losses.append(loss.item())\n",
        "            Iterations.append(iter)\n",
        "            \n",
        "            print(f\"Iteration: {iter}. \\nTest - Loss: {loss_test.item()}. Accuracy: {accuracy_test}\")\n",
        "            print(f\"Train -  Loss: {loss.item()}. Accuracy: {accuracy}\\n\")"
      ]
    },
    {
      "cell_type": "code",
      "execution_count": null,
      "metadata": {
        "id": "NuUtDc1J5sws"
      },
      "outputs": [],
      "source": []
    }
  ],
  "metadata": {
    "colab": {
      "collapsed_sections": [],
      "provenance": []
    },
    "kernelspec": {
      "display_name": "Python 3",
      "name": "python3"
    },
    "language_info": {
      "name": "python"
    }
  },
  "nbformat": 4,
  "nbformat_minor": 0
}